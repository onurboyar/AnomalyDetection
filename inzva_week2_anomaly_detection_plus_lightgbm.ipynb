{
 "cells": [
  {
   "cell_type": "markdown",
   "metadata": {
    "id": "x275tSx2asW0"
   },
   "source": [
    "# Anomaly Detection - KDD'99 Dataset"
   ]
  },
  {
   "cell_type": "markdown",
   "metadata": {
    "id": "k2oEv8NNPcNS"
   },
   "source": [
    "In week 2 of the inzva Applied AI program we will spend most of our time on Anomaly Detection techniques. \n",
    "\n",
    "**This notebook includes**\n",
    "\n",
    "*1- Isolation Forest*\n",
    "\n",
    "*2- Local Outlier Factor*\n",
    "\n",
    "*3- Autoencoder*\n",
    "\n",
    "*4 - XGBoost*\n",
    "\n",
    "*5 - CatBoost and Hyperparameter Optimization*\n",
    "\n",
    "*6 - TabNet*\n",
    "\n",
    "We first start with obtaining the data and creating training and test sets. In this notebook, we create our models only for Probing attack detection.\n",
    "\n",
    "In this notebook we only work with numerical features. We will drop categorical features in our dataset. You will use the full dataset in your homework in order to compare XGBoost and CatBoost algorithms.\n",
    "\n",
    "\n",
    "\n"
   ]
  },
  {
   "cell_type": "markdown",
   "metadata": {
    "id": "sDK-7yCKbWL8"
   },
   "source": [
    "## 1. Data & Analysis"
   ]
  },
  {
   "cell_type": "code",
   "execution_count": 1,
   "metadata": {
    "id": "ZCSpFnNe1UlI"
   },
   "outputs": [],
   "source": [
    "import pandas as pd\n",
    "kdd = pd.read_csv('/Users/onurboyar/Desktop/JupyterNotebooks/Datasets/kdd.csv')"
   ]
  },
  {
   "cell_type": "code",
   "execution_count": 2,
   "metadata": {
    "id": "EI2zzt-K_2mL"
   },
   "outputs": [],
   "source": [
    "kdd = kdd.iloc[:,1:43]"
   ]
  },
  {
   "cell_type": "code",
   "execution_count": 3,
   "metadata": {
    "id": "m-tUOxq4_4xU"
   },
   "outputs": [],
   "source": [
    "kdd = kdd.drop(['Protocol Type', 'Service', 'Flag'], axis = 1)\n"
   ]
  },
  {
   "cell_type": "code",
   "execution_count": 4,
   "metadata": {
    "colab": {
     "base_uri": "https://localhost:8080/"
    },
    "id": "uxURDlpWQcTn",
    "outputId": "60b3ced6-0062-48d4-a487-82c2f2a385e7"
   },
   "outputs": [
    {
     "data": {
      "text/plain": [
       "(183737, 39)"
      ]
     },
     "execution_count": 4,
     "metadata": {},
     "output_type": "execute_result"
    }
   ],
   "source": [
    "kdd.shape"
   ]
  },
  {
   "cell_type": "code",
   "execution_count": 24,
   "metadata": {
    "collapsed": true
   },
   "outputs": [
    {
     "data": {
      "text/html": [
       "<div>\n",
       "<style scoped>\n",
       "    .dataframe tbody tr th:only-of-type {\n",
       "        vertical-align: middle;\n",
       "    }\n",
       "\n",
       "    .dataframe tbody tr th {\n",
       "        vertical-align: top;\n",
       "    }\n",
       "\n",
       "    .dataframe thead th {\n",
       "        text-align: right;\n",
       "    }\n",
       "</style>\n",
       "<table border=\"1\" class=\"dataframe\">\n",
       "  <thead>\n",
       "    <tr style=\"text-align: right;\">\n",
       "      <th></th>\n",
       "      <th>Duration</th>\n",
       "      <th>src_bytes</th>\n",
       "      <th>dst_bytes</th>\n",
       "      <th>land</th>\n",
       "      <th>wrong_fragment</th>\n",
       "      <th>urgent</th>\n",
       "      <th>hot</th>\n",
       "      <th>num_failed</th>\n",
       "      <th>logged_in</th>\n",
       "      <th>num_compromised</th>\n",
       "      <th>...</th>\n",
       "      <th>dst_host_count</th>\n",
       "      <th>dst_host_srv_count</th>\n",
       "      <th>dst_host_same_srv_rate</th>\n",
       "      <th>dst_host_diff_srv_rate</th>\n",
       "      <th>dst_host_same_src_port_rate</th>\n",
       "      <th>dst_host_srv_diff_host_rate</th>\n",
       "      <th>dst_host_serror_rate</th>\n",
       "      <th>dst_host_srv_serror_rate</th>\n",
       "      <th>dst_host_rerror_rate</th>\n",
       "      <th>dst_host_srv_rerror_rate</th>\n",
       "    </tr>\n",
       "  </thead>\n",
       "  <tbody>\n",
       "    <tr>\n",
       "      <th>count</th>\n",
       "      <td>1.837370e+05</td>\n",
       "      <td>1.837370e+05</td>\n",
       "      <td>1.837370e+05</td>\n",
       "      <td>183737.000000</td>\n",
       "      <td>183737.000000</td>\n",
       "      <td>1.837370e+05</td>\n",
       "      <td>1.837370e+05</td>\n",
       "      <td>1.837370e+05</td>\n",
       "      <td>1.837370e+05</td>\n",
       "      <td>1.837370e+05</td>\n",
       "      <td>...</td>\n",
       "      <td>1.837370e+05</td>\n",
       "      <td>1.837370e+05</td>\n",
       "      <td>1.837370e+05</td>\n",
       "      <td>1.837370e+05</td>\n",
       "      <td>1.837370e+05</td>\n",
       "      <td>1.837370e+05</td>\n",
       "      <td>1.837370e+05</td>\n",
       "      <td>1.837370e+05</td>\n",
       "      <td>1.837370e+05</td>\n",
       "      <td>1.837370e+05</td>\n",
       "    </tr>\n",
       "    <tr>\n",
       "      <th>mean</th>\n",
       "      <td>-3.640197e-14</td>\n",
       "      <td>-1.056812e-15</td>\n",
       "      <td>9.753362e-16</td>\n",
       "      <td>0.000005</td>\n",
       "      <td>0.000697</td>\n",
       "      <td>5.397149e-16</td>\n",
       "      <td>-2.331502e-14</td>\n",
       "      <td>-9.633879e-15</td>\n",
       "      <td>1.194191e-13</td>\n",
       "      <td>-1.428721e-15</td>\n",
       "      <td>...</td>\n",
       "      <td>4.349572e-15</td>\n",
       "      <td>3.331752e-14</td>\n",
       "      <td>1.545878e-13</td>\n",
       "      <td>-7.998783e-14</td>\n",
       "      <td>1.042442e-13</td>\n",
       "      <td>-1.635035e-16</td>\n",
       "      <td>1.020946e-14</td>\n",
       "      <td>2.471166e-14</td>\n",
       "      <td>1.029228e-13</td>\n",
       "      <td>-9.611212e-16</td>\n",
       "    </tr>\n",
       "    <tr>\n",
       "      <th>std</th>\n",
       "      <td>9.999973e-01</td>\n",
       "      <td>9.999973e-01</td>\n",
       "      <td>9.999973e-01</td>\n",
       "      <td>0.002333</td>\n",
       "      <td>0.043640</td>\n",
       "      <td>9.999973e-01</td>\n",
       "      <td>9.999973e-01</td>\n",
       "      <td>9.999973e-01</td>\n",
       "      <td>9.999973e-01</td>\n",
       "      <td>9.999973e-01</td>\n",
       "      <td>...</td>\n",
       "      <td>9.999973e-01</td>\n",
       "      <td>9.999973e-01</td>\n",
       "      <td>9.999973e-01</td>\n",
       "      <td>9.999973e-01</td>\n",
       "      <td>9.999973e-01</td>\n",
       "      <td>9.999973e-01</td>\n",
       "      <td>9.999973e-01</td>\n",
       "      <td>9.999973e-01</td>\n",
       "      <td>9.999973e-01</td>\n",
       "      <td>9.999973e-01</td>\n",
       "    </tr>\n",
       "    <tr>\n",
       "      <th>min</th>\n",
       "      <td>-1.501030e-01</td>\n",
       "      <td>-1.450685e-02</td>\n",
       "      <td>-8.699338e-02</td>\n",
       "      <td>0.000000</td>\n",
       "      <td>0.000000</td>\n",
       "      <td>-1.025347e-02</td>\n",
       "      <td>-7.347231e-02</td>\n",
       "      <td>-9.282620e-02</td>\n",
       "      <td>-1.500984e+00</td>\n",
       "      <td>-7.873908e-03</td>\n",
       "      <td>...</td>\n",
       "      <td>-1.803474e+00</td>\n",
       "      <td>-2.793559e+00</td>\n",
       "      <td>-3.475423e+00</td>\n",
       "      <td>-3.464397e-01</td>\n",
       "      <td>-5.074414e-01</td>\n",
       "      <td>-3.659654e-01</td>\n",
       "      <td>-1.069506e-01</td>\n",
       "      <td>-7.539644e-02</td>\n",
       "      <td>-3.017272e-01</td>\n",
       "      <td>-2.967496e-01</td>\n",
       "    </tr>\n",
       "    <tr>\n",
       "      <th>25%</th>\n",
       "      <td>-1.501030e-01</td>\n",
       "      <td>-1.364598e-02</td>\n",
       "      <td>-7.548494e-02</td>\n",
       "      <td>0.000000</td>\n",
       "      <td>0.000000</td>\n",
       "      <td>-1.025347e-02</td>\n",
       "      <td>-7.347231e-02</td>\n",
       "      <td>-9.282620e-02</td>\n",
       "      <td>-1.173472e+00</td>\n",
       "      <td>-7.873908e-03</td>\n",
       "      <td>...</td>\n",
       "      <td>-1.077665e+00</td>\n",
       "      <td>-7.749125e-02</td>\n",
       "      <td>3.393276e-01</td>\n",
       "      <td>-3.464397e-01</td>\n",
       "      <td>-4.753133e-01</td>\n",
       "      <td>-3.659654e-01</td>\n",
       "      <td>-1.069506e-01</td>\n",
       "      <td>-7.539644e-02</td>\n",
       "      <td>-3.017272e-01</td>\n",
       "      <td>-2.967496e-01</td>\n",
       "    </tr>\n",
       "    <tr>\n",
       "      <th>50%</th>\n",
       "      <td>-1.494535e-01</td>\n",
       "      <td>-4.984003e-03</td>\n",
       "      <td>-5.291073e-02</td>\n",
       "      <td>0.000000</td>\n",
       "      <td>0.000000</td>\n",
       "      <td>-5.643673e-03</td>\n",
       "      <td>-7.347231e-02</td>\n",
       "      <td>-2.147289e-02</td>\n",
       "      <td>6.662233e-01</td>\n",
       "      <td>-7.208470e-03</td>\n",
       "      <td>...</td>\n",
       "      <td>7.508105e-01</td>\n",
       "      <td>4.701381e-01</td>\n",
       "      <td>3.778605e-01</td>\n",
       "      <td>-2.485595e-01</td>\n",
       "      <td>-3.463717e-01</td>\n",
       "      <td>-2.565694e-01</td>\n",
       "      <td>-1.069506e-01</td>\n",
       "      <td>-7.252428e-02</td>\n",
       "      <td>-2.235746e-01</td>\n",
       "      <td>-2.577025e-01</td>\n",
       "    </tr>\n",
       "    <tr>\n",
       "      <th>75%</th>\n",
       "      <td>-2.549583e-02</td>\n",
       "      <td>-4.888098e-03</td>\n",
       "      <td>-3.004341e-02</td>\n",
       "      <td>0.000000</td>\n",
       "      <td>0.000000</td>\n",
       "      <td>-5.643673e-03</td>\n",
       "      <td>-5.274024e-02</td>\n",
       "      <td>-2.147289e-02</td>\n",
       "      <td>8.521615e-01</td>\n",
       "      <td>-7.208470e-03</td>\n",
       "      <td>...</td>\n",
       "      <td>7.508105e-01</td>\n",
       "      <td>6.532273e-01</td>\n",
       "      <td>5.365422e-01</td>\n",
       "      <td>-1.918766e-01</td>\n",
       "      <td>-2.504167e-01</td>\n",
       "      <td>4.609461e-02</td>\n",
       "      <td>-9.664964e-02</td>\n",
       "      <td>-7.252428e-02</td>\n",
       "      <td>-2.146693e-01</td>\n",
       "      <td>-2.047013e-01</td>\n",
       "    </tr>\n",
       "    <tr>\n",
       "      <th>max</th>\n",
       "      <td>1.134389e+02</td>\n",
       "      <td>3.196954e+02</td>\n",
       "      <td>1.653286e+02</td>\n",
       "      <td>1.000000</td>\n",
       "      <td>3.000000</td>\n",
       "      <td>2.480652e+02</td>\n",
       "      <td>1.782544e+02</td>\n",
       "      <td>1.468001e+02</td>\n",
       "      <td>8.521615e-01</td>\n",
       "      <td>2.241221e+02</td>\n",
       "      <td>...</td>\n",
       "      <td>1.019572e+00</td>\n",
       "      <td>6.532273e-01</td>\n",
       "      <td>5.365422e-01</td>\n",
       "      <td>5.419733e+00</td>\n",
       "      <td>4.120075e+00</td>\n",
       "      <td>1.487663e+01</td>\n",
       "      <td>2.105394e+01</td>\n",
       "      <td>1.764532e+01</td>\n",
       "      <td>5.592885e+00</td>\n",
       "      <td>5.161322e+00</td>\n",
       "    </tr>\n",
       "  </tbody>\n",
       "</table>\n",
       "<p>8 rows × 38 columns</p>\n",
       "</div>"
      ],
      "text/plain": [
       "           Duration     src_bytes     dst_bytes           land  \\\n",
       "count  1.837370e+05  1.837370e+05  1.837370e+05  183737.000000   \n",
       "mean  -3.640197e-14 -1.056812e-15  9.753362e-16       0.000005   \n",
       "std    9.999973e-01  9.999973e-01  9.999973e-01       0.002333   \n",
       "min   -1.501030e-01 -1.450685e-02 -8.699338e-02       0.000000   \n",
       "25%   -1.501030e-01 -1.364598e-02 -7.548494e-02       0.000000   \n",
       "50%   -1.494535e-01 -4.984003e-03 -5.291073e-02       0.000000   \n",
       "75%   -2.549583e-02 -4.888098e-03 -3.004341e-02       0.000000   \n",
       "max    1.134389e+02  3.196954e+02  1.653286e+02       1.000000   \n",
       "\n",
       "       wrong_fragment        urgent           hot    num_failed     logged_in  \\\n",
       "count   183737.000000  1.837370e+05  1.837370e+05  1.837370e+05  1.837370e+05   \n",
       "mean         0.000697  5.397149e-16 -2.331502e-14 -9.633879e-15  1.194191e-13   \n",
       "std          0.043640  9.999973e-01  9.999973e-01  9.999973e-01  9.999973e-01   \n",
       "min          0.000000 -1.025347e-02 -7.347231e-02 -9.282620e-02 -1.500984e+00   \n",
       "25%          0.000000 -1.025347e-02 -7.347231e-02 -9.282620e-02 -1.173472e+00   \n",
       "50%          0.000000 -5.643673e-03 -7.347231e-02 -2.147289e-02  6.662233e-01   \n",
       "75%          0.000000 -5.643673e-03 -5.274024e-02 -2.147289e-02  8.521615e-01   \n",
       "max          3.000000  2.480652e+02  1.782544e+02  1.468001e+02  8.521615e-01   \n",
       "\n",
       "       num_compromised  ...  dst_host_count  dst_host_srv_count  \\\n",
       "count     1.837370e+05  ...    1.837370e+05        1.837370e+05   \n",
       "mean     -1.428721e-15  ...    4.349572e-15        3.331752e-14   \n",
       "std       9.999973e-01  ...    9.999973e-01        9.999973e-01   \n",
       "min      -7.873908e-03  ...   -1.803474e+00       -2.793559e+00   \n",
       "25%      -7.873908e-03  ...   -1.077665e+00       -7.749125e-02   \n",
       "50%      -7.208470e-03  ...    7.508105e-01        4.701381e-01   \n",
       "75%      -7.208470e-03  ...    7.508105e-01        6.532273e-01   \n",
       "max       2.241221e+02  ...    1.019572e+00        6.532273e-01   \n",
       "\n",
       "       dst_host_same_srv_rate  dst_host_diff_srv_rate  \\\n",
       "count            1.837370e+05            1.837370e+05   \n",
       "mean             1.545878e-13           -7.998783e-14   \n",
       "std              9.999973e-01            9.999973e-01   \n",
       "min             -3.475423e+00           -3.464397e-01   \n",
       "25%              3.393276e-01           -3.464397e-01   \n",
       "50%              3.778605e-01           -2.485595e-01   \n",
       "75%              5.365422e-01           -1.918766e-01   \n",
       "max              5.365422e-01            5.419733e+00   \n",
       "\n",
       "       dst_host_same_src_port_rate  dst_host_srv_diff_host_rate  \\\n",
       "count                 1.837370e+05                 1.837370e+05   \n",
       "mean                  1.042442e-13                -1.635035e-16   \n",
       "std                   9.999973e-01                 9.999973e-01   \n",
       "min                  -5.074414e-01                -3.659654e-01   \n",
       "25%                  -4.753133e-01                -3.659654e-01   \n",
       "50%                  -3.463717e-01                -2.565694e-01   \n",
       "75%                  -2.504167e-01                 4.609461e-02   \n",
       "max                   4.120075e+00                 1.487663e+01   \n",
       "\n",
       "       dst_host_serror_rate  dst_host_srv_serror_rate  dst_host_rerror_rate  \\\n",
       "count          1.837370e+05              1.837370e+05          1.837370e+05   \n",
       "mean           1.020946e-14              2.471166e-14          1.029228e-13   \n",
       "std            9.999973e-01              9.999973e-01          9.999973e-01   \n",
       "min           -1.069506e-01             -7.539644e-02         -3.017272e-01   \n",
       "25%           -1.069506e-01             -7.539644e-02         -3.017272e-01   \n",
       "50%           -1.069506e-01             -7.252428e-02         -2.235746e-01   \n",
       "75%           -9.664964e-02             -7.252428e-02         -2.146693e-01   \n",
       "max            2.105394e+01              1.764532e+01          5.592885e+00   \n",
       "\n",
       "       dst_host_srv_rerror_rate  \n",
       "count              1.837370e+05  \n",
       "mean              -9.611212e-16  \n",
       "std                9.999973e-01  \n",
       "min               -2.967496e-01  \n",
       "25%               -2.967496e-01  \n",
       "50%               -2.577025e-01  \n",
       "75%               -2.047013e-01  \n",
       "max                5.161322e+00  \n",
       "\n",
       "[8 rows x 38 columns]"
      ]
     },
     "execution_count": 24,
     "metadata": {},
     "output_type": "execute_result"
    }
   ],
   "source": [
    "kdd.describe()"
   ]
  },
  {
   "cell_type": "code",
   "execution_count": 44,
   "metadata": {
    "collapsed": true
   },
   "outputs": [
    {
     "data": {
      "text/plain": [
       "<AxesSubplot:>"
      ]
     },
     "execution_count": 44,
     "metadata": {},
     "output_type": "execute_result"
    },
    {
     "data": {
      "image/png": "[encoded data removed]",
      "text/plain": [
       "<Figure size 432x288 with 1 Axes>"
      ]
     },
     "metadata": {
      "needs_background": "light"
     },
     "output_type": "display_data"
    }
   ],
   "source": [
    "kdd['src_bytes'].hist()"
   ]
  },
  {
   "cell_type": "code",
   "execution_count": 29,
   "metadata": {
    "collapsed": true
   },
   "outputs": [
    {
     "data": {
      "text/plain": [
       "<AxesSubplot:>"
      ]
     },
     "execution_count": 29,
     "metadata": {},
     "output_type": "execute_result"
    },
    {
     "data": {
      "image/png": "[encoded data removed]",
      "text/plain": [
       "<Figure size 432x288 with 1 Axes>"
      ]
     },
     "metadata": {
      "needs_background": "light"
     },
     "output_type": "display_data"
    }
   ],
   "source": [
    "kdd.boxplot(column = ['src_bytes'])"
   ]
  },
  {
   "cell_type": "code",
   "execution_count": 31,
   "metadata": {
    "collapsed": true
   },
   "outputs": [
    {
     "data": {
      "text/plain": [
       "Duration                       0\n",
       "src_bytes                      0\n",
       "dst_bytes                      0\n",
       "land                           0\n",
       "wrong_fragment                 0\n",
       "urgent                         0\n",
       "hot                            0\n",
       "num_failed                     0\n",
       "logged_in                      0\n",
       "num_compromised                0\n",
       "root_shell                     0\n",
       "su_attempted                   0\n",
       "num_root                       0\n",
       "num_file_creations             0\n",
       "num_shells                     0\n",
       "num_access_files               0\n",
       "num_outbound_cmds              0\n",
       "is_host_login                  0\n",
       "is_guest_login                 0\n",
       "count                          0\n",
       "srv_count                      0\n",
       "serror_rate                    0\n",
       "srv_error_rate                 0\n",
       "rerror_rate                    0\n",
       "srv_rerror_rate                0\n",
       "same_srv_rate                  0\n",
       "diff_srv_rate                  0\n",
       "srv_diff_host_rate             0\n",
       "dst_host_count                 0\n",
       "dst_host_srv_count             0\n",
       "dst_host_same_srv_rate         0\n",
       "dst_host_diff_srv_rate         0\n",
       "dst_host_same_src_port_rate    0\n",
       "dst_host_srv_diff_host_rate    0\n",
       "dst_host_serror_rate           0\n",
       "dst_host_srv_serror_rate       0\n",
       "dst_host_rerror_rate           0\n",
       "dst_host_srv_rerror_rate       0\n",
       "Type_Groups                    0\n",
       "dtype: int64"
      ]
     },
     "execution_count": 31,
     "metadata": {},
     "output_type": "execute_result"
    }
   ],
   "source": [
    "kdd.isnull().sum()"
   ]
  },
  {
   "cell_type": "code",
   "execution_count": 30,
   "metadata": {
    "collapsed": true
   },
   "outputs": [
    {
     "name": "stdout",
     "output_type": "stream",
     "text": [
      "<class 'pandas.core.frame.DataFrame'>\n",
      "RangeIndex: 183737 entries, 0 to 183736\n",
      "Data columns (total 39 columns):\n",
      " #   Column                       Non-Null Count   Dtype  \n",
      "---  ------                       --------------   -----  \n",
      " 0   Duration                     183737 non-null  float64\n",
      " 1   src_bytes                    183737 non-null  float64\n",
      " 2   dst_bytes                    183737 non-null  float64\n",
      " 3   land                         183737 non-null  int64  \n",
      " 4   wrong_fragment               183737 non-null  int64  \n",
      " 5   urgent                       183737 non-null  float64\n",
      " 6   hot                          183737 non-null  float64\n",
      " 7   num_failed                   183737 non-null  float64\n",
      " 8   logged_in                    183737 non-null  float64\n",
      " 9   num_compromised              183737 non-null  float64\n",
      " 10  root_shell                   183737 non-null  float64\n",
      " 11  su_attempted                 183737 non-null  float64\n",
      " 12  num_root                     183737 non-null  float64\n",
      " 13  num_file_creations           183737 non-null  float64\n",
      " 14  num_shells                   183737 non-null  float64\n",
      " 15  num_access_files             183737 non-null  float64\n",
      " 16  num_outbound_cmds            183737 non-null  int64  \n",
      " 17  is_host_login                183737 non-null  int64  \n",
      " 18  is_guest_login               183737 non-null  float64\n",
      " 19  count                        183737 non-null  float64\n",
      " 20  srv_count                    183737 non-null  float64\n",
      " 21  serror_rate                  183737 non-null  float64\n",
      " 22  srv_error_rate               183737 non-null  float64\n",
      " 23  rerror_rate                  183737 non-null  float64\n",
      " 24  srv_rerror_rate              183737 non-null  float64\n",
      " 25  same_srv_rate                183737 non-null  float64\n",
      " 26  diff_srv_rate                183737 non-null  float64\n",
      " 27  srv_diff_host_rate           183737 non-null  float64\n",
      " 28  dst_host_count               183737 non-null  float64\n",
      " 29  dst_host_srv_count           183737 non-null  float64\n",
      " 30  dst_host_same_srv_rate       183737 non-null  float64\n",
      " 31  dst_host_diff_srv_rate       183737 non-null  float64\n",
      " 32  dst_host_same_src_port_rate  183737 non-null  float64\n",
      " 33  dst_host_srv_diff_host_rate  183737 non-null  float64\n",
      " 34  dst_host_serror_rate         183737 non-null  float64\n",
      " 35  dst_host_srv_serror_rate     183737 non-null  float64\n",
      " 36  dst_host_rerror_rate         183737 non-null  float64\n",
      " 37  dst_host_srv_rerror_rate     183737 non-null  float64\n",
      " 38  Type_Groups                  183737 non-null  object \n",
      "dtypes: float64(34), int64(4), object(1)\n",
      "memory usage: 54.7+ MB\n"
     ]
    }
   ],
   "source": [
    "kdd.info()"
   ]
  },
  {
   "cell_type": "code",
   "execution_count": 37,
   "metadata": {},
   "outputs": [
    {
     "data": {
      "text/plain": [
       "0"
      ]
     },
     "execution_count": 37,
     "metadata": {},
     "output_type": "execute_result"
    }
   ],
   "source": [
    "kdd.duplicated().sum()"
   ]
  },
  {
   "cell_type": "code",
   "execution_count": 36,
   "metadata": {},
   "outputs": [],
   "source": [
    "kdd.drop_duplicates(inplace=True)"
   ]
  },
  {
   "cell_type": "code",
   "execution_count": 38,
   "metadata": {
    "collapsed": true
   },
   "outputs": [
    {
     "data": {
      "text/html": [
       "<div>\n",
       "<style scoped>\n",
       "    .dataframe tbody tr th:only-of-type {\n",
       "        vertical-align: middle;\n",
       "    }\n",
       "\n",
       "    .dataframe tbody tr th {\n",
       "        vertical-align: top;\n",
       "    }\n",
       "\n",
       "    .dataframe thead th {\n",
       "        text-align: right;\n",
       "    }\n",
       "</style>\n",
       "<table border=\"1\" class=\"dataframe\">\n",
       "  <thead>\n",
       "    <tr style=\"text-align: right;\">\n",
       "      <th></th>\n",
       "      <th>Duration</th>\n",
       "      <th>src_bytes</th>\n",
       "      <th>dst_bytes</th>\n",
       "      <th>land</th>\n",
       "      <th>wrong_fragment</th>\n",
       "      <th>urgent</th>\n",
       "      <th>hot</th>\n",
       "      <th>num_failed</th>\n",
       "      <th>logged_in</th>\n",
       "      <th>num_compromised</th>\n",
       "      <th>...</th>\n",
       "      <th>dst_host_count</th>\n",
       "      <th>dst_host_srv_count</th>\n",
       "      <th>dst_host_same_srv_rate</th>\n",
       "      <th>dst_host_diff_srv_rate</th>\n",
       "      <th>dst_host_same_src_port_rate</th>\n",
       "      <th>dst_host_srv_diff_host_rate</th>\n",
       "      <th>dst_host_serror_rate</th>\n",
       "      <th>dst_host_srv_serror_rate</th>\n",
       "      <th>dst_host_rerror_rate</th>\n",
       "      <th>dst_host_srv_rerror_rate</th>\n",
       "    </tr>\n",
       "  </thead>\n",
       "  <tbody>\n",
       "    <tr>\n",
       "      <th>Duration</th>\n",
       "      <td>1.000000</td>\n",
       "      <td>0.004578</td>\n",
       "      <td>0.021672</td>\n",
       "      <td>-0.000351</td>\n",
       "      <td>-0.000347</td>\n",
       "      <td>0.003690</td>\n",
       "      <td>0.012719</td>\n",
       "      <td>0.001486</td>\n",
       "      <td>-0.146037</td>\n",
       "      <td>0.098938</td>\n",
       "      <td>...</td>\n",
       "      <td>0.068190</td>\n",
       "      <td>-0.189572</td>\n",
       "      <td>-0.214620</td>\n",
       "      <td>0.255215</td>\n",
       "      <td>0.204651</td>\n",
       "      <td>-0.024366</td>\n",
       "      <td>0.012989</td>\n",
       "      <td>0.006247</td>\n",
       "      <td>0.013741</td>\n",
       "      <td>0.020110</td>\n",
       "    </tr>\n",
       "    <tr>\n",
       "      <th>src_bytes</th>\n",
       "      <td>0.004578</td>\n",
       "      <td>1.000000</td>\n",
       "      <td>0.007928</td>\n",
       "      <td>-0.000014</td>\n",
       "      <td>-0.000233</td>\n",
       "      <td>-0.000045</td>\n",
       "      <td>0.002330</td>\n",
       "      <td>-0.000535</td>\n",
       "      <td>-0.012170</td>\n",
       "      <td>-0.000056</td>\n",
       "      <td>...</td>\n",
       "      <td>0.000027</td>\n",
       "      <td>-0.017917</td>\n",
       "      <td>-0.015160</td>\n",
       "      <td>0.001398</td>\n",
       "      <td>0.008754</td>\n",
       "      <td>0.002703</td>\n",
       "      <td>0.007055</td>\n",
       "      <td>0.022344</td>\n",
       "      <td>-0.001297</td>\n",
       "      <td>0.000915</td>\n",
       "    </tr>\n",
       "    <tr>\n",
       "      <th>dst_bytes</th>\n",
       "      <td>0.021672</td>\n",
       "      <td>0.007928</td>\n",
       "      <td>1.000000</td>\n",
       "      <td>-0.000176</td>\n",
       "      <td>-0.001709</td>\n",
       "      <td>0.011452</td>\n",
       "      <td>0.000287</td>\n",
       "      <td>0.025406</td>\n",
       "      <td>0.019351</td>\n",
       "      <td>0.026384</td>\n",
       "      <td>...</td>\n",
       "      <td>-0.019988</td>\n",
       "      <td>-0.015013</td>\n",
       "      <td>-0.002238</td>\n",
       "      <td>-0.016368</td>\n",
       "      <td>0.007375</td>\n",
       "      <td>0.002882</td>\n",
       "      <td>0.003843</td>\n",
       "      <td>0.007759</td>\n",
       "      <td>-0.015288</td>\n",
       "      <td>-0.015691</td>\n",
       "    </tr>\n",
       "    <tr>\n",
       "      <th>land</th>\n",
       "      <td>-0.000351</td>\n",
       "      <td>-0.000014</td>\n",
       "      <td>-0.000176</td>\n",
       "      <td>1.000000</td>\n",
       "      <td>-0.000047</td>\n",
       "      <td>-0.000019</td>\n",
       "      <td>-0.000208</td>\n",
       "      <td>-0.000062</td>\n",
       "      <td>-0.005424</td>\n",
       "      <td>-0.000022</td>\n",
       "      <td>...</td>\n",
       "      <td>-0.003197</td>\n",
       "      <td>-0.005172</td>\n",
       "      <td>0.001413</td>\n",
       "      <td>-0.000864</td>\n",
       "      <td>0.007509</td>\n",
       "      <td>0.008351</td>\n",
       "      <td>0.055836</td>\n",
       "      <td>0.003844</td>\n",
       "      <td>-0.000759</td>\n",
       "      <td>-0.000738</td>\n",
       "    </tr>\n",
       "    <tr>\n",
       "      <th>wrong_fragment</th>\n",
       "      <td>-0.000347</td>\n",
       "      <td>-0.000233</td>\n",
       "      <td>-0.001709</td>\n",
       "      <td>-0.000047</td>\n",
       "      <td>1.000000</td>\n",
       "      <td>-0.000202</td>\n",
       "      <td>-0.001089</td>\n",
       "      <td>-0.001643</td>\n",
       "      <td>-0.030348</td>\n",
       "      <td>-0.000159</td>\n",
       "      <td>...</td>\n",
       "      <td>-0.001357</td>\n",
       "      <td>-0.039489</td>\n",
       "      <td>-0.032805</td>\n",
       "      <td>0.002834</td>\n",
       "      <td>0.030775</td>\n",
       "      <td>0.007797</td>\n",
       "      <td>0.011099</td>\n",
       "      <td>-0.001459</td>\n",
       "      <td>0.006002</td>\n",
       "      <td>-0.003239</td>\n",
       "    </tr>\n",
       "    <tr>\n",
       "      <th>urgent</th>\n",
       "      <td>0.003690</td>\n",
       "      <td>-0.000045</td>\n",
       "      <td>0.011452</td>\n",
       "      <td>-0.000019</td>\n",
       "      <td>-0.000202</td>\n",
       "      <td>1.000000</td>\n",
       "      <td>0.024185</td>\n",
       "      <td>0.084431</td>\n",
       "      <td>0.004443</td>\n",
       "      <td>0.039020</td>\n",
       "      <td>...</td>\n",
       "      <td>-0.007518</td>\n",
       "      <td>-0.019645</td>\n",
       "      <td>-0.015221</td>\n",
       "      <td>0.013500</td>\n",
       "      <td>0.003135</td>\n",
       "      <td>0.002830</td>\n",
       "      <td>0.001669</td>\n",
       "      <td>-0.000639</td>\n",
       "      <td>-0.000892</td>\n",
       "      <td>0.003740</td>\n",
       "    </tr>\n",
       "    <tr>\n",
       "      <th>hot</th>\n",
       "      <td>0.012719</td>\n",
       "      <td>0.002330</td>\n",
       "      <td>0.000287</td>\n",
       "      <td>-0.000208</td>\n",
       "      <td>-0.001089</td>\n",
       "      <td>0.024185</td>\n",
       "      <td>1.000000</td>\n",
       "      <td>0.007537</td>\n",
       "      <td>0.035556</td>\n",
       "      <td>0.009142</td>\n",
       "      <td>...</td>\n",
       "      <td>0.023482</td>\n",
       "      <td>-0.126645</td>\n",
       "      <td>-0.134481</td>\n",
       "      <td>0.016140</td>\n",
       "      <td>-0.021403</td>\n",
       "      <td>-0.019025</td>\n",
       "      <td>0.018972</td>\n",
       "      <td>-0.000583</td>\n",
       "      <td>0.002000</td>\n",
       "      <td>-0.014772</td>\n",
       "    </tr>\n",
       "    <tr>\n",
       "      <th>num_failed</th>\n",
       "      <td>0.001486</td>\n",
       "      <td>-0.000535</td>\n",
       "      <td>0.025406</td>\n",
       "      <td>-0.000062</td>\n",
       "      <td>-0.001643</td>\n",
       "      <td>0.084431</td>\n",
       "      <td>0.007537</td>\n",
       "      <td>1.000000</td>\n",
       "      <td>-0.087611</td>\n",
       "      <td>0.004282</td>\n",
       "      <td>...</td>\n",
       "      <td>0.017104</td>\n",
       "      <td>-0.060760</td>\n",
       "      <td>-0.043562</td>\n",
       "      <td>-0.002525</td>\n",
       "      <td>-0.014387</td>\n",
       "      <td>-0.003188</td>\n",
       "      <td>0.027317</td>\n",
       "      <td>0.017950</td>\n",
       "      <td>0.032950</td>\n",
       "      <td>0.036186</td>\n",
       "    </tr>\n",
       "    <tr>\n",
       "      <th>logged_in</th>\n",
       "      <td>-0.146037</td>\n",
       "      <td>-0.012170</td>\n",
       "      <td>0.019351</td>\n",
       "      <td>-0.005424</td>\n",
       "      <td>-0.030348</td>\n",
       "      <td>0.004443</td>\n",
       "      <td>0.035556</td>\n",
       "      <td>-0.087611</td>\n",
       "      <td>1.000000</td>\n",
       "      <td>0.004389</td>\n",
       "      <td>...</td>\n",
       "      <td>-0.148581</td>\n",
       "      <td>0.462860</td>\n",
       "      <td>0.435803</td>\n",
       "      <td>-0.398185</td>\n",
       "      <td>-0.397248</td>\n",
       "      <td>-0.165710</td>\n",
       "      <td>-0.102782</td>\n",
       "      <td>-0.112004</td>\n",
       "      <td>-0.414882</td>\n",
       "      <td>-0.409466</td>\n",
       "    </tr>\n",
       "    <tr>\n",
       "      <th>num_compromised</th>\n",
       "      <td>0.098938</td>\n",
       "      <td>-0.000056</td>\n",
       "      <td>0.026384</td>\n",
       "      <td>-0.000022</td>\n",
       "      <td>-0.000159</td>\n",
       "      <td>0.039020</td>\n",
       "      <td>0.009142</td>\n",
       "      <td>0.004282</td>\n",
       "      <td>0.004389</td>\n",
       "      <td>1.000000</td>\n",
       "      <td>...</td>\n",
       "      <td>-0.006233</td>\n",
       "      <td>-0.018696</td>\n",
       "      <td>-0.017727</td>\n",
       "      <td>0.001994</td>\n",
       "      <td>-0.001598</td>\n",
       "      <td>-0.001139</td>\n",
       "      <td>0.007625</td>\n",
       "      <td>0.010023</td>\n",
       "      <td>-0.001596</td>\n",
       "      <td>-0.001197</td>\n",
       "    </tr>\n",
       "    <tr>\n",
       "      <th>root_shell</th>\n",
       "      <td>0.027823</td>\n",
       "      <td>-0.000163</td>\n",
       "      <td>0.025422</td>\n",
       "      <td>-0.000071</td>\n",
       "      <td>-0.000555</td>\n",
       "      <td>0.172920</td>\n",
       "      <td>0.067311</td>\n",
       "      <td>0.022762</td>\n",
       "      <td>0.014683</td>\n",
       "      <td>0.261008</td>\n",
       "      <td>...</td>\n",
       "      <td>-0.007163</td>\n",
       "      <td>-0.038762</td>\n",
       "      <td>-0.024500</td>\n",
       "      <td>0.003803</td>\n",
       "      <td>0.008618</td>\n",
       "      <td>0.012709</td>\n",
       "      <td>0.010551</td>\n",
       "      <td>0.012970</td>\n",
       "      <td>0.002892</td>\n",
       "      <td>0.001308</td>\n",
       "    </tr>\n",
       "    <tr>\n",
       "      <th>su_attempted</th>\n",
       "      <td>0.088947</td>\n",
       "      <td>0.000016</td>\n",
       "      <td>0.052575</td>\n",
       "      <td>-0.000029</td>\n",
       "      <td>-0.000154</td>\n",
       "      <td>-0.000085</td>\n",
       "      <td>0.001754</td>\n",
       "      <td>0.069621</td>\n",
       "      <td>0.005313</td>\n",
       "      <td>0.736226</td>\n",
       "      <td>...</td>\n",
       "      <td>-0.001939</td>\n",
       "      <td>-0.019681</td>\n",
       "      <td>-0.021385</td>\n",
       "      <td>0.000534</td>\n",
       "      <td>-0.003931</td>\n",
       "      <td>-0.001855</td>\n",
       "      <td>0.018427</td>\n",
       "      <td>0.018738</td>\n",
       "      <td>-0.000072</td>\n",
       "      <td>-0.002064</td>\n",
       "    </tr>\n",
       "    <tr>\n",
       "      <th>num_root</th>\n",
       "      <td>0.097136</td>\n",
       "      <td>-0.000070</td>\n",
       "      <td>0.024942</td>\n",
       "      <td>-0.000035</td>\n",
       "      <td>-0.000160</td>\n",
       "      <td>0.047759</td>\n",
       "      <td>0.009173</td>\n",
       "      <td>0.001904</td>\n",
       "      <td>0.006070</td>\n",
       "      <td>0.995128</td>\n",
       "      <td>...</td>\n",
       "      <td>-0.007071</td>\n",
       "      <td>-0.023233</td>\n",
       "      <td>-0.023059</td>\n",
       "      <td>0.002970</td>\n",
       "      <td>0.000331</td>\n",
       "      <td>-0.000678</td>\n",
       "      <td>0.005444</td>\n",
       "      <td>0.008525</td>\n",
       "      <td>-0.002151</td>\n",
       "      <td>-0.002218</td>\n",
       "    </tr>\n",
       "    <tr>\n",
       "      <th>num_file_creations</th>\n",
       "      <td>0.063465</td>\n",
       "      <td>-0.000063</td>\n",
       "      <td>0.002815</td>\n",
       "      <td>-0.000066</td>\n",
       "      <td>-0.000216</td>\n",
       "      <td>0.018094</td>\n",
       "      <td>0.277273</td>\n",
       "      <td>0.003842</td>\n",
       "      <td>0.010776</td>\n",
       "      <td>0.011638</td>\n",
       "      <td>...</td>\n",
       "      <td>-0.004307</td>\n",
       "      <td>-0.034042</td>\n",
       "      <td>-0.031373</td>\n",
       "      <td>0.007161</td>\n",
       "      <td>0.001465</td>\n",
       "      <td>0.005422</td>\n",
       "      <td>0.028576</td>\n",
       "      <td>0.016124</td>\n",
       "      <td>-0.001866</td>\n",
       "      <td>-0.001514</td>\n",
       "    </tr>\n",
       "    <tr>\n",
       "      <th>num_shells</th>\n",
       "      <td>0.001948</td>\n",
       "      <td>-0.000075</td>\n",
       "      <td>0.000923</td>\n",
       "      <td>-0.000061</td>\n",
       "      <td>-0.000269</td>\n",
       "      <td>0.033402</td>\n",
       "      <td>0.021819</td>\n",
       "      <td>-0.000895</td>\n",
       "      <td>0.010520</td>\n",
       "      <td>0.026640</td>\n",
       "      <td>...</td>\n",
       "      <td>-0.000468</td>\n",
       "      <td>-0.034438</td>\n",
       "      <td>-0.031464</td>\n",
       "      <td>-0.000599</td>\n",
       "      <td>0.013197</td>\n",
       "      <td>0.009246</td>\n",
       "      <td>0.015544</td>\n",
       "      <td>0.023794</td>\n",
       "      <td>-0.001310</td>\n",
       "      <td>-0.003008</td>\n",
       "    </tr>\n",
       "    <tr>\n",
       "      <th>num_access_files</th>\n",
       "      <td>0.023541</td>\n",
       "      <td>-0.000462</td>\n",
       "      <td>0.006244</td>\n",
       "      <td>-0.000176</td>\n",
       "      <td>-0.001052</td>\n",
       "      <td>0.040267</td>\n",
       "      <td>0.011132</td>\n",
       "      <td>0.004123</td>\n",
       "      <td>0.033241</td>\n",
       "      <td>0.309364</td>\n",
       "      <td>...</td>\n",
       "      <td>0.025922</td>\n",
       "      <td>-0.017639</td>\n",
       "      <td>-0.015384</td>\n",
       "      <td>-0.001492</td>\n",
       "      <td>-0.020680</td>\n",
       "      <td>-0.010681</td>\n",
       "      <td>0.002807</td>\n",
       "      <td>0.005124</td>\n",
       "      <td>-0.009146</td>\n",
       "      <td>-0.012994</td>\n",
       "    </tr>\n",
       "    <tr>\n",
       "      <th>num_outbound_cmds</th>\n",
       "      <td>NaN</td>\n",
       "      <td>NaN</td>\n",
       "      <td>NaN</td>\n",
       "      <td>NaN</td>\n",
       "      <td>NaN</td>\n",
       "      <td>NaN</td>\n",
       "      <td>NaN</td>\n",
       "      <td>NaN</td>\n",
       "      <td>NaN</td>\n",
       "      <td>NaN</td>\n",
       "      <td>...</td>\n",
       "      <td>NaN</td>\n",
       "      <td>NaN</td>\n",
       "      <td>NaN</td>\n",
       "      <td>NaN</td>\n",
       "      <td>NaN</td>\n",
       "      <td>NaN</td>\n",
       "      <td>NaN</td>\n",
       "      <td>NaN</td>\n",
       "      <td>NaN</td>\n",
       "      <td>NaN</td>\n",
       "    </tr>\n",
       "    <tr>\n",
       "      <th>is_host_login</th>\n",
       "      <td>0.000628</td>\n",
       "      <td>-0.000120</td>\n",
       "      <td>-0.000663</td>\n",
       "      <td>-0.000024</td>\n",
       "      <td>-0.000164</td>\n",
       "      <td>-0.000102</td>\n",
       "      <td>0.022067</td>\n",
       "      <td>0.006568</td>\n",
       "      <td>0.005823</td>\n",
       "      <td>-0.000080</td>\n",
       "      <td>...</td>\n",
       "      <td>-0.007949</td>\n",
       "      <td>-0.024007</td>\n",
       "      <td>-0.017637</td>\n",
       "      <td>0.013872</td>\n",
       "      <td>0.012326</td>\n",
       "      <td>-0.002889</td>\n",
       "      <td>-0.000882</td>\n",
       "      <td>-0.000739</td>\n",
       "      <td>-0.001759</td>\n",
       "      <td>-0.001640</td>\n",
       "    </tr>\n",
       "    <tr>\n",
       "      <th>is_guest_login</th>\n",
       "      <td>0.024576</td>\n",
       "      <td>-0.000872</td>\n",
       "      <td>-0.005921</td>\n",
       "      <td>-0.000248</td>\n",
       "      <td>-0.001937</td>\n",
       "      <td>-0.000915</td>\n",
       "      <td>0.674614</td>\n",
       "      <td>0.054679</td>\n",
       "      <td>0.036790</td>\n",
       "      <td>-0.000810</td>\n",
       "      <td>...</td>\n",
       "      <td>0.034730</td>\n",
       "      <td>-0.186555</td>\n",
       "      <td>-0.196786</td>\n",
       "      <td>0.040652</td>\n",
       "      <td>-0.036207</td>\n",
       "      <td>-0.036194</td>\n",
       "      <td>0.040115</td>\n",
       "      <td>-0.006210</td>\n",
       "      <td>0.025195</td>\n",
       "      <td>-0.021636</td>\n",
       "    </tr>\n",
       "    <tr>\n",
       "      <th>count</th>\n",
       "      <td>-0.021264</td>\n",
       "      <td>0.000158</td>\n",
       "      <td>-0.014496</td>\n",
       "      <td>-0.000659</td>\n",
       "      <td>0.006650</td>\n",
       "      <td>-0.002331</td>\n",
       "      <td>-0.018483</td>\n",
       "      <td>-0.013245</td>\n",
       "      <td>-0.234428</td>\n",
       "      <td>-0.002185</td>\n",
       "      <td>...</td>\n",
       "      <td>0.180280</td>\n",
       "      <td>-0.138073</td>\n",
       "      <td>-0.202353</td>\n",
       "      <td>0.441878</td>\n",
       "      <td>0.041525</td>\n",
       "      <td>-0.075755</td>\n",
       "      <td>0.173170</td>\n",
       "      <td>0.259073</td>\n",
       "      <td>0.310146</td>\n",
       "      <td>0.268546</td>\n",
       "    </tr>\n",
       "    <tr>\n",
       "      <th>srv_count</th>\n",
       "      <td>-0.040256</td>\n",
       "      <td>-0.002799</td>\n",
       "      <td>-0.014572</td>\n",
       "      <td>-0.001177</td>\n",
       "      <td>0.010474</td>\n",
       "      <td>-0.003312</td>\n",
       "      <td>-0.029951</td>\n",
       "      <td>-0.017527</td>\n",
       "      <td>-0.122827</td>\n",
       "      <td>-0.003409</td>\n",
       "      <td>...</td>\n",
       "      <td>0.154687</td>\n",
       "      <td>0.176394</td>\n",
       "      <td>0.158120</td>\n",
       "      <td>-0.109335</td>\n",
       "      <td>0.033510</td>\n",
       "      <td>-0.062443</td>\n",
       "      <td>-0.028618</td>\n",
       "      <td>-0.023342</td>\n",
       "      <td>-0.096552</td>\n",
       "      <td>-0.091356</td>\n",
       "    </tr>\n",
       "    <tr>\n",
       "      <th>serror_rate</th>\n",
       "      <td>0.012695</td>\n",
       "      <td>0.032286</td>\n",
       "      <td>0.002691</td>\n",
       "      <td>0.055010</td>\n",
       "      <td>-0.001529</td>\n",
       "      <td>-0.000804</td>\n",
       "      <td>-0.002418</td>\n",
       "      <td>0.015621</td>\n",
       "      <td>-0.111272</td>\n",
       "      <td>-0.000461</td>\n",
       "      <td>...</td>\n",
       "      <td>0.001016</td>\n",
       "      <td>-0.131988</td>\n",
       "      <td>-0.155080</td>\n",
       "      <td>0.198254</td>\n",
       "      <td>0.042990</td>\n",
       "      <td>-0.009009</td>\n",
       "      <td>0.727948</td>\n",
       "      <td>0.624134</td>\n",
       "      <td>0.073745</td>\n",
       "      <td>0.076238</td>\n",
       "    </tr>\n",
       "    <tr>\n",
       "      <th>srv_error_rate</th>\n",
       "      <td>0.000556</td>\n",
       "      <td>0.020482</td>\n",
       "      <td>0.000897</td>\n",
       "      <td>0.041417</td>\n",
       "      <td>-0.001558</td>\n",
       "      <td>-0.000784</td>\n",
       "      <td>-0.002973</td>\n",
       "      <td>0.005104</td>\n",
       "      <td>-0.111494</td>\n",
       "      <td>-0.000733</td>\n",
       "      <td>...</td>\n",
       "      <td>0.015448</td>\n",
       "      <td>-0.132549</td>\n",
       "      <td>-0.159816</td>\n",
       "      <td>0.226609</td>\n",
       "      <td>0.029486</td>\n",
       "      <td>-0.011452</td>\n",
       "      <td>0.556522</td>\n",
       "      <td>0.876172</td>\n",
       "      <td>0.120649</td>\n",
       "      <td>0.003944</td>\n",
       "    </tr>\n",
       "    <tr>\n",
       "      <th>rerror_rate</th>\n",
       "      <td>0.024791</td>\n",
       "      <td>-0.000136</td>\n",
       "      <td>-0.016999</td>\n",
       "      <td>-0.000719</td>\n",
       "      <td>-0.003256</td>\n",
       "      <td>-0.001920</td>\n",
       "      <td>-0.015689</td>\n",
       "      <td>0.039348</td>\n",
       "      <td>-0.438489</td>\n",
       "      <td>-0.001872</td>\n",
       "      <td>...</td>\n",
       "      <td>-0.072895</td>\n",
       "      <td>-0.231681</td>\n",
       "      <td>-0.236533</td>\n",
       "      <td>0.290000</td>\n",
       "      <td>0.060870</td>\n",
       "      <td>0.198658</td>\n",
       "      <td>0.072024</td>\n",
       "      <td>0.115323</td>\n",
       "      <td>0.904562</td>\n",
       "      <td>0.926933</td>\n",
       "    </tr>\n",
       "    <tr>\n",
       "      <th>srv_rerror_rate</th>\n",
       "      <td>0.025714</td>\n",
       "      <td>0.000916</td>\n",
       "      <td>-0.016476</td>\n",
       "      <td>-0.000716</td>\n",
       "      <td>-0.003178</td>\n",
       "      <td>-0.001892</td>\n",
       "      <td>-0.016011</td>\n",
       "      <td>0.039899</td>\n",
       "      <td>-0.427260</td>\n",
       "      <td>-0.001867</td>\n",
       "      <td>...</td>\n",
       "      <td>-0.075301</td>\n",
       "      <td>-0.220182</td>\n",
       "      <td>-0.222191</td>\n",
       "      <td>0.266824</td>\n",
       "      <td>0.061757</td>\n",
       "      <td>0.199597</td>\n",
       "      <td>0.078206</td>\n",
       "      <td>0.002159</td>\n",
       "      <td>0.873826</td>\n",
       "      <td>0.945762</td>\n",
       "    </tr>\n",
       "    <tr>\n",
       "      <th>same_srv_rate</th>\n",
       "      <td>-0.041337</td>\n",
       "      <td>-0.012252</td>\n",
       "      <td>0.014384</td>\n",
       "      <td>0.000488</td>\n",
       "      <td>0.003602</td>\n",
       "      <td>0.001704</td>\n",
       "      <td>0.004633</td>\n",
       "      <td>0.006845</td>\n",
       "      <td>0.309230</td>\n",
       "      <td>0.001489</td>\n",
       "      <td>...</td>\n",
       "      <td>-0.159736</td>\n",
       "      <td>0.395865</td>\n",
       "      <td>0.487583</td>\n",
       "      <td>-0.602360</td>\n",
       "      <td>-0.144716</td>\n",
       "      <td>0.057155</td>\n",
       "      <td>-0.150115</td>\n",
       "      <td>-0.217234</td>\n",
       "      <td>-0.365158</td>\n",
       "      <td>-0.348882</td>\n",
       "    </tr>\n",
       "    <tr>\n",
       "      <th>diff_srv_rate</th>\n",
       "      <td>0.036048</td>\n",
       "      <td>0.003624</td>\n",
       "      <td>-0.014178</td>\n",
       "      <td>-0.000492</td>\n",
       "      <td>-0.003687</td>\n",
       "      <td>-0.001741</td>\n",
       "      <td>0.000676</td>\n",
       "      <td>-0.004745</td>\n",
       "      <td>-0.286986</td>\n",
       "      <td>-0.001585</td>\n",
       "      <td>...</td>\n",
       "      <td>0.143637</td>\n",
       "      <td>-0.381193</td>\n",
       "      <td>-0.466588</td>\n",
       "      <td>0.531331</td>\n",
       "      <td>0.105483</td>\n",
       "      <td>-0.050784</td>\n",
       "      <td>0.127415</td>\n",
       "      <td>0.185534</td>\n",
       "      <td>0.345461</td>\n",
       "      <td>0.349024</td>\n",
       "    </tr>\n",
       "    <tr>\n",
       "      <th>srv_diff_host_rate</th>\n",
       "      <td>-0.037919</td>\n",
       "      <td>-0.003569</td>\n",
       "      <td>-0.013117</td>\n",
       "      <td>0.007200</td>\n",
       "      <td>-0.005214</td>\n",
       "      <td>-0.004446</td>\n",
       "      <td>-0.032686</td>\n",
       "      <td>-0.025858</td>\n",
       "      <td>-0.019771</td>\n",
       "      <td>-0.004230</td>\n",
       "      <td>...</td>\n",
       "      <td>-0.119273</td>\n",
       "      <td>-0.085060</td>\n",
       "      <td>-0.051782</td>\n",
       "      <td>-0.058600</td>\n",
       "      <td>-0.010034</td>\n",
       "      <td>0.081464</td>\n",
       "      <td>0.030203</td>\n",
       "      <td>0.007719</td>\n",
       "      <td>0.075779</td>\n",
       "      <td>0.086385</td>\n",
       "    </tr>\n",
       "    <tr>\n",
       "      <th>dst_host_count</th>\n",
       "      <td>0.068190</td>\n",
       "      <td>0.000027</td>\n",
       "      <td>-0.019988</td>\n",
       "      <td>-0.003197</td>\n",
       "      <td>-0.001357</td>\n",
       "      <td>-0.007518</td>\n",
       "      <td>0.023482</td>\n",
       "      <td>0.017104</td>\n",
       "      <td>-0.148581</td>\n",
       "      <td>-0.006233</td>\n",
       "      <td>...</td>\n",
       "      <td>1.000000</td>\n",
       "      <td>0.006110</td>\n",
       "      <td>-0.184441</td>\n",
       "      <td>0.168316</td>\n",
       "      <td>-0.205418</td>\n",
       "      <td>-0.389799</td>\n",
       "      <td>0.016860</td>\n",
       "      <td>0.019382</td>\n",
       "      <td>-0.079978</td>\n",
       "      <td>-0.079868</td>\n",
       "    </tr>\n",
       "    <tr>\n",
       "      <th>dst_host_srv_count</th>\n",
       "      <td>-0.189572</td>\n",
       "      <td>-0.017917</td>\n",
       "      <td>-0.015013</td>\n",
       "      <td>-0.005172</td>\n",
       "      <td>-0.039489</td>\n",
       "      <td>-0.019645</td>\n",
       "      <td>-0.126645</td>\n",
       "      <td>-0.060760</td>\n",
       "      <td>0.462860</td>\n",
       "      <td>-0.018696</td>\n",
       "      <td>...</td>\n",
       "      <td>0.006110</td>\n",
       "      <td>1.000000</td>\n",
       "      <td>0.838576</td>\n",
       "      <td>-0.581844</td>\n",
       "      <td>-0.410819</td>\n",
       "      <td>-0.126110</td>\n",
       "      <td>-0.173095</td>\n",
       "      <td>-0.150779</td>\n",
       "      <td>-0.233564</td>\n",
       "      <td>-0.228777</td>\n",
       "    </tr>\n",
       "    <tr>\n",
       "      <th>dst_host_same_srv_rate</th>\n",
       "      <td>-0.214620</td>\n",
       "      <td>-0.015160</td>\n",
       "      <td>-0.002238</td>\n",
       "      <td>0.001413</td>\n",
       "      <td>-0.032805</td>\n",
       "      <td>-0.015221</td>\n",
       "      <td>-0.134481</td>\n",
       "      <td>-0.043562</td>\n",
       "      <td>0.435803</td>\n",
       "      <td>-0.017727</td>\n",
       "      <td>...</td>\n",
       "      <td>-0.184441</td>\n",
       "      <td>0.838576</td>\n",
       "      <td>1.000000</td>\n",
       "      <td>-0.686633</td>\n",
       "      <td>-0.280306</td>\n",
       "      <td>0.043227</td>\n",
       "      <td>-0.205075</td>\n",
       "      <td>-0.177016</td>\n",
       "      <td>-0.238685</td>\n",
       "      <td>-0.229339</td>\n",
       "    </tr>\n",
       "    <tr>\n",
       "      <th>dst_host_diff_srv_rate</th>\n",
       "      <td>0.255215</td>\n",
       "      <td>0.001398</td>\n",
       "      <td>-0.016368</td>\n",
       "      <td>-0.000864</td>\n",
       "      <td>0.002834</td>\n",
       "      <td>0.013500</td>\n",
       "      <td>0.016140</td>\n",
       "      <td>-0.002525</td>\n",
       "      <td>-0.398185</td>\n",
       "      <td>0.001994</td>\n",
       "      <td>...</td>\n",
       "      <td>0.168316</td>\n",
       "      <td>-0.581844</td>\n",
       "      <td>-0.686633</td>\n",
       "      <td>1.000000</td>\n",
       "      <td>0.379532</td>\n",
       "      <td>-0.038841</td>\n",
       "      <td>0.205924</td>\n",
       "      <td>0.238647</td>\n",
       "      <td>0.342405</td>\n",
       "      <td>0.274681</td>\n",
       "    </tr>\n",
       "    <tr>\n",
       "      <th>dst_host_same_src_port_rate</th>\n",
       "      <td>0.204651</td>\n",
       "      <td>0.008754</td>\n",
       "      <td>0.007375</td>\n",
       "      <td>0.007509</td>\n",
       "      <td>0.030775</td>\n",
       "      <td>0.003135</td>\n",
       "      <td>-0.021403</td>\n",
       "      <td>-0.014387</td>\n",
       "      <td>-0.397248</td>\n",
       "      <td>-0.001598</td>\n",
       "      <td>...</td>\n",
       "      <td>-0.205418</td>\n",
       "      <td>-0.410819</td>\n",
       "      <td>-0.280306</td>\n",
       "      <td>0.379532</td>\n",
       "      <td>1.000000</td>\n",
       "      <td>0.273264</td>\n",
       "      <td>0.036013</td>\n",
       "      <td>0.030742</td>\n",
       "      <td>0.067507</td>\n",
       "      <td>0.056124</td>\n",
       "    </tr>\n",
       "    <tr>\n",
       "      <th>dst_host_srv_diff_host_rate</th>\n",
       "      <td>-0.024366</td>\n",
       "      <td>0.002703</td>\n",
       "      <td>0.002882</td>\n",
       "      <td>0.008351</td>\n",
       "      <td>0.007797</td>\n",
       "      <td>0.002830</td>\n",
       "      <td>-0.019025</td>\n",
       "      <td>-0.003188</td>\n",
       "      <td>-0.165710</td>\n",
       "      <td>-0.001139</td>\n",
       "      <td>...</td>\n",
       "      <td>-0.389799</td>\n",
       "      <td>-0.126110</td>\n",
       "      <td>0.043227</td>\n",
       "      <td>-0.038841</td>\n",
       "      <td>0.273264</td>\n",
       "      <td>1.000000</td>\n",
       "      <td>-0.012589</td>\n",
       "      <td>-0.011162</td>\n",
       "      <td>0.209053</td>\n",
       "      <td>0.214990</td>\n",
       "    </tr>\n",
       "    <tr>\n",
       "      <th>dst_host_serror_rate</th>\n",
       "      <td>0.012989</td>\n",
       "      <td>0.007055</td>\n",
       "      <td>0.003843</td>\n",
       "      <td>0.055836</td>\n",
       "      <td>0.011099</td>\n",
       "      <td>0.001669</td>\n",
       "      <td>0.018972</td>\n",
       "      <td>0.027317</td>\n",
       "      <td>-0.102782</td>\n",
       "      <td>0.007625</td>\n",
       "      <td>...</td>\n",
       "      <td>0.016860</td>\n",
       "      <td>-0.173095</td>\n",
       "      <td>-0.205075</td>\n",
       "      <td>0.205924</td>\n",
       "      <td>0.036013</td>\n",
       "      <td>-0.012589</td>\n",
       "      <td>1.000000</td>\n",
       "      <td>0.612745</td>\n",
       "      <td>0.073076</td>\n",
       "      <td>0.077448</td>\n",
       "    </tr>\n",
       "    <tr>\n",
       "      <th>dst_host_srv_serror_rate</th>\n",
       "      <td>0.006247</td>\n",
       "      <td>0.022344</td>\n",
       "      <td>0.007759</td>\n",
       "      <td>0.003844</td>\n",
       "      <td>-0.001459</td>\n",
       "      <td>-0.000639</td>\n",
       "      <td>-0.000583</td>\n",
       "      <td>0.017950</td>\n",
       "      <td>-0.112004</td>\n",
       "      <td>0.010023</td>\n",
       "      <td>...</td>\n",
       "      <td>0.019382</td>\n",
       "      <td>-0.150779</td>\n",
       "      <td>-0.177016</td>\n",
       "      <td>0.238647</td>\n",
       "      <td>0.030742</td>\n",
       "      <td>-0.011162</td>\n",
       "      <td>0.612745</td>\n",
       "      <td>1.000000</td>\n",
       "      <td>0.118429</td>\n",
       "      <td>-0.006152</td>\n",
       "    </tr>\n",
       "    <tr>\n",
       "      <th>dst_host_rerror_rate</th>\n",
       "      <td>0.013741</td>\n",
       "      <td>-0.001297</td>\n",
       "      <td>-0.015288</td>\n",
       "      <td>-0.000759</td>\n",
       "      <td>0.006002</td>\n",
       "      <td>-0.000892</td>\n",
       "      <td>0.002000</td>\n",
       "      <td>0.032950</td>\n",
       "      <td>-0.414882</td>\n",
       "      <td>-0.001596</td>\n",
       "      <td>...</td>\n",
       "      <td>-0.079978</td>\n",
       "      <td>-0.233564</td>\n",
       "      <td>-0.238685</td>\n",
       "      <td>0.342405</td>\n",
       "      <td>0.067507</td>\n",
       "      <td>0.209053</td>\n",
       "      <td>0.073076</td>\n",
       "      <td>0.118429</td>\n",
       "      <td>1.000000</td>\n",
       "      <td>0.886568</td>\n",
       "    </tr>\n",
       "    <tr>\n",
       "      <th>dst_host_srv_rerror_rate</th>\n",
       "      <td>0.020110</td>\n",
       "      <td>0.000915</td>\n",
       "      <td>-0.015691</td>\n",
       "      <td>-0.000738</td>\n",
       "      <td>-0.003239</td>\n",
       "      <td>0.003740</td>\n",
       "      <td>-0.014772</td>\n",
       "      <td>0.036186</td>\n",
       "      <td>-0.409466</td>\n",
       "      <td>-0.001197</td>\n",
       "      <td>...</td>\n",
       "      <td>-0.079868</td>\n",
       "      <td>-0.228777</td>\n",
       "      <td>-0.229339</td>\n",
       "      <td>0.274681</td>\n",
       "      <td>0.056124</td>\n",
       "      <td>0.214990</td>\n",
       "      <td>0.077448</td>\n",
       "      <td>-0.006152</td>\n",
       "      <td>0.886568</td>\n",
       "      <td>1.000000</td>\n",
       "    </tr>\n",
       "  </tbody>\n",
       "</table>\n",
       "<p>38 rows × 38 columns</p>\n",
       "</div>"
      ],
      "text/plain": [
       "                             Duration  src_bytes  dst_bytes      land  \\\n",
       "Duration                     1.000000   0.004578   0.021672 -0.000351   \n",
       "src_bytes                    0.004578   1.000000   0.007928 -0.000014   \n",
       "dst_bytes                    0.021672   0.007928   1.000000 -0.000176   \n",
       "land                        -0.000351  -0.000014  -0.000176  1.000000   \n",
       "wrong_fragment              -0.000347  -0.000233  -0.001709 -0.000047   \n",
       "urgent                       0.003690  -0.000045   0.011452 -0.000019   \n",
       "hot                          0.012719   0.002330   0.000287 -0.000208   \n",
       "num_failed                   0.001486  -0.000535   0.025406 -0.000062   \n",
       "logged_in                   -0.146037  -0.012170   0.019351 -0.005424   \n",
       "num_compromised              0.098938  -0.000056   0.026384 -0.000022   \n",
       "root_shell                   0.027823  -0.000163   0.025422 -0.000071   \n",
       "su_attempted                 0.088947   0.000016   0.052575 -0.000029   \n",
       "num_root                     0.097136  -0.000070   0.024942 -0.000035   \n",
       "num_file_creations           0.063465  -0.000063   0.002815 -0.000066   \n",
       "num_shells                   0.001948  -0.000075   0.000923 -0.000061   \n",
       "num_access_files             0.023541  -0.000462   0.006244 -0.000176   \n",
       "num_outbound_cmds                 NaN        NaN        NaN       NaN   \n",
       "is_host_login                0.000628  -0.000120  -0.000663 -0.000024   \n",
       "is_guest_login               0.024576  -0.000872  -0.005921 -0.000248   \n",
       "count                       -0.021264   0.000158  -0.014496 -0.000659   \n",
       "srv_count                   -0.040256  -0.002799  -0.014572 -0.001177   \n",
       "serror_rate                  0.012695   0.032286   0.002691  0.055010   \n",
       "srv_error_rate               0.000556   0.020482   0.000897  0.041417   \n",
       "rerror_rate                  0.024791  -0.000136  -0.016999 -0.000719   \n",
       "srv_rerror_rate              0.025714   0.000916  -0.016476 -0.000716   \n",
       "same_srv_rate               -0.041337  -0.012252   0.014384  0.000488   \n",
       "diff_srv_rate                0.036048   0.003624  -0.014178 -0.000492   \n",
       "srv_diff_host_rate          -0.037919  -0.003569  -0.013117  0.007200   \n",
       "dst_host_count               0.068190   0.000027  -0.019988 -0.003197   \n",
       "dst_host_srv_count          -0.189572  -0.017917  -0.015013 -0.005172   \n",
       "dst_host_same_srv_rate      -0.214620  -0.015160  -0.002238  0.001413   \n",
       "dst_host_diff_srv_rate       0.255215   0.001398  -0.016368 -0.000864   \n",
       "dst_host_same_src_port_rate  0.204651   0.008754   0.007375  0.007509   \n",
       "dst_host_srv_diff_host_rate -0.024366   0.002703   0.002882  0.008351   \n",
       "dst_host_serror_rate         0.012989   0.007055   0.003843  0.055836   \n",
       "dst_host_srv_serror_rate     0.006247   0.022344   0.007759  0.003844   \n",
       "dst_host_rerror_rate         0.013741  -0.001297  -0.015288 -0.000759   \n",
       "dst_host_srv_rerror_rate     0.020110   0.000915  -0.015691 -0.000738   \n",
       "\n",
       "                             wrong_fragment    urgent       hot  num_failed  \\\n",
       "Duration                          -0.000347  0.003690  0.012719    0.001486   \n",
       "src_bytes                         -0.000233 -0.000045  0.002330   -0.000535   \n",
       "dst_bytes                         -0.001709  0.011452  0.000287    0.025406   \n",
       "land                              -0.000047 -0.000019 -0.000208   -0.000062   \n",
       "wrong_fragment                     1.000000 -0.000202 -0.001089   -0.001643   \n",
       "urgent                            -0.000202  1.000000  0.024185    0.084431   \n",
       "hot                               -0.001089  0.024185  1.000000    0.007537   \n",
       "num_failed                        -0.001643  0.084431  0.007537    1.000000   \n",
       "logged_in                         -0.030348  0.004443  0.035556   -0.087611   \n",
       "num_compromised                   -0.000159  0.039020  0.009142    0.004282   \n",
       "root_shell                        -0.000555  0.172920  0.067311    0.022762   \n",
       "su_attempted                      -0.000154 -0.000085  0.001754    0.069621   \n",
       "num_root                          -0.000160  0.047759  0.009173    0.001904   \n",
       "num_file_creations                -0.000216  0.018094  0.277273    0.003842   \n",
       "num_shells                        -0.000269  0.033402  0.021819   -0.000895   \n",
       "num_access_files                  -0.001052  0.040267  0.011132    0.004123   \n",
       "num_outbound_cmds                       NaN       NaN       NaN         NaN   \n",
       "is_host_login                     -0.000164 -0.000102  0.022067    0.006568   \n",
       "is_guest_login                    -0.001937 -0.000915  0.674614    0.054679   \n",
       "count                              0.006650 -0.002331 -0.018483   -0.013245   \n",
       "srv_count                          0.010474 -0.003312 -0.029951   -0.017527   \n",
       "serror_rate                       -0.001529 -0.000804 -0.002418    0.015621   \n",
       "srv_error_rate                    -0.001558 -0.000784 -0.002973    0.005104   \n",
       "rerror_rate                       -0.003256 -0.001920 -0.015689    0.039348   \n",
       "srv_rerror_rate                   -0.003178 -0.001892 -0.016011    0.039899   \n",
       "same_srv_rate                      0.003602  0.001704  0.004633    0.006845   \n",
       "diff_srv_rate                     -0.003687 -0.001741  0.000676   -0.004745   \n",
       "srv_diff_host_rate                -0.005214 -0.004446 -0.032686   -0.025858   \n",
       "dst_host_count                    -0.001357 -0.007518  0.023482    0.017104   \n",
       "dst_host_srv_count                -0.039489 -0.019645 -0.126645   -0.060760   \n",
       "dst_host_same_srv_rate            -0.032805 -0.015221 -0.134481   -0.043562   \n",
       "dst_host_diff_srv_rate             0.002834  0.013500  0.016140   -0.002525   \n",
       "dst_host_same_src_port_rate        0.030775  0.003135 -0.021403   -0.014387   \n",
       "dst_host_srv_diff_host_rate        0.007797  0.002830 -0.019025   -0.003188   \n",
       "dst_host_serror_rate               0.011099  0.001669  0.018972    0.027317   \n",
       "dst_host_srv_serror_rate          -0.001459 -0.000639 -0.000583    0.017950   \n",
       "dst_host_rerror_rate               0.006002 -0.000892  0.002000    0.032950   \n",
       "dst_host_srv_rerror_rate          -0.003239  0.003740 -0.014772    0.036186   \n",
       "\n",
       "                             logged_in  num_compromised  ...  dst_host_count  \\\n",
       "Duration                     -0.146037         0.098938  ...        0.068190   \n",
       "src_bytes                    -0.012170        -0.000056  ...        0.000027   \n",
       "dst_bytes                     0.019351         0.026384  ...       -0.019988   \n",
       "land                         -0.005424        -0.000022  ...       -0.003197   \n",
       "wrong_fragment               -0.030348        -0.000159  ...       -0.001357   \n",
       "urgent                        0.004443         0.039020  ...       -0.007518   \n",
       "hot                           0.035556         0.009142  ...        0.023482   \n",
       "num_failed                   -0.087611         0.004282  ...        0.017104   \n",
       "logged_in                     1.000000         0.004389  ...       -0.148581   \n",
       "num_compromised               0.004389         1.000000  ...       -0.006233   \n",
       "root_shell                    0.014683         0.261008  ...       -0.007163   \n",
       "su_attempted                  0.005313         0.736226  ...       -0.001939   \n",
       "num_root                      0.006070         0.995128  ...       -0.007071   \n",
       "num_file_creations            0.010776         0.011638  ...       -0.004307   \n",
       "num_shells                    0.010520         0.026640  ...       -0.000468   \n",
       "num_access_files              0.033241         0.309364  ...        0.025922   \n",
       "num_outbound_cmds                  NaN              NaN  ...             NaN   \n",
       "is_host_login                 0.005823        -0.000080  ...       -0.007949   \n",
       "is_guest_login                0.036790        -0.000810  ...        0.034730   \n",
       "count                        -0.234428        -0.002185  ...        0.180280   \n",
       "srv_count                    -0.122827        -0.003409  ...        0.154687   \n",
       "serror_rate                  -0.111272        -0.000461  ...        0.001016   \n",
       "srv_error_rate               -0.111494        -0.000733  ...        0.015448   \n",
       "rerror_rate                  -0.438489        -0.001872  ...       -0.072895   \n",
       "srv_rerror_rate              -0.427260        -0.001867  ...       -0.075301   \n",
       "same_srv_rate                 0.309230         0.001489  ...       -0.159736   \n",
       "diff_srv_rate                -0.286986        -0.001585  ...        0.143637   \n",
       "srv_diff_host_rate           -0.019771        -0.004230  ...       -0.119273   \n",
       "dst_host_count               -0.148581        -0.006233  ...        1.000000   \n",
       "dst_host_srv_count            0.462860        -0.018696  ...        0.006110   \n",
       "dst_host_same_srv_rate        0.435803        -0.017727  ...       -0.184441   \n",
       "dst_host_diff_srv_rate       -0.398185         0.001994  ...        0.168316   \n",
       "dst_host_same_src_port_rate  -0.397248        -0.001598  ...       -0.205418   \n",
       "dst_host_srv_diff_host_rate  -0.165710        -0.001139  ...       -0.389799   \n",
       "dst_host_serror_rate         -0.102782         0.007625  ...        0.016860   \n",
       "dst_host_srv_serror_rate     -0.112004         0.010023  ...        0.019382   \n",
       "dst_host_rerror_rate         -0.414882        -0.001596  ...       -0.079978   \n",
       "dst_host_srv_rerror_rate     -0.409466        -0.001197  ...       -0.079868   \n",
       "\n",
       "                             dst_host_srv_count  dst_host_same_srv_rate  \\\n",
       "Duration                              -0.189572               -0.214620   \n",
       "src_bytes                             -0.017917               -0.015160   \n",
       "dst_bytes                             -0.015013               -0.002238   \n",
       "land                                  -0.005172                0.001413   \n",
       "wrong_fragment                        -0.039489               -0.032805   \n",
       "urgent                                -0.019645               -0.015221   \n",
       "hot                                   -0.126645               -0.134481   \n",
       "num_failed                            -0.060760               -0.043562   \n",
       "logged_in                              0.462860                0.435803   \n",
       "num_compromised                       -0.018696               -0.017727   \n",
       "root_shell                            -0.038762               -0.024500   \n",
       "su_attempted                          -0.019681               -0.021385   \n",
       "num_root                              -0.023233               -0.023059   \n",
       "num_file_creations                    -0.034042               -0.031373   \n",
       "num_shells                            -0.034438               -0.031464   \n",
       "num_access_files                      -0.017639               -0.015384   \n",
       "num_outbound_cmds                           NaN                     NaN   \n",
       "is_host_login                         -0.024007               -0.017637   \n",
       "is_guest_login                        -0.186555               -0.196786   \n",
       "count                                 -0.138073               -0.202353   \n",
       "srv_count                              0.176394                0.158120   \n",
       "serror_rate                           -0.131988               -0.155080   \n",
       "srv_error_rate                        -0.132549               -0.159816   \n",
       "rerror_rate                           -0.231681               -0.236533   \n",
       "srv_rerror_rate                       -0.220182               -0.222191   \n",
       "same_srv_rate                          0.395865                0.487583   \n",
       "diff_srv_rate                         -0.381193               -0.466588   \n",
       "srv_diff_host_rate                    -0.085060               -0.051782   \n",
       "dst_host_count                         0.006110               -0.184441   \n",
       "dst_host_srv_count                     1.000000                0.838576   \n",
       "dst_host_same_srv_rate                 0.838576                1.000000   \n",
       "dst_host_diff_srv_rate                -0.581844               -0.686633   \n",
       "dst_host_same_src_port_rate           -0.410819               -0.280306   \n",
       "dst_host_srv_diff_host_rate           -0.126110                0.043227   \n",
       "dst_host_serror_rate                  -0.173095               -0.205075   \n",
       "dst_host_srv_serror_rate              -0.150779               -0.177016   \n",
       "dst_host_rerror_rate                  -0.233564               -0.238685   \n",
       "dst_host_srv_rerror_rate              -0.228777               -0.229339   \n",
       "\n",
       "                             dst_host_diff_srv_rate  \\\n",
       "Duration                                   0.255215   \n",
       "src_bytes                                  0.001398   \n",
       "dst_bytes                                 -0.016368   \n",
       "land                                      -0.000864   \n",
       "wrong_fragment                             0.002834   \n",
       "urgent                                     0.013500   \n",
       "hot                                        0.016140   \n",
       "num_failed                                -0.002525   \n",
       "logged_in                                 -0.398185   \n",
       "num_compromised                            0.001994   \n",
       "root_shell                                 0.003803   \n",
       "su_attempted                               0.000534   \n",
       "num_root                                   0.002970   \n",
       "num_file_creations                         0.007161   \n",
       "num_shells                                -0.000599   \n",
       "num_access_files                          -0.001492   \n",
       "num_outbound_cmds                               NaN   \n",
       "is_host_login                              0.013872   \n",
       "is_guest_login                             0.040652   \n",
       "count                                      0.441878   \n",
       "srv_count                                 -0.109335   \n",
       "serror_rate                                0.198254   \n",
       "srv_error_rate                             0.226609   \n",
       "rerror_rate                                0.290000   \n",
       "srv_rerror_rate                            0.266824   \n",
       "same_srv_rate                             -0.602360   \n",
       "diff_srv_rate                              0.531331   \n",
       "srv_diff_host_rate                        -0.058600   \n",
       "dst_host_count                             0.168316   \n",
       "dst_host_srv_count                        -0.581844   \n",
       "dst_host_same_srv_rate                    -0.686633   \n",
       "dst_host_diff_srv_rate                     1.000000   \n",
       "dst_host_same_src_port_rate                0.379532   \n",
       "dst_host_srv_diff_host_rate               -0.038841   \n",
       "dst_host_serror_rate                       0.205924   \n",
       "dst_host_srv_serror_rate                   0.238647   \n",
       "dst_host_rerror_rate                       0.342405   \n",
       "dst_host_srv_rerror_rate                   0.274681   \n",
       "\n",
       "                             dst_host_same_src_port_rate  \\\n",
       "Duration                                        0.204651   \n",
       "src_bytes                                       0.008754   \n",
       "dst_bytes                                       0.007375   \n",
       "land                                            0.007509   \n",
       "wrong_fragment                                  0.030775   \n",
       "urgent                                          0.003135   \n",
       "hot                                            -0.021403   \n",
       "num_failed                                     -0.014387   \n",
       "logged_in                                      -0.397248   \n",
       "num_compromised                                -0.001598   \n",
       "root_shell                                      0.008618   \n",
       "su_attempted                                   -0.003931   \n",
       "num_root                                        0.000331   \n",
       "num_file_creations                              0.001465   \n",
       "num_shells                                      0.013197   \n",
       "num_access_files                               -0.020680   \n",
       "num_outbound_cmds                                    NaN   \n",
       "is_host_login                                   0.012326   \n",
       "is_guest_login                                 -0.036207   \n",
       "count                                           0.041525   \n",
       "srv_count                                       0.033510   \n",
       "serror_rate                                     0.042990   \n",
       "srv_error_rate                                  0.029486   \n",
       "rerror_rate                                     0.060870   \n",
       "srv_rerror_rate                                 0.061757   \n",
       "same_srv_rate                                  -0.144716   \n",
       "diff_srv_rate                                   0.105483   \n",
       "srv_diff_host_rate                             -0.010034   \n",
       "dst_host_count                                 -0.205418   \n",
       "dst_host_srv_count                             -0.410819   \n",
       "dst_host_same_srv_rate                         -0.280306   \n",
       "dst_host_diff_srv_rate                          0.379532   \n",
       "dst_host_same_src_port_rate                     1.000000   \n",
       "dst_host_srv_diff_host_rate                     0.273264   \n",
       "dst_host_serror_rate                            0.036013   \n",
       "dst_host_srv_serror_rate                        0.030742   \n",
       "dst_host_rerror_rate                            0.067507   \n",
       "dst_host_srv_rerror_rate                        0.056124   \n",
       "\n",
       "                             dst_host_srv_diff_host_rate  \\\n",
       "Duration                                       -0.024366   \n",
       "src_bytes                                       0.002703   \n",
       "dst_bytes                                       0.002882   \n",
       "land                                            0.008351   \n",
       "wrong_fragment                                  0.007797   \n",
       "urgent                                          0.002830   \n",
       "hot                                            -0.019025   \n",
       "num_failed                                     -0.003188   \n",
       "logged_in                                      -0.165710   \n",
       "num_compromised                                -0.001139   \n",
       "root_shell                                      0.012709   \n",
       "su_attempted                                   -0.001855   \n",
       "num_root                                       -0.000678   \n",
       "num_file_creations                              0.005422   \n",
       "num_shells                                      0.009246   \n",
       "num_access_files                               -0.010681   \n",
       "num_outbound_cmds                                    NaN   \n",
       "is_host_login                                  -0.002889   \n",
       "is_guest_login                                 -0.036194   \n",
       "count                                          -0.075755   \n",
       "srv_count                                      -0.062443   \n",
       "serror_rate                                    -0.009009   \n",
       "srv_error_rate                                 -0.011452   \n",
       "rerror_rate                                     0.198658   \n",
       "srv_rerror_rate                                 0.199597   \n",
       "same_srv_rate                                   0.057155   \n",
       "diff_srv_rate                                  -0.050784   \n",
       "srv_diff_host_rate                              0.081464   \n",
       "dst_host_count                                 -0.389799   \n",
       "dst_host_srv_count                             -0.126110   \n",
       "dst_host_same_srv_rate                          0.043227   \n",
       "dst_host_diff_srv_rate                         -0.038841   \n",
       "dst_host_same_src_port_rate                     0.273264   \n",
       "dst_host_srv_diff_host_rate                     1.000000   \n",
       "dst_host_serror_rate                           -0.012589   \n",
       "dst_host_srv_serror_rate                       -0.011162   \n",
       "dst_host_rerror_rate                            0.209053   \n",
       "dst_host_srv_rerror_rate                        0.214990   \n",
       "\n",
       "                             dst_host_serror_rate  dst_host_srv_serror_rate  \\\n",
       "Duration                                 0.012989                  0.006247   \n",
       "src_bytes                                0.007055                  0.022344   \n",
       "dst_bytes                                0.003843                  0.007759   \n",
       "land                                     0.055836                  0.003844   \n",
       "wrong_fragment                           0.011099                 -0.001459   \n",
       "urgent                                   0.001669                 -0.000639   \n",
       "hot                                      0.018972                 -0.000583   \n",
       "num_failed                               0.027317                  0.017950   \n",
       "logged_in                               -0.102782                 -0.112004   \n",
       "num_compromised                          0.007625                  0.010023   \n",
       "root_shell                               0.010551                  0.012970   \n",
       "su_attempted                             0.018427                  0.018738   \n",
       "num_root                                 0.005444                  0.008525   \n",
       "num_file_creations                       0.028576                  0.016124   \n",
       "num_shells                               0.015544                  0.023794   \n",
       "num_access_files                         0.002807                  0.005124   \n",
       "num_outbound_cmds                             NaN                       NaN   \n",
       "is_host_login                           -0.000882                 -0.000739   \n",
       "is_guest_login                           0.040115                 -0.006210   \n",
       "count                                    0.173170                  0.259073   \n",
       "srv_count                               -0.028618                 -0.023342   \n",
       "serror_rate                              0.727948                  0.624134   \n",
       "srv_error_rate                           0.556522                  0.876172   \n",
       "rerror_rate                              0.072024                  0.115323   \n",
       "srv_rerror_rate                          0.078206                  0.002159   \n",
       "same_srv_rate                           -0.150115                 -0.217234   \n",
       "diff_srv_rate                            0.127415                  0.185534   \n",
       "srv_diff_host_rate                       0.030203                  0.007719   \n",
       "dst_host_count                           0.016860                  0.019382   \n",
       "dst_host_srv_count                      -0.173095                 -0.150779   \n",
       "dst_host_same_srv_rate                  -0.205075                 -0.177016   \n",
       "dst_host_diff_srv_rate                   0.205924                  0.238647   \n",
       "dst_host_same_src_port_rate              0.036013                  0.030742   \n",
       "dst_host_srv_diff_host_rate             -0.012589                 -0.011162   \n",
       "dst_host_serror_rate                     1.000000                  0.612745   \n",
       "dst_host_srv_serror_rate                 0.612745                  1.000000   \n",
       "dst_host_rerror_rate                     0.073076                  0.118429   \n",
       "dst_host_srv_rerror_rate                 0.077448                 -0.006152   \n",
       "\n",
       "                             dst_host_rerror_rate  dst_host_srv_rerror_rate  \n",
       "Duration                                 0.013741                  0.020110  \n",
       "src_bytes                               -0.001297                  0.000915  \n",
       "dst_bytes                               -0.015288                 -0.015691  \n",
       "land                                    -0.000759                 -0.000738  \n",
       "wrong_fragment                           0.006002                 -0.003239  \n",
       "urgent                                  -0.000892                  0.003740  \n",
       "hot                                      0.002000                 -0.014772  \n",
       "num_failed                               0.032950                  0.036186  \n",
       "logged_in                               -0.414882                 -0.409466  \n",
       "num_compromised                         -0.001596                 -0.001197  \n",
       "root_shell                               0.002892                  0.001308  \n",
       "su_attempted                            -0.000072                 -0.002064  \n",
       "num_root                                -0.002151                 -0.002218  \n",
       "num_file_creations                      -0.001866                 -0.001514  \n",
       "num_shells                              -0.001310                 -0.003008  \n",
       "num_access_files                        -0.009146                 -0.012994  \n",
       "num_outbound_cmds                             NaN                       NaN  \n",
       "is_host_login                           -0.001759                 -0.001640  \n",
       "is_guest_login                           0.025195                 -0.021636  \n",
       "count                                    0.310146                  0.268546  \n",
       "srv_count                               -0.096552                 -0.091356  \n",
       "serror_rate                              0.073745                  0.076238  \n",
       "srv_error_rate                           0.120649                  0.003944  \n",
       "rerror_rate                              0.904562                  0.926933  \n",
       "srv_rerror_rate                          0.873826                  0.945762  \n",
       "same_srv_rate                           -0.365158                 -0.348882  \n",
       "diff_srv_rate                            0.345461                  0.349024  \n",
       "srv_diff_host_rate                       0.075779                  0.086385  \n",
       "dst_host_count                          -0.079978                 -0.079868  \n",
       "dst_host_srv_count                      -0.233564                 -0.228777  \n",
       "dst_host_same_srv_rate                  -0.238685                 -0.229339  \n",
       "dst_host_diff_srv_rate                   0.342405                  0.274681  \n",
       "dst_host_same_src_port_rate              0.067507                  0.056124  \n",
       "dst_host_srv_diff_host_rate              0.209053                  0.214990  \n",
       "dst_host_serror_rate                     0.073076                  0.077448  \n",
       "dst_host_srv_serror_rate                 0.118429                 -0.006152  \n",
       "dst_host_rerror_rate                     1.000000                  0.886568  \n",
       "dst_host_srv_rerror_rate                 0.886568                  1.000000  \n",
       "\n",
       "[38 rows x 38 columns]"
      ]
     },
     "execution_count": 38,
     "metadata": {},
     "output_type": "execute_result"
    }
   ],
   "source": [
    "#kdd.corr()"
   ]
  },
  {
   "cell_type": "code",
   "execution_count": 5,
   "metadata": {
    "id": "qZTBqq6xxzdS"
   },
   "outputs": [],
   "source": [
    "kdd_train = kdd.iloc[0:102563, :]"
   ]
  },
  {
   "cell_type": "code",
   "execution_count": 6,
   "metadata": {
    "id": "JQ2KBBexxzdU"
   },
   "outputs": [],
   "source": [
    "kdd_test = kdd.iloc[102563:183737, :]"
   ]
  },
  {
   "cell_type": "code",
   "execution_count": 7,
   "metadata": {
    "id": "gemL8-7axzdW"
   },
   "outputs": [],
   "source": [
    "kdd_train_probe = kdd_train[(kdd_train.Type_Groups == 'Normal') | (kdd_train.Type_Groups == 'Probe')]\n",
    "kdd_test_probe = kdd_test[(kdd_test.Type_Groups == 'Normal') | (kdd_test.Type_Groups == 'Probe')]"
   ]
  },
  {
   "cell_type": "code",
   "execution_count": 10,
   "metadata": {
    "id": "phc3gRD7X59o"
   },
   "outputs": [],
   "source": [
    "kdd = pd.concat([kdd_train_probe, kdd_test_probe])"
   ]
  },
  {
   "cell_type": "code",
   "execution_count": 11,
   "metadata": {
    "colab": {
     "base_uri": "https://localhost:8080/"
    },
    "id": "ILHqBF0SX9-4",
    "outputId": "aae01604-3e98-4d25-fb5e-0a386ba90b07"
   },
   "outputs": [
    {
     "data": {
      "text/plain": [
       "(166144, 39)"
      ]
     },
     "execution_count": 11,
     "metadata": {},
     "output_type": "execute_result"
    }
   ],
   "source": [
    "kdd.shape"
   ]
  },
  {
   "cell_type": "code",
   "execution_count": 80,
   "metadata": {
    "colab": {
     "base_uri": "https://localhost:8080/"
    },
    "id": "rV7NgFHAYAYS",
    "outputId": "917689a6-3432-4739-b106-98fe26ae6b9b"
   },
   "outputs": [
    {
     "data": {
      "text/plain": [
       "Type_Groups\n",
       "Normal    157871\n",
       "Probe       8273\n",
       "Name: Type_Groups, dtype: int64"
      ]
     },
     "execution_count": 80,
     "metadata": {},
     "output_type": "execute_result"
    }
   ],
   "source": [
    "kdd.groupby(['Type_Groups'])['Type_Groups'].count()"
   ]
  },
  {
   "cell_type": "code",
   "execution_count": 81,
   "metadata": {
    "colab": {
     "base_uri": "https://localhost:8080/"
    },
    "id": "4E3ST5hCYMiC",
    "outputId": "7e66298d-55a4-44e0-fa3a-ecc10e504979"
   },
   "outputs": [
    {
     "data": {
      "text/plain": [
       "19.082678593013416"
      ]
     },
     "execution_count": 81,
     "metadata": {},
     "output_type": "execute_result"
    }
   ],
   "source": [
    "157871 / 8273"
   ]
  },
  {
   "cell_type": "code",
   "execution_count": 12,
   "metadata": {
    "id": "9sRyGK7gV5Oy"
   },
   "outputs": [],
   "source": [
    "import numpy as np\n",
    "import pandas as pd\n",
    "import matplotlib.pyplot as plt\n",
    "import itertools\n",
    "from sklearn.ensemble import IsolationForest\n",
    "from sklearn.neighbors import LocalOutlierFactor\n",
    "from sklearn import svm\n",
    "from sklearn.neighbors import NearestNeighbors\n",
    "import seaborn as sns\n",
    "\n",
    "\n",
    "from sklearn.metrics import classification_report\n",
    "from sklearn.metrics import confusion_matrix\n",
    "\n",
    "from sklearn.metrics import recall_score\n",
    "from sklearn.metrics import roc_auc_score\n",
    "from sklearn.model_selection import GridSearchCV\n",
    "from sklearn.metrics import make_scorer\n",
    "from sklearn.metrics import accuracy_score\n",
    "\n",
    "from sklearn.model_selection import train_test_split"
   ]
  },
  {
   "cell_type": "markdown",
   "metadata": {
    "id": "h0VhI_Yohn5v"
   },
   "source": [
    "## 1.1 Isolation Forest"
   ]
  },
  {
   "cell_type": "markdown",
   "metadata": {
    "id": "nWsHXjLbPcNa"
   },
   "source": [
    "How many lines should I draw to separate a point from the others? If the point is not in a dense region, it won't take that much lines even if we draw these lines randomly. This is the logic behind the Isolation Forest algorithm. It uses number of lines necessary to separate a point from others to calculate its anomaly score. The most basic (and actually incorrect) way to think of this anomaly score is\n",
    "\n",
    "$AnomalyScore = e^{\\#Lines} $"
   ]
  },
  {
   "cell_type": "markdown",
   "metadata": {
    "id": "VGnCZb2kghyf"
   },
   "source": [
    "Normals are encoded as 1, anomalies are encoded as -1. Use this version if you want to apply Isolation Forest or Local Outlier Factor."
   ]
  },
  {
   "cell_type": "markdown",
   "metadata": {
    "id": "-diWExxfcH8j"
   },
   "source": [
    "- n_estimators, default=100: The number of base estimators in the ensemble.\n",
    "- max_samples “auto”, int or float, default=”auto”: The number of samples to draw from X to train each base estimator\n",
    "- contamination ‘auto’ or float, default=’auto’: The amount of contamination of the data set, i.e. the proportion of outliers in the data set. Used when fitting to define the threshold on the scores of the samples.\n",
    "- max_features int or float, default=1.0: The number of features to draw from X to train each base estimator.\n"
   ]
  },
  {
   "cell_type": "code",
   "execution_count": null,
   "metadata": {
    "colab": {
     "base_uri": "https://localhost:8080/"
    },
    "id": "QcZqbLtJ3RgW",
    "outputId": "036cdb1e-d308-4fa3-9e69-8f2a227aa417"
   },
   "outputs": [
    {
     "name": "stderr",
     "output_type": "stream",
     "text": [
      "/usr/local/lib/python3.6/dist-packages/ipykernel_launcher.py:1: SettingWithCopyWarning: \n",
      "A value is trying to be set on a copy of a slice from a DataFrame.\n",
      "Try using .loc[row_indexer,col_indexer] = value instead\n",
      "\n",
      "See the caveats in the documentation: https://pandas.pydata.org/pandas-docs/stable/user_guide/indexing.html#returning-a-view-versus-a-copy\n",
      "  \"\"\"Entry point for launching an IPython kernel.\n",
      "/usr/local/lib/python3.6/dist-packages/ipykernel_launcher.py:2: SettingWithCopyWarning: \n",
      "A value is trying to be set on a copy of a slice from a DataFrame.\n",
      "Try using .loc[row_indexer,col_indexer] = value instead\n",
      "\n",
      "See the caveats in the documentation: https://pandas.pydata.org/pandas-docs/stable/user_guide/indexing.html#returning-a-view-versus-a-copy\n",
      "  \n"
     ]
    }
   ],
   "source": [
    "kdd_train_probe['Type_Groups'] = np.where(kdd_train_probe['Type_Groups'] == 'Normal', 1, -1)\n",
    "kdd_test_probe['Type_Groups'] = np.where(kdd_test_probe['Type_Groups'] == 'Normal', 1, -1)"
   ]
  },
  {
   "cell_type": "code",
   "execution_count": null,
   "metadata": {
    "id": "hPRl1mULdBK8"
   },
   "outputs": [],
   "source": [
    "x_train = kdd_train_probe.drop(['Type_Groups'], axis = 1)\n",
    "y_train = kdd_train_probe['Type_Groups']"
   ]
  },
  {
   "cell_type": "code",
   "execution_count": null,
   "metadata": {
    "id": "xTk1whWyiSr9"
   },
   "outputs": [],
   "source": [
    "x_test = kdd_test_probe.drop(['Type_Groups'], axis = 1)\n",
    "y_test = kdd_test_probe['Type_Groups']"
   ]
  },
  {
   "cell_type": "code",
   "execution_count": null,
   "metadata": {
    "id": "tkh6vw8tdh8A"
   },
   "outputs": [],
   "source": [
    "clfIF = IsolationForest(max_samples=0.25, random_state=11, contamination=0.15, n_estimators=100, n_jobs=-1)"
   ]
  },
  {
   "cell_type": "code",
   "execution_count": null,
   "metadata": {
    "colab": {
     "base_uri": "https://localhost:8080/"
    },
    "id": "kHrohm2_dmap",
    "outputId": "acb3c5b2-46c1-4305-fc10-788a887149b1"
   },
   "outputs": [
    {
     "data": {
      "text/plain": [
       "IsolationForest(behaviour='deprecated', bootstrap=False, contamination=0.15,\n",
       "                max_features=1.0, max_samples=0.25, n_estimators=100, n_jobs=-1,\n",
       "                random_state=11, verbose=0, warm_start=False)"
      ]
     },
     "execution_count": 17,
     "metadata": {
      "tags": []
     },
     "output_type": "execute_result"
    }
   ],
   "source": [
    "clfIF.fit(x_train, y_train)"
   ]
  },
  {
   "cell_type": "code",
   "execution_count": null,
   "metadata": {
    "id": "euBiTJ5LeGl8"
   },
   "outputs": [],
   "source": [
    "y_pred_train = clfIF.predict(x_train)"
   ]
  },
  {
   "cell_type": "code",
   "execution_count": null,
   "metadata": {
    "colab": {
     "base_uri": "https://localhost:8080/"
    },
    "id": "goT-4ZQBfL1H",
    "outputId": "33afdd7c-0633-456e-8771-35f83c6c6e90"
   },
   "outputs": [
    {
     "data": {
      "text/plain": [
       "array([-1,  1])"
      ]
     },
     "execution_count": 19,
     "metadata": {
      "tags": []
     },
     "output_type": "execute_result"
    }
   ],
   "source": [
    "np.unique(y_pred_train)"
   ]
  },
  {
   "cell_type": "code",
   "execution_count": null,
   "metadata": {
    "colab": {
     "base_uri": "https://localhost:8080/"
    },
    "id": "TxmfACrjeNl8",
    "outputId": "f1fd6e32-59c1-4552-e7c5-952194c96ca5"
   },
   "outputs": [
    {
     "data": {
      "text/plain": [
       "array([[ 3996,   111],\n",
       "       [11212, 86066]])"
      ]
     },
     "execution_count": 20,
     "metadata": {
      "tags": []
     },
     "output_type": "execute_result"
    }
   ],
   "source": [
    "conf_matrix = confusion_matrix(y_train, y_pred_train)\n",
    "conf_matrix"
   ]
  },
  {
   "cell_type": "code",
   "execution_count": null,
   "metadata": {
    "id": "TJJDsmz7iNAR"
   },
   "outputs": [],
   "source": [
    "y_pred_test_if = clfIF.predict(x_test)\n",
    "conf_matrix_if_test = confusion_matrix(y_test, y_pred_test_if)"
   ]
  },
  {
   "cell_type": "code",
   "execution_count": 45,
   "metadata": {
    "colab": {
     "base_uri": "https://localhost:8080/"
    },
    "id": "8BM4PcCElPf6",
    "outputId": "e7cb4cab-b637-45e5-bd69-b5499cfc0f10"
   },
   "outputs": [
    {
     "ename": "NameError",
     "evalue": "name 'conf_matrix_if_test' is not defined",
     "output_type": "error",
     "traceback": [
      "\u001b[0;31m---------------------------------------------------------------------------\u001b[0m",
      "\u001b[0;31mNameError\u001b[0m                                 Traceback (most recent call last)",
      "\u001b[0;32m/var/folders/6j/xfjz279j5w73v97s3944dbj80000gn/T/ipykernel_5422/3273571125.py\u001b[0m in \u001b[0;36m<module>\u001b[0;34m\u001b[0m\n\u001b[0;32m----> 1\u001b[0;31m \u001b[0mconf_matrix_if_test\u001b[0m\u001b[0;34m\u001b[0m\u001b[0;34m\u001b[0m\u001b[0m\n\u001b[0m",
      "\u001b[0;31mNameError\u001b[0m: name 'conf_matrix_if_test' is not defined"
     ]
    }
   ],
   "source": [
    "conf_matrix_if_test"
   ]
  },
  {
   "cell_type": "code",
   "execution_count": null,
   "metadata": {
    "colab": {
     "base_uri": "https://localhost:8080/"
    },
    "id": "5gNlUF0DmtoO",
    "outputId": "e7bd78a8-c236-46dc-8a22-c21fd01269b9"
   },
   "outputs": [
    {
     "name": "stdout",
     "output_type": "stream",
     "text": [
      "              precision    recall  f1-score   support\n",
      "\n",
      "          -1       0.34      1.00      0.50      4166\n",
      "           1       1.00      0.86      0.93     60593\n",
      "\n",
      "    accuracy                           0.87     64759\n",
      "   macro avg       0.67      0.93      0.72     64759\n",
      "weighted avg       0.96      0.87      0.90     64759\n",
      "\n"
     ]
    }
   ],
   "source": [
    "print(classification_report(y_test, y_pred_test_if))"
   ]
  },
  {
   "cell_type": "markdown",
   "metadata": {
    "id": "oDNzbAGJhd4I"
   },
   "source": [
    "## 1.3 Local Outlier Factor"
   ]
  },
  {
   "cell_type": "code",
   "execution_count": null,
   "metadata": {},
   "outputs": [],
   "source": [
    "from sklearn.preprocessing import StandardScaler\n",
    "## density based methods works better with scaling\n",
    "std_scale = StandardScaler()\n",
    "kdd[['src_bytes']]=std_scale.fit_transform(kdd[['src_bytes']])"
   ]
  },
  {
   "cell_type": "code",
   "execution_count": null,
   "metadata": {
    "id": "KxpmhajEhGyL"
   },
   "outputs": [],
   "source": [
    "clfLOF = LocalOutlierFactor(n_neighbors=2, metric='euclidean', algorithm='auto', contamination=0.15, n_jobs=-1)\n",
    "clfLOF.fit(x_train, y_train)"
   ]
  },
  {
   "cell_type": "code",
   "execution_count": null,
   "metadata": {
    "id": "2fO9j-HPh3Fi"
   },
   "outputs": [],
   "source": [
    "y_pred_train_lof = clfLOF.fit_predict(x_train, y_train)"
   ]
  },
  {
   "cell_type": "code",
   "execution_count": null,
   "metadata": {
    "colab": {
     "base_uri": "https://localhost:8080/",
     "height": 51
    },
    "id": "brYaF_LgjX72",
    "outputId": "1fb9f3e8-06d7-4b78-9523-f34b8b5dbb7e"
   },
   "outputs": [
    {
     "data": {
      "text/plain": [
       "array([[  546,  3561],\n",
       "       [14662, 82616]])"
      ]
     },
     "execution_count": 70,
     "metadata": {
      "tags": []
     },
     "output_type": "execute_result"
    }
   ],
   "source": [
    "conf_matrix_lof = confusion_matrix(y_train, y_pred_train_lof)\n",
    "conf_matrix_lof"
   ]
  },
  {
   "cell_type": "code",
   "execution_count": null,
   "metadata": {
    "colab": {
     "base_uri": "https://localhost:8080/",
     "height": 51
    },
    "id": "fMymZ_MNlG1O",
    "outputId": "c91baf3f-41ce-43db-94e7-7aa137b4b2eb"
   },
   "outputs": [
    {
     "data": {
      "text/plain": [
       "array([[ 1082,  3084],\n",
       "       [ 8632, 51961]])"
      ]
     },
     "execution_count": 74,
     "metadata": {
      "tags": []
     },
     "output_type": "execute_result"
    }
   ],
   "source": [
    "y_pred_test_lof = clfLOF.fit_predict(x_test, y_test)\n",
    "conf_matrix_lof_test = confusion_matrix(y_test, y_pred_test_lof)\n",
    "conf_matrix_lof_test"
   ]
  },
  {
   "cell_type": "code",
   "execution_count": null,
   "metadata": {
    "colab": {
     "base_uri": "https://localhost:8080/",
     "height": 170
    },
    "id": "oQHzcfiRlmP0",
    "outputId": "d1722fd8-3782-4aaf-d336-a23bb4296acf"
   },
   "outputs": [
    {
     "name": "stdout",
     "output_type": "stream",
     "text": [
      "              precision    recall  f1-score   support\n",
      "\n",
      "          -1       0.11      0.26      0.16      4166\n",
      "           1       0.94      0.86      0.90     60593\n",
      "\n",
      "    accuracy                           0.82     64759\n",
      "   macro avg       0.53      0.56      0.53     64759\n",
      "weighted avg       0.89      0.82      0.85     64759\n",
      "\n"
     ]
    }
   ],
   "source": [
    "print(classification_report(y_test, y_pred_test_lof))"
   ]
  },
  {
   "cell_type": "markdown",
   "metadata": {
    "id": "FrY00ZRxn9lS"
   },
   "source": [
    "## 1.4 Autoencoder"
   ]
  },
  {
   "cell_type": "code",
   "execution_count": null,
   "metadata": {
    "id": "QzQ5iH-OpgQP"
   },
   "outputs": [],
   "source": [
    "import pickle\n",
    "from scipy import stats\n",
    "import tensorflow as tf\n",
    "from pylab import rcParams\n",
    "from sklearn.model_selection import train_test_split\n",
    "from keras.models import Model, load_model\n",
    "from keras.layers import Input, Dense\n",
    "from keras.callbacks import ModelCheckpoint, TensorBoard\n",
    "from keras import regularizers"
   ]
  },
  {
   "cell_type": "markdown",
   "metadata": {
    "id": "6qZu26TppGkF"
   },
   "source": [
    "## 1.4.1 Probing Attack Detection"
   ]
  },
  {
   "cell_type": "code",
   "execution_count": 17,
   "metadata": {
    "colab": {
     "base_uri": "https://localhost:8080/"
    },
    "id": "8YwMEh2B3cRg",
    "outputId": "5ae444d3-304c-4642-bf88-29094f7b12e4"
   },
   "outputs": [
    {
     "name": "stderr",
     "output_type": "stream",
     "text": [
      "/usr/local/lib/python3.7/dist-packages/ipykernel_launcher.py:4: SettingWithCopyWarning: \n",
      "A value is trying to be set on a copy of a slice from a DataFrame.\n",
      "Try using .loc[row_indexer,col_indexer] = value instead\n",
      "\n",
      "See the caveats in the documentation: https://pandas.pydata.org/pandas-docs/stable/user_guide/indexing.html#returning-a-view-versus-a-copy\n",
      "  after removing the cwd from sys.path.\n",
      "/usr/local/lib/python3.7/dist-packages/ipykernel_launcher.py:5: SettingWithCopyWarning: \n",
      "A value is trying to be set on a copy of a slice from a DataFrame.\n",
      "Try using .loc[row_indexer,col_indexer] = value instead\n",
      "\n",
      "See the caveats in the documentation: https://pandas.pydata.org/pandas-docs/stable/user_guide/indexing.html#returning-a-view-versus-a-copy\n",
      "  \"\"\"\n"
     ]
    }
   ],
   "source": [
    "kdd_train_probe = kdd_train[(kdd_train.Type_Groups == 'Normal') | (kdd_train.Type_Groups == 'Probe')]\n",
    "kdd_test_probe = kdd_test[(kdd_test.Type_Groups == 'Normal') | (kdd_test.Type_Groups == 'Probe')]\n",
    "\n",
    "kdd_train_probe['Type_Groups'] = np.where(kdd_train_probe['Type_Groups'] == 'Normal', 0, 1)\n",
    "kdd_test_probe['Type_Groups'] = np.where(kdd_test_probe['Type_Groups'] == 'Normal', 0, 1)"
   ]
  },
  {
   "cell_type": "markdown",
   "metadata": {
    "id": "PEijPpzhXh5t"
   },
   "source": [
    "## We need to create Validation Test"
   ]
  },
  {
   "cell_type": "code",
   "execution_count": null,
   "metadata": {
    "colab": {
     "base_uri": "https://localhost:8080/",
     "height": 162
    },
    "id": "RXYZxz5DXmat",
    "outputId": "ccdb4279-f983-455a-8171-254c4d25e4e0"
   },
   "outputs": [
    {
     "data": {
      "text/html": [
       "<div>\n",
       "<style scoped>\n",
       "    .dataframe tbody tr th:only-of-type {\n",
       "        vertical-align: middle;\n",
       "    }\n",
       "\n",
       "    .dataframe tbody tr th {\n",
       "        vertical-align: top;\n",
       "    }\n",
       "\n",
       "    .dataframe thead th {\n",
       "        text-align: right;\n",
       "    }\n",
       "</style>\n",
       "<table border=\"1\" class=\"dataframe\">\n",
       "  <thead>\n",
       "    <tr style=\"text-align: right;\">\n",
       "      <th></th>\n",
       "      <th>Duration</th>\n",
       "      <th>src_bytes</th>\n",
       "      <th>dst_bytes</th>\n",
       "      <th>land</th>\n",
       "      <th>wrong_fragment</th>\n",
       "      <th>urgent</th>\n",
       "      <th>hot</th>\n",
       "      <th>num_failed</th>\n",
       "      <th>logged_in</th>\n",
       "      <th>num_compromised</th>\n",
       "      <th>root_shell</th>\n",
       "      <th>su_attempted</th>\n",
       "      <th>num_root</th>\n",
       "      <th>num_file_creations</th>\n",
       "      <th>num_shells</th>\n",
       "      <th>num_access_files</th>\n",
       "      <th>num_outbound_cmds</th>\n",
       "      <th>is_host_login</th>\n",
       "      <th>is_guest_login</th>\n",
       "      <th>count</th>\n",
       "      <th>srv_count</th>\n",
       "      <th>serror_rate</th>\n",
       "      <th>srv_error_rate</th>\n",
       "      <th>rerror_rate</th>\n",
       "      <th>srv_rerror_rate</th>\n",
       "      <th>same_srv_rate</th>\n",
       "      <th>diff_srv_rate</th>\n",
       "      <th>srv_diff_host_rate</th>\n",
       "      <th>dst_host_count</th>\n",
       "      <th>dst_host_srv_count</th>\n",
       "      <th>dst_host_same_srv_rate</th>\n",
       "      <th>dst_host_diff_srv_rate</th>\n",
       "      <th>dst_host_same_src_port_rate</th>\n",
       "      <th>dst_host_srv_diff_host_rate</th>\n",
       "      <th>dst_host_serror_rate</th>\n",
       "      <th>dst_host_srv_serror_rate</th>\n",
       "      <th>dst_host_rerror_rate</th>\n",
       "      <th>dst_host_srv_rerror_rate</th>\n",
       "    </tr>\n",
       "    <tr>\n",
       "      <th>Type_Groups</th>\n",
       "      <th></th>\n",
       "      <th></th>\n",
       "      <th></th>\n",
       "      <th></th>\n",
       "      <th></th>\n",
       "      <th></th>\n",
       "      <th></th>\n",
       "      <th></th>\n",
       "      <th></th>\n",
       "      <th></th>\n",
       "      <th></th>\n",
       "      <th></th>\n",
       "      <th></th>\n",
       "      <th></th>\n",
       "      <th></th>\n",
       "      <th></th>\n",
       "      <th></th>\n",
       "      <th></th>\n",
       "      <th></th>\n",
       "      <th></th>\n",
       "      <th></th>\n",
       "      <th></th>\n",
       "      <th></th>\n",
       "      <th></th>\n",
       "      <th></th>\n",
       "      <th></th>\n",
       "      <th></th>\n",
       "      <th></th>\n",
       "      <th></th>\n",
       "      <th></th>\n",
       "      <th></th>\n",
       "      <th></th>\n",
       "      <th></th>\n",
       "      <th></th>\n",
       "      <th></th>\n",
       "      <th></th>\n",
       "      <th></th>\n",
       "      <th></th>\n",
       "    </tr>\n",
       "  </thead>\n",
       "  <tbody>\n",
       "    <tr>\n",
       "      <th>0</th>\n",
       "      <td>60593</td>\n",
       "      <td>60593</td>\n",
       "      <td>60593</td>\n",
       "      <td>60593</td>\n",
       "      <td>60593</td>\n",
       "      <td>60593</td>\n",
       "      <td>60593</td>\n",
       "      <td>60593</td>\n",
       "      <td>60593</td>\n",
       "      <td>60593</td>\n",
       "      <td>60593</td>\n",
       "      <td>60593</td>\n",
       "      <td>60593</td>\n",
       "      <td>60593</td>\n",
       "      <td>60593</td>\n",
       "      <td>60593</td>\n",
       "      <td>60593</td>\n",
       "      <td>60593</td>\n",
       "      <td>60593</td>\n",
       "      <td>60593</td>\n",
       "      <td>60593</td>\n",
       "      <td>60593</td>\n",
       "      <td>60593</td>\n",
       "      <td>60593</td>\n",
       "      <td>60593</td>\n",
       "      <td>60593</td>\n",
       "      <td>60593</td>\n",
       "      <td>60593</td>\n",
       "      <td>60593</td>\n",
       "      <td>60593</td>\n",
       "      <td>60593</td>\n",
       "      <td>60593</td>\n",
       "      <td>60593</td>\n",
       "      <td>60593</td>\n",
       "      <td>60593</td>\n",
       "      <td>60593</td>\n",
       "      <td>60593</td>\n",
       "      <td>60593</td>\n",
       "    </tr>\n",
       "    <tr>\n",
       "      <th>1</th>\n",
       "      <td>4166</td>\n",
       "      <td>4166</td>\n",
       "      <td>4166</td>\n",
       "      <td>4166</td>\n",
       "      <td>4166</td>\n",
       "      <td>4166</td>\n",
       "      <td>4166</td>\n",
       "      <td>4166</td>\n",
       "      <td>4166</td>\n",
       "      <td>4166</td>\n",
       "      <td>4166</td>\n",
       "      <td>4166</td>\n",
       "      <td>4166</td>\n",
       "      <td>4166</td>\n",
       "      <td>4166</td>\n",
       "      <td>4166</td>\n",
       "      <td>4166</td>\n",
       "      <td>4166</td>\n",
       "      <td>4166</td>\n",
       "      <td>4166</td>\n",
       "      <td>4166</td>\n",
       "      <td>4166</td>\n",
       "      <td>4166</td>\n",
       "      <td>4166</td>\n",
       "      <td>4166</td>\n",
       "      <td>4166</td>\n",
       "      <td>4166</td>\n",
       "      <td>4166</td>\n",
       "      <td>4166</td>\n",
       "      <td>4166</td>\n",
       "      <td>4166</td>\n",
       "      <td>4166</td>\n",
       "      <td>4166</td>\n",
       "      <td>4166</td>\n",
       "      <td>4166</td>\n",
       "      <td>4166</td>\n",
       "      <td>4166</td>\n",
       "      <td>4166</td>\n",
       "    </tr>\n",
       "  </tbody>\n",
       "</table>\n",
       "</div>"
      ],
      "text/plain": [
       "             Duration  ...  dst_host_srv_rerror_rate\n",
       "Type_Groups            ...                          \n",
       "0               60593  ...                     60593\n",
       "1                4166  ...                      4166\n",
       "\n",
       "[2 rows x 38 columns]"
      ]
     },
     "execution_count": 12,
     "metadata": {
      "tags": []
     },
     "output_type": "execute_result"
    }
   ],
   "source": [
    "kdd_test_probe.groupby('Type_Groups').count()"
   ]
  },
  {
   "cell_type": "code",
   "execution_count": null,
   "metadata": {
    "colab": {
     "base_uri": "https://localhost:8080/",
     "height": 162
    },
    "id": "K_uA_W-XX67U",
    "outputId": "7dadd279-381f-411a-ad5f-2ca666d28612"
   },
   "outputs": [
    {
     "data": {
      "text/html": [
       "<div>\n",
       "<style scoped>\n",
       "    .dataframe tbody tr th:only-of-type {\n",
       "        vertical-align: middle;\n",
       "    }\n",
       "\n",
       "    .dataframe tbody tr th {\n",
       "        vertical-align: top;\n",
       "    }\n",
       "\n",
       "    .dataframe thead th {\n",
       "        text-align: right;\n",
       "    }\n",
       "</style>\n",
       "<table border=\"1\" class=\"dataframe\">\n",
       "  <thead>\n",
       "    <tr style=\"text-align: right;\">\n",
       "      <th></th>\n",
       "      <th>Duration</th>\n",
       "      <th>src_bytes</th>\n",
       "      <th>dst_bytes</th>\n",
       "      <th>land</th>\n",
       "      <th>wrong_fragment</th>\n",
       "      <th>urgent</th>\n",
       "      <th>hot</th>\n",
       "      <th>num_failed</th>\n",
       "      <th>logged_in</th>\n",
       "      <th>num_compromised</th>\n",
       "      <th>root_shell</th>\n",
       "      <th>su_attempted</th>\n",
       "      <th>num_root</th>\n",
       "      <th>num_file_creations</th>\n",
       "      <th>num_shells</th>\n",
       "      <th>num_access_files</th>\n",
       "      <th>num_outbound_cmds</th>\n",
       "      <th>is_host_login</th>\n",
       "      <th>is_guest_login</th>\n",
       "      <th>count</th>\n",
       "      <th>srv_count</th>\n",
       "      <th>serror_rate</th>\n",
       "      <th>srv_error_rate</th>\n",
       "      <th>rerror_rate</th>\n",
       "      <th>srv_rerror_rate</th>\n",
       "      <th>same_srv_rate</th>\n",
       "      <th>diff_srv_rate</th>\n",
       "      <th>srv_diff_host_rate</th>\n",
       "      <th>dst_host_count</th>\n",
       "      <th>dst_host_srv_count</th>\n",
       "      <th>dst_host_same_srv_rate</th>\n",
       "      <th>dst_host_diff_srv_rate</th>\n",
       "      <th>dst_host_same_src_port_rate</th>\n",
       "      <th>dst_host_srv_diff_host_rate</th>\n",
       "      <th>dst_host_serror_rate</th>\n",
       "      <th>dst_host_srv_serror_rate</th>\n",
       "      <th>dst_host_rerror_rate</th>\n",
       "      <th>dst_host_srv_rerror_rate</th>\n",
       "    </tr>\n",
       "    <tr>\n",
       "      <th>Type_Groups</th>\n",
       "      <th></th>\n",
       "      <th></th>\n",
       "      <th></th>\n",
       "      <th></th>\n",
       "      <th></th>\n",
       "      <th></th>\n",
       "      <th></th>\n",
       "      <th></th>\n",
       "      <th></th>\n",
       "      <th></th>\n",
       "      <th></th>\n",
       "      <th></th>\n",
       "      <th></th>\n",
       "      <th></th>\n",
       "      <th></th>\n",
       "      <th></th>\n",
       "      <th></th>\n",
       "      <th></th>\n",
       "      <th></th>\n",
       "      <th></th>\n",
       "      <th></th>\n",
       "      <th></th>\n",
       "      <th></th>\n",
       "      <th></th>\n",
       "      <th></th>\n",
       "      <th></th>\n",
       "      <th></th>\n",
       "      <th></th>\n",
       "      <th></th>\n",
       "      <th></th>\n",
       "      <th></th>\n",
       "      <th></th>\n",
       "      <th></th>\n",
       "      <th></th>\n",
       "      <th></th>\n",
       "      <th></th>\n",
       "      <th></th>\n",
       "      <th></th>\n",
       "    </tr>\n",
       "  </thead>\n",
       "  <tbody>\n",
       "    <tr>\n",
       "      <th>0</th>\n",
       "      <td>18756</td>\n",
       "      <td>18756</td>\n",
       "      <td>18756</td>\n",
       "      <td>18756</td>\n",
       "      <td>18756</td>\n",
       "      <td>18756</td>\n",
       "      <td>18756</td>\n",
       "      <td>18756</td>\n",
       "      <td>18756</td>\n",
       "      <td>18756</td>\n",
       "      <td>18756</td>\n",
       "      <td>18756</td>\n",
       "      <td>18756</td>\n",
       "      <td>18756</td>\n",
       "      <td>18756</td>\n",
       "      <td>18756</td>\n",
       "      <td>18756</td>\n",
       "      <td>18756</td>\n",
       "      <td>18756</td>\n",
       "      <td>18756</td>\n",
       "      <td>18756</td>\n",
       "      <td>18756</td>\n",
       "      <td>18756</td>\n",
       "      <td>18756</td>\n",
       "      <td>18756</td>\n",
       "      <td>18756</td>\n",
       "      <td>18756</td>\n",
       "      <td>18756</td>\n",
       "      <td>18756</td>\n",
       "      <td>18756</td>\n",
       "      <td>18756</td>\n",
       "      <td>18756</td>\n",
       "      <td>18756</td>\n",
       "      <td>18756</td>\n",
       "      <td>18756</td>\n",
       "      <td>18756</td>\n",
       "      <td>18756</td>\n",
       "      <td>18756</td>\n",
       "    </tr>\n",
       "    <tr>\n",
       "      <th>1</th>\n",
       "      <td>1244</td>\n",
       "      <td>1244</td>\n",
       "      <td>1244</td>\n",
       "      <td>1244</td>\n",
       "      <td>1244</td>\n",
       "      <td>1244</td>\n",
       "      <td>1244</td>\n",
       "      <td>1244</td>\n",
       "      <td>1244</td>\n",
       "      <td>1244</td>\n",
       "      <td>1244</td>\n",
       "      <td>1244</td>\n",
       "      <td>1244</td>\n",
       "      <td>1244</td>\n",
       "      <td>1244</td>\n",
       "      <td>1244</td>\n",
       "      <td>1244</td>\n",
       "      <td>1244</td>\n",
       "      <td>1244</td>\n",
       "      <td>1244</td>\n",
       "      <td>1244</td>\n",
       "      <td>1244</td>\n",
       "      <td>1244</td>\n",
       "      <td>1244</td>\n",
       "      <td>1244</td>\n",
       "      <td>1244</td>\n",
       "      <td>1244</td>\n",
       "      <td>1244</td>\n",
       "      <td>1244</td>\n",
       "      <td>1244</td>\n",
       "      <td>1244</td>\n",
       "      <td>1244</td>\n",
       "      <td>1244</td>\n",
       "      <td>1244</td>\n",
       "      <td>1244</td>\n",
       "      <td>1244</td>\n",
       "      <td>1244</td>\n",
       "      <td>1244</td>\n",
       "    </tr>\n",
       "  </tbody>\n",
       "</table>\n",
       "</div>"
      ],
      "text/plain": [
       "             Duration  ...  dst_host_srv_rerror_rate\n",
       "Type_Groups            ...                          \n",
       "0               18756  ...                     18756\n",
       "1                1244  ...                      1244\n",
       "\n",
       "[2 rows x 38 columns]"
      ]
     },
     "execution_count": 13,
     "metadata": {
      "tags": []
     },
     "output_type": "execute_result"
    }
   ],
   "source": [
    "kdd_test_probe.iloc[14000:34000,:].groupby('Type_Groups').count()"
   ]
  },
  {
   "cell_type": "code",
   "execution_count": null,
   "metadata": {
    "id": "0NnV4TglYmJD"
   },
   "outputs": [],
   "source": [
    "kdd_valid_probe = kdd_test_probe.iloc[14000:34000,:]"
   ]
  },
  {
   "cell_type": "code",
   "execution_count": null,
   "metadata": {
    "id": "E_AkIPVsZeBL"
   },
   "outputs": [],
   "source": [
    "kdd_test_v2_probe = pd.concat([kdd_test_probe.iloc[0:14000,:], kdd_test_probe.iloc[34001:64759,:]])"
   ]
  },
  {
   "cell_type": "code",
   "execution_count": null,
   "metadata": {
    "colab": {
     "base_uri": "https://localhost:8080/",
     "height": 162
    },
    "id": "firflwnBY1yR",
    "outputId": "4e4ce367-7a7d-4b8f-b75c-37192b183fa2"
   },
   "outputs": [
    {
     "data": {
      "text/html": [
       "<div>\n",
       "<style scoped>\n",
       "    .dataframe tbody tr th:only-of-type {\n",
       "        vertical-align: middle;\n",
       "    }\n",
       "\n",
       "    .dataframe tbody tr th {\n",
       "        vertical-align: top;\n",
       "    }\n",
       "\n",
       "    .dataframe thead th {\n",
       "        text-align: right;\n",
       "    }\n",
       "</style>\n",
       "<table border=\"1\" class=\"dataframe\">\n",
       "  <thead>\n",
       "    <tr style=\"text-align: right;\">\n",
       "      <th></th>\n",
       "      <th>Duration</th>\n",
       "      <th>src_bytes</th>\n",
       "      <th>dst_bytes</th>\n",
       "      <th>land</th>\n",
       "      <th>wrong_fragment</th>\n",
       "      <th>urgent</th>\n",
       "      <th>hot</th>\n",
       "      <th>num_failed</th>\n",
       "      <th>logged_in</th>\n",
       "      <th>num_compromised</th>\n",
       "      <th>root_shell</th>\n",
       "      <th>su_attempted</th>\n",
       "      <th>num_root</th>\n",
       "      <th>num_file_creations</th>\n",
       "      <th>num_shells</th>\n",
       "      <th>num_access_files</th>\n",
       "      <th>num_outbound_cmds</th>\n",
       "      <th>is_host_login</th>\n",
       "      <th>is_guest_login</th>\n",
       "      <th>count</th>\n",
       "      <th>srv_count</th>\n",
       "      <th>serror_rate</th>\n",
       "      <th>srv_error_rate</th>\n",
       "      <th>rerror_rate</th>\n",
       "      <th>srv_rerror_rate</th>\n",
       "      <th>same_srv_rate</th>\n",
       "      <th>diff_srv_rate</th>\n",
       "      <th>srv_diff_host_rate</th>\n",
       "      <th>dst_host_count</th>\n",
       "      <th>dst_host_srv_count</th>\n",
       "      <th>dst_host_same_srv_rate</th>\n",
       "      <th>dst_host_diff_srv_rate</th>\n",
       "      <th>dst_host_same_src_port_rate</th>\n",
       "      <th>dst_host_srv_diff_host_rate</th>\n",
       "      <th>dst_host_serror_rate</th>\n",
       "      <th>dst_host_srv_serror_rate</th>\n",
       "      <th>dst_host_rerror_rate</th>\n",
       "      <th>dst_host_srv_rerror_rate</th>\n",
       "    </tr>\n",
       "    <tr>\n",
       "      <th>Type_Groups</th>\n",
       "      <th></th>\n",
       "      <th></th>\n",
       "      <th></th>\n",
       "      <th></th>\n",
       "      <th></th>\n",
       "      <th></th>\n",
       "      <th></th>\n",
       "      <th></th>\n",
       "      <th></th>\n",
       "      <th></th>\n",
       "      <th></th>\n",
       "      <th></th>\n",
       "      <th></th>\n",
       "      <th></th>\n",
       "      <th></th>\n",
       "      <th></th>\n",
       "      <th></th>\n",
       "      <th></th>\n",
       "      <th></th>\n",
       "      <th></th>\n",
       "      <th></th>\n",
       "      <th></th>\n",
       "      <th></th>\n",
       "      <th></th>\n",
       "      <th></th>\n",
       "      <th></th>\n",
       "      <th></th>\n",
       "      <th></th>\n",
       "      <th></th>\n",
       "      <th></th>\n",
       "      <th></th>\n",
       "      <th></th>\n",
       "      <th></th>\n",
       "      <th></th>\n",
       "      <th></th>\n",
       "      <th></th>\n",
       "      <th></th>\n",
       "      <th></th>\n",
       "    </tr>\n",
       "  </thead>\n",
       "  <tbody>\n",
       "    <tr>\n",
       "      <th>0</th>\n",
       "      <td>41836</td>\n",
       "      <td>41836</td>\n",
       "      <td>41836</td>\n",
       "      <td>41836</td>\n",
       "      <td>41836</td>\n",
       "      <td>41836</td>\n",
       "      <td>41836</td>\n",
       "      <td>41836</td>\n",
       "      <td>41836</td>\n",
       "      <td>41836</td>\n",
       "      <td>41836</td>\n",
       "      <td>41836</td>\n",
       "      <td>41836</td>\n",
       "      <td>41836</td>\n",
       "      <td>41836</td>\n",
       "      <td>41836</td>\n",
       "      <td>41836</td>\n",
       "      <td>41836</td>\n",
       "      <td>41836</td>\n",
       "      <td>41836</td>\n",
       "      <td>41836</td>\n",
       "      <td>41836</td>\n",
       "      <td>41836</td>\n",
       "      <td>41836</td>\n",
       "      <td>41836</td>\n",
       "      <td>41836</td>\n",
       "      <td>41836</td>\n",
       "      <td>41836</td>\n",
       "      <td>41836</td>\n",
       "      <td>41836</td>\n",
       "      <td>41836</td>\n",
       "      <td>41836</td>\n",
       "      <td>41836</td>\n",
       "      <td>41836</td>\n",
       "      <td>41836</td>\n",
       "      <td>41836</td>\n",
       "      <td>41836</td>\n",
       "      <td>41836</td>\n",
       "    </tr>\n",
       "    <tr>\n",
       "      <th>1</th>\n",
       "      <td>2922</td>\n",
       "      <td>2922</td>\n",
       "      <td>2922</td>\n",
       "      <td>2922</td>\n",
       "      <td>2922</td>\n",
       "      <td>2922</td>\n",
       "      <td>2922</td>\n",
       "      <td>2922</td>\n",
       "      <td>2922</td>\n",
       "      <td>2922</td>\n",
       "      <td>2922</td>\n",
       "      <td>2922</td>\n",
       "      <td>2922</td>\n",
       "      <td>2922</td>\n",
       "      <td>2922</td>\n",
       "      <td>2922</td>\n",
       "      <td>2922</td>\n",
       "      <td>2922</td>\n",
       "      <td>2922</td>\n",
       "      <td>2922</td>\n",
       "      <td>2922</td>\n",
       "      <td>2922</td>\n",
       "      <td>2922</td>\n",
       "      <td>2922</td>\n",
       "      <td>2922</td>\n",
       "      <td>2922</td>\n",
       "      <td>2922</td>\n",
       "      <td>2922</td>\n",
       "      <td>2922</td>\n",
       "      <td>2922</td>\n",
       "      <td>2922</td>\n",
       "      <td>2922</td>\n",
       "      <td>2922</td>\n",
       "      <td>2922</td>\n",
       "      <td>2922</td>\n",
       "      <td>2922</td>\n",
       "      <td>2922</td>\n",
       "      <td>2922</td>\n",
       "    </tr>\n",
       "  </tbody>\n",
       "</table>\n",
       "</div>"
      ],
      "text/plain": [
       "             Duration  ...  dst_host_srv_rerror_rate\n",
       "Type_Groups            ...                          \n",
       "0               41836  ...                     41836\n",
       "1                2922  ...                      2922\n",
       "\n",
       "[2 rows x 38 columns]"
      ]
     },
     "execution_count": 16,
     "metadata": {
      "tags": []
     },
     "output_type": "execute_result"
    }
   ],
   "source": [
    "kdd_test_v2_probe.groupby('Type_Groups').count()"
   ]
  },
  {
   "cell_type": "markdown",
   "metadata": {
    "id": "iKgW7zMsecSp"
   },
   "source": [
    "Now that we obtained Train, Test and Validation sets, we can train our data and optimize the reconstruction error threshold using test set. Then, we will perform our actual prediction task by using Validation set."
   ]
  },
  {
   "cell_type": "code",
   "execution_count": null,
   "metadata": {
    "colab": {
     "base_uri": "https://localhost:8080/"
    },
    "id": "zZF3-B2GzG4H",
    "outputId": "bff13cfb-d57d-40fa-ef95-29ae77a536e4"
   },
   "outputs": [
    {
     "data": {
      "text/plain": [
       "(97278, 38)"
      ]
     },
     "execution_count": 17,
     "metadata": {
      "tags": []
     },
     "output_type": "execute_result"
    }
   ],
   "source": [
    "X_train, X_test = kdd_train_probe, kdd_test_v2_probe\n",
    "X_train = X_train[X_train.Type_Groups == 0]\n",
    "X_train = X_train.drop(['Type_Groups'], axis=1)\n",
    "y_test = X_test['Type_Groups']\n",
    "X_test = X_test.drop(['Type_Groups'], axis=1)\n",
    "X_train = X_train.values\n",
    "X_test = X_test.values\n",
    "X_train.shape"
   ]
  },
  {
   "cell_type": "code",
   "execution_count": null,
   "metadata": {
    "id": "ddmJ-5CSpPrw"
   },
   "outputs": [],
   "source": [
    "input_dim = X_train.shape[1]\n",
    "encoding_dim = 14\n",
    "input_layer = Input(shape=(input_dim, ))\n",
    "encoder = Dense(encoding_dim, activation=\"tanh\", \n",
    "                activity_regularizer=regularizers.l1(10e-5))(input_layer)\n",
    "encoder = Dense(int(encoding_dim / 2), activation=\"relu\")(encoder)\n",
    "decoder = Dense(int(encoding_dim), activation='tanh')(encoder)\n",
    "decoder = Dense(input_dim, activation='relu')(decoder)\n",
    "\n",
    "autoencoder_corr = Model(inputs=input_layer, outputs=decoder)"
   ]
  },
  {
   "cell_type": "code",
   "execution_count": null,
   "metadata": {
    "colab": {
     "base_uri": "https://localhost:8080/"
    },
    "id": "5CWGL4-b2umu",
    "outputId": "91d6bc5b-7fa4-4eaf-bb7a-c235171a66a4"
   },
   "outputs": [
    {
     "name": "stdout",
     "output_type": "stream",
     "text": [
      "Epoch 1/5\n",
      "973/973 [==============================] - 4s 3ms/step - loss: 0.4853 - accuracy: 0.4874 - val_loss: 0.6084 - val_accuracy: 0.6571\n",
      "Epoch 2/5\n",
      "973/973 [==============================] - 2s 2ms/step - loss: 0.2893 - accuracy: 0.8466 - val_loss: 0.5704 - val_accuracy: 0.6501\n",
      "Epoch 3/5\n",
      "973/973 [==============================] - 2s 2ms/step - loss: 0.2898 - accuracy: 0.8700 - val_loss: 0.5663 - val_accuracy: 0.6442\n",
      "Epoch 4/5\n",
      "973/973 [==============================] - 2s 2ms/step - loss: 0.2627 - accuracy: 0.8628 - val_loss: 0.5470 - val_accuracy: 0.5853\n",
      "Epoch 5/5\n",
      "973/973 [==============================] - 2s 2ms/step - loss: 0.2615 - accuracy: 0.8545 - val_loss: 0.5453 - val_accuracy: 0.6316\n"
     ]
    }
   ],
   "source": [
    "nb_epoch = 5\n",
    "batch_size = 100\n",
    "batch_index=0\n",
    "autoencoder_corr.compile(optimizer='adam', \n",
    "                    loss='mean_squared_error', \n",
    "                    metrics=['accuracy'])\n",
    "checkpointer = ModelCheckpoint(filepath=\"model.h5\",  #TO SAVE THE MODEL\n",
    "                               verbose=0,\n",
    "                               save_best_only=True)\n",
    "tensorboard = TensorBoard(log_dir='./logs',\n",
    "                          histogram_freq=0,\n",
    "                          write_graph=True,\n",
    "                          write_images=True)\n",
    "history = autoencoder_corr.fit(X_train, X_train, #INPUT AND EXPECTED OUTPUT ARE THE SAME.\n",
    "                    epochs=nb_epoch,\n",
    "                    batch_size=batch_size,\n",
    "                    shuffle=True,\n",
    "                    validation_data=(X_test, X_test),\n",
    "                    verbose=1,\n",
    "                    callbacks=[checkpointer, tensorboard]).history"
   ]
  },
  {
   "cell_type": "markdown",
   "metadata": {
    "id": "p1wb7_MsBO05"
   },
   "source": [
    "# Tune the threshold value using test set"
   ]
  },
  {
   "cell_type": "code",
   "execution_count": null,
   "metadata": {
    "colab": {
     "base_uri": "https://localhost:8080/",
     "height": 204
    },
    "id": "v_WijHwGBOjs",
    "outputId": "78964106-971b-4815-fa96-859d7bcac498"
   },
   "outputs": [
    {
     "data": {
      "text/html": [
       "<div>\n",
       "<style scoped>\n",
       "    .dataframe tbody tr th:only-of-type {\n",
       "        vertical-align: middle;\n",
       "    }\n",
       "\n",
       "    .dataframe tbody tr th {\n",
       "        vertical-align: top;\n",
       "    }\n",
       "\n",
       "    .dataframe thead th {\n",
       "        text-align: right;\n",
       "    }\n",
       "</style>\n",
       "<table border=\"1\" class=\"dataframe\">\n",
       "  <thead>\n",
       "    <tr style=\"text-align: right;\">\n",
       "      <th></th>\n",
       "      <th>reconstruction_error</th>\n",
       "      <th>true_class</th>\n",
       "    </tr>\n",
       "  </thead>\n",
       "  <tbody>\n",
       "    <tr>\n",
       "      <th>102563</th>\n",
       "      <td>0.065080</td>\n",
       "      <td>0</td>\n",
       "    </tr>\n",
       "    <tr>\n",
       "      <th>102564</th>\n",
       "      <td>0.065080</td>\n",
       "      <td>0</td>\n",
       "    </tr>\n",
       "    <tr>\n",
       "      <th>102565</th>\n",
       "      <td>0.065080</td>\n",
       "      <td>0</td>\n",
       "    </tr>\n",
       "    <tr>\n",
       "      <th>102569</th>\n",
       "      <td>0.653062</td>\n",
       "      <td>0</td>\n",
       "    </tr>\n",
       "    <tr>\n",
       "      <th>102570</th>\n",
       "      <td>0.064486</td>\n",
       "      <td>0</td>\n",
       "    </tr>\n",
       "  </tbody>\n",
       "</table>\n",
       "</div>"
      ],
      "text/plain": [
       "        reconstruction_error  true_class\n",
       "102563              0.065080           0\n",
       "102564              0.065080           0\n",
       "102565              0.065080           0\n",
       "102569              0.653062           0\n",
       "102570              0.064486           0"
      ]
     },
     "execution_count": 21,
     "metadata": {
      "tags": []
     },
     "output_type": "execute_result"
    }
   ],
   "source": [
    "predictions = autoencoder_corr.predict(X_test)\n",
    "mse = np.mean(np.power(X_test - predictions, 2), axis=1)\n",
    "error_df = pd.DataFrame({'reconstruction_error': mse,\n",
    "                        'true_class': y_test})\n",
    "error_df.head()"
   ]
  },
  {
   "cell_type": "code",
   "execution_count": null,
   "metadata": {
    "id": "NWhNe_P7BOVz"
   },
   "outputs": [],
   "source": [
    "threshold = np.arange(0, 1, 0.01)\n",
    "results = np.zeros(100)\n",
    "probe = np.zeros(100)\n",
    "i = 0\n",
    "for t in threshold:\n",
    "  y_pred = [1 if e > t else 0 for e in error_df.reconstruction_error.values]\n",
    "  conf_matrix = confusion_matrix(error_df.true_class, y_pred)\n",
    "  results[i] = (conf_matrix[0,0] + conf_matrix[1,1]) / 44758 #64759\n",
    "  probe[i] = conf_matrix[1,1] / 2922 #4166\n",
    "  i = i + 1"
   ]
  },
  {
   "cell_type": "code",
   "execution_count": null,
   "metadata": {
    "colab": {
     "base_uri": "https://localhost:8080/",
     "height": 282
    },
    "id": "6ZxbaJfHG24M",
    "outputId": "ab061fdf-1369-4f48-d1ca-9e6c83168e5e"
   },
   "outputs": [
    {
     "data": {
      "text/plain": [
       "[<matplotlib.lines.Line2D at 0x7fbd147906a0>]"
      ]
     },
     "execution_count": 44,
     "metadata": {
      "tags": []
     },
     "output_type": "execute_result"
    },
    {
     "data": {
      "image/png": "[encoded data removed]",
      "text/plain": [
       "<Figure size 432x288 with 1 Axes>"
      ]
     },
     "metadata": {
      "needs_background": "light",
      "tags": []
     },
     "output_type": "display_data"
    }
   ],
   "source": [
    "import matplotlib.pyplot as plt\n",
    "plt.plot(threshold, probe)"
   ]
  },
  {
   "cell_type": "code",
   "execution_count": null,
   "metadata": {
    "colab": {
     "base_uri": "https://localhost:8080/"
    },
    "id": "gU-cutBesUna",
    "outputId": "ff7a7478-7cf8-4031-beb4-bb1e9cc6f952"
   },
   "outputs": [
    {
     "data": {
      "text/plain": [
       "array([1.        , 1.        , 1.        , 1.        , 1.        ,\n",
       "       1.        , 1.        , 1.        , 1.        , 1.        ,\n",
       "       1.        , 1.        , 1.        , 1.        , 1.        ,\n",
       "       1.        , 1.        , 1.        , 1.        , 1.        ,\n",
       "       1.        , 1.        , 1.        , 1.        , 1.        ,\n",
       "       1.        , 1.        , 1.        , 1.        , 1.        ,\n",
       "       1.        , 1.        , 1.        , 1.        , 1.        ,\n",
       "       1.        , 1.        , 1.        , 1.        , 1.        ,\n",
       "       1.        , 1.        , 1.        , 1.        , 0.99931554,\n",
       "       0.99931554, 0.99931554, 0.99931554, 0.99931554, 0.99897331,\n",
       "       0.99897331, 0.99828884, 0.99828884, 0.99828884, 0.99794661,\n",
       "       0.99760438, 0.99726215, 0.99691992, 0.99691992, 0.99657769,\n",
       "       0.99486653, 0.9945243 , 0.99315537, 0.99212868, 0.99075975,\n",
       "       0.99075975, 0.99007529, 0.98973306, 0.9890486 , 0.9890486 ,\n",
       "       0.98870637, 0.98836413, 0.98733744, 0.98631075, 0.98631075,\n",
       "       0.98562628, 0.98494182, 0.98391513, 0.98391513, 0.98323066,\n",
       "       0.9825462 , 0.98220397, 0.98186174, 0.98117728, 0.98117728,\n",
       "       0.98083504, 0.98015058, 0.98015058, 0.97912389, 0.97843943,\n",
       "       0.97843943, 0.97741273, 0.97672827, 0.97604381, 0.97604381,\n",
       "       0.97570157, 0.97535934, 0.97501711, 0.97433265, 0.97433265])"
      ]
     },
     "execution_count": 23,
     "metadata": {
      "tags": []
     },
     "output_type": "execute_result"
    }
   ],
   "source": [
    "probe"
   ]
  },
  {
   "cell_type": "code",
   "execution_count": null,
   "metadata": {
    "id": "zm9H6m_-sWD8"
   },
   "outputs": [],
   "source": [
    "results"
   ]
  },
  {
   "cell_type": "code",
   "execution_count": null,
   "metadata": {
    "colab": {
     "base_uri": "https://localhost:8080/"
    },
    "id": "UlWYF4Cf3XLL",
    "outputId": "ddd7c227-9449-4a15-a6de-8d1270409b9d"
   },
   "outputs": [
    {
     "data": {
      "text/plain": [
       "array([[36569,  5267],\n",
       "       [    0,  2922]])"
      ]
     },
     "execution_count": 39,
     "metadata": {
      "tags": []
     },
     "output_type": "execute_result"
    }
   ],
   "source": [
    "threshold = 0.13 # 0.20 de iyi\n",
    "LABELS = [\"Normal\", \"Probing\"]\n",
    "y_pred = [1 if e > threshold else 0 for e in error_df.reconstruction_error.values]\n",
    "conf_matrix = confusion_matrix(error_df.true_class, y_pred)\n",
    "#plt.figure(figsize=(12, 12))\n",
    "#sns.heatmap(conf_matrix, xticklabels=LABELS, yticklabels=LABELS, annot=True, fmt=\"d\");\n",
    "#plt.title(\"Confusion matrix\")\n",
    "#plt.ylabel('True class')\n",
    "#plt.xlabel('Predicted class')\n",
    "#plt.show()\n",
    "conf_matrix"
   ]
  },
  {
   "cell_type": "code",
   "execution_count": 26,
   "metadata": {
    "id": "wJEkAmeC3v1v"
   },
   "outputs": [],
   "source": [
    "from sklearn.metrics import (confusion_matrix, precision_recall_curve, auc,\n",
    "                             roc_curve, recall_score, classification_report, f1_score,\n",
    "                             precision_recall_fscore_support)"
   ]
  },
  {
   "cell_type": "code",
   "execution_count": null,
   "metadata": {
    "colab": {
     "base_uri": "https://localhost:8080/",
     "height": 295
    },
    "id": "oyHacenx3VJu",
    "outputId": "9fcfdfc2-f907-40d3-bb4f-917f4eca04ad"
   },
   "outputs": [
    {
     "data": {
      "image/png": "[encoded data removed]",
      "text/plain": [
       "<Figure size 432x288 with 1 Axes>"
      ]
     },
     "metadata": {
      "needs_background": "light",
      "tags": []
     },
     "output_type": "display_data"
    }
   ],
   "source": [
    "fpr, tpr, thresholds = roc_curve(error_df.true_class, error_df.reconstruction_error)\n",
    "roc_auc = auc(fpr, tpr)\n",
    "\n",
    "plt.title('Receiver Operating Characteristic')\n",
    "plt.plot(fpr, tpr, label='AUC = %0.4f'% roc_auc)\n",
    "plt.legend(loc='lower right')\n",
    "plt.plot([0,1],[0,1],'r--')\n",
    "plt.xlim([-0.001, 1])\n",
    "plt.ylim([0, 1.001])\n",
    "plt.ylabel('True Positive Rate')\n",
    "plt.xlabel('False Positive Rate')\n",
    "plt.show();"
   ]
  },
  {
   "cell_type": "code",
   "execution_count": null,
   "metadata": {
    "colab": {
     "base_uri": "https://localhost:8080/",
     "height": 282
    },
    "id": "pS90TZJcHGGD",
    "outputId": "ac5ddb99-b422-4fc7-d15b-397b55499eff"
   },
   "outputs": [
    {
     "data": {
      "text/plain": [
       "[<matplotlib.lines.Line2D at 0x7fbd146fb160>]"
      ]
     },
     "execution_count": 45,
     "metadata": {
      "tags": []
     },
     "output_type": "execute_result"
    },
    {
     "data": {
      "image/png": "[encoded data removed]",
      "text/plain": [
       "<Figure size 432x288 with 1 Axes>"
      ]
     },
     "metadata": {
      "needs_background": "light",
      "tags": []
     },
     "output_type": "display_data"
    }
   ],
   "source": [
    "plt.plot(threshold, results)"
   ]
  },
  {
   "cell_type": "markdown",
   "metadata": {
    "id": "rXN_FzmBjUfP"
   },
   "source": [
    "Let's try if we can find a better threshold value between 0.14 and 0.18."
   ]
  },
  {
   "cell_type": "code",
   "execution_count": null,
   "metadata": {
    "id": "8kLPqf61BAf6"
   },
   "outputs": [],
   "source": [
    "threshold = np.arange(0.3, 0.5, 0.001)\n",
    "results = np.zeros(200)\n",
    "probe = np.zeros(200)\n",
    "i = 0\n",
    "for t in threshold:\n",
    "  y_pred = [1 if e > t else 0 for e in error_df.reconstruction_error.values]\n",
    "  conf_matrix = confusion_matrix(error_df.true_class, y_pred)\n",
    "  results[i] = (conf_matrix[0,0] + conf_matrix[1,1]) / 44758\n",
    "  probe[i] = conf_matrix[1,1] / 2922\n",
    "  i = i + 1"
   ]
  },
  {
   "cell_type": "code",
   "execution_count": null,
   "metadata": {
    "id": "zI558plHkG08"
   },
   "outputs": [],
   "source": [
    "threshold"
   ]
  },
  {
   "cell_type": "code",
   "execution_count": null,
   "metadata": {
    "id": "Cj9GcA5gkUrH"
   },
   "outputs": [],
   "source": [
    "probe"
   ]
  },
  {
   "cell_type": "code",
   "execution_count": null,
   "metadata": {
    "id": "cmJ2X6z7klyj"
   },
   "outputs": [],
   "source": [
    "results"
   ]
  },
  {
   "cell_type": "markdown",
   "metadata": {
    "id": "vydMN6zBmjDq"
   },
   "source": [
    "Let's fix our threshold value to 0.499 and apply it to Validation Set."
   ]
  },
  {
   "cell_type": "code",
   "execution_count": null,
   "metadata": {
    "id": "JvofCF2WmnyC"
   },
   "outputs": [],
   "source": [
    "X_valid = kdd_valid_probe\n",
    "y_valid = X_valid['Type_Groups']\n",
    "X_valid = X_valid.drop(['Type_Groups'], axis=1)\n",
    "X_valid = X_valid.values"
   ]
  },
  {
   "cell_type": "code",
   "execution_count": null,
   "metadata": {
    "colab": {
     "base_uri": "https://localhost:8080/",
     "height": 297
    },
    "id": "zc_9M1VNm38D",
    "outputId": "eca32605-5914-4e72-d1e7-7bcad0cdf0f9"
   },
   "outputs": [
    {
     "data": {
      "text/html": [
       "<div>\n",
       "<style scoped>\n",
       "    .dataframe tbody tr th:only-of-type {\n",
       "        vertical-align: middle;\n",
       "    }\n",
       "\n",
       "    .dataframe tbody tr th {\n",
       "        vertical-align: top;\n",
       "    }\n",
       "\n",
       "    .dataframe thead th {\n",
       "        text-align: right;\n",
       "    }\n",
       "</style>\n",
       "<table border=\"1\" class=\"dataframe\">\n",
       "  <thead>\n",
       "    <tr style=\"text-align: right;\">\n",
       "      <th></th>\n",
       "      <th>reconstruction_error</th>\n",
       "      <th>true_class</th>\n",
       "    </tr>\n",
       "  </thead>\n",
       "  <tbody>\n",
       "    <tr>\n",
       "      <th>count</th>\n",
       "      <td>20000.000000</td>\n",
       "      <td>20000.000000</td>\n",
       "    </tr>\n",
       "    <tr>\n",
       "      <th>mean</th>\n",
       "      <td>0.553160</td>\n",
       "      <td>0.062200</td>\n",
       "    </tr>\n",
       "    <tr>\n",
       "      <th>std</th>\n",
       "      <td>19.441038</td>\n",
       "      <td>0.241524</td>\n",
       "    </tr>\n",
       "    <tr>\n",
       "      <th>min</th>\n",
       "      <td>0.019957</td>\n",
       "      <td>0.000000</td>\n",
       "    </tr>\n",
       "    <tr>\n",
       "      <th>25%</th>\n",
       "      <td>0.041338</td>\n",
       "      <td>0.000000</td>\n",
       "    </tr>\n",
       "    <tr>\n",
       "      <th>50%</th>\n",
       "      <td>0.086328</td>\n",
       "      <td>0.000000</td>\n",
       "    </tr>\n",
       "    <tr>\n",
       "      <th>75%</th>\n",
       "      <td>0.131369</td>\n",
       "      <td>0.000000</td>\n",
       "    </tr>\n",
       "    <tr>\n",
       "      <th>max</th>\n",
       "      <td>1940.447577</td>\n",
       "      <td>1.000000</td>\n",
       "    </tr>\n",
       "  </tbody>\n",
       "</table>\n",
       "</div>"
      ],
      "text/plain": [
       "       reconstruction_error    true_class\n",
       "count          20000.000000  20000.000000\n",
       "mean               0.553160      0.062200\n",
       "std               19.441038      0.241524\n",
       "min                0.019957      0.000000\n",
       "25%                0.041338      0.000000\n",
       "50%                0.086328      0.000000\n",
       "75%                0.131369      0.000000\n",
       "max             1940.447577      1.000000"
      ]
     },
     "execution_count": 112,
     "metadata": {
      "tags": []
     },
     "output_type": "execute_result"
    }
   ],
   "source": [
    "predictions = autoencoder_corr.predict(X_valid)\n",
    "mse = np.mean(np.power(X_valid - predictions, 2), axis=1)\n",
    "error_df = pd.DataFrame({'reconstruction_error': mse,\n",
    "                        'true_class': y_valid})\n",
    "error_df.describe()"
   ]
  },
  {
   "cell_type": "code",
   "execution_count": null,
   "metadata": {
    "colab": {
     "base_uri": "https://localhost:8080/",
     "height": 51
    },
    "id": "Tb9UyZXmnA03",
    "outputId": "e0e6f281-8b93-43f1-e1f7-3e4c57f4d3aa"
   },
   "outputs": [
    {
     "data": {
      "text/plain": [
       "array([[18290,   466],\n",
       "       [   94,  1150]])"
      ]
     },
     "execution_count": 117,
     "metadata": {
      "tags": []
     },
     "output_type": "execute_result"
    }
   ],
   "source": [
    "threshold = 0.499 # 0.20 de iyi\n",
    "LABELS = [\"Normal\", \"Probing\"]\n",
    "y_pred = [1 if e > threshold else 0 for e in error_df.reconstruction_error.values]\n",
    "conf_matrix = confusion_matrix(error_df.true_class, y_pred)\n",
    "conf_matrix"
   ]
  },
  {
   "cell_type": "markdown",
   "metadata": {
    "id": "2a7efGoZLk1O"
   },
   "source": [
    "## XGBoosting"
   ]
  },
  {
   "cell_type": "code",
   "execution_count": 16,
   "metadata": {
    "id": "tzb8DuA_7GDw"
   },
   "outputs": [
    {
     "ename": "ModuleNotFoundError",
     "evalue": "No module named 'imblearn'",
     "output_type": "error",
     "traceback": [
      "\u001b[0;31m---------------------------------------------------------------------------\u001b[0m",
      "\u001b[0;31mModuleNotFoundError\u001b[0m                       Traceback (most recent call last)",
      "\u001b[0;32m/var/folders/6j/xfjz279j5w73v97s3944dbj80000gn/T/ipykernel_5422/3686472688.py\u001b[0m in \u001b[0;36m<module>\u001b[0;34m\u001b[0m\n\u001b[1;32m     10\u001b[0m \u001b[0;32mfrom\u001b[0m \u001b[0msklearn\u001b[0m\u001b[0;34m.\u001b[0m\u001b[0mmodel_selection\u001b[0m \u001b[0;32mimport\u001b[0m \u001b[0mGridSearchCV\u001b[0m\u001b[0;34m\u001b[0m\u001b[0;34m\u001b[0m\u001b[0m\n\u001b[1;32m     11\u001b[0m \u001b[0;32mfrom\u001b[0m \u001b[0msklearn\u001b[0m\u001b[0;34m.\u001b[0m\u001b[0mneural_network\u001b[0m \u001b[0;32mimport\u001b[0m \u001b[0mMLPClassifier\u001b[0m\u001b[0;34m\u001b[0m\u001b[0;34m\u001b[0m\u001b[0m\n\u001b[0;32m---> 12\u001b[0;31m \u001b[0;32mfrom\u001b[0m \u001b[0mimblearn\u001b[0m\u001b[0;34m.\u001b[0m\u001b[0mpipeline\u001b[0m \u001b[0;32mimport\u001b[0m \u001b[0mmake_pipeline\u001b[0m \u001b[0;32mas\u001b[0m \u001b[0mmake_pipeline_imb\u001b[0m\u001b[0;34m\u001b[0m\u001b[0;34m\u001b[0m\u001b[0m\n\u001b[0m\u001b[1;32m     13\u001b[0m \u001b[0;32mfrom\u001b[0m \u001b[0mimblearn\u001b[0m\u001b[0;34m.\u001b[0m\u001b[0mover_sampling\u001b[0m \u001b[0;32mimport\u001b[0m \u001b[0mSMOTE\u001b[0m\u001b[0;34m\u001b[0m\u001b[0;34m\u001b[0m\u001b[0m\n\u001b[1;32m     14\u001b[0m \u001b[0;32mfrom\u001b[0m \u001b[0mimblearn\u001b[0m\u001b[0;34m.\u001b[0m\u001b[0mmetrics\u001b[0m \u001b[0;32mimport\u001b[0m \u001b[0mclassification_report_imbalanced\u001b[0m\u001b[0;34m\u001b[0m\u001b[0;34m\u001b[0m\u001b[0m\n",
      "\u001b[0;31mModuleNotFoundError\u001b[0m: No module named 'imblearn'"
     ]
    }
   ],
   "source": [
    "from numpy import loadtxt\n",
    "from sklearn.metrics import accuracy_score\n",
    "import os\n",
    "from sklearn.preprocessing import StandardScaler\n",
    "from sklearn.model_selection import train_test_split\n",
    "from sklearn import metrics\n",
    "from sklearn.metrics import f1_score, roc_auc_score\n",
    "from sklearn.linear_model import LogisticRegression\n",
    "from sklearn.ensemble import RandomForestClassifier\n",
    "from sklearn.model_selection import GridSearchCV\n",
    "from sklearn.neural_network import MLPClassifier\n",
    "from imblearn.pipeline import make_pipeline as make_pipeline_imb\n",
    "from imblearn.over_sampling import SMOTE\n",
    "from imblearn.metrics import classification_report_imbalanced\n",
    "import xgboost as xgb\n",
    "from xgboost import XGBClassifier\n",
    "import pandas as pd\n",
    "import matplotlib.pyplot as plt\n",
    "from collections import Counter\n",
    "import time"
   ]
  },
  {
   "cell_type": "code",
   "execution_count": 11,
   "metadata": {
    "colab": {
     "base_uri": "https://localhost:8080/",
     "height": 226
    },
    "id": "7wFt0NEX6gWA",
    "outputId": "09032ed4-32a6-49d4-e699-a76a0feabbe7"
   },
   "outputs": [
    {
     "data": {
      "text/html": [
       "<div>\n",
       "<style scoped>\n",
       "    .dataframe tbody tr th:only-of-type {\n",
       "        vertical-align: middle;\n",
       "    }\n",
       "\n",
       "    .dataframe tbody tr th {\n",
       "        vertical-align: top;\n",
       "    }\n",
       "\n",
       "    .dataframe thead th {\n",
       "        text-align: right;\n",
       "    }\n",
       "</style>\n",
       "<table border=\"1\" class=\"dataframe\">\n",
       "  <thead>\n",
       "    <tr style=\"text-align: right;\">\n",
       "      <th></th>\n",
       "      <th>Duration</th>\n",
       "      <th>src_bytes</th>\n",
       "      <th>dst_bytes</th>\n",
       "      <th>land</th>\n",
       "      <th>wrong_fragment</th>\n",
       "      <th>urgent</th>\n",
       "      <th>hot</th>\n",
       "      <th>num_failed</th>\n",
       "      <th>logged_in</th>\n",
       "      <th>num_compromised</th>\n",
       "      <th>root_shell</th>\n",
       "      <th>su_attempted</th>\n",
       "      <th>num_root</th>\n",
       "      <th>num_file_creations</th>\n",
       "      <th>num_shells</th>\n",
       "      <th>num_access_files</th>\n",
       "      <th>num_outbound_cmds</th>\n",
       "      <th>is_host_login</th>\n",
       "      <th>is_guest_login</th>\n",
       "      <th>count</th>\n",
       "      <th>srv_count</th>\n",
       "      <th>serror_rate</th>\n",
       "      <th>srv_error_rate</th>\n",
       "      <th>rerror_rate</th>\n",
       "      <th>srv_rerror_rate</th>\n",
       "      <th>same_srv_rate</th>\n",
       "      <th>diff_srv_rate</th>\n",
       "      <th>srv_diff_host_rate</th>\n",
       "      <th>dst_host_count</th>\n",
       "      <th>dst_host_srv_count</th>\n",
       "      <th>dst_host_same_srv_rate</th>\n",
       "      <th>dst_host_diff_srv_rate</th>\n",
       "      <th>dst_host_same_src_port_rate</th>\n",
       "      <th>dst_host_srv_diff_host_rate</th>\n",
       "      <th>dst_host_serror_rate</th>\n",
       "      <th>dst_host_srv_serror_rate</th>\n",
       "      <th>dst_host_rerror_rate</th>\n",
       "      <th>dst_host_srv_rerror_rate</th>\n",
       "      <th>Type_Groups</th>\n",
       "    </tr>\n",
       "  </thead>\n",
       "  <tbody>\n",
       "    <tr>\n",
       "      <th>0</th>\n",
       "      <td>-0.150103</td>\n",
       "      <td>-0.004917</td>\n",
       "      <td>0.019931</td>\n",
       "      <td>0</td>\n",
       "      <td>0</td>\n",
       "      <td>-0.005644</td>\n",
       "      <td>-0.073472</td>\n",
       "      <td>-0.021473</td>\n",
       "      <td>0.666223</td>\n",
       "      <td>-0.007208</td>\n",
       "      <td>-0.023163</td>\n",
       "      <td>-0.010262</td>\n",
       "      <td>-0.012379</td>\n",
       "      <td>-0.024657</td>\n",
       "      <td>-0.021773</td>\n",
       "      <td>-0.060732</td>\n",
       "      <td>0</td>\n",
       "      <td>0</td>\n",
       "      <td>-0.081998</td>\n",
       "      <td>-0.112107</td>\n",
       "      <td>-0.125503</td>\n",
       "      <td>-0.093846</td>\n",
       "      <td>-0.078612</td>\n",
       "      <td>-0.291137</td>\n",
       "      <td>-0.290134</td>\n",
       "      <td>0.198961</td>\n",
       "      <td>-0.201086</td>\n",
       "      <td>-0.478157</td>\n",
       "      <td>-1.336229</td>\n",
       "      <td>-1.990255</td>\n",
       "      <td>0.536542</td>\n",
       "      <td>-0.34644</td>\n",
       "      <td>-0.154032</td>\n",
       "      <td>-0.365965</td>\n",
       "      <td>-0.106951</td>\n",
       "      <td>-0.072524</td>\n",
       "      <td>-0.301727</td>\n",
       "      <td>-0.29675</td>\n",
       "      <td>Normal</td>\n",
       "    </tr>\n",
       "    <tr>\n",
       "      <th>1</th>\n",
       "      <td>-0.150103</td>\n",
       "      <td>-0.004890</td>\n",
       "      <td>-0.048616</td>\n",
       "      <td>0</td>\n",
       "      <td>0</td>\n",
       "      <td>-0.005644</td>\n",
       "      <td>-0.073472</td>\n",
       "      <td>-0.021473</td>\n",
       "      <td>0.666223</td>\n",
       "      <td>-0.007208</td>\n",
       "      <td>-0.023163</td>\n",
       "      <td>-0.010262</td>\n",
       "      <td>-0.012379</td>\n",
       "      <td>-0.024657</td>\n",
       "      <td>-0.021773</td>\n",
       "      <td>-0.060732</td>\n",
       "      <td>0</td>\n",
       "      <td>0</td>\n",
       "      <td>-0.081998</td>\n",
       "      <td>-0.112107</td>\n",
       "      <td>-0.125503</td>\n",
       "      <td>-0.093846</td>\n",
       "      <td>-0.078612</td>\n",
       "      <td>-0.291137</td>\n",
       "      <td>-0.290134</td>\n",
       "      <td>0.198961</td>\n",
       "      <td>-0.201086</td>\n",
       "      <td>-0.478157</td>\n",
       "      <td>-1.240464</td>\n",
       "      <td>-1.882796</td>\n",
       "      <td>0.536542</td>\n",
       "      <td>-0.34644</td>\n",
       "      <td>-0.346801</td>\n",
       "      <td>-0.365965</td>\n",
       "      <td>-0.106951</td>\n",
       "      <td>-0.072524</td>\n",
       "      <td>-0.301727</td>\n",
       "      <td>-0.29675</td>\n",
       "      <td>Normal</td>\n",
       "    </tr>\n",
       "    <tr>\n",
       "      <th>2</th>\n",
       "      <td>-0.150103</td>\n",
       "      <td>-0.004892</td>\n",
       "      <td>-0.036865</td>\n",
       "      <td>0</td>\n",
       "      <td>0</td>\n",
       "      <td>-0.005644</td>\n",
       "      <td>-0.073472</td>\n",
       "      <td>-0.021473</td>\n",
       "      <td>0.666223</td>\n",
       "      <td>-0.007208</td>\n",
       "      <td>-0.023163</td>\n",
       "      <td>-0.010262</td>\n",
       "      <td>-0.012379</td>\n",
       "      <td>-0.024657</td>\n",
       "      <td>-0.021773</td>\n",
       "      <td>-0.060732</td>\n",
       "      <td>0</td>\n",
       "      <td>0</td>\n",
       "      <td>-0.081998</td>\n",
       "      <td>-0.112107</td>\n",
       "      <td>-0.125503</td>\n",
       "      <td>-0.093846</td>\n",
       "      <td>-0.078612</td>\n",
       "      <td>-0.291137</td>\n",
       "      <td>-0.290134</td>\n",
       "      <td>0.198961</td>\n",
       "      <td>-0.201086</td>\n",
       "      <td>-0.478157</td>\n",
       "      <td>-1.144700</td>\n",
       "      <td>-1.775337</td>\n",
       "      <td>0.536542</td>\n",
       "      <td>-0.34644</td>\n",
       "      <td>-0.411057</td>\n",
       "      <td>-0.365965</td>\n",
       "      <td>-0.106951</td>\n",
       "      <td>-0.072524</td>\n",
       "      <td>-0.301727</td>\n",
       "      <td>-0.29675</td>\n",
       "      <td>Normal</td>\n",
       "    </tr>\n",
       "    <tr>\n",
       "      <th>3</th>\n",
       "      <td>-0.150103</td>\n",
       "      <td>-0.004899</td>\n",
       "      <td>-0.036865</td>\n",
       "      <td>0</td>\n",
       "      <td>0</td>\n",
       "      <td>-0.005644</td>\n",
       "      <td>-0.073472</td>\n",
       "      <td>-0.021473</td>\n",
       "      <td>0.666223</td>\n",
       "      <td>-0.007208</td>\n",
       "      <td>-0.023163</td>\n",
       "      <td>-0.010262</td>\n",
       "      <td>-0.012379</td>\n",
       "      <td>-0.024657</td>\n",
       "      <td>-0.021773</td>\n",
       "      <td>-0.060732</td>\n",
       "      <td>0</td>\n",
       "      <td>0</td>\n",
       "      <td>-0.081998</td>\n",
       "      <td>-0.145850</td>\n",
       "      <td>-0.218540</td>\n",
       "      <td>-0.093846</td>\n",
       "      <td>-0.078612</td>\n",
       "      <td>-0.291137</td>\n",
       "      <td>-0.290134</td>\n",
       "      <td>0.198961</td>\n",
       "      <td>-0.201086</td>\n",
       "      <td>-0.478157</td>\n",
       "      <td>-1.048936</td>\n",
       "      <td>-1.667879</td>\n",
       "      <td>0.536542</td>\n",
       "      <td>-0.34644</td>\n",
       "      <td>-0.411057</td>\n",
       "      <td>-0.365965</td>\n",
       "      <td>-0.106951</td>\n",
       "      <td>-0.072524</td>\n",
       "      <td>-0.301727</td>\n",
       "      <td>-0.29675</td>\n",
       "      <td>Normal</td>\n",
       "    </tr>\n",
       "    <tr>\n",
       "      <th>4</th>\n",
       "      <td>-0.150103</td>\n",
       "      <td>-0.004900</td>\n",
       "      <td>-0.027268</td>\n",
       "      <td>0</td>\n",
       "      <td>0</td>\n",
       "      <td>-0.005644</td>\n",
       "      <td>-0.073472</td>\n",
       "      <td>-0.021473</td>\n",
       "      <td>0.666223</td>\n",
       "      <td>-0.007208</td>\n",
       "      <td>-0.023163</td>\n",
       "      <td>-0.010262</td>\n",
       "      <td>-0.012379</td>\n",
       "      <td>-0.024657</td>\n",
       "      <td>-0.021773</td>\n",
       "      <td>-0.060732</td>\n",
       "      <td>0</td>\n",
       "      <td>0</td>\n",
       "      <td>-0.081998</td>\n",
       "      <td>-0.145850</td>\n",
       "      <td>-0.218540</td>\n",
       "      <td>-0.093846</td>\n",
       "      <td>-0.078612</td>\n",
       "      <td>-0.291137</td>\n",
       "      <td>-0.290134</td>\n",
       "      <td>0.198961</td>\n",
       "      <td>-0.201086</td>\n",
       "      <td>-0.478157</td>\n",
       "      <td>-0.953172</td>\n",
       "      <td>-1.560420</td>\n",
       "      <td>0.536542</td>\n",
       "      <td>-0.34644</td>\n",
       "      <td>-0.443185</td>\n",
       "      <td>-0.365965</td>\n",
       "      <td>-0.106951</td>\n",
       "      <td>-0.072524</td>\n",
       "      <td>-0.301727</td>\n",
       "      <td>-0.29675</td>\n",
       "      <td>Normal</td>\n",
       "    </tr>\n",
       "  </tbody>\n",
       "</table>\n",
       "</div>"
      ],
      "text/plain": [
       "   Duration  src_bytes  ...  dst_host_srv_rerror_rate  Type_Groups\n",
       "0 -0.150103  -0.004917  ...                  -0.29675       Normal\n",
       "1 -0.150103  -0.004890  ...                  -0.29675       Normal\n",
       "2 -0.150103  -0.004892  ...                  -0.29675       Normal\n",
       "3 -0.150103  -0.004899  ...                  -0.29675       Normal\n",
       "4 -0.150103  -0.004900  ...                  -0.29675       Normal\n",
       "\n",
       "[5 rows x 39 columns]"
      ]
     },
     "execution_count": 11,
     "metadata": {},
     "output_type": "execute_result"
    }
   ],
   "source": [
    "kdd_train_probe.head()"
   ]
  },
  {
   "cell_type": "code",
   "execution_count": 12,
   "metadata": {
    "id": "Dj2ak4hnLmbq"
   },
   "outputs": [],
   "source": [
    "def xgb_classifier(X_train, X_test, y_train, y_test, useTrainCV=True, cv_folds=5, \n",
    "                   early_stopping_rounds=50):\n",
    "    \"\"\"\n",
    "    # {'learning_rate': 0.1, 'max_depth': 5, 'min_child_weight': 3} 0.862920874517388\n",
    "    # {'colsample_bytree': 1.0, 'gamma': 0.2} 0.871\n",
    "    # {'gamma': 0.2, 'scale_pos_weight': 1} 0.8702009952422571\n",
    "    # {'subsample': 0.6} 0.864310306628855\n",
    "    \"\"\"\n",
    "    alg = XGBClassifier(learning_rate=0.1, \n",
    "                        n_estimators=140, \n",
    "                        max_depth=5, # maximum number of features used in each tree\n",
    "                        min_child_weight=3, \n",
    "                        gamma=0.2, \n",
    "                        subsample=0.6, #hich is for each tree the % of rows taken to build the tree. \n",
    "                                        #I recommend not taking out too many rows, as performance will drop a lot. Take values from 0.8 to 1.\n",
    "                        colsample_bytree=0.6, # number of columns used by each tree. \n",
    "                        #In order to avoid some columns to take too much credit for the prediction \n",
    "                        #(think of it like in recommender systems when you recommend the most purchased products\n",
    "                        #and forget about the long tail), take out a good proportion of columns. \n",
    "                        #Values from 0.3 to 0.8 if you have many columns (especially if you did one-hot encoding), \n",
    "                        #or 0.8 to 1 if you only have a few columns.\n",
    "                        objective='binary:logistic', \n",
    "                        nthread=4, \n",
    "                        scale_pos_weight=20, \n",
    "                        seed=27)\n",
    "\n",
    "    if useTrainCV:\n",
    "        print(\"Start Feeding Data\")\n",
    "        xgb_param = alg.get_xgb_params()\n",
    "        xgtrain = xgb.DMatrix(X_train.values, label=y_train.values)\n",
    "        # xgtest = xgb.DMatrix(X_test.values, label=y_test.values)\n",
    "        cvresult = xgb.cv(xgb_param, xgtrain, num_boost_round=alg.get_params()['n_estimators'], nfold=cv_folds,\n",
    "                          early_stopping_rounds=early_stopping_rounds)\n",
    "        alg.set_params(n_estimators=cvresult.shape[0])\n",
    "\n",
    "    print('Start Training')\n",
    "    alg.fit(X_train, y_train, eval_metric='auc')\n",
    "\n",
    "    # param_test1 = {}\n",
    "    # gsearch1 = GridSearchCV(estimator=XGBClassifier(learning_rate=0.1, n_estimators=140, max_depth=5,\n",
    "    #                                                 min_child_weight=3, gamma=0.2, subsample=0.8,\n",
    "    #                                                 colsample_bytree=1.0,\n",
    "    #                                                 objective='binary:logistic', nthread=4, scale_pos_weight=1,\n",
    "    #                                                 seed=27),\n",
    "    #                         param_grid=param_test1,\n",
    "    #                         scoring='f1',\n",
    "    #                         n_jobs=4, iid=False, cv=5)\n",
    "    # gsearch1.fit(X_train, y_train)\n",
    "    # print(gsearch1.cv_results_, gsearch1.best_params_, gsearch1.best_score_)\n",
    "\n",
    "    print(\"Start Predicting\")\n",
    "    predictions = alg.predict(X_test)\n",
    "    pred_proba = alg.predict_proba(X_test)[:, 1]\n",
    "\n",
    "    print(\"\\nResulting Metrics\")\n",
    "    print(\"Accuracy : %.4g\" % metrics.accuracy_score(y_test, predictions))\n",
    "    print(\"AUC : %f\" % metrics.roc_auc_score(y_test, pred_proba))\n",
    "    print(\"F1 Score : %f\" % metrics.f1_score(y_test, predictions))\n",
    "\n",
    "    feat_imp = alg.feature_importances_\n",
    "    feat = X_train.columns.tolist()\n",
    "    # clf.best_estimator_.booster().get_fscore()\n",
    "    res_df = pd.DataFrame({'Features': feat, 'Importance': feat_imp}).sort_values(by='Importance', ascending=False)\n",
    "    res_df.plot('Features', 'Importance', kind='bar', title='Feature Importances')\n",
    "    plt.ylabel('Feature Importance Score')\n",
    "    plt.show()\n",
    "    print(res_df)\n",
    "    print(res_df[\"Features\"].tolist())\n",
    "    return alg\n"
   ]
  },
  {
   "cell_type": "code",
   "execution_count": null,
   "metadata": {
    "id": "MzD0O6KV2KHP"
   },
   "outputs": [],
   "source": [
    "kdd_train_probe = kdd_train[(kdd_train.Type_Groups == 'Normal') | (kdd_train.Type_Groups == 'Probe')]\n",
    "kdd_test_probe = kdd_test[(kdd_test.Type_Groups == 'Normal') | (kdd_test.Type_Groups == 'Probe')]\n",
    "\n",
    "kdd_train_probe['Type_Groups'] = np.where(kdd_train_probe['Type_Groups'] == 'Normal', 0, 1)\n",
    "kdd_test_probe['Type_Groups'] = np.where(kdd_test_probe['Type_Groups'] == 'Normal', 0, 1)"
   ]
  },
  {
   "cell_type": "code",
   "execution_count": 19,
   "metadata": {
    "id": "B4gndvi-6FsL"
   },
   "outputs": [],
   "source": [
    "y_train = kdd_train_probe['Type_Groups']"
   ]
  },
  {
   "cell_type": "code",
   "execution_count": 20,
   "metadata": {
    "id": "F_gWM69b6vdw"
   },
   "outputs": [],
   "source": [
    "X_train = kdd_train_probe.drop(['Type_Groups'], axis = 1)"
   ]
  },
  {
   "cell_type": "code",
   "execution_count": 21,
   "metadata": {
    "id": "VX90qotY6z-L"
   },
   "outputs": [],
   "source": [
    "y_test = kdd_test_probe['Type_Groups']\n",
    "X_test = kdd_test_probe.drop(['Type_Groups'], axis = 1)"
   ]
  },
  {
   "cell_type": "code",
   "execution_count": 22,
   "metadata": {
    "colab": {
     "base_uri": "https://localhost:8080/",
     "height": 1000
    },
    "id": "1sikZut16_gj",
    "outputId": "78f75f65-8081-4188-d2f5-de2b63101521"
   },
   "outputs": [
    {
     "name": "stdout",
     "output_type": "stream",
     "text": [
      "Start Feeding Data\n",
      "Start Training\n",
      "Start Predicting\n",
      "\n",
      "Resulting Metrics\n",
      "Accuracy : 0.9614\n",
      "AUC : 0.988588\n",
      "F1 Score : 0.754472\n"
     ]
    },
    {
     "data": {
      "image/png": "[encoded data removed]",
      "text/plain": [
       "<Figure size 432x288 with 1 Axes>"
      ]
     },
     "metadata": {
      "needs_background": "light"
     },
     "output_type": "display_data"
    },
    {
     "name": "stdout",
     "output_type": "stream",
     "text": [
      "                       Features  Importance\n",
      "2                     dst_bytes    0.292107\n",
      "24              srv_rerror_rate    0.145073\n",
      "1                     src_bytes    0.137521\n",
      "8                     logged_in    0.070587\n",
      "32  dst_host_same_src_port_rate    0.061325\n",
      "31       dst_host_diff_srv_rate    0.046960\n",
      "37     dst_host_srv_rerror_rate    0.040418\n",
      "0                      Duration    0.037696\n",
      "33  dst_host_srv_diff_host_rate    0.024021\n",
      "28               dst_host_count    0.015861\n",
      "21                  serror_rate    0.014469\n",
      "34         dst_host_serror_rate    0.014113\n",
      "26                diff_srv_rate    0.013917\n",
      "22               srv_error_rate    0.011445\n",
      "25                same_srv_rate    0.011157\n",
      "19                        count    0.011137\n",
      "36         dst_host_rerror_rate    0.010694\n",
      "23                  rerror_rate    0.010306\n",
      "29           dst_host_srv_count    0.009933\n",
      "30       dst_host_same_srv_rate    0.008326\n",
      "35     dst_host_srv_serror_rate    0.006300\n",
      "20                    srv_count    0.002605\n",
      "27           srv_diff_host_rate    0.002158\n",
      "6                           hot    0.001873\n",
      "18               is_guest_login    0.000000\n",
      "10                   root_shell    0.000000\n",
      "11                 su_attempted    0.000000\n",
      "12                     num_root    0.000000\n",
      "3                          land    0.000000\n",
      "4                wrong_fragment    0.000000\n",
      "13           num_file_creations    0.000000\n",
      "14                   num_shells    0.000000\n",
      "15             num_access_files    0.000000\n",
      "5                        urgent    0.000000\n",
      "9               num_compromised    0.000000\n",
      "16            num_outbound_cmds    0.000000\n",
      "17                is_host_login    0.000000\n",
      "7                    num_failed    0.000000\n",
      "['dst_bytes', 'srv_rerror_rate', 'src_bytes', 'logged_in', 'dst_host_same_src_port_rate', 'dst_host_diff_srv_rate', 'dst_host_srv_rerror_rate', 'Duration', 'dst_host_srv_diff_host_rate', 'dst_host_count', 'serror_rate', 'dst_host_serror_rate', 'diff_srv_rate', 'srv_error_rate', 'same_srv_rate', 'count', 'dst_host_rerror_rate', 'rerror_rate', 'dst_host_srv_count', 'dst_host_same_srv_rate', 'dst_host_srv_serror_rate', 'srv_count', 'srv_diff_host_rate', 'hot', 'is_guest_login', 'root_shell', 'su_attempted', 'num_root', 'land', 'wrong_fragment', 'num_file_creations', 'num_shells', 'num_access_files', 'urgent', 'num_compromised', 'num_outbound_cmds', 'is_host_login', 'num_failed']\n"
     ]
    },
    {
     "data": {
      "text/plain": [
       "XGBClassifier(colsample_bytree=0.6, gamma=0.2, max_depth=5, min_child_weight=3,\n",
       "              n_estimators=140, nthread=4, scale_pos_weight=20, seed=27,\n",
       "              subsample=0.6)"
      ]
     },
     "execution_count": 22,
     "metadata": {},
     "output_type": "execute_result"
    }
   ],
   "source": [
    "xgb_classifier(X_train, X_test, y_train, y_test)"
   ]
  },
  {
   "cell_type": "markdown",
   "metadata": {
    "id": "bON9aNCsJ_Pk"
   },
   "source": [
    "## CatBoost"
   ]
  },
  {
   "cell_type": "markdown",
   "metadata": {
    "id": "KZW2zcoRCe3Q"
   },
   "source": [
    "CatBoost is another boosting algorithm created by Yandex. It has unique way of handling with categorical variables. It is shown that CatBoost performs extremely well with its default parameters. We can optimize the hyperparameters using cross validation, random search, grid search or Bayesian Optimization."
   ]
  },
  {
   "cell_type": "code",
   "execution_count": null,
   "metadata": {
    "colab": {
     "base_uri": "https://localhost:8080/"
    },
    "id": "xeNlk-qqTuLi",
    "outputId": "69f4e68b-8e9e-418b-9f95-0b9a4a4ab01b"
   },
   "outputs": [
    {
     "name": "stdout",
     "output_type": "stream",
     "text": [
      "Collecting catboost\n",
      "\u001b[?25l  Downloading https://files.pythonhosted.org/packages/20/37/bc4e0ddc30c07a96482abf1de7ed1ca54e59bba2026a33bca6d2ef286e5b/catboost-0.24.4-cp36-none-manylinux1_x86_64.whl (65.7MB)\n",
      "\u001b[K     |████████████████████████████████| 65.8MB 61kB/s \n",
      "\u001b[?25hRequirement already satisfied: numpy>=1.16.0 in /usr/local/lib/python3.6/dist-packages (from catboost) (1.19.4)\n",
      "Requirement already satisfied: scipy in /usr/local/lib/python3.6/dist-packages (from catboost) (1.4.1)\n",
      "Requirement already satisfied: pandas>=0.24.0 in /usr/local/lib/python3.6/dist-packages (from catboost) (1.1.5)\n",
      "Requirement already satisfied: six in /usr/local/lib/python3.6/dist-packages (from catboost) (1.15.0)\n",
      "Requirement already satisfied: plotly in /usr/local/lib/python3.6/dist-packages (from catboost) (4.4.1)\n",
      "Requirement already satisfied: matplotlib in /usr/local/lib/python3.6/dist-packages (from catboost) (3.2.2)\n",
      "Requirement already satisfied: graphviz in /usr/local/lib/python3.6/dist-packages (from catboost) (0.10.1)\n",
      "Requirement already satisfied: pytz>=2017.2 in /usr/local/lib/python3.6/dist-packages (from pandas>=0.24.0->catboost) (2018.9)\n",
      "Requirement already satisfied: python-dateutil>=2.7.3 in /usr/local/lib/python3.6/dist-packages (from pandas>=0.24.0->catboost) (2.8.1)\n",
      "Requirement already satisfied: retrying>=1.3.3 in /usr/local/lib/python3.6/dist-packages (from plotly->catboost) (1.3.3)\n",
      "Requirement already satisfied: kiwisolver>=1.0.1 in /usr/local/lib/python3.6/dist-packages (from matplotlib->catboost) (1.3.1)\n",
      "Requirement already satisfied: cycler>=0.10 in /usr/local/lib/python3.6/dist-packages (from matplotlib->catboost) (0.10.0)\n",
      "Requirement already satisfied: pyparsing!=2.0.4,!=2.1.2,!=2.1.6,>=2.0.1 in /usr/local/lib/python3.6/dist-packages (from matplotlib->catboost) (2.4.7)\n",
      "Installing collected packages: catboost\n",
      "Successfully installed catboost-0.24.4\n"
     ]
    }
   ],
   "source": [
    "!pip install catboost"
   ]
  },
  {
   "cell_type": "code",
   "execution_count": null,
   "metadata": {
    "id": "zQmb6gzCKAOQ"
   },
   "outputs": [],
   "source": [
    "from catboost import Pool, CatBoostClassifier, cv"
   ]
  },
  {
   "cell_type": "code",
   "execution_count": null,
   "metadata": {
    "id": "1r_hxOEITp5D"
   },
   "outputs": [],
   "source": [
    "#model = CatBoostClassifier(eval_metric='Accuracy',use_best_model=True,random_seed=42)\n",
    "model = CatBoostClassifier(eval_metric='Accuracy',random_seed=42)\n",
    "\n",
    "#now just to make the model to fit the data\n",
    "model.fit(X_train,y_train,eval_set=(X_test,y_test))"
   ]
  },
  {
   "cell_type": "code",
   "execution_count": null,
   "metadata": {
    "colab": {
     "base_uri": "https://localhost:8080/"
    },
    "id": "LPZW8d9EUKqP",
    "outputId": "dfdc42c1-7100-4cb7-a4bd-47648672b7f6"
   },
   "outputs": [
    {
     "name": "stdout",
     "output_type": "stream",
     "text": [
      "Start Predicting\n",
      "\n",
      "Resulting Metrics\n",
      "Accuracy : 0.988\n",
      "AUC : 0.982139\n",
      "F1 Score : 0.902759\n"
     ]
    }
   ],
   "source": [
    "print(\"Start Predicting\")\n",
    "predictions = model.predict(X_test)\n",
    "pred_proba = model.predict_proba(X_test)[:, 1]\n",
    "\n",
    "print(\"\\nResulting Metrics\")\n",
    "print(\"Accuracy : %.4g\" % metrics.accuracy_score(y_test, predictions))\n",
    "print(\"AUC : %f\" % metrics.roc_auc_score(y_test, pred_proba))\n",
    "print(\"F1 Score : %f\" % metrics.f1_score(y_test, predictions))"
   ]
  },
  {
   "cell_type": "markdown",
   "metadata": {
    "id": "JRHz3nOo5Lek"
   },
   "source": [
    "## Hyperparameter Optimization"
   ]
  },
  {
   "cell_type": "markdown",
   "metadata": {
    "id": "2VI8wYsJDHne"
   },
   "source": [
    "We will apply RandomSearch and Bayesian Optimization to tune the hyperparameters. Since it is a time consuming process, we only show how to use the libraries for hyperparameter optimization task. For this reason, it is unlikely to beat the performance obtained by default parameters using RandomSearch or GridSearch. \n",
    "\n",
    "However, we can obtain better model if we use Bayesian Optimization."
   ]
  },
  {
   "cell_type": "code",
   "execution_count": null,
   "metadata": {
    "id": "6KSi9W0aWHIr"
   },
   "outputs": [],
   "source": [
    "from sklearn.model_selection import RandomizedSearchCV\n",
    "from scipy.stats import uniform as sp_randFloat\n",
    "from scipy.stats import randint as sp_randInt  \n",
    "\n",
    "parameters = {'depth'         : sp_randInt(1, 10),\n",
    "              'learning_rate' : sp_randFloat(),\n",
    "              'iterations'    : sp_randInt(10, 100)\n",
    "}\n",
    "    \n",
    "randm = RandomizedSearchCV(estimator=model, param_distributions = parameters, \n",
    "                               cv = 2, n_iter = 10, n_jobs=-1)\n",
    "randm.fit(X_train, y_train, eval_set=(X_test,y_test))"
   ]
  },
  {
   "cell_type": "code",
   "execution_count": null,
   "metadata": {
    "colab": {
     "base_uri": "https://localhost:8080/"
    },
    "id": "4pSR8Fjk7BIu",
    "outputId": "d85670cb-156c-481c-c4f7-fdb5a7565ac3"
   },
   "outputs": [
    {
     "data": {
      "text/plain": [
       "<catboost.core.CatBoostClassifier at 0x7fbd143f3c88>"
      ]
     },
     "execution_count": 58,
     "metadata": {
      "tags": []
     },
     "output_type": "execute_result"
    }
   ],
   "source": [
    "randm.best_estimator_"
   ]
  },
  {
   "cell_type": "code",
   "execution_count": null,
   "metadata": {
    "colab": {
     "base_uri": "https://localhost:8080/"
    },
    "id": "0DO1YzGh8VlF",
    "outputId": "539fae0c-1583-4aa0-cef3-a1c7bcd7d1e4"
   },
   "outputs": [
    {
     "data": {
      "text/plain": [
       "{'depth': 8, 'iterations': 63, 'learning_rate': 0.017860792872981812}"
      ]
     },
     "execution_count": 59,
     "metadata": {
      "tags": []
     },
     "output_type": "execute_result"
    }
   ],
   "source": [
    "randm.best_params_"
   ]
  },
  {
   "cell_type": "code",
   "execution_count": null,
   "metadata": {
    "colab": {
     "base_uri": "https://localhost:8080/"
    },
    "id": "cQZBnttG8Z4r",
    "outputId": "178dc2b9-44d4-4b44-aadd-d835d3583955"
   },
   "outputs": [
    {
     "name": "stdout",
     "output_type": "stream",
     "text": [
      "Start Predicting\n",
      "\n",
      "Resulting Metrics\n",
      "Accuracy : 0.9892\n",
      "AUC : 0.997010\n",
      "F1 Score : 0.916126\n"
     ]
    }
   ],
   "source": [
    "print(\"Start Predicting\")\n",
    "predictions = randm.best_estimator_.predict(X_test)\n",
    "pred_proba = randm.best_estimator_.predict_proba(X_test)[:, 1]\n",
    "\n",
    "print(\"\\nResulting Metrics\")\n",
    "print(\"Accuracy : %.4g\" % metrics.accuracy_score(y_test, predictions))\n",
    "print(\"AUC : %f\" % metrics.roc_auc_score(y_test, pred_proba))\n",
    "print(\"F1 Score : %f\" % metrics.f1_score(y_test, predictions))"
   ]
  },
  {
   "cell_type": "code",
   "execution_count": 24,
   "metadata": {
    "colab": {
     "base_uri": "https://localhost:8080/"
    },
    "id": "ulqF9iCf9o9S",
    "outputId": "966f72c4-2bde-44bd-eef4-ba5a8e469bab"
   },
   "outputs": [
    {
     "name": "stdout",
     "output_type": "stream",
     "text": [
      "Collecting scikit-optimize\n",
      "  Downloading scikit_optimize-0.9.0-py2.py3-none-any.whl (100 kB)\n",
      "\u001b[?25l\r",
      "\u001b[K     |███▎                            | 10 kB 18.7 MB/s eta 0:00:01\r",
      "\u001b[K     |██████▌                         | 20 kB 21.3 MB/s eta 0:00:01\r",
      "\u001b[K     |█████████▉                      | 30 kB 25.2 MB/s eta 0:00:01\r",
      "\u001b[K     |█████████████                   | 40 kB 27.0 MB/s eta 0:00:01\r",
      "\u001b[K     |████████████████▍               | 51 kB 29.6 MB/s eta 0:00:01\r",
      "\u001b[K     |███████████████████▋            | 61 kB 31.8 MB/s eta 0:00:01\r",
      "\u001b[K     |██████████████████████▉         | 71 kB 24.8 MB/s eta 0:00:01\r",
      "\u001b[K     |██████████████████████████▏     | 81 kB 25.6 MB/s eta 0:00:01\r",
      "\u001b[K     |█████████████████████████████▍  | 92 kB 27.2 MB/s eta 0:00:01\r",
      "\u001b[K     |████████████████████████████████| 100 kB 7.3 MB/s \n",
      "\u001b[?25hRequirement already satisfied: numpy>=1.13.3 in /usr/local/lib/python3.7/dist-packages (from scikit-optimize) (1.19.5)\n",
      "Requirement already satisfied: joblib>=0.11 in /usr/local/lib/python3.7/dist-packages (from scikit-optimize) (1.1.0)\n",
      "Requirement already satisfied: scipy>=0.19.1 in /usr/local/lib/python3.7/dist-packages (from scikit-optimize) (1.4.1)\n",
      "Collecting pyaml>=16.9\n",
      "  Downloading pyaml-21.10.1-py2.py3-none-any.whl (24 kB)\n",
      "Requirement already satisfied: scikit-learn>=0.20.0 in /usr/local/lib/python3.7/dist-packages (from scikit-optimize) (1.0.1)\n",
      "Requirement already satisfied: PyYAML in /usr/local/lib/python3.7/dist-packages (from pyaml>=16.9->scikit-optimize) (3.13)\n",
      "Requirement already satisfied: threadpoolctl>=2.0.0 in /usr/local/lib/python3.7/dist-packages (from scikit-learn>=0.20.0->scikit-optimize) (3.0.0)\n",
      "Installing collected packages: pyaml, scikit-optimize\n",
      "Successfully installed pyaml-21.10.1 scikit-optimize-0.9.0\n"
     ]
    }
   ],
   "source": [
    "!pip install scikit-optimize"
   ]
  },
  {
   "cell_type": "code",
   "execution_count": 23,
   "metadata": {
    "colab": {
     "base_uri": "https://localhost:8080/",
     "height": 374
    },
    "id": "DJJg5nbw9nh4",
    "outputId": "d53fa7ac-22f4-4dff-b8f2-f453e7d691f0"
   },
   "outputs": [
    {
     "ename": "ModuleNotFoundError",
     "errorDetails": {
      "actions": [
       {
        "action": "open_url",
        "actionText": "Open Examples",
        "url": "/notebooks/snippets/importing_libraries.ipynb"
       }
      ]
     },
     "evalue": "ignored",
     "output_type": "error",
     "traceback": [
      "\u001b[0;31m---------------------------------------------------------------------------\u001b[0m",
      "\u001b[0;31mModuleNotFoundError\u001b[0m                       Traceback (most recent call last)",
      "\u001b[0;32m<ipython-input-23-66df6b8fc58c>\u001b[0m in \u001b[0;36m<module>\u001b[0;34m()\u001b[0m\n\u001b[0;32m----> 1\u001b[0;31m \u001b[0;32mfrom\u001b[0m \u001b[0mskopt\u001b[0m \u001b[0;32mimport\u001b[0m \u001b[0mBayesSearchCV\u001b[0m\u001b[0;34m\u001b[0m\u001b[0;34m\u001b[0m\u001b[0m\n\u001b[0m\u001b[1;32m      2\u001b[0m \u001b[0;32mfrom\u001b[0m \u001b[0mskopt\u001b[0m\u001b[0;34m.\u001b[0m\u001b[0mcallbacks\u001b[0m \u001b[0;32mimport\u001b[0m \u001b[0mDeadlineStopper\u001b[0m\u001b[0;34m,\u001b[0m \u001b[0mVerboseCallback\u001b[0m\u001b[0;34m,\u001b[0m \u001b[0mDeltaXStopper\u001b[0m\u001b[0;34m\u001b[0m\u001b[0;34m\u001b[0m\u001b[0m\n\u001b[1;32m      3\u001b[0m \u001b[0;32mfrom\u001b[0m \u001b[0mskopt\u001b[0m\u001b[0;34m.\u001b[0m\u001b[0mspace\u001b[0m \u001b[0;32mimport\u001b[0m \u001b[0mReal\u001b[0m\u001b[0;34m,\u001b[0m \u001b[0mCategorical\u001b[0m\u001b[0;34m,\u001b[0m \u001b[0mInteger\u001b[0m\u001b[0;34m\u001b[0m\u001b[0;34m\u001b[0m\u001b[0m\n\u001b[1;32m      4\u001b[0m \u001b[0;32mfrom\u001b[0m \u001b[0msklearn\u001b[0m\u001b[0;34m.\u001b[0m\u001b[0mmodel_selection\u001b[0m \u001b[0;32mimport\u001b[0m \u001b[0mStratifiedKFold\u001b[0m\u001b[0;34m\u001b[0m\u001b[0;34m\u001b[0m\u001b[0m\n\u001b[1;32m      5\u001b[0m \u001b[0;34m\u001b[0m\u001b[0m\n",
      "\u001b[0;31mModuleNotFoundError\u001b[0m: No module named 'skopt'",
      "",
      "\u001b[0;31m---------------------------------------------------------------------------\u001b[0;32m\nNOTE: If your import is failing due to a missing package, you can\nmanually install dependencies using either !pip or !apt.\n\nTo view examples of installing some common dependencies, click the\n\"Open Examples\" button below.\n\u001b[0;31m---------------------------------------------------------------------------\u001b[0m\n"
     ]
    }
   ],
   "source": [
    "from skopt import BayesSearchCV\n",
    "from skopt.callbacks import DeadlineStopper, VerboseCallback, DeltaXStopper\n",
    "from skopt.space import Real, Categorical, Integer\n",
    "from sklearn.model_selection import StratifiedKFold\n",
    "\n",
    "from sklearn.metrics import roc_auc_score\n",
    "from sklearn.metrics import make_scorer"
   ]
  },
  {
   "cell_type": "code",
   "execution_count": null,
   "metadata": {
    "id": "M1t6h3_R8yps"
   },
   "outputs": [],
   "source": [
    "# Converting average precision score into a scorer suitable for model selection\n",
    "roc_auc = make_scorer(roc_auc_score, greater_is_better=True, needs_threshold=True)\n",
    "\n",
    "# Defining your search space\n",
    "search_spaces = {'iterations': Integer(10, 300),\n",
    "                 'depth': Integer(1, 8),\n",
    "                 'learning_rate': Real(0.01, 1.0, 'log-uniform'),\n",
    "                 #'random_strength': Real(1e-9, 10, 'log-uniform'),\n",
    "                 #'bagging_temperature': Real(0.0, 1.0),\n",
    "                 #'border_count': Integer(1, 255),\n",
    "                 #'l2_leaf_reg': Integer(2, 30),\n",
    "                 #'scale_pos_weight':Real(0.01, 1.0, 'uniform')\n",
    "                 }\n",
    "# Setting up BayesSearchCV\n",
    "opt = BayesSearchCV(model,\n",
    "                    search_spaces,\n",
    "                    scoring=roc_auc,\n",
    "                    n_iter=2,\n",
    "                    n_jobs=-1,  \n",
    "                    return_train_score=False,\n",
    "                    refit=True, #use best model\n",
    "                    optimizer_kwargs={'base_estimator': 'GP'},\n",
    "                    random_state=42)\n",
    "# Running the optimization\n",
    "opt.fit(X_train, y_train)"
   ]
  },
  {
   "cell_type": "code",
   "execution_count": null,
   "metadata": {
    "colab": {
     "base_uri": "https://localhost:8080/"
    },
    "id": "cE1pAWjnDgvC",
    "outputId": "c4b0c07b-790a-4717-93de-2d614e70ca7d"
   },
   "outputs": [
    {
     "name": "stdout",
     "output_type": "stream",
     "text": [
      "Start Predicting\n",
      "\n",
      "Resulting Metrics\n",
      "Accuracy : 0.9559\n",
      "AUC : 0.989242\n",
      "F1 Score : 0.714186\n"
     ]
    }
   ],
   "source": [
    "print(\"Start Predicting\")\n",
    "predictions = opt.best_estimator_.predict(X_test)\n",
    "pred_proba = opt.best_estimator_.predict_proba(X_test)[:, 1]\n",
    "\n",
    "print(\"\\nResulting Metrics\")\n",
    "print(\"Accuracy : %.4g\" % metrics.accuracy_score(y_test, predictions))\n",
    "print(\"AUC : %f\" % metrics.roc_auc_score(y_test, pred_proba))\n",
    "print(\"F1 Score : %f\" % metrics.f1_score(y_test, predictions))"
   ]
  },
  {
   "cell_type": "markdown",
   "metadata": {
    "id": "4hbJmha32Zz7"
   },
   "source": [
    "# LightGBM"
   ]
  },
  {
   "cell_type": "markdown",
   "metadata": {
    "id": "Mwl2xjBL2b7g"
   },
   "source": []
  },
  {
   "cell_type": "code",
   "execution_count": 4,
   "metadata": {},
   "outputs": [
    {
     "name": "stdout",
     "output_type": "stream",
     "text": [
      "Requirement already satisfied: lightgbm in /Users/onurboyar/opt/anaconda3/lib/python3.9/site-packages (3.3.1)\n",
      "Requirement already satisfied: scipy in /Users/onurboyar/opt/anaconda3/lib/python3.9/site-packages (from lightgbm) (1.7.1)\n",
      "Requirement already satisfied: wheel in /Users/onurboyar/opt/anaconda3/lib/python3.9/site-packages (from lightgbm) (0.37.0)\n",
      "Requirement already satisfied: scikit-learn!=0.22.0 in /Users/onurboyar/opt/anaconda3/lib/python3.9/site-packages (from lightgbm) (0.24.2)\n",
      "Requirement already satisfied: numpy in /Users/onurboyar/opt/anaconda3/lib/python3.9/site-packages (from lightgbm) (1.20.3)\n",
      "Requirement already satisfied: threadpoolctl>=2.0.0 in /Users/onurboyar/opt/anaconda3/lib/python3.9/site-packages (from scikit-learn!=0.22.0->lightgbm) (2.2.0)\n",
      "Requirement already satisfied: joblib>=0.11 in /Users/onurboyar/opt/anaconda3/lib/python3.9/site-packages (from scikit-learn!=0.22.0->lightgbm) (1.1.0)\n"
     ]
    }
   ],
   "source": [
    "!pip install lightgbm"
   ]
  },
  {
   "cell_type": "code",
   "execution_count": 20,
   "metadata": {
    "id": "NX7X6r4269-O"
   },
   "outputs": [],
   "source": [
    "import numpy as np\n",
    "import pandas as pd\n",
    "from sklearn import metrics\n",
    "import lightgbm as lgb\n",
    "import sklearn\n",
    "import matplotlib.pyplot as plt\n",
    "from sklearn.metrics import (confusion_matrix, precision_recall_curve, auc,\n",
    "                             roc_curve, recall_score, classification_report, f1_score,\n",
    "                             precision_recall_fscore_support, accuracy_score)\n",
    "from sklearn.model_selection import RandomizedSearchCV\n",
    "from scipy.stats import uniform as sp_randFloat\n",
    "from scipy.stats import randint as sp_randInt \n",
    "from sklearn.model_selection import train_test_split\n",
    "from sklearn.metrics import roc_auc_score\n",
    "from sklearn.metrics import make_scorer\n",
    "from sklearn.metrics import precision_recall_fscore_support as score\n"
   ]
  },
  {
   "cell_type": "code",
   "execution_count": 10,
   "metadata": {
    "colab": {
     "base_uri": "https://localhost:8080/"
    },
    "id": "Pveyd2InZVM0",
    "outputId": "f628d923-a755-4c51-8e6e-f1a866747d05",
    "scrolled": true
   },
   "outputs": [
    {
     "data": {
      "text/plain": [
       "{'boosting_type': 'gbdt',\n",
       " 'class_weight': None,\n",
       " 'colsample_bytree': 1.0,\n",
       " 'importance_type': 'split',\n",
       " 'learning_rate': 0.1,\n",
       " 'max_depth': -1,\n",
       " 'min_child_samples': 20,\n",
       " 'min_child_weight': 0.001,\n",
       " 'min_split_gain': 0.0,\n",
       " 'n_estimators': 100,\n",
       " 'n_jobs': -1,\n",
       " 'num_leaves': 31,\n",
       " 'objective': None,\n",
       " 'random_state': None,\n",
       " 'reg_alpha': 0.0,\n",
       " 'reg_lambda': 0.0,\n",
       " 'silent': True,\n",
       " 'subsample': 1.0,\n",
       " 'subsample_for_bin': 200000,\n",
       " 'subsample_freq': 0}"
      ]
     },
     "execution_count": 10,
     "metadata": {},
     "output_type": "execute_result"
    }
   ],
   "source": [
    "clf = lgb.LGBMClassifier()\n",
    "clf.get_params()"
   ]
  },
  {
   "cell_type": "code",
   "execution_count": 11,
   "metadata": {
    "id": "YWAwflg9AC-m"
   },
   "outputs": [
    {
     "data": {
      "text/plain": [
       "Type_Groups\n",
       "0    94630\n",
       "1    15611\n",
       "Name: Type_Groups, dtype: int64"
      ]
     },
     "execution_count": 11,
     "metadata": {},
     "output_type": "execute_result"
    }
   ],
   "source": [
    "X_kdd = kdd.drop('Type_Groups', axis = 1)\n",
    "Y_kdd = pd.DataFrame(kdd.Type_Groups)\n",
    "X_train, X_test, y_train, y_test = train_test_split(X_kdd, Y_kdd, test_size=0.2, random_state=1)\n",
    "\n",
    "X_train, X_valid, y_train, y_valid = train_test_split(X_train, y_train, test_size=0.25, random_state=1) # 0.25 x 0.8 = 0.2\n",
    "y_train['Type_Groups'] = np.where(y_train['Type_Groups'] == 'Normal', 0, 1)\n",
    "y_test['Type_Groups'] = np.where(y_test['Type_Groups'] == 'Normal', 0, 1)\n",
    "y_valid['Type_Groups'] = np.where(y_valid['Type_Groups'] == 'Normal', 0, 1)\n",
    "y_train.groupby(['Type_Groups'])['Type_Groups'].count()"
   ]
  },
  {
   "cell_type": "code",
   "execution_count": 46,
   "metadata": {
    "id": "ILBPmvDTDp1Z"
   },
   "outputs": [],
   "source": [
    "def lightgbm_classifier(X_train, X_test, X_valid, y_train, y_test, y_valid, useTrainCV=True, cv_folds=3, \n",
    "                        early_stopping_rounds=50, categorical_features=None, class_weight=None):\n",
    "    \"\"\"\n",
    "    # {'learning_rate': 0.1, 'max_depth': 5, 'min_child_weight': 3} 0.862920874517388\n",
    "    # {'colsample_bytree': 1.0, 'gamma': 0.2} 0.871\n",
    "    # {'gamma': 0.2, 'scale_pos_weight': 1} 0.8702009952422571\n",
    "    # {'subsample': 0.6} 0.864310306628855\n",
    "    \"\"\"\n",
    "    for c in categorical_features:\n",
    "        X_train[c] = X_train[c].astype('category')\n",
    "        X_test[c] = X_test[c].astype('category')\n",
    "        X_valid[c] = X_valid[c].astype('category')\n",
    "\n",
    "    alg = lgb.LGBMClassifier(#bagging_fraction=None,\n",
    "                                #max_bin=None,\n",
    "                                learning_rate=0.01,\n",
    "                                #num_iterations=None,\n",
    "                                #boosting='dart', #  Dropouts meet Multiple Additive Regression Trees\n",
    "                                #lambda_l1=None, \n",
    "                                #lambda_l2=None,\n",
    "                                #min_gain_to_split=None,\n",
    "                                objective='binary', #or multiclass,\n",
    "                                categorical_feature=categorical_features,\n",
    "                                scale_pos_weight = class_weight\n",
    "                                )\n",
    "    \n",
    "    if useTrainCV:\n",
    "        print(\"Start Feeding Data\")\n",
    "        rs_params = {\n",
    "        'bagging_fraction': (0.5, 0.6, 0.7, 0.8),\n",
    "        'bagging_freq': sp_randInt(5, 8),\n",
    "        'min_child_samples': (20, 25, 30, 35, 40),\n",
    "         #'min_child_weight': sp_randFloat(0.0005, 0.002),\n",
    "        'feature_fraction': sp_randFloat(0.5, 0.7),\n",
    "        'max_depth': sp_randInt(10, 13),\n",
    "        'learning_rate': (0.0001, 0.001, 0.01, 0.1),\n",
    "        'min_data_in_leaf': sp_randInt(90, 120),\n",
    "        'num_leaves': sp_randInt(1200, 1550)\n",
    "        }\n",
    "\n",
    "        # Initialize a RandomizedSearchCV object using 5-fold CV-\n",
    "        rs_cv = RandomizedSearchCV(estimator=alg, param_distributions=rs_params, cv = cv_folds, n_iter=10,verbose=0)\n",
    "\n",
    "        # Train on training data-\n",
    "        rs_cv.fit(X_train, y_train, eval_set=(X_test,y_test),verbose=0)\n",
    "        #print(rs_cv.best_params_)\n",
    "        alg.set_params(**rs_cv.best_params_)\n",
    "\n",
    "    print('OPTIMAL PARAMS OF THE MODEL')\n",
    "    print(alg.get_params())\n",
    "    print('Start Training')\n",
    "    alg.fit(X_train,\n",
    "            y_train,\n",
    "            eval_set=(X_valid,y_valid),\n",
    "            early_stopping_rounds=100,\n",
    "            eval_metric=\"binary_logloss\")\n",
    "\n",
    "\n",
    "    print(\"Start Predicting\")\n",
    "    predictions = alg.predict(X_valid)\n",
    "    pred_proba = alg.predict_proba(X_valid)[:, 1]\n",
    "    print('Confusion Matrix')\n",
    "    print(confusion_matrix(y_valid, predictions))\n",
    "    print(\"\\nResulting Metrics\")\n",
    "    print(\"Accuracy : %.4g\" % metrics.accuracy_score(y_valid, predictions))\n",
    "    print(\"AUC : %f\" % metrics.roc_auc_score(y_valid, pred_proba))\n",
    "    #print(\"F1 Score : %f\" % metrics.f1_score(y_valid, predictions))\n",
    "    precision, recall, fscore, support = score(y_valid, predictions)\n",
    "    print('precision: {}'.format(precision))\n",
    "    print('recall: {}'.format(recall))\n",
    "    print('fscore: {}'.format(fscore))\n",
    "    print('support: {}'.format(support))\n",
    "\n",
    "    feat_imp = alg.feature_importances_\n",
    "    feat = X_train.columns.tolist()\n",
    "    # clf.best_estimator_.booster().get_fscore()\n",
    "    res_df = pd.DataFrame({'Features': feat, 'Importance': feat_imp}).sort_values(by='Importance', ascending=False)\n",
    "    res_df.plot('Features', 'Importance', kind='bar', title='Feature Importance Plot Based on Split')\n",
    "    plt.ylabel('Feature Importance Score')\n",
    "    plt.show()\n",
    "\n",
    "    feat_imp = alg.booster_.feature_importance(importance_type = 'gain')\n",
    "    feat = X_train.columns.tolist()\n",
    "    # clf.best_estimator_.booster().get_fscore()\n",
    "    res_df = pd.DataFrame({'Features': feat, 'Importance': feat_imp}).sort_values(by='Importance', ascending=False)\n",
    "    res_df.plot('Features', 'Importance', kind='bar', title='Feature Importance Plot Based on Gain')\n",
    "    plt.ylabel('Feature Importance Score')\n",
    "    plt.show()\n",
    "    \n",
    "    #print(res_df)\n",
    "    #print(res_df[\"Features\"].tolist())\n",
    "    print('ROC CURVE')\n",
    "    fpr, tpr, thresholds = roc_curve(y_valid, pred_proba)\n",
    "    roc_auc = auc(fpr, tpr)\n",
    "    plt.title('Receiver Operating Characteristic')\n",
    "    plt.plot(fpr, tpr, label='AUC = %0.4f'% roc_auc)\n",
    "    plt.legend(loc='lower right')\n",
    "    plt.plot([0,1],[0,1],'r--')\n",
    "    plt.xlim([-0.001, 1])\n",
    "    plt.ylim([0, 1.001])\n",
    "    plt.ylabel('True Positive Rate')\n",
    "    plt.xlabel('False Positive Rate')\n",
    "    plt.show();\n",
    "    return alg"
   ]
  },
  {
   "cell_type": "code",
   "execution_count": 47,
   "metadata": {
    "colab": {
     "base_uri": "https://localhost:8080/",
     "height": 1000
    },
    "id": "L0XjgbJh7KPI",
    "outputId": "f84f9f00-ad52-45e9-8005-e6f9fe46016f"
   },
   "outputs": [
    {
     "name": "stdout",
     "output_type": "stream",
     "text": [
      "Start Feeding Data\n",
      "[LightGBM] [Warning] min_data_in_leaf is set=98, min_child_samples=35 will be ignored. Current value: min_data_in_leaf=98\n",
      "[LightGBM] [Warning] feature_fraction is set=0.6048252104839297, colsample_bytree=1.0 will be ignored. Current value: feature_fraction=0.6048252104839297\n",
      "[LightGBM] [Warning] bagging_fraction is set=0.7, subsample=1.0 will be ignored. Current value: bagging_fraction=0.7\n",
      "[LightGBM] [Warning] bagging_freq is set=6, subsample_freq=0 will be ignored. Current value: bagging_freq=6\n"
     ]
    },
    {
     "name": "stderr",
     "output_type": "stream",
     "text": [
      "/Users/onurboyar/opt/anaconda3/envs/chemical-vae/lib/python3.7/site-packages/lightgbm/basic.py:1224: UserWarning: categorical_feature keyword has been found in `params` and will be ignored.\n",
      "Please use categorical_feature argument of the Dataset constructor to pass this parameter.\n",
      "  .format(key))\n",
      "/Users/onurboyar/opt/anaconda3/envs/chemical-vae/lib/python3.7/site-packages/lightgbm/basic.py:1245: UserWarning: categorical_feature in param dict is overridden.\n",
      "  _log_warning('{} in param dict is overridden.'.format(cat_alias))\n",
      "/Users/onurboyar/opt/anaconda3/envs/chemical-vae/lib/python3.7/site-packages/lightgbm/basic.py:1433: UserWarning: Overriding the parameters from Reference Dataset.\n",
      "  _log_warning('Overriding the parameters from Reference Dataset.')\n",
      "/Users/onurboyar/opt/anaconda3/envs/chemical-vae/lib/python3.7/site-packages/lightgbm/basic.py:1245: UserWarning: categorical_column in param dict is overridden.\n",
      "  _log_warning('{} in param dict is overridden.'.format(cat_alias))\n",
      "/Users/onurboyar/opt/anaconda3/envs/chemical-vae/lib/python3.7/site-packages/lightgbm/basic.py:1224: UserWarning: categorical_feature keyword has been found in `params` and will be ignored.\n",
      "Please use categorical_feature argument of the Dataset constructor to pass this parameter.\n",
      "  .format(key))\n",
      "/Users/onurboyar/opt/anaconda3/envs/chemical-vae/lib/python3.7/site-packages/lightgbm/basic.py:1245: UserWarning: categorical_feature in param dict is overridden.\n",
      "  _log_warning('{} in param dict is overridden.'.format(cat_alias))\n",
      "/Users/onurboyar/opt/anaconda3/envs/chemical-vae/lib/python3.7/site-packages/lightgbm/basic.py:1433: UserWarning: Overriding the parameters from Reference Dataset.\n",
      "  _log_warning('Overriding the parameters from Reference Dataset.')\n",
      "/Users/onurboyar/opt/anaconda3/envs/chemical-vae/lib/python3.7/site-packages/lightgbm/basic.py:1245: UserWarning: categorical_column in param dict is overridden.\n",
      "  _log_warning('{} in param dict is overridden.'.format(cat_alias))\n"
     ]
    },
    {
     "name": "stdout",
     "output_type": "stream",
     "text": [
      "[LightGBM] [Warning] min_data_in_leaf is set=98, min_child_samples=35 will be ignored. Current value: min_data_in_leaf=98\n",
      "[LightGBM] [Warning] feature_fraction is set=0.6048252104839297, colsample_bytree=1.0 will be ignored. Current value: feature_fraction=0.6048252104839297\n",
      "[LightGBM] [Warning] bagging_fraction is set=0.7, subsample=1.0 will be ignored. Current value: bagging_fraction=0.7\n",
      "[LightGBM] [Warning] bagging_freq is set=6, subsample_freq=0 will be ignored. Current value: bagging_freq=6\n"
     ]
    },
    {
     "name": "stderr",
     "output_type": "stream",
     "text": [
      "/Users/onurboyar/opt/anaconda3/envs/chemical-vae/lib/python3.7/site-packages/lightgbm/basic.py:1224: UserWarning: categorical_feature keyword has been found in `params` and will be ignored.\n",
      "Please use categorical_feature argument of the Dataset constructor to pass this parameter.\n",
      "  .format(key))\n",
      "/Users/onurboyar/opt/anaconda3/envs/chemical-vae/lib/python3.7/site-packages/lightgbm/basic.py:1245: UserWarning: categorical_feature in param dict is overridden.\n",
      "  _log_warning('{} in param dict is overridden.'.format(cat_alias))\n",
      "/Users/onurboyar/opt/anaconda3/envs/chemical-vae/lib/python3.7/site-packages/lightgbm/basic.py:1433: UserWarning: Overriding the parameters from Reference Dataset.\n",
      "  _log_warning('Overriding the parameters from Reference Dataset.')\n",
      "/Users/onurboyar/opt/anaconda3/envs/chemical-vae/lib/python3.7/site-packages/lightgbm/basic.py:1245: UserWarning: categorical_column in param dict is overridden.\n",
      "  _log_warning('{} in param dict is overridden.'.format(cat_alias))\n"
     ]
    },
    {
     "name": "stdout",
     "output_type": "stream",
     "text": [
      "[LightGBM] [Warning] min_data_in_leaf is set=98, min_child_samples=35 will be ignored. Current value: min_data_in_leaf=98\n",
      "[LightGBM] [Warning] feature_fraction is set=0.6048252104839297, colsample_bytree=1.0 will be ignored. Current value: feature_fraction=0.6048252104839297\n",
      "[LightGBM] [Warning] bagging_fraction is set=0.7, subsample=1.0 will be ignored. Current value: bagging_fraction=0.7\n",
      "[LightGBM] [Warning] bagging_freq is set=6, subsample_freq=0 will be ignored. Current value: bagging_freq=6\n"
     ]
    },
    {
     "name": "stderr",
     "output_type": "stream",
     "text": [
      "/Users/onurboyar/opt/anaconda3/envs/chemical-vae/lib/python3.7/site-packages/lightgbm/basic.py:1224: UserWarning: categorical_feature keyword has been found in `params` and will be ignored.\n",
      "Please use categorical_feature argument of the Dataset constructor to pass this parameter.\n",
      "  .format(key))\n",
      "/Users/onurboyar/opt/anaconda3/envs/chemical-vae/lib/python3.7/site-packages/lightgbm/basic.py:1245: UserWarning: categorical_feature in param dict is overridden.\n",
      "  _log_warning('{} in param dict is overridden.'.format(cat_alias))\n",
      "/Users/onurboyar/opt/anaconda3/envs/chemical-vae/lib/python3.7/site-packages/lightgbm/basic.py:1433: UserWarning: Overriding the parameters from Reference Dataset.\n",
      "  _log_warning('Overriding the parameters from Reference Dataset.')\n",
      "/Users/onurboyar/opt/anaconda3/envs/chemical-vae/lib/python3.7/site-packages/lightgbm/basic.py:1245: UserWarning: categorical_column in param dict is overridden.\n",
      "  _log_warning('{} in param dict is overridden.'.format(cat_alias))\n"
     ]
    },
    {
     "name": "stdout",
     "output_type": "stream",
     "text": [
      "[LightGBM] [Warning] min_data_in_leaf is set=110, min_child_samples=20 will be ignored. Current value: min_data_in_leaf=110\n",
      "[LightGBM] [Warning] feature_fraction is set=0.8435769421326961, colsample_bytree=1.0 will be ignored. Current value: feature_fraction=0.8435769421326961\n",
      "[LightGBM] [Warning] bagging_fraction is set=0.8, subsample=1.0 will be ignored. Current value: bagging_fraction=0.8\n",
      "[LightGBM] [Warning] bagging_freq is set=7, subsample_freq=0 will be ignored. Current value: bagging_freq=7\n"
     ]
    },
    {
     "name": "stderr",
     "output_type": "stream",
     "text": [
      "/Users/onurboyar/opt/anaconda3/envs/chemical-vae/lib/python3.7/site-packages/lightgbm/basic.py:1224: UserWarning: categorical_feature keyword has been found in `params` and will be ignored.\n",
      "Please use categorical_feature argument of the Dataset constructor to pass this parameter.\n",
      "  .format(key))\n",
      "/Users/onurboyar/opt/anaconda3/envs/chemical-vae/lib/python3.7/site-packages/lightgbm/basic.py:1245: UserWarning: categorical_feature in param dict is overridden.\n",
      "  _log_warning('{} in param dict is overridden.'.format(cat_alias))\n",
      "/Users/onurboyar/opt/anaconda3/envs/chemical-vae/lib/python3.7/site-packages/lightgbm/basic.py:1433: UserWarning: Overriding the parameters from Reference Dataset.\n",
      "  _log_warning('Overriding the parameters from Reference Dataset.')\n",
      "/Users/onurboyar/opt/anaconda3/envs/chemical-vae/lib/python3.7/site-packages/lightgbm/basic.py:1245: UserWarning: categorical_column in param dict is overridden.\n",
      "  _log_warning('{} in param dict is overridden.'.format(cat_alias))\n"
     ]
    },
    {
     "name": "stdout",
     "output_type": "stream",
     "text": [
      "[LightGBM] [Warning] min_data_in_leaf is set=110, min_child_samples=20 will be ignored. Current value: min_data_in_leaf=110\n",
      "[LightGBM] [Warning] feature_fraction is set=0.8435769421326961, colsample_bytree=1.0 will be ignored. Current value: feature_fraction=0.8435769421326961\n",
      "[LightGBM] [Warning] bagging_fraction is set=0.8, subsample=1.0 will be ignored. Current value: bagging_fraction=0.8\n",
      "[LightGBM] [Warning] bagging_freq is set=7, subsample_freq=0 will be ignored. Current value: bagging_freq=7\n"
     ]
    },
    {
     "name": "stderr",
     "output_type": "stream",
     "text": [
      "/Users/onurboyar/opt/anaconda3/envs/chemical-vae/lib/python3.7/site-packages/lightgbm/basic.py:1224: UserWarning: categorical_feature keyword has been found in `params` and will be ignored.\n",
      "Please use categorical_feature argument of the Dataset constructor to pass this parameter.\n",
      "  .format(key))\n",
      "/Users/onurboyar/opt/anaconda3/envs/chemical-vae/lib/python3.7/site-packages/lightgbm/basic.py:1245: UserWarning: categorical_feature in param dict is overridden.\n",
      "  _log_warning('{} in param dict is overridden.'.format(cat_alias))\n",
      "/Users/onurboyar/opt/anaconda3/envs/chemical-vae/lib/python3.7/site-packages/lightgbm/basic.py:1433: UserWarning: Overriding the parameters from Reference Dataset.\n",
      "  _log_warning('Overriding the parameters from Reference Dataset.')\n",
      "/Users/onurboyar/opt/anaconda3/envs/chemical-vae/lib/python3.7/site-packages/lightgbm/basic.py:1245: UserWarning: categorical_column in param dict is overridden.\n",
      "  _log_warning('{} in param dict is overridden.'.format(cat_alias))\n"
     ]
    },
    {
     "name": "stdout",
     "output_type": "stream",
     "text": [
      "[LightGBM] [Warning] min_data_in_leaf is set=110, min_child_samples=20 will be ignored. Current value: min_data_in_leaf=110\n",
      "[LightGBM] [Warning] feature_fraction is set=0.8435769421326961, colsample_bytree=1.0 will be ignored. Current value: feature_fraction=0.8435769421326961\n",
      "[LightGBM] [Warning] bagging_fraction is set=0.8, subsample=1.0 will be ignored. Current value: bagging_fraction=0.8\n",
      "[LightGBM] [Warning] bagging_freq is set=7, subsample_freq=0 will be ignored. Current value: bagging_freq=7\n"
     ]
    },
    {
     "name": "stderr",
     "output_type": "stream",
     "text": [
      "/Users/onurboyar/opt/anaconda3/envs/chemical-vae/lib/python3.7/site-packages/lightgbm/basic.py:1224: UserWarning: categorical_feature keyword has been found in `params` and will be ignored.\n",
      "Please use categorical_feature argument of the Dataset constructor to pass this parameter.\n",
      "  .format(key))\n",
      "/Users/onurboyar/opt/anaconda3/envs/chemical-vae/lib/python3.7/site-packages/lightgbm/basic.py:1245: UserWarning: categorical_feature in param dict is overridden.\n",
      "  _log_warning('{} in param dict is overridden.'.format(cat_alias))\n",
      "/Users/onurboyar/opt/anaconda3/envs/chemical-vae/lib/python3.7/site-packages/lightgbm/basic.py:1433: UserWarning: Overriding the parameters from Reference Dataset.\n",
      "  _log_warning('Overriding the parameters from Reference Dataset.')\n",
      "/Users/onurboyar/opt/anaconda3/envs/chemical-vae/lib/python3.7/site-packages/lightgbm/basic.py:1245: UserWarning: categorical_column in param dict is overridden.\n",
      "  _log_warning('{} in param dict is overridden.'.format(cat_alias))\n"
     ]
    },
    {
     "name": "stdout",
     "output_type": "stream",
     "text": [
      "[LightGBM] [Warning] min_data_in_leaf is set=102, min_child_samples=20 will be ignored. Current value: min_data_in_leaf=102\n",
      "[LightGBM] [Warning] feature_fraction is set=0.958684443290947, colsample_bytree=1.0 will be ignored. Current value: feature_fraction=0.958684443290947\n",
      "[LightGBM] [Warning] bagging_fraction is set=0.7, subsample=1.0 will be ignored. Current value: bagging_fraction=0.7\n",
      "[LightGBM] [Warning] bagging_freq is set=7, subsample_freq=0 will be ignored. Current value: bagging_freq=7\n"
     ]
    },
    {
     "name": "stderr",
     "output_type": "stream",
     "text": [
      "/Users/onurboyar/opt/anaconda3/envs/chemical-vae/lib/python3.7/site-packages/lightgbm/basic.py:1224: UserWarning: categorical_feature keyword has been found in `params` and will be ignored.\n",
      "Please use categorical_feature argument of the Dataset constructor to pass this parameter.\n",
      "  .format(key))\n",
      "/Users/onurboyar/opt/anaconda3/envs/chemical-vae/lib/python3.7/site-packages/lightgbm/basic.py:1245: UserWarning: categorical_feature in param dict is overridden.\n",
      "  _log_warning('{} in param dict is overridden.'.format(cat_alias))\n",
      "/Users/onurboyar/opt/anaconda3/envs/chemical-vae/lib/python3.7/site-packages/lightgbm/basic.py:1433: UserWarning: Overriding the parameters from Reference Dataset.\n",
      "  _log_warning('Overriding the parameters from Reference Dataset.')\n",
      "/Users/onurboyar/opt/anaconda3/envs/chemical-vae/lib/python3.7/site-packages/lightgbm/basic.py:1245: UserWarning: categorical_column in param dict is overridden.\n",
      "  _log_warning('{} in param dict is overridden.'.format(cat_alias))\n"
     ]
    },
    {
     "name": "stdout",
     "output_type": "stream",
     "text": [
      "[LightGBM] [Warning] min_data_in_leaf is set=102, min_child_samples=20 will be ignored. Current value: min_data_in_leaf=102\n",
      "[LightGBM] [Warning] feature_fraction is set=0.958684443290947, colsample_bytree=1.0 will be ignored. Current value: feature_fraction=0.958684443290947\n",
      "[LightGBM] [Warning] bagging_fraction is set=0.7, subsample=1.0 will be ignored. Current value: bagging_fraction=0.7\n",
      "[LightGBM] [Warning] bagging_freq is set=7, subsample_freq=0 will be ignored. Current value: bagging_freq=7\n"
     ]
    },
    {
     "name": "stderr",
     "output_type": "stream",
     "text": [
      "/Users/onurboyar/opt/anaconda3/envs/chemical-vae/lib/python3.7/site-packages/lightgbm/basic.py:1224: UserWarning: categorical_feature keyword has been found in `params` and will be ignored.\n",
      "Please use categorical_feature argument of the Dataset constructor to pass this parameter.\n",
      "  .format(key))\n",
      "/Users/onurboyar/opt/anaconda3/envs/chemical-vae/lib/python3.7/site-packages/lightgbm/basic.py:1245: UserWarning: categorical_feature in param dict is overridden.\n",
      "  _log_warning('{} in param dict is overridden.'.format(cat_alias))\n",
      "/Users/onurboyar/opt/anaconda3/envs/chemical-vae/lib/python3.7/site-packages/lightgbm/basic.py:1433: UserWarning: Overriding the parameters from Reference Dataset.\n",
      "  _log_warning('Overriding the parameters from Reference Dataset.')\n",
      "/Users/onurboyar/opt/anaconda3/envs/chemical-vae/lib/python3.7/site-packages/lightgbm/basic.py:1245: UserWarning: categorical_column in param dict is overridden.\n",
      "  _log_warning('{} in param dict is overridden.'.format(cat_alias))\n"
     ]
    },
    {
     "name": "stdout",
     "output_type": "stream",
     "text": [
      "[LightGBM] [Warning] min_data_in_leaf is set=102, min_child_samples=20 will be ignored. Current value: min_data_in_leaf=102\n",
      "[LightGBM] [Warning] feature_fraction is set=0.958684443290947, colsample_bytree=1.0 will be ignored. Current value: feature_fraction=0.958684443290947\n",
      "[LightGBM] [Warning] bagging_fraction is set=0.7, subsample=1.0 will be ignored. Current value: bagging_fraction=0.7\n",
      "[LightGBM] [Warning] bagging_freq is set=7, subsample_freq=0 will be ignored. Current value: bagging_freq=7\n"
     ]
    },
    {
     "name": "stderr",
     "output_type": "stream",
     "text": [
      "/Users/onurboyar/opt/anaconda3/envs/chemical-vae/lib/python3.7/site-packages/lightgbm/basic.py:1224: UserWarning: categorical_feature keyword has been found in `params` and will be ignored.\n",
      "Please use categorical_feature argument of the Dataset constructor to pass this parameter.\n",
      "  .format(key))\n",
      "/Users/onurboyar/opt/anaconda3/envs/chemical-vae/lib/python3.7/site-packages/lightgbm/basic.py:1245: UserWarning: categorical_feature in param dict is overridden.\n",
      "  _log_warning('{} in param dict is overridden.'.format(cat_alias))\n",
      "/Users/onurboyar/opt/anaconda3/envs/chemical-vae/lib/python3.7/site-packages/lightgbm/basic.py:1433: UserWarning: Overriding the parameters from Reference Dataset.\n",
      "  _log_warning('Overriding the parameters from Reference Dataset.')\n",
      "/Users/onurboyar/opt/anaconda3/envs/chemical-vae/lib/python3.7/site-packages/lightgbm/basic.py:1245: UserWarning: categorical_column in param dict is overridden.\n",
      "  _log_warning('{} in param dict is overridden.'.format(cat_alias))\n"
     ]
    },
    {
     "name": "stdout",
     "output_type": "stream",
     "text": [
      "[LightGBM] [Warning] min_data_in_leaf is set=91, min_child_samples=20 will be ignored. Current value: min_data_in_leaf=91\n",
      "[LightGBM] [Warning] feature_fraction is set=0.9558185180119705, colsample_bytree=1.0 will be ignored. Current value: feature_fraction=0.9558185180119705\n",
      "[LightGBM] [Warning] bagging_fraction is set=0.6, subsample=1.0 will be ignored. Current value: bagging_fraction=0.6\n",
      "[LightGBM] [Warning] bagging_freq is set=7, subsample_freq=0 will be ignored. Current value: bagging_freq=7\n"
     ]
    },
    {
     "name": "stderr",
     "output_type": "stream",
     "text": [
      "/Users/onurboyar/opt/anaconda3/envs/chemical-vae/lib/python3.7/site-packages/lightgbm/basic.py:1224: UserWarning: categorical_feature keyword has been found in `params` and will be ignored.\n",
      "Please use categorical_feature argument of the Dataset constructor to pass this parameter.\n",
      "  .format(key))\n",
      "/Users/onurboyar/opt/anaconda3/envs/chemical-vae/lib/python3.7/site-packages/lightgbm/basic.py:1245: UserWarning: categorical_feature in param dict is overridden.\n",
      "  _log_warning('{} in param dict is overridden.'.format(cat_alias))\n",
      "/Users/onurboyar/opt/anaconda3/envs/chemical-vae/lib/python3.7/site-packages/lightgbm/basic.py:1433: UserWarning: Overriding the parameters from Reference Dataset.\n",
      "  _log_warning('Overriding the parameters from Reference Dataset.')\n",
      "/Users/onurboyar/opt/anaconda3/envs/chemical-vae/lib/python3.7/site-packages/lightgbm/basic.py:1245: UserWarning: categorical_column in param dict is overridden.\n",
      "  _log_warning('{} in param dict is overridden.'.format(cat_alias))\n"
     ]
    },
    {
     "name": "stdout",
     "output_type": "stream",
     "text": [
      "[LightGBM] [Warning] min_data_in_leaf is set=91, min_child_samples=20 will be ignored. Current value: min_data_in_leaf=91\n",
      "[LightGBM] [Warning] feature_fraction is set=0.9558185180119705, colsample_bytree=1.0 will be ignored. Current value: feature_fraction=0.9558185180119705\n",
      "[LightGBM] [Warning] bagging_fraction is set=0.6, subsample=1.0 will be ignored. Current value: bagging_fraction=0.6\n",
      "[LightGBM] [Warning] bagging_freq is set=7, subsample_freq=0 will be ignored. Current value: bagging_freq=7\n"
     ]
    },
    {
     "name": "stderr",
     "output_type": "stream",
     "text": [
      "/Users/onurboyar/opt/anaconda3/envs/chemical-vae/lib/python3.7/site-packages/lightgbm/basic.py:1224: UserWarning: categorical_feature keyword has been found in `params` and will be ignored.\n",
      "Please use categorical_feature argument of the Dataset constructor to pass this parameter.\n",
      "  .format(key))\n",
      "/Users/onurboyar/opt/anaconda3/envs/chemical-vae/lib/python3.7/site-packages/lightgbm/basic.py:1245: UserWarning: categorical_feature in param dict is overridden.\n",
      "  _log_warning('{} in param dict is overridden.'.format(cat_alias))\n",
      "/Users/onurboyar/opt/anaconda3/envs/chemical-vae/lib/python3.7/site-packages/lightgbm/basic.py:1433: UserWarning: Overriding the parameters from Reference Dataset.\n",
      "  _log_warning('Overriding the parameters from Reference Dataset.')\n",
      "/Users/onurboyar/opt/anaconda3/envs/chemical-vae/lib/python3.7/site-packages/lightgbm/basic.py:1245: UserWarning: categorical_column in param dict is overridden.\n",
      "  _log_warning('{} in param dict is overridden.'.format(cat_alias))\n"
     ]
    },
    {
     "name": "stdout",
     "output_type": "stream",
     "text": [
      "[LightGBM] [Warning] min_data_in_leaf is set=91, min_child_samples=20 will be ignored. Current value: min_data_in_leaf=91\n",
      "[LightGBM] [Warning] feature_fraction is set=0.9558185180119705, colsample_bytree=1.0 will be ignored. Current value: feature_fraction=0.9558185180119705\n",
      "[LightGBM] [Warning] bagging_fraction is set=0.6, subsample=1.0 will be ignored. Current value: bagging_fraction=0.6\n",
      "[LightGBM] [Warning] bagging_freq is set=7, subsample_freq=0 will be ignored. Current value: bagging_freq=7\n"
     ]
    },
    {
     "name": "stderr",
     "output_type": "stream",
     "text": [
      "/Users/onurboyar/opt/anaconda3/envs/chemical-vae/lib/python3.7/site-packages/lightgbm/basic.py:1224: UserWarning: categorical_feature keyword has been found in `params` and will be ignored.\n",
      "Please use categorical_feature argument of the Dataset constructor to pass this parameter.\n",
      "  .format(key))\n",
      "/Users/onurboyar/opt/anaconda3/envs/chemical-vae/lib/python3.7/site-packages/lightgbm/basic.py:1245: UserWarning: categorical_feature in param dict is overridden.\n",
      "  _log_warning('{} in param dict is overridden.'.format(cat_alias))\n",
      "[LightGBM] [Fatal] Check failed: (feature_fraction) <= (1.0) at /tmp/pip-req-build-u3eu75cl/compile/src/io/config_auto.cpp, line 363 .\n",
      "\n",
      "/Users/onurboyar/opt/anaconda3/envs/chemical-vae/lib/python3.7/site-packages/lightgbm/basic.py:1224: UserWarning: categorical_feature keyword has been found in `params` and will be ignored.\n",
      "Please use categorical_feature argument of the Dataset constructor to pass this parameter.\n",
      "  .format(key))\n",
      "/Users/onurboyar/opt/anaconda3/envs/chemical-vae/lib/python3.7/site-packages/lightgbm/basic.py:1245: UserWarning: categorical_feature in param dict is overridden.\n",
      "  _log_warning('{} in param dict is overridden.'.format(cat_alias))\n",
      "[LightGBM] [Fatal] Check failed: (feature_fraction) <= (1.0) at /tmp/pip-req-build-u3eu75cl/compile/src/io/config_auto.cpp, line 363 .\n",
      "\n",
      "/Users/onurboyar/opt/anaconda3/envs/chemical-vae/lib/python3.7/site-packages/lightgbm/basic.py:1224: UserWarning: categorical_feature keyword has been found in `params` and will be ignored.\n",
      "Please use categorical_feature argument of the Dataset constructor to pass this parameter.\n",
      "  .format(key))\n",
      "/Users/onurboyar/opt/anaconda3/envs/chemical-vae/lib/python3.7/site-packages/lightgbm/basic.py:1245: UserWarning: categorical_feature in param dict is overridden.\n",
      "  _log_warning('{} in param dict is overridden.'.format(cat_alias))\n",
      "[LightGBM] [Fatal] Check failed: (feature_fraction) <= (1.0) at /tmp/pip-req-build-u3eu75cl/compile/src/io/config_auto.cpp, line 363 .\n",
      "\n",
      "/Users/onurboyar/opt/anaconda3/envs/chemical-vae/lib/python3.7/site-packages/lightgbm/basic.py:1224: UserWarning: categorical_feature keyword has been found in `params` and will be ignored.\n",
      "Please use categorical_feature argument of the Dataset constructor to pass this parameter.\n",
      "  .format(key))\n",
      "/Users/onurboyar/opt/anaconda3/envs/chemical-vae/lib/python3.7/site-packages/lightgbm/basic.py:1245: UserWarning: categorical_feature in param dict is overridden.\n",
      "  _log_warning('{} in param dict is overridden.'.format(cat_alias))\n",
      "/Users/onurboyar/opt/anaconda3/envs/chemical-vae/lib/python3.7/site-packages/lightgbm/basic.py:1433: UserWarning: Overriding the parameters from Reference Dataset.\n",
      "  _log_warning('Overriding the parameters from Reference Dataset.')\n",
      "/Users/onurboyar/opt/anaconda3/envs/chemical-vae/lib/python3.7/site-packages/lightgbm/basic.py:1245: UserWarning: categorical_column in param dict is overridden.\n",
      "  _log_warning('{} in param dict is overridden.'.format(cat_alias))\n"
     ]
    },
    {
     "name": "stdout",
     "output_type": "stream",
     "text": [
      "[LightGBM] [Warning] min_data_in_leaf is set=92, min_child_samples=40 will be ignored. Current value: min_data_in_leaf=92\n",
      "[LightGBM] [Warning] feature_fraction is set=1.076976370840204, colsample_bytree=1.0 will be ignored. Current value: feature_fraction=1.076976370840204\n",
      "[LightGBM] [Warning] bagging_fraction is set=0.7, subsample=1.0 will be ignored. Current value: bagging_fraction=0.7\n",
      "[LightGBM] [Warning] bagging_freq is set=6, subsample_freq=0 will be ignored. Current value: bagging_freq=6\n",
      "[LightGBM] [Warning] min_data_in_leaf is set=92, min_child_samples=40 will be ignored. Current value: min_data_in_leaf=92\n",
      "[LightGBM] [Warning] feature_fraction is set=1.076976370840204, colsample_bytree=1.0 will be ignored. Current value: feature_fraction=1.076976370840204\n",
      "[LightGBM] [Warning] bagging_fraction is set=0.7, subsample=1.0 will be ignored. Current value: bagging_fraction=0.7\n",
      "[LightGBM] [Warning] bagging_freq is set=6, subsample_freq=0 will be ignored. Current value: bagging_freq=6\n",
      "[LightGBM] [Warning] min_data_in_leaf is set=92, min_child_samples=40 will be ignored. Current value: min_data_in_leaf=92\n",
      "[LightGBM] [Warning] feature_fraction is set=1.076976370840204, colsample_bytree=1.0 will be ignored. Current value: feature_fraction=1.076976370840204\n",
      "[LightGBM] [Warning] bagging_fraction is set=0.7, subsample=1.0 will be ignored. Current value: bagging_fraction=0.7\n",
      "[LightGBM] [Warning] bagging_freq is set=6, subsample_freq=0 will be ignored. Current value: bagging_freq=6\n",
      "[LightGBM] [Warning] min_data_in_leaf is set=119, min_child_samples=25 will be ignored. Current value: min_data_in_leaf=119\n",
      "[LightGBM] [Warning] feature_fraction is set=0.8205665175291902, colsample_bytree=1.0 will be ignored. Current value: feature_fraction=0.8205665175291902\n",
      "[LightGBM] [Warning] bagging_fraction is set=0.8, subsample=1.0 will be ignored. Current value: bagging_fraction=0.8\n",
      "[LightGBM] [Warning] bagging_freq is set=7, subsample_freq=0 will be ignored. Current value: bagging_freq=7\n"
     ]
    },
    {
     "name": "stderr",
     "output_type": "stream",
     "text": [
      "/Users/onurboyar/opt/anaconda3/envs/chemical-vae/lib/python3.7/site-packages/lightgbm/basic.py:1224: UserWarning: categorical_feature keyword has been found in `params` and will be ignored.\n",
      "Please use categorical_feature argument of the Dataset constructor to pass this parameter.\n",
      "  .format(key))\n",
      "/Users/onurboyar/opt/anaconda3/envs/chemical-vae/lib/python3.7/site-packages/lightgbm/basic.py:1245: UserWarning: categorical_feature in param dict is overridden.\n",
      "  _log_warning('{} in param dict is overridden.'.format(cat_alias))\n",
      "/Users/onurboyar/opt/anaconda3/envs/chemical-vae/lib/python3.7/site-packages/lightgbm/basic.py:1433: UserWarning: Overriding the parameters from Reference Dataset.\n",
      "  _log_warning('Overriding the parameters from Reference Dataset.')\n",
      "/Users/onurboyar/opt/anaconda3/envs/chemical-vae/lib/python3.7/site-packages/lightgbm/basic.py:1245: UserWarning: categorical_column in param dict is overridden.\n",
      "  _log_warning('{} in param dict is overridden.'.format(cat_alias))\n"
     ]
    },
    {
     "name": "stdout",
     "output_type": "stream",
     "text": [
      "[LightGBM] [Warning] min_data_in_leaf is set=119, min_child_samples=25 will be ignored. Current value: min_data_in_leaf=119\n",
      "[LightGBM] [Warning] feature_fraction is set=0.8205665175291902, colsample_bytree=1.0 will be ignored. Current value: feature_fraction=0.8205665175291902\n",
      "[LightGBM] [Warning] bagging_fraction is set=0.8, subsample=1.0 will be ignored. Current value: bagging_fraction=0.8\n",
      "[LightGBM] [Warning] bagging_freq is set=7, subsample_freq=0 will be ignored. Current value: bagging_freq=7\n"
     ]
    },
    {
     "name": "stderr",
     "output_type": "stream",
     "text": [
      "/Users/onurboyar/opt/anaconda3/envs/chemical-vae/lib/python3.7/site-packages/lightgbm/basic.py:1224: UserWarning: categorical_feature keyword has been found in `params` and will be ignored.\n",
      "Please use categorical_feature argument of the Dataset constructor to pass this parameter.\n",
      "  .format(key))\n",
      "/Users/onurboyar/opt/anaconda3/envs/chemical-vae/lib/python3.7/site-packages/lightgbm/basic.py:1245: UserWarning: categorical_feature in param dict is overridden.\n",
      "  _log_warning('{} in param dict is overridden.'.format(cat_alias))\n",
      "/Users/onurboyar/opt/anaconda3/envs/chemical-vae/lib/python3.7/site-packages/lightgbm/basic.py:1433: UserWarning: Overriding the parameters from Reference Dataset.\n",
      "  _log_warning('Overriding the parameters from Reference Dataset.')\n",
      "/Users/onurboyar/opt/anaconda3/envs/chemical-vae/lib/python3.7/site-packages/lightgbm/basic.py:1245: UserWarning: categorical_column in param dict is overridden.\n",
      "  _log_warning('{} in param dict is overridden.'.format(cat_alias))\n"
     ]
    },
    {
     "name": "stdout",
     "output_type": "stream",
     "text": [
      "[LightGBM] [Warning] min_data_in_leaf is set=119, min_child_samples=25 will be ignored. Current value: min_data_in_leaf=119\n",
      "[LightGBM] [Warning] feature_fraction is set=0.8205665175291902, colsample_bytree=1.0 will be ignored. Current value: feature_fraction=0.8205665175291902\n",
      "[LightGBM] [Warning] bagging_fraction is set=0.8, subsample=1.0 will be ignored. Current value: bagging_fraction=0.8\n",
      "[LightGBM] [Warning] bagging_freq is set=7, subsample_freq=0 will be ignored. Current value: bagging_freq=7\n"
     ]
    },
    {
     "name": "stderr",
     "output_type": "stream",
     "text": [
      "/Users/onurboyar/opt/anaconda3/envs/chemical-vae/lib/python3.7/site-packages/lightgbm/basic.py:1224: UserWarning: categorical_feature keyword has been found in `params` and will be ignored.\n",
      "Please use categorical_feature argument of the Dataset constructor to pass this parameter.\n",
      "  .format(key))\n",
      "/Users/onurboyar/opt/anaconda3/envs/chemical-vae/lib/python3.7/site-packages/lightgbm/basic.py:1245: UserWarning: categorical_feature in param dict is overridden.\n",
      "  _log_warning('{} in param dict is overridden.'.format(cat_alias))\n",
      "/Users/onurboyar/opt/anaconda3/envs/chemical-vae/lib/python3.7/site-packages/lightgbm/basic.py:1433: UserWarning: Overriding the parameters from Reference Dataset.\n",
      "  _log_warning('Overriding the parameters from Reference Dataset.')\n",
      "/Users/onurboyar/opt/anaconda3/envs/chemical-vae/lib/python3.7/site-packages/lightgbm/basic.py:1245: UserWarning: categorical_column in param dict is overridden.\n",
      "  _log_warning('{} in param dict is overridden.'.format(cat_alias))\n"
     ]
    },
    {
     "name": "stdout",
     "output_type": "stream",
     "text": [
      "[LightGBM] [Warning] min_data_in_leaf is set=118, min_child_samples=20 will be ignored. Current value: min_data_in_leaf=118\n",
      "[LightGBM] [Warning] feature_fraction is set=0.9223983359313086, colsample_bytree=1.0 will be ignored. Current value: feature_fraction=0.9223983359313086\n",
      "[LightGBM] [Warning] bagging_fraction is set=0.7, subsample=1.0 will be ignored. Current value: bagging_fraction=0.7\n",
      "[LightGBM] [Warning] bagging_freq is set=6, subsample_freq=0 will be ignored. Current value: bagging_freq=6\n"
     ]
    },
    {
     "name": "stderr",
     "output_type": "stream",
     "text": [
      "/Users/onurboyar/opt/anaconda3/envs/chemical-vae/lib/python3.7/site-packages/lightgbm/basic.py:1224: UserWarning: categorical_feature keyword has been found in `params` and will be ignored.\n",
      "Please use categorical_feature argument of the Dataset constructor to pass this parameter.\n",
      "  .format(key))\n",
      "/Users/onurboyar/opt/anaconda3/envs/chemical-vae/lib/python3.7/site-packages/lightgbm/basic.py:1245: UserWarning: categorical_feature in param dict is overridden.\n",
      "  _log_warning('{} in param dict is overridden.'.format(cat_alias))\n",
      "/Users/onurboyar/opt/anaconda3/envs/chemical-vae/lib/python3.7/site-packages/lightgbm/basic.py:1433: UserWarning: Overriding the parameters from Reference Dataset.\n",
      "  _log_warning('Overriding the parameters from Reference Dataset.')\n",
      "/Users/onurboyar/opt/anaconda3/envs/chemical-vae/lib/python3.7/site-packages/lightgbm/basic.py:1245: UserWarning: categorical_column in param dict is overridden.\n",
      "  _log_warning('{} in param dict is overridden.'.format(cat_alias))\n"
     ]
    },
    {
     "name": "stdout",
     "output_type": "stream",
     "text": [
      "[LightGBM] [Warning] min_data_in_leaf is set=118, min_child_samples=20 will be ignored. Current value: min_data_in_leaf=118\n",
      "[LightGBM] [Warning] feature_fraction is set=0.9223983359313086, colsample_bytree=1.0 will be ignored. Current value: feature_fraction=0.9223983359313086\n",
      "[LightGBM] [Warning] bagging_fraction is set=0.7, subsample=1.0 will be ignored. Current value: bagging_fraction=0.7\n",
      "[LightGBM] [Warning] bagging_freq is set=6, subsample_freq=0 will be ignored. Current value: bagging_freq=6\n"
     ]
    },
    {
     "name": "stderr",
     "output_type": "stream",
     "text": [
      "/Users/onurboyar/opt/anaconda3/envs/chemical-vae/lib/python3.7/site-packages/lightgbm/basic.py:1224: UserWarning: categorical_feature keyword has been found in `params` and will be ignored.\n",
      "Please use categorical_feature argument of the Dataset constructor to pass this parameter.\n",
      "  .format(key))\n",
      "/Users/onurboyar/opt/anaconda3/envs/chemical-vae/lib/python3.7/site-packages/lightgbm/basic.py:1245: UserWarning: categorical_feature in param dict is overridden.\n",
      "  _log_warning('{} in param dict is overridden.'.format(cat_alias))\n",
      "/Users/onurboyar/opt/anaconda3/envs/chemical-vae/lib/python3.7/site-packages/lightgbm/basic.py:1433: UserWarning: Overriding the parameters from Reference Dataset.\n",
      "  _log_warning('Overriding the parameters from Reference Dataset.')\n",
      "/Users/onurboyar/opt/anaconda3/envs/chemical-vae/lib/python3.7/site-packages/lightgbm/basic.py:1245: UserWarning: categorical_column in param dict is overridden.\n",
      "  _log_warning('{} in param dict is overridden.'.format(cat_alias))\n"
     ]
    },
    {
     "name": "stdout",
     "output_type": "stream",
     "text": [
      "[LightGBM] [Warning] min_data_in_leaf is set=118, min_child_samples=20 will be ignored. Current value: min_data_in_leaf=118\n",
      "[LightGBM] [Warning] feature_fraction is set=0.9223983359313086, colsample_bytree=1.0 will be ignored. Current value: feature_fraction=0.9223983359313086\n",
      "[LightGBM] [Warning] bagging_fraction is set=0.7, subsample=1.0 will be ignored. Current value: bagging_fraction=0.7\n",
      "[LightGBM] [Warning] bagging_freq is set=6, subsample_freq=0 will be ignored. Current value: bagging_freq=6\n"
     ]
    },
    {
     "name": "stderr",
     "output_type": "stream",
     "text": [
      "/Users/onurboyar/opt/anaconda3/envs/chemical-vae/lib/python3.7/site-packages/lightgbm/basic.py:1224: UserWarning: categorical_feature keyword has been found in `params` and will be ignored.\n",
      "Please use categorical_feature argument of the Dataset constructor to pass this parameter.\n",
      "  .format(key))\n",
      "/Users/onurboyar/opt/anaconda3/envs/chemical-vae/lib/python3.7/site-packages/lightgbm/basic.py:1245: UserWarning: categorical_feature in param dict is overridden.\n",
      "  _log_warning('{} in param dict is overridden.'.format(cat_alias))\n",
      "/Users/onurboyar/opt/anaconda3/envs/chemical-vae/lib/python3.7/site-packages/lightgbm/basic.py:1433: UserWarning: Overriding the parameters from Reference Dataset.\n",
      "  _log_warning('Overriding the parameters from Reference Dataset.')\n",
      "/Users/onurboyar/opt/anaconda3/envs/chemical-vae/lib/python3.7/site-packages/lightgbm/basic.py:1245: UserWarning: categorical_column in param dict is overridden.\n",
      "  _log_warning('{} in param dict is overridden.'.format(cat_alias))\n"
     ]
    },
    {
     "name": "stdout",
     "output_type": "stream",
     "text": [
      "[LightGBM] [Warning] min_data_in_leaf is set=119, min_child_samples=25 will be ignored. Current value: min_data_in_leaf=119\n",
      "[LightGBM] [Warning] feature_fraction is set=0.9816003388941108, colsample_bytree=1.0 will be ignored. Current value: feature_fraction=0.9816003388941108\n",
      "[LightGBM] [Warning] bagging_fraction is set=0.5, subsample=1.0 will be ignored. Current value: bagging_fraction=0.5\n",
      "[LightGBM] [Warning] bagging_freq is set=5, subsample_freq=0 will be ignored. Current value: bagging_freq=5\n"
     ]
    },
    {
     "name": "stderr",
     "output_type": "stream",
     "text": [
      "/Users/onurboyar/opt/anaconda3/envs/chemical-vae/lib/python3.7/site-packages/lightgbm/basic.py:1224: UserWarning: categorical_feature keyword has been found in `params` and will be ignored.\n",
      "Please use categorical_feature argument of the Dataset constructor to pass this parameter.\n",
      "  .format(key))\n",
      "/Users/onurboyar/opt/anaconda3/envs/chemical-vae/lib/python3.7/site-packages/lightgbm/basic.py:1245: UserWarning: categorical_feature in param dict is overridden.\n",
      "  _log_warning('{} in param dict is overridden.'.format(cat_alias))\n",
      "/Users/onurboyar/opt/anaconda3/envs/chemical-vae/lib/python3.7/site-packages/lightgbm/basic.py:1433: UserWarning: Overriding the parameters from Reference Dataset.\n",
      "  _log_warning('Overriding the parameters from Reference Dataset.')\n",
      "/Users/onurboyar/opt/anaconda3/envs/chemical-vae/lib/python3.7/site-packages/lightgbm/basic.py:1245: UserWarning: categorical_column in param dict is overridden.\n",
      "  _log_warning('{} in param dict is overridden.'.format(cat_alias))\n"
     ]
    },
    {
     "name": "stdout",
     "output_type": "stream",
     "text": [
      "[LightGBM] [Warning] min_data_in_leaf is set=119, min_child_samples=25 will be ignored. Current value: min_data_in_leaf=119\n",
      "[LightGBM] [Warning] feature_fraction is set=0.9816003388941108, colsample_bytree=1.0 will be ignored. Current value: feature_fraction=0.9816003388941108\n",
      "[LightGBM] [Warning] bagging_fraction is set=0.5, subsample=1.0 will be ignored. Current value: bagging_fraction=0.5\n",
      "[LightGBM] [Warning] bagging_freq is set=5, subsample_freq=0 will be ignored. Current value: bagging_freq=5\n"
     ]
    },
    {
     "name": "stderr",
     "output_type": "stream",
     "text": [
      "/Users/onurboyar/opt/anaconda3/envs/chemical-vae/lib/python3.7/site-packages/lightgbm/basic.py:1224: UserWarning: categorical_feature keyword has been found in `params` and will be ignored.\n",
      "Please use categorical_feature argument of the Dataset constructor to pass this parameter.\n",
      "  .format(key))\n",
      "/Users/onurboyar/opt/anaconda3/envs/chemical-vae/lib/python3.7/site-packages/lightgbm/basic.py:1245: UserWarning: categorical_feature in param dict is overridden.\n",
      "  _log_warning('{} in param dict is overridden.'.format(cat_alias))\n",
      "/Users/onurboyar/opt/anaconda3/envs/chemical-vae/lib/python3.7/site-packages/lightgbm/basic.py:1433: UserWarning: Overriding the parameters from Reference Dataset.\n",
      "  _log_warning('Overriding the parameters from Reference Dataset.')\n",
      "/Users/onurboyar/opt/anaconda3/envs/chemical-vae/lib/python3.7/site-packages/lightgbm/basic.py:1245: UserWarning: categorical_column in param dict is overridden.\n",
      "  _log_warning('{} in param dict is overridden.'.format(cat_alias))\n"
     ]
    },
    {
     "name": "stdout",
     "output_type": "stream",
     "text": [
      "[LightGBM] [Warning] min_data_in_leaf is set=119, min_child_samples=25 will be ignored. Current value: min_data_in_leaf=119\n",
      "[LightGBM] [Warning] feature_fraction is set=0.9816003388941108, colsample_bytree=1.0 will be ignored. Current value: feature_fraction=0.9816003388941108\n",
      "[LightGBM] [Warning] bagging_fraction is set=0.5, subsample=1.0 will be ignored. Current value: bagging_fraction=0.5\n",
      "[LightGBM] [Warning] bagging_freq is set=5, subsample_freq=0 will be ignored. Current value: bagging_freq=5\n"
     ]
    },
    {
     "name": "stderr",
     "output_type": "stream",
     "text": [
      "/Users/onurboyar/opt/anaconda3/envs/chemical-vae/lib/python3.7/site-packages/lightgbm/basic.py:1224: UserWarning: categorical_feature keyword has been found in `params` and will be ignored.\n",
      "Please use categorical_feature argument of the Dataset constructor to pass this parameter.\n",
      "  .format(key))\n",
      "/Users/onurboyar/opt/anaconda3/envs/chemical-vae/lib/python3.7/site-packages/lightgbm/basic.py:1245: UserWarning: categorical_feature in param dict is overridden.\n",
      "  _log_warning('{} in param dict is overridden.'.format(cat_alias))\n",
      "/Users/onurboyar/opt/anaconda3/envs/chemical-vae/lib/python3.7/site-packages/lightgbm/basic.py:1433: UserWarning: Overriding the parameters from Reference Dataset.\n",
      "  _log_warning('Overriding the parameters from Reference Dataset.')\n",
      "/Users/onurboyar/opt/anaconda3/envs/chemical-vae/lib/python3.7/site-packages/lightgbm/basic.py:1245: UserWarning: categorical_column in param dict is overridden.\n",
      "  _log_warning('{} in param dict is overridden.'.format(cat_alias))\n"
     ]
    },
    {
     "name": "stdout",
     "output_type": "stream",
     "text": [
      "[LightGBM] [Warning] min_data_in_leaf is set=118, min_child_samples=35 will be ignored. Current value: min_data_in_leaf=118\n",
      "[LightGBM] [Warning] feature_fraction is set=0.9233236722259122, colsample_bytree=1.0 will be ignored. Current value: feature_fraction=0.9233236722259122\n",
      "[LightGBM] [Warning] bagging_fraction is set=0.6, subsample=1.0 will be ignored. Current value: bagging_fraction=0.6\n",
      "[LightGBM] [Warning] bagging_freq is set=6, subsample_freq=0 will be ignored. Current value: bagging_freq=6\n"
     ]
    },
    {
     "name": "stderr",
     "output_type": "stream",
     "text": [
      "/Users/onurboyar/opt/anaconda3/envs/chemical-vae/lib/python3.7/site-packages/lightgbm/basic.py:1224: UserWarning: categorical_feature keyword has been found in `params` and will be ignored.\n",
      "Please use categorical_feature argument of the Dataset constructor to pass this parameter.\n",
      "  .format(key))\n",
      "/Users/onurboyar/opt/anaconda3/envs/chemical-vae/lib/python3.7/site-packages/lightgbm/basic.py:1245: UserWarning: categorical_feature in param dict is overridden.\n",
      "  _log_warning('{} in param dict is overridden.'.format(cat_alias))\n",
      "/Users/onurboyar/opt/anaconda3/envs/chemical-vae/lib/python3.7/site-packages/lightgbm/basic.py:1433: UserWarning: Overriding the parameters from Reference Dataset.\n",
      "  _log_warning('Overriding the parameters from Reference Dataset.')\n",
      "/Users/onurboyar/opt/anaconda3/envs/chemical-vae/lib/python3.7/site-packages/lightgbm/basic.py:1245: UserWarning: categorical_column in param dict is overridden.\n",
      "  _log_warning('{} in param dict is overridden.'.format(cat_alias))\n"
     ]
    },
    {
     "name": "stdout",
     "output_type": "stream",
     "text": [
      "[LightGBM] [Warning] min_data_in_leaf is set=118, min_child_samples=35 will be ignored. Current value: min_data_in_leaf=118\n",
      "[LightGBM] [Warning] feature_fraction is set=0.9233236722259122, colsample_bytree=1.0 will be ignored. Current value: feature_fraction=0.9233236722259122\n",
      "[LightGBM] [Warning] bagging_fraction is set=0.6, subsample=1.0 will be ignored. Current value: bagging_fraction=0.6\n",
      "[LightGBM] [Warning] bagging_freq is set=6, subsample_freq=0 will be ignored. Current value: bagging_freq=6\n"
     ]
    },
    {
     "name": "stderr",
     "output_type": "stream",
     "text": [
      "/Users/onurboyar/opt/anaconda3/envs/chemical-vae/lib/python3.7/site-packages/lightgbm/basic.py:1224: UserWarning: categorical_feature keyword has been found in `params` and will be ignored.\n",
      "Please use categorical_feature argument of the Dataset constructor to pass this parameter.\n",
      "  .format(key))\n",
      "/Users/onurboyar/opt/anaconda3/envs/chemical-vae/lib/python3.7/site-packages/lightgbm/basic.py:1245: UserWarning: categorical_feature in param dict is overridden.\n",
      "  _log_warning('{} in param dict is overridden.'.format(cat_alias))\n",
      "/Users/onurboyar/opt/anaconda3/envs/chemical-vae/lib/python3.7/site-packages/lightgbm/basic.py:1433: UserWarning: Overriding the parameters from Reference Dataset.\n",
      "  _log_warning('Overriding the parameters from Reference Dataset.')\n",
      "/Users/onurboyar/opt/anaconda3/envs/chemical-vae/lib/python3.7/site-packages/lightgbm/basic.py:1245: UserWarning: categorical_column in param dict is overridden.\n",
      "  _log_warning('{} in param dict is overridden.'.format(cat_alias))\n"
     ]
    },
    {
     "name": "stdout",
     "output_type": "stream",
     "text": [
      "[LightGBM] [Warning] min_data_in_leaf is set=118, min_child_samples=35 will be ignored. Current value: min_data_in_leaf=118\n",
      "[LightGBM] [Warning] feature_fraction is set=0.9233236722259122, colsample_bytree=1.0 will be ignored. Current value: feature_fraction=0.9233236722259122\n",
      "[LightGBM] [Warning] bagging_fraction is set=0.6, subsample=1.0 will be ignored. Current value: bagging_fraction=0.6\n",
      "[LightGBM] [Warning] bagging_freq is set=6, subsample_freq=0 will be ignored. Current value: bagging_freq=6\n"
     ]
    },
    {
     "name": "stderr",
     "output_type": "stream",
     "text": [
      "/Users/onurboyar/opt/anaconda3/envs/chemical-vae/lib/python3.7/site-packages/lightgbm/basic.py:1224: UserWarning: categorical_feature keyword has been found in `params` and will be ignored.\n",
      "Please use categorical_feature argument of the Dataset constructor to pass this parameter.\n",
      "  .format(key))\n",
      "/Users/onurboyar/opt/anaconda3/envs/chemical-vae/lib/python3.7/site-packages/lightgbm/basic.py:1245: UserWarning: categorical_feature in param dict is overridden.\n",
      "  _log_warning('{} in param dict is overridden.'.format(cat_alias))\n",
      "[LightGBM] [Fatal] Check failed: (feature_fraction) <= (1.0) at /tmp/pip-req-build-u3eu75cl/compile/src/io/config_auto.cpp, line 363 .\n",
      "\n",
      "/Users/onurboyar/opt/anaconda3/envs/chemical-vae/lib/python3.7/site-packages/lightgbm/basic.py:1224: UserWarning: categorical_feature keyword has been found in `params` and will be ignored.\n",
      "Please use categorical_feature argument of the Dataset constructor to pass this parameter.\n",
      "  .format(key))\n",
      "/Users/onurboyar/opt/anaconda3/envs/chemical-vae/lib/python3.7/site-packages/lightgbm/basic.py:1245: UserWarning: categorical_feature in param dict is overridden.\n",
      "  _log_warning('{} in param dict is overridden.'.format(cat_alias))\n",
      "[LightGBM] [Fatal] Check failed: (feature_fraction) <= (1.0) at /tmp/pip-req-build-u3eu75cl/compile/src/io/config_auto.cpp, line 363 .\n",
      "\n",
      "/Users/onurboyar/opt/anaconda3/envs/chemical-vae/lib/python3.7/site-packages/lightgbm/basic.py:1224: UserWarning: categorical_feature keyword has been found in `params` and will be ignored.\n",
      "Please use categorical_feature argument of the Dataset constructor to pass this parameter.\n",
      "  .format(key))\n",
      "/Users/onurboyar/opt/anaconda3/envs/chemical-vae/lib/python3.7/site-packages/lightgbm/basic.py:1245: UserWarning: categorical_feature in param dict is overridden.\n",
      "  _log_warning('{} in param dict is overridden.'.format(cat_alias))\n",
      "[LightGBM] [Fatal] Check failed: (feature_fraction) <= (1.0) at /tmp/pip-req-build-u3eu75cl/compile/src/io/config_auto.cpp, line 363 .\n",
      "\n",
      "/Users/onurboyar/opt/anaconda3/envs/chemical-vae/lib/python3.7/site-packages/sklearn/model_selection/_validation.py:372: FitFailedWarning: \n",
      "6 fits failed out of a total of 30.\n",
      "The score on these train-test partitions for these parameters will be set to nan.\n",
      "If these failures are not expected, you can try to debug them by setting error_score='raise'.\n",
      "\n",
      "Below are more details about the failures:\n",
      "--------------------------------------------------------------------------------\n",
      "6 fits failed with the following error:\n",
      "Traceback (most recent call last):\n",
      "  File \"/Users/onurboyar/opt/anaconda3/envs/chemical-vae/lib/python3.7/site-packages/sklearn/model_selection/_validation.py\", line 681, in _fit_and_score\n",
      "    estimator.fit(X_train, y_train, **fit_params)\n",
      "  File \"/Users/onurboyar/opt/anaconda3/envs/chemical-vae/lib/python3.7/site-packages/lightgbm/sklearn.py\", line 895, in fit\n",
      "    callbacks=callbacks, init_model=init_model)\n",
      "  File \"/Users/onurboyar/opt/anaconda3/envs/chemical-vae/lib/python3.7/site-packages/lightgbm/sklearn.py\", line 688, in fit\n",
      "    callbacks=callbacks, init_model=init_model)\n",
      "  File \"/Users/onurboyar/opt/anaconda3/envs/chemical-vae/lib/python3.7/site-packages/lightgbm/engine.py\", line 228, in train\n",
      "    booster = Booster(params=params, train_set=train_set)\n",
      "  File \"/Users/onurboyar/opt/anaconda3/envs/chemical-vae/lib/python3.7/site-packages/lightgbm/basic.py\", line 2229, in __init__\n",
      "    train_set.construct()\n",
      "  File \"/Users/onurboyar/opt/anaconda3/envs/chemical-vae/lib/python3.7/site-packages/lightgbm/basic.py\", line 1472, in construct\n",
      "    categorical_feature=self.categorical_feature, params=self.params)\n",
      "  File \"/Users/onurboyar/opt/anaconda3/envs/chemical-vae/lib/python3.7/site-packages/lightgbm/basic.py\", line 1270, in _lazy_init\n",
      "    self.__init_from_np2d(data, params_str, ref_dataset)\n",
      "  File \"/Users/onurboyar/opt/anaconda3/envs/chemical-vae/lib/python3.7/site-packages/lightgbm/basic.py\", line 1320, in __init_from_np2d\n",
      "    ctypes.byref(self.handle)))\n",
      "  File \"/Users/onurboyar/opt/anaconda3/envs/chemical-vae/lib/python3.7/site-packages/lightgbm/basic.py\", line 110, in _safe_call\n",
      "    raise LightGBMError(_LIB.LGBM_GetLastError().decode('utf-8'))\n",
      "lightgbm.basic.LightGBMError: Check failed: (feature_fraction) <= (1.0) at /tmp/pip-req-build-u3eu75cl/compile/src/io/config_auto.cpp, line 363 .\n",
      "\n",
      "\n",
      "  warnings.warn(some_fits_failed_message, FitFailedWarning)\n",
      "/Users/onurboyar/opt/anaconda3/envs/chemical-vae/lib/python3.7/site-packages/sklearn/model_selection/_search.py:972: UserWarning: One or more of the test scores are non-finite: [0.85839207 0.95119783 0.95800111 0.85839207        nan 0.85839207\n",
      " 0.94877586 0.95752941 0.85839207        nan]\n",
      "  category=UserWarning,\n",
      "/Users/onurboyar/opt/anaconda3/envs/chemical-vae/lib/python3.7/site-packages/lightgbm/basic.py:1224: UserWarning: categorical_feature keyword has been found in `params` and will be ignored.\n",
      "Please use categorical_feature argument of the Dataset constructor to pass this parameter.\n",
      "  .format(key))\n",
      "/Users/onurboyar/opt/anaconda3/envs/chemical-vae/lib/python3.7/site-packages/lightgbm/basic.py:1245: UserWarning: categorical_feature in param dict is overridden.\n",
      "  _log_warning('{} in param dict is overridden.'.format(cat_alias))\n"
     ]
    },
    {
     "name": "stdout",
     "output_type": "stream",
     "text": [
      "[LightGBM] [Warning] min_data_in_leaf is set=91, min_child_samples=20 will be ignored. Current value: min_data_in_leaf=91\n",
      "[LightGBM] [Warning] feature_fraction is set=1.0925216030437248, colsample_bytree=1.0 will be ignored. Current value: feature_fraction=1.0925216030437248\n",
      "[LightGBM] [Warning] bagging_fraction is set=0.6, subsample=1.0 will be ignored. Current value: bagging_fraction=0.6\n",
      "[LightGBM] [Warning] bagging_freq is set=7, subsample_freq=0 will be ignored. Current value: bagging_freq=7\n",
      "[LightGBM] [Warning] min_data_in_leaf is set=91, min_child_samples=20 will be ignored. Current value: min_data_in_leaf=91\n",
      "[LightGBM] [Warning] feature_fraction is set=1.0925216030437248, colsample_bytree=1.0 will be ignored. Current value: feature_fraction=1.0925216030437248\n",
      "[LightGBM] [Warning] bagging_fraction is set=0.6, subsample=1.0 will be ignored. Current value: bagging_fraction=0.6\n",
      "[LightGBM] [Warning] bagging_freq is set=7, subsample_freq=0 will be ignored. Current value: bagging_freq=7\n",
      "[LightGBM] [Warning] min_data_in_leaf is set=91, min_child_samples=20 will be ignored. Current value: min_data_in_leaf=91\n",
      "[LightGBM] [Warning] feature_fraction is set=1.0925216030437248, colsample_bytree=1.0 will be ignored. Current value: feature_fraction=1.0925216030437248\n",
      "[LightGBM] [Warning] bagging_fraction is set=0.6, subsample=1.0 will be ignored. Current value: bagging_fraction=0.6\n",
      "[LightGBM] [Warning] bagging_freq is set=7, subsample_freq=0 will be ignored. Current value: bagging_freq=7\n",
      "[LightGBM] [Warning] min_data_in_leaf is set=102, min_child_samples=20 will be ignored. Current value: min_data_in_leaf=102\n",
      "[LightGBM] [Warning] feature_fraction is set=0.958684443290947, colsample_bytree=1.0 will be ignored. Current value: feature_fraction=0.958684443290947\n",
      "[LightGBM] [Warning] bagging_fraction is set=0.7, subsample=1.0 will be ignored. Current value: bagging_fraction=0.7\n",
      "[LightGBM] [Warning] bagging_freq is set=7, subsample_freq=0 will be ignored. Current value: bagging_freq=7\n"
     ]
    },
    {
     "name": "stderr",
     "output_type": "stream",
     "text": [
      "/Users/onurboyar/opt/anaconda3/envs/chemical-vae/lib/python3.7/site-packages/lightgbm/basic.py:1433: UserWarning: Overriding the parameters from Reference Dataset.\n",
      "  _log_warning('Overriding the parameters from Reference Dataset.')\n",
      "/Users/onurboyar/opt/anaconda3/envs/chemical-vae/lib/python3.7/site-packages/lightgbm/basic.py:1245: UserWarning: categorical_column in param dict is overridden.\n",
      "  _log_warning('{} in param dict is overridden.'.format(cat_alias))\n"
     ]
    },
    {
     "name": "stdout",
     "output_type": "stream",
     "text": [
      "OPTIMAL PARAMS OF THE MODEL\n",
      "{'boosting_type': 'gbdt', 'class_weight': None, 'colsample_bytree': 1.0, 'importance_type': 'split', 'learning_rate': 0.1, 'max_depth': 11, 'min_child_samples': 20, 'min_child_weight': 0.0020456191751726163, 'min_split_gain': 0.0, 'n_estimators': 100, 'n_jobs': -1, 'num_leaves': 1503, 'objective': 'binary', 'random_state': None, 'reg_alpha': 0.0, 'reg_lambda': 0.0, 'silent': True, 'subsample': 1.0, 'subsample_for_bin': 200000, 'subsample_freq': 0, 'categorical_feature': ['wrong_fragment', 'is_host_login', 'is_guest_login'], 'scale_pos_weight': 20, 'bagging_fraction': 0.7, 'bagging_freq': 7, 'feature_fraction': 0.958684443290947, 'min_data_in_leaf': 102}\n",
      "Start Training\n",
      "[1]\tvalid_0's binary_logloss: 0.322729\n",
      "Training until validation scores don't improve for 100 rounds\n"
     ]
    },
    {
     "name": "stderr",
     "output_type": "stream",
     "text": [
      "/Users/onurboyar/opt/anaconda3/envs/chemical-vae/lib/python3.7/site-packages/lightgbm/basic.py:1224: UserWarning: categorical_feature keyword has been found in `params` and will be ignored.\n",
      "Please use categorical_feature argument of the Dataset constructor to pass this parameter.\n",
      "  .format(key))\n",
      "/Users/onurboyar/opt/anaconda3/envs/chemical-vae/lib/python3.7/site-packages/lightgbm/basic.py:1245: UserWarning: categorical_feature in param dict is overridden.\n",
      "  _log_warning('{} in param dict is overridden.'.format(cat_alias))\n",
      "/Users/onurboyar/opt/anaconda3/envs/chemical-vae/lib/python3.7/site-packages/lightgbm/basic.py:1433: UserWarning: Overriding the parameters from Reference Dataset.\n",
      "  _log_warning('Overriding the parameters from Reference Dataset.')\n",
      "/Users/onurboyar/opt/anaconda3/envs/chemical-vae/lib/python3.7/site-packages/lightgbm/basic.py:1245: UserWarning: categorical_column in param dict is overridden.\n",
      "  _log_warning('{} in param dict is overridden.'.format(cat_alias))\n"
     ]
    },
    {
     "name": "stdout",
     "output_type": "stream",
     "text": [
      "[2]\tvalid_0's binary_logloss: 0.279461\n",
      "[3]\tvalid_0's binary_logloss: 0.248944\n",
      "[4]\tvalid_0's binary_logloss: 0.226445\n",
      "[5]\tvalid_0's binary_logloss: 0.208238\n",
      "[6]\tvalid_0's binary_logloss: 0.19364\n",
      "[7]\tvalid_0's binary_logloss: 0.182277\n",
      "[8]\tvalid_0's binary_logloss: 0.172074\n",
      "[9]\tvalid_0's binary_logloss: 0.163742\n",
      "[10]\tvalid_0's binary_logloss: 0.156812\n",
      "[11]\tvalid_0's binary_logloss: 0.151366\n",
      "[12]\tvalid_0's binary_logloss: 0.146876\n",
      "[13]\tvalid_0's binary_logloss: 0.142753\n",
      "[14]\tvalid_0's binary_logloss: 0.139481\n",
      "[15]\tvalid_0's binary_logloss: 0.136974\n",
      "[16]\tvalid_0's binary_logloss: 0.134955\n",
      "[17]\tvalid_0's binary_logloss: 0.133346\n",
      "[18]\tvalid_0's binary_logloss: 0.132046\n",
      "[19]\tvalid_0's binary_logloss: 0.131051\n",
      "[20]\tvalid_0's binary_logloss: 0.130285\n",
      "[21]\tvalid_0's binary_logloss: 0.129776\n",
      "[22]\tvalid_0's binary_logloss: 0.129187\n",
      "[23]\tvalid_0's binary_logloss: 0.128903\n",
      "[24]\tvalid_0's binary_logloss: 0.128773\n",
      "[25]\tvalid_0's binary_logloss: 0.128569\n",
      "[26]\tvalid_0's binary_logloss: 0.12833\n",
      "[27]\tvalid_0's binary_logloss: 0.128394\n",
      "[28]\tvalid_0's binary_logloss: 0.128331\n",
      "[29]\tvalid_0's binary_logloss: 0.12798\n",
      "[30]\tvalid_0's binary_logloss: 0.127879\n",
      "[31]\tvalid_0's binary_logloss: 0.127962\n",
      "[32]\tvalid_0's binary_logloss: 0.128099\n",
      "[33]\tvalid_0's binary_logloss: 0.128129\n",
      "[34]\tvalid_0's binary_logloss: 0.128448\n",
      "[35]\tvalid_0's binary_logloss: 0.12882\n",
      "[36]\tvalid_0's binary_logloss: 0.129237\n",
      "[37]\tvalid_0's binary_logloss: 0.129647\n",
      "[38]\tvalid_0's binary_logloss: 0.130094\n",
      "[39]\tvalid_0's binary_logloss: 0.130565\n",
      "[40]\tvalid_0's binary_logloss: 0.131014\n",
      "[41]\tvalid_0's binary_logloss: 0.131374\n",
      "[42]\tvalid_0's binary_logloss: 0.131551\n",
      "[43]\tvalid_0's binary_logloss: 0.131763\n",
      "[44]\tvalid_0's binary_logloss: 0.131981\n",
      "[45]\tvalid_0's binary_logloss: 0.13197\n",
      "[46]\tvalid_0's binary_logloss: 0.132046\n",
      "[47]\tvalid_0's binary_logloss: 0.132171\n",
      "[48]\tvalid_0's binary_logloss: 0.132303\n",
      "[49]\tvalid_0's binary_logloss: 0.132396\n",
      "[50]\tvalid_0's binary_logloss: 0.13204\n",
      "[51]\tvalid_0's binary_logloss: 0.131787\n",
      "[52]\tvalid_0's binary_logloss: 0.131704\n",
      "[53]\tvalid_0's binary_logloss: 0.131501\n",
      "[54]\tvalid_0's binary_logloss: 0.131268\n",
      "[55]\tvalid_0's binary_logloss: 0.131087\n",
      "[56]\tvalid_0's binary_logloss: 0.130892\n",
      "[57]\tvalid_0's binary_logloss: 0.130727\n",
      "[58]\tvalid_0's binary_logloss: 0.130651\n",
      "[59]\tvalid_0's binary_logloss: 0.130449\n",
      "[60]\tvalid_0's binary_logloss: 0.130325\n",
      "[61]\tvalid_0's binary_logloss: 0.130242\n",
      "[62]\tvalid_0's binary_logloss: 0.130177\n",
      "[63]\tvalid_0's binary_logloss: 0.130114\n",
      "[64]\tvalid_0's binary_logloss: 0.130052\n",
      "[65]\tvalid_0's binary_logloss: 0.130049\n",
      "[66]\tvalid_0's binary_logloss: 0.130012\n",
      "[67]\tvalid_0's binary_logloss: 0.129999\n",
      "[68]\tvalid_0's binary_logloss: 0.129979\n",
      "[69]\tvalid_0's binary_logloss: 0.129961\n",
      "[70]\tvalid_0's binary_logloss: 0.129983\n",
      "[71]\tvalid_0's binary_logloss: 0.129953\n",
      "[72]\tvalid_0's binary_logloss: 0.129901\n",
      "[73]\tvalid_0's binary_logloss: 0.129842\n",
      "[74]\tvalid_0's binary_logloss: 0.129759\n",
      "[75]\tvalid_0's binary_logloss: 0.129584\n",
      "[76]\tvalid_0's binary_logloss: 0.129479\n",
      "[77]\tvalid_0's binary_logloss: 0.129418\n",
      "[78]\tvalid_0's binary_logloss: 0.129293\n",
      "[79]\tvalid_0's binary_logloss: 0.129155\n",
      "[80]\tvalid_0's binary_logloss: 0.128917\n",
      "[81]\tvalid_0's binary_logloss: 0.128725\n",
      "[82]\tvalid_0's binary_logloss: 0.128606\n",
      "[83]\tvalid_0's binary_logloss: 0.128501\n",
      "[84]\tvalid_0's binary_logloss: 0.128422\n",
      "[85]\tvalid_0's binary_logloss: 0.128071\n",
      "[86]\tvalid_0's binary_logloss: 0.127812\n",
      "[87]\tvalid_0's binary_logloss: 0.127578\n",
      "[88]\tvalid_0's binary_logloss: 0.12748\n",
      "[89]\tvalid_0's binary_logloss: 0.127396\n",
      "[90]\tvalid_0's binary_logloss: 0.127209\n",
      "[91]\tvalid_0's binary_logloss: 0.127063\n",
      "[92]\tvalid_0's binary_logloss: 0.126858\n",
      "[93]\tvalid_0's binary_logloss: 0.12665\n",
      "[94]\tvalid_0's binary_logloss: 0.126605\n",
      "[95]\tvalid_0's binary_logloss: 0.126416\n",
      "[96]\tvalid_0's binary_logloss: 0.126372\n",
      "[97]\tvalid_0's binary_logloss: 0.126278\n",
      "[98]\tvalid_0's binary_logloss: 0.126256\n",
      "[99]\tvalid_0's binary_logloss: 0.126104\n",
      "[100]\tvalid_0's binary_logloss: 0.125977\n",
      "Did not meet early stopping. Best iteration is:\n",
      "[100]\tvalid_0's binary_logloss: 0.125977\n",
      "Start Predicting\n",
      "Confusion Matrix\n",
      "[[30121  1514]\n",
      " [   17  5096]]\n",
      "\n",
      "Resulting Metrics\n",
      "Accuracy : 0.9583\n",
      "AUC : 0.994558\n",
      "precision: [0.99943593 0.7709531 ]\n",
      "recall: [0.95214162 0.99667514]\n",
      "fscore: [0.97521571 0.86940203]\n",
      "support: [31635  5113]\n"
     ]
    },
    {
     "data": {
      "image/png": "[encoded data removed]",
      "text/plain": [
       "<Figure size 432x288 with 1 Axes>"
      ]
     },
     "metadata": {
      "needs_background": "light"
     },
     "output_type": "display_data"
    },
    {
     "data": {
      "image/png": "[encoded data removed]",
      "text/plain": [
       "<Figure size 432x288 with 1 Axes>"
      ]
     },
     "metadata": {
      "needs_background": "light"
     },
     "output_type": "display_data"
    },
    {
     "name": "stdout",
     "output_type": "stream",
     "text": [
      "ROC CURVE\n"
     ]
    },
    {
     "data": {
      "image/png": "[encoded data removed]",
      "text/plain": [
       "<Figure size 432x288 with 1 Axes>"
      ]
     },
     "metadata": {
      "needs_background": "light"
     },
     "output_type": "display_data"
    }
   ],
   "source": [
    "lgm=lightgbm_classifier(X_train, X_test, X_valid, y_train.values[:,0], y_test.values[:,0], y_valid.values[:,0],categorical_features=['wrong_fragment','is_host_login','is_guest_login'], class_weight=20)"
   ]
  },
  {
   "cell_type": "code",
   "execution_count": 102,
   "metadata": {
    "id": "E80OIjHIp-Iu"
   },
   "outputs": [],
   "source": [
    "class LGBMClassifier_GainFE(lgb.LGBMClassifier):\n",
    "    @property\n",
    "    def feature_importances_(self):\n",
    "        if self._n_features is None:\n",
    "            raise LGBMNotFittedError('No feature_importances found. Need to call fit beforehand.')\n",
    "        return self.booster_.feature_importance(importance_type='gain')"
   ]
  },
  {
   "cell_type": "code",
   "execution_count": 103,
   "metadata": {
    "id": "3wRi55m1qB3S"
   },
   "outputs": [],
   "source": [
    "clf2 = LGBMClassifier_GainFE(num_leaves= 15, max_depth=-1, \n",
    "                         random_state=314, \n",
    "                         silent=True, \n",
    "                         metric='None', \n",
    "                         n_jobs=4, \n",
    "                         n_estimators=1000,\n",
    "                         colsample_bytree=0.9,\n",
    "                         subsample=0.9,\n",
    "                         learning_rate=0.1)"
   ]
  },
  {
   "cell_type": "code",
   "execution_count": 105,
   "metadata": {
    "colab": {
     "base_uri": "https://localhost:8080/"
    },
    "id": "3KhAmUe1qGyz",
    "outputId": "8e8c77e7-a4d2-41b1-8005-ddff562b53e7"
   },
   "outputs": [
    {
     "name": "stderr",
     "output_type": "stream",
     "text": [
      "/usr/local/lib/python3.7/dist-packages/sklearn/preprocessing/_label.py:98: DataConversionWarning: A column-vector y was passed when a 1d array was expected. Please change the shape of y to (n_samples, ), for example using ravel().\n",
      "  y = column_or_1d(y, warn=True)\n",
      "/usr/local/lib/python3.7/dist-packages/sklearn/preprocessing/_label.py:133: DataConversionWarning: A column-vector y was passed when a 1d array was expected. Please change the shape of y to (n_samples, ), for example using ravel().\n",
      "  y = column_or_1d(y, warn=True)\n"
     ]
    },
    {
     "data": {
      "text/plain": [
       "LGBMClassifier_GainFE(colsample_bytree=0.9, metric='None', n_estimators=1000,\n",
       "                      n_jobs=4, num_leaves=15, random_state=314, subsample=0.9)"
      ]
     },
     "execution_count": 105,
     "metadata": {},
     "output_type": "execute_result"
    }
   ],
   "source": [
    "clf2.fit(X_train, y_train)\n"
   ]
  },
  {
   "cell_type": "code",
   "execution_count": 48,
   "metadata": {
    "colab": {
     "base_uri": "https://localhost:8080/",
     "height": 312
    },
    "id": "n9GecHj6qem0",
    "outputId": "daffcf91-bbde-47de-9d2a-4f6b0f2a7e3f"
   },
   "outputs": [
    {
     "data": {
      "text/plain": [
       "<matplotlib.axes._subplots.AxesSubplot at 0x7fcf7abbc590>"
      ]
     },
     "execution_count": 48,
     "metadata": {},
     "output_type": "execute_result"
    },
    {
     "data": {
      "image/png": "[encoded data removed]",
      "text/plain": [
       "<Figure size 432x288 with 1 Axes>"
      ]
     },
     "metadata": {
      "needs_background": "light"
     },
     "output_type": "display_data"
    }
   ],
   "source": [
    "from lightgbm import plot_importance\n",
    "plot_importance(lgm, importance_type='split')"
   ]
  },
  {
   "cell_type": "code",
   "execution_count": 51,
   "metadata": {
    "colab": {
     "base_uri": "https://localhost:8080/"
    },
    "id": "t2DIfzbDwt2T",
    "outputId": "f9f03b21-6000-41cb-da35-fa06166af434"
   },
   "outputs": [
    {
     "data": {
      "text/plain": [
       "array([3.90054541e+02, 8.80575069e+04, 1.14325519e+05, 0.00000000e+00,\n",
       "       0.00000000e+00, 5.25393974e-04, 7.82429062e-02, 0.00000000e+00,\n",
       "       6.12673932e+04, 0.00000000e+00, 0.00000000e+00, 7.05105010e-02,\n",
       "       5.79198937e+00, 8.89278017e-03, 1.07161002e-04, 8.91803029e-06,\n",
       "       0.00000000e+00, 0.00000000e+00, 1.66371241e-01, 2.17877023e+03,\n",
       "       1.65834631e+03, 2.63367189e+02, 1.38179920e+03, 2.06523890e+04,\n",
       "       7.08741984e+03, 1.09304856e+04, 2.25130631e+03, 1.94579584e+03,\n",
       "       2.79831328e+03, 5.85775506e+05, 3.06545442e+04, 7.52813725e+03,\n",
       "       3.56715270e+04, 2.76064867e+05, 2.38836527e+04, 4.37254228e+02,\n",
       "       9.38432260e+04, 1.03467943e+03])"
      ]
     },
     "execution_count": 51,
     "metadata": {},
     "output_type": "execute_result"
    }
   ],
   "source": [
    "lgm.booster_.feature_importance(importance_type = 'gain')"
   ]
  },
  {
   "cell_type": "code",
   "execution_count": 37,
   "metadata": {
    "colab": {
     "base_uri": "https://localhost:8080/",
     "height": 312
    },
    "id": "Wxy5NAaVq44A",
    "outputId": "3fb34d0a-ebef-4a8f-8877-47bc0f2e7bb4"
   },
   "outputs": [
    {
     "data": {
      "text/plain": [
       "<matplotlib.axes._subplots.AxesSubplot at 0x7fcf876c9fd0>"
      ]
     },
     "execution_count": 37,
     "metadata": {},
     "output_type": "execute_result"
    },
    {
     "data": {
      "image/png": "[encoded data removed]",
      "text/plain": [
       "<Figure size 432x288 with 1 Axes>"
      ]
     },
     "metadata": {
      "needs_background": "light"
     },
     "output_type": "display_data"
    }
   ],
   "source": [
    "plot_importance(lgm, importance_type='gain')"
   ]
  },
  {
   "cell_type": "markdown",
   "metadata": {
    "id": "kbNqiio6DAR-"
   },
   "source": [
    "## TabNet"
   ]
  },
  {
   "cell_type": "code",
   "execution_count": null,
   "metadata": {
    "colab": {
     "base_uri": "https://localhost:8080/"
    },
    "id": "yIiiOAkWDLaI",
    "outputId": "2ecfb344-83cf-4a29-ed89-08a1f2b398b4"
   },
   "outputs": [
    {
     "name": "stdout",
     "output_type": "stream",
     "text": [
      "Collecting pytorch_tabnet\n",
      "  Downloading https://files.pythonhosted.org/packages/44/dd/e24309700d20dfc75643d231a3093179652d309cefcadc338e1a20ff288e/pytorch_tabnet-3.0.0-py3-none-any.whl\n",
      "Requirement already satisfied: tqdm<5.0,>=4.36 in /usr/local/lib/python3.6/dist-packages (from pytorch_tabnet) (4.41.1)\n",
      "Requirement already satisfied: scikit_learn>0.21 in /usr/local/lib/python3.6/dist-packages (from pytorch_tabnet) (0.22.2.post1)\n",
      "Requirement already satisfied: numpy<2.0,>=1.17 in /usr/local/lib/python3.6/dist-packages (from pytorch_tabnet) (1.19.4)\n",
      "Requirement already satisfied: torch<2.0,>=1.2 in /usr/local/lib/python3.6/dist-packages (from pytorch_tabnet) (1.7.0+cu101)\n",
      "Requirement already satisfied: scipy>1.4 in /usr/local/lib/python3.6/dist-packages (from pytorch_tabnet) (1.4.1)\n",
      "Requirement already satisfied: joblib>=0.11 in /usr/local/lib/python3.6/dist-packages (from scikit_learn>0.21->pytorch_tabnet) (1.0.0)\n",
      "Requirement already satisfied: dataclasses in /usr/local/lib/python3.6/dist-packages (from torch<2.0,>=1.2->pytorch_tabnet) (0.8)\n",
      "Requirement already satisfied: future in /usr/local/lib/python3.6/dist-packages (from torch<2.0,>=1.2->pytorch_tabnet) (0.16.0)\n",
      "Requirement already satisfied: typing-extensions in /usr/local/lib/python3.6/dist-packages (from torch<2.0,>=1.2->pytorch_tabnet) (3.7.4.3)\n",
      "Installing collected packages: pytorch-tabnet\n",
      "Successfully installed pytorch-tabnet-3.0.0\n"
     ]
    }
   ],
   "source": [
    "!pip install pytorch_tabnet"
   ]
  },
  {
   "cell_type": "code",
   "execution_count": null,
   "metadata": {
    "id": "9mdtUD2dDBqE"
   },
   "outputs": [],
   "source": [
    "from pytorch_tabnet.tab_model import TabNetClassifier\n",
    "\n",
    "classifier = TabNetClassifier()\n",
    "classifier.fit(X_train=X_train, y_train=y_train)\n",
    "\n",
    "#predictions = classifier.predict_proba(X_test)[:,1]"
   ]
  },
  {
   "cell_type": "code",
   "execution_count": null,
   "metadata": {
    "id": "xWCl7CwwDD3o"
   },
   "outputs": [],
   "source": []
  }
 ],
 "metadata": {
  "colab": {
   "collapsed_sections": [],
   "name": "inzva_week2_anomaly_detection_plus_lightgbm.ipynb",
   "provenance": []
  },
  "kernelspec": {
   "display_name": "Python 3 (ipykernel)",
   "language": "python",
   "name": "python3"
  },
  "language_info": {
   "codemirror_mode": {
    "name": "ipython",
    "version": 3
   },
   "file_extension": ".py",
   "mimetype": "text/x-python",
   "name": "python",
   "nbconvert_exporter": "python",
   "pygments_lexer": "ipython3",
   "version": "3.7.11"
  }
 },
 "nbformat": 4,
 "nbformat_minor": 1
}
