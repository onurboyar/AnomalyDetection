{
 "cells": [
  {
   "cell_type": "markdown",
   "metadata": {
    "colab_type": "text",
    "id": "x275tSx2asW0"
   },
   "source": [
    "# Anomaly Detection - KDD'99 Dataset"
   ]
  },
  {
   "cell_type": "markdown",
   "metadata": {},
   "source": [
    "In week 4 of the inzva Applied AI program we will spend most of our time on Anomaly Detection techniques. \n",
    "\n",
    "**This notebook includes**\n",
    "\n",
    "*1- Isolation Forest*\n",
    "\n",
    "*2- Local Outlier Factor*\n",
    "\n",
    "*3- Autoencoder*\n",
    "\n",
    "*4 - XGBoosting*\n",
    "\n",
    "We first start with obtaining the data and creating training and test sets. In this notebook, we create our models only for Probing attack detection.\n",
    "\n"
   ]
  },
  {
   "cell_type": "markdown",
   "metadata": {
    "colab_type": "text",
    "id": "sDK-7yCKbWL8"
   },
   "source": [
    "## 1. Data"
   ]
  },
  {
   "cell_type": "code",
   "execution_count": 3,
   "metadata": {
    "colab": {
     "base_uri": "https://localhost:8080/",
     "height": 122
    },
    "colab_type": "code",
    "id": "lOPme80Z1TKg",
    "outputId": "91802941-a964-488b-fcca-d97dd7b9132a"
   },
   "outputs": [
    {
     "name": "stdout",
     "output_type": "stream",
     "text": [
      "Go to this URL in a browser: https://accounts.google.com/o/oauth2/auth?client_id=947318989803-6bn6qk8qdgf4n4g3pfee6491hc0brc4i.apps.googleusercontent.com&redirect_uri=urn%3aietf%3awg%3aoauth%3a2.0%3aoob&response_type=code&scope=email%20https%3a%2f%2fwww.googleapis.com%2fauth%2fdocs.test%20https%3a%2f%2fwww.googleapis.com%2fauth%2fdrive%20https%3a%2f%2fwww.googleapis.com%2fauth%2fdrive.photos.readonly%20https%3a%2f%2fwww.googleapis.com%2fauth%2fpeopleapi.readonly\n",
      "\n",
      "Enter your authorization code:\n",
      "··········\n",
      "Mounted at /content/gdrive\n"
     ]
    }
   ],
   "source": [
    "from google.colab import drive\n",
    "drive.mount('/content/gdrive')"
   ]
  },
  {
   "cell_type": "code",
   "execution_count": 4,
   "metadata": {
    "colab": {},
    "colab_type": "code",
    "id": "ZCSpFnNe1UlI"
   },
   "outputs": [],
   "source": [
    "import pandas as pd\n",
    "kdd = pd.read_csv('/content/gdrive/My Drive/kddcup.data/kdd.csv')"
   ]
  },
  {
   "cell_type": "code",
   "execution_count": 5,
   "metadata": {
    "colab": {},
    "colab_type": "code",
    "id": "EI2zzt-K_2mL"
   },
   "outputs": [],
   "source": [
    "kdd = kdd.iloc[:,1:43]"
   ]
  },
  {
   "cell_type": "code",
   "execution_count": 6,
   "metadata": {
    "colab": {},
    "colab_type": "code",
    "id": "m-tUOxq4_4xU"
   },
   "outputs": [],
   "source": [
    "kdd = kdd.drop(['Protocol Type', 'Service', 'Flag'], axis = 1)\n"
   ]
  },
  {
   "cell_type": "code",
   "execution_count": 7,
   "metadata": {
    "colab": {},
    "colab_type": "code",
    "id": "qZTBqq6xxzdS"
   },
   "outputs": [],
   "source": [
    "kdd_train = kdd.iloc[0:102563, :]"
   ]
  },
  {
   "cell_type": "code",
   "execution_count": 8,
   "metadata": {
    "colab": {},
    "colab_type": "code",
    "id": "JQ2KBBexxzdU"
   },
   "outputs": [],
   "source": [
    "kdd_test = kdd.iloc[102563:183737, :]"
   ]
  },
  {
   "cell_type": "code",
   "execution_count": 13,
   "metadata": {
    "colab": {},
    "colab_type": "code",
    "id": "gemL8-7axzdW"
   },
   "outputs": [],
   "source": [
    "kdd_train_probe = kdd_train[(kdd_train.Type_Groups == 'Normal') | (kdd_train.Type_Groups == 'Probe')]"
   ]
  },
  {
   "cell_type": "code",
   "execution_count": 14,
   "metadata": {
    "colab": {},
    "colab_type": "code",
    "id": "BCklITVMxzdZ"
   },
   "outputs": [],
   "source": [
    "kdd_test_probe = kdd_test[(kdd_test.Type_Groups == 'Normal') | (kdd_test.Type_Groups == 'Probe')]"
   ]
  },
  {
   "cell_type": "markdown",
   "metadata": {
    "colab_type": "text",
    "id": "VGnCZb2kghyf"
   },
   "source": [
    "Normals are encoded as 1, anomalies are encoded as -1. Use this version if you want to apply Isolation Forest or Local Outlier Factor. Otherwise, please run the code in the next chunk."
   ]
  },
  {
   "cell_type": "code",
   "execution_count": 12,
   "metadata": {
    "colab": {
     "base_uri": "https://localhost:8080/",
     "height": 221
    },
    "colab_type": "code",
    "id": "iNwybydCxzda",
    "outputId": "8b6f9d40-9d39-4115-e436-f2efbdd7dbee"
   },
   "outputs": [
    {
     "name": "stderr",
     "output_type": "stream",
     "text": [
      "/usr/local/lib/python3.6/dist-packages/ipykernel_launcher.py:3: SettingWithCopyWarning: \n",
      "A value is trying to be set on a copy of a slice from a DataFrame.\n",
      "Try using .loc[row_indexer,col_indexer] = value instead\n",
      "\n",
      "See the caveats in the documentation: https://pandas.pydata.org/pandas-docs/stable/user_guide/indexing.html#returning-a-view-versus-a-copy\n",
      "  This is separate from the ipykernel package so we can avoid doing imports until\n",
      "/usr/local/lib/python3.6/dist-packages/ipykernel_launcher.py:4: SettingWithCopyWarning: \n",
      "A value is trying to be set on a copy of a slice from a DataFrame.\n",
      "Try using .loc[row_indexer,col_indexer] = value instead\n",
      "\n",
      "See the caveats in the documentation: https://pandas.pydata.org/pandas-docs/stable/user_guide/indexing.html#returning-a-view-versus-a-copy\n",
      "  after removing the cwd from sys.path.\n"
     ]
    }
   ],
   "source": [
    "import numpy as np\n",
    "\n",
    "kdd_train_probe['Type_Groups'] = np.where(kdd_train_probe['Type_Groups'] == 'Normal', 1, -1)\n",
    "kdd_test_probe['Type_Groups'] = np.where(kdd_test_probe['Type_Groups'] == 'Normal', 1, -1)"
   ]
  },
  {
   "cell_type": "code",
   "execution_count": 15,
   "metadata": {
    "colab": {
     "base_uri": "https://localhost:8080/",
     "height": 221
    },
    "colab_type": "code",
    "id": "fq9aMv8iACrc",
    "outputId": "ae9b1dcf-f56f-4e0b-9dd1-e7c85eff3c54"
   },
   "outputs": [
    {
     "name": "stderr",
     "output_type": "stream",
     "text": [
      "/usr/local/lib/python3.6/dist-packages/ipykernel_launcher.py:1: SettingWithCopyWarning: \n",
      "A value is trying to be set on a copy of a slice from a DataFrame.\n",
      "Try using .loc[row_indexer,col_indexer] = value instead\n",
      "\n",
      "See the caveats in the documentation: https://pandas.pydata.org/pandas-docs/stable/user_guide/indexing.html#returning-a-view-versus-a-copy\n",
      "  \"\"\"Entry point for launching an IPython kernel.\n",
      "/usr/local/lib/python3.6/dist-packages/ipykernel_launcher.py:2: SettingWithCopyWarning: \n",
      "A value is trying to be set on a copy of a slice from a DataFrame.\n",
      "Try using .loc[row_indexer,col_indexer] = value instead\n",
      "\n",
      "See the caveats in the documentation: https://pandas.pydata.org/pandas-docs/stable/user_guide/indexing.html#returning-a-view-versus-a-copy\n",
      "  \n"
     ]
    }
   ],
   "source": [
    "kdd_train_probe['Type_Groups'] = np.where(kdd_train_probe['Type_Groups'] == 'Normal', 0, 1)\n",
    "kdd_test_probe['Type_Groups'] = np.where(kdd_test_probe['Type_Groups'] == 'Normal', 0, 1)"
   ]
  },
  {
   "cell_type": "markdown",
   "metadata": {
    "colab_type": "text",
    "id": "h0VhI_Yohn5v"
   },
   "source": [
    "## 1.1 Isolation Forest"
   ]
  },
  {
   "cell_type": "code",
   "execution_count": null,
   "metadata": {
    "colab": {},
    "colab_type": "code",
    "id": "hPRl1mULdBK8"
   },
   "outputs": [],
   "source": [
    "x_train = kdd_train_probe.drop(['Type_Groups'], axis = 1)\n",
    "y_train = kdd_train_probe['Type_Groups']"
   ]
  },
  {
   "cell_type": "code",
   "execution_count": null,
   "metadata": {
    "colab": {},
    "colab_type": "code",
    "id": "xTk1whWyiSr9"
   },
   "outputs": [],
   "source": [
    "x_test = kdd_test_probe.drop(['Type_Groups'], axis = 1)\n",
    "y_test = kdd_test_probe['Type_Groups']"
   ]
  },
  {
   "cell_type": "code",
   "execution_count": null,
   "metadata": {
    "colab": {},
    "colab_type": "code",
    "id": "tkh6vw8tdh8A"
   },
   "outputs": [],
   "source": [
    "clfIF = IsolationForest(max_samples=0.25, random_state=11, contamination=0.15, n_estimators=100, n_jobs=-1)"
   ]
  },
  {
   "cell_type": "code",
   "execution_count": null,
   "metadata": {
    "colab": {
     "base_uri": "https://localhost:8080/",
     "height": 122
    },
    "colab_type": "code",
    "id": "kHrohm2_dmap",
    "outputId": "42c25894-53a3-465e-e590-81103d213d85"
   },
   "outputs": [
    {
     "name": "stderr",
     "output_type": "stream",
     "text": [
      "/usr/local/lib/python3.6/dist-packages/sklearn/ensemble/iforest.py:247: FutureWarning: behaviour=\"old\" is deprecated and will be removed in version 0.22. Please use behaviour=\"new\", which makes the decision_function change to match other anomaly detection algorithm API.\n",
      "  FutureWarning)\n"
     ]
    },
    {
     "data": {
      "text/plain": [
       "IsolationForest(behaviour='old', bootstrap=False, contamination=0.15,\n",
       "                max_features=1.0, max_samples=0.25, n_estimators=100, n_jobs=-1,\n",
       "                random_state=11, verbose=0, warm_start=False)"
      ]
     },
     "execution_count": 63,
     "metadata": {
      "tags": []
     },
     "output_type": "execute_result"
    }
   ],
   "source": [
    "clfIF.fit(x_train, y_train)"
   ]
  },
  {
   "cell_type": "code",
   "execution_count": null,
   "metadata": {
    "colab": {
     "base_uri": "https://localhost:8080/",
     "height": 71
    },
    "colab_type": "code",
    "id": "euBiTJ5LeGl8",
    "outputId": "9a79f048-6631-40ad-b03c-515ff94d8fc2"
   },
   "outputs": [
    {
     "name": "stderr",
     "output_type": "stream",
     "text": [
      "/usr/local/lib/python3.6/dist-packages/sklearn/ensemble/iforest.py:415: DeprecationWarning: threshold_ attribute is deprecated in 0.20 and will be removed in 0.22.\n",
      "  \" be removed in 0.22.\", DeprecationWarning)\n"
     ]
    }
   ],
   "source": [
    "y_pred_train = clfIF.predict(x_train)"
   ]
  },
  {
   "cell_type": "code",
   "execution_count": null,
   "metadata": {
    "colab": {
     "base_uri": "https://localhost:8080/",
     "height": 34
    },
    "colab_type": "code",
    "id": "goT-4ZQBfL1H",
    "outputId": "8eca80fa-ce2e-4530-cce3-71a7dfc55dcc"
   },
   "outputs": [
    {
     "data": {
      "text/plain": [
       "array([-1,  1])"
      ]
     },
     "execution_count": 65,
     "metadata": {
      "tags": []
     },
     "output_type": "execute_result"
    }
   ],
   "source": [
    "np.unique(y_pred_train)"
   ]
  },
  {
   "cell_type": "code",
   "execution_count": null,
   "metadata": {
    "colab": {
     "base_uri": "https://localhost:8080/",
     "height": 51
    },
    "colab_type": "code",
    "id": "TxmfACrjeNl8",
    "outputId": "09683a4e-07b0-4603-cb5c-0356db77192f"
   },
   "outputs": [
    {
     "data": {
      "text/plain": [
       "array([[ 3996,   111],\n",
       "       [11212, 86066]])"
      ]
     },
     "execution_count": 66,
     "metadata": {
      "tags": []
     },
     "output_type": "execute_result"
    }
   ],
   "source": [
    "conf_matrix = confusion_matrix(y_train, y_pred_train)\n",
    "conf_matrix"
   ]
  },
  {
   "cell_type": "code",
   "execution_count": null,
   "metadata": {
    "colab": {
     "base_uri": "https://localhost:8080/",
     "height": 71
    },
    "colab_type": "code",
    "id": "TJJDsmz7iNAR",
    "outputId": "eb2bba32-abe6-47c1-cc6a-26e06b0ad345"
   },
   "outputs": [
    {
     "name": "stderr",
     "output_type": "stream",
     "text": [
      "/usr/local/lib/python3.6/dist-packages/sklearn/ensemble/iforest.py:415: DeprecationWarning: threshold_ attribute is deprecated in 0.20 and will be removed in 0.22.\n",
      "  \" be removed in 0.22.\", DeprecationWarning)\n"
     ]
    }
   ],
   "source": [
    "y_pred_test = clfIF.predict(x_test)\n",
    "conf_matrix_if_test = confusion_matrix(y_test, y_pred_test)"
   ]
  },
  {
   "cell_type": "code",
   "execution_count": null,
   "metadata": {
    "colab": {
     "base_uri": "https://localhost:8080/",
     "height": 51
    },
    "colab_type": "code",
    "id": "8BM4PcCElPf6",
    "outputId": "222283f5-0117-43dd-e625-e59e0a460879"
   },
   "outputs": [
    {
     "data": {
      "text/plain": [
       "array([[ 4163,     3],\n",
       "       [ 8200, 52393]])"
      ]
     },
     "execution_count": 73,
     "metadata": {
      "tags": []
     },
     "output_type": "execute_result"
    }
   ],
   "source": [
    "conf_matrix_if_test"
   ]
  },
  {
   "cell_type": "code",
   "execution_count": null,
   "metadata": {
    "colab": {
     "base_uri": "https://localhost:8080/",
     "height": 170
    },
    "colab_type": "code",
    "id": "5gNlUF0DmtoO",
    "outputId": "3cc30c30-a5af-4745-fb7c-0f14b6312959"
   },
   "outputs": [
    {
     "name": "stdout",
     "output_type": "stream",
     "text": [
      "              precision    recall  f1-score   support\n",
      "\n",
      "          -1       0.34      1.00      0.50      4166\n",
      "           1       1.00      0.86      0.93     60593\n",
      "\n",
      "    accuracy                           0.87     64759\n",
      "   macro avg       0.67      0.93      0.72     64759\n",
      "weighted avg       0.96      0.87      0.90     64759\n",
      "\n"
     ]
    }
   ],
   "source": [
    "print(classification_report(y_test, y_pred_test))"
   ]
  },
  {
   "cell_type": "code",
   "execution_count": null,
   "metadata": {
    "colab": {},
    "colab_type": "code",
    "id": "Tp_WKBzfcKFb"
   },
   "outputs": [],
   "source": [
    "import numpy as np\n",
    "import pandas as pd\n",
    "import matplotlib.pyplot as plt\n",
    "import itertools\n",
    "from sklearn.ensemble import IsolationForest\n",
    "from sklearn.neighbors import LocalOutlierFactor\n",
    "from sklearn import svm\n",
    "from sklearn.neighbors import NearestNeighbors\n",
    "import seaborn as sns\n",
    "\n",
    "\n",
    "from sklearn.metrics import classification_report\n",
    "from sklearn.metrics import confusion_matrix\n",
    "from sklearn.metrics import recall_score\n",
    "from sklearn.metrics import roc_auc_score\n",
    "from sklearn.model_selection import GridSearchCV\n",
    "from sklearn.metrics import make_scorer\n",
    "from sklearn.metrics import accuracy_score\n",
    "\n",
    "from sklearn.model_selection import train_test_split\n",
    "\n",
    "def plot_confusion_matrix(cm, title, classes=['abnormal', 'normal'],\n",
    "                          cmap=plt.cm.Blues, save=False, saveas=\"MyFigure.png\"):\n",
    "    \n",
    "    # print Confusion matrix with blue gradient colours\n",
    "    \n",
    "    cm = cm.astype('float') / cm.sum(axis=1)[:, np.newaxis]\n",
    "    \n",
    "    plt.imshow(cm, interpolation='nearest', cmap=cmap)\n",
    "    plt.title(title)\n",
    "    plt.colorbar()\n",
    "    tick_marks = np.arange(len(classes))\n",
    "    plt.xticks(tick_marks, classes, rotation=90)\n",
    "    plt.yticks(tick_marks, classes)\n",
    "\n",
    "    fmt = '.1%'\n",
    "    thresh = cm.max() / 2.\n",
    "    for i, j in itertools.product(range(cm.shape[0]), range(cm.shape[1])):\n",
    "        plt.text(j, i, format(cm[i, j], fmt),\n",
    "                 horizontalalignment=\"center\",\n",
    "                 color=\"white\" if cm[i, j] > thresh else \"black\")\n",
    "\n",
    "    plt.tight_layout()\n",
    "    plt.ylabel('True label')\n",
    "    plt.xlabel('Predicted label')\n",
    "    \n",
    "    if save:\n",
    "        plt.savefig(saveas, dpi=100)\n"
   ]
  },
  {
   "cell_type": "markdown",
   "metadata": {
    "colab_type": "text",
    "id": "oDNzbAGJhd4I"
   },
   "source": [
    "## 1.3 Local Outlier Factor"
   ]
  },
  {
   "cell_type": "code",
   "execution_count": null,
   "metadata": {
    "colab": {
     "base_uri": "https://localhost:8080/",
     "height": 68
    },
    "colab_type": "code",
    "id": "KxpmhajEhGyL",
    "outputId": "64cadcaf-00fc-4bf2-d84e-fba164b427ad"
   },
   "outputs": [
    {
     "data": {
      "text/plain": [
       "LocalOutlierFactor(algorithm='auto', contamination=0.15, leaf_size=30,\n",
       "                   metric='euclidean', metric_params=None, n_jobs=-1,\n",
       "                   n_neighbors=15, novelty=False, p=2)"
      ]
     },
     "execution_count": 67,
     "metadata": {
      "tags": []
     },
     "output_type": "execute_result"
    }
   ],
   "source": [
    "clfLOF = LocalOutlierFactor(n_neighbors=15, metric='euclidean', algorithm='auto', contamination=0.15, n_jobs=-1)\n",
    "clfLOF.fit(x_train, y_train)"
   ]
  },
  {
   "cell_type": "code",
   "execution_count": null,
   "metadata": {
    "colab": {},
    "colab_type": "code",
    "id": "2fO9j-HPh3Fi"
   },
   "outputs": [],
   "source": [
    "y_pred_train_lof = clfLOF.fit_predict(x_train, y_train)"
   ]
  },
  {
   "cell_type": "code",
   "execution_count": null,
   "metadata": {
    "colab": {
     "base_uri": "https://localhost:8080/",
     "height": 51
    },
    "colab_type": "code",
    "id": "brYaF_LgjX72",
    "outputId": "1fb9f3e8-06d7-4b78-9523-f34b8b5dbb7e"
   },
   "outputs": [
    {
     "data": {
      "text/plain": [
       "array([[  546,  3561],\n",
       "       [14662, 82616]])"
      ]
     },
     "execution_count": 70,
     "metadata": {
      "tags": []
     },
     "output_type": "execute_result"
    }
   ],
   "source": [
    "conf_matrix_lof = confusion_matrix(y_train, y_pred_train_lof)\n",
    "conf_matrix_lof"
   ]
  },
  {
   "cell_type": "code",
   "execution_count": null,
   "metadata": {
    "colab": {
     "base_uri": "https://localhost:8080/",
     "height": 51
    },
    "colab_type": "code",
    "id": "fMymZ_MNlG1O",
    "outputId": "c91baf3f-41ce-43db-94e7-7aa137b4b2eb"
   },
   "outputs": [
    {
     "data": {
      "text/plain": [
       "array([[ 1082,  3084],\n",
       "       [ 8632, 51961]])"
      ]
     },
     "execution_count": 74,
     "metadata": {
      "tags": []
     },
     "output_type": "execute_result"
    }
   ],
   "source": [
    "y_pred_test_lof = clfLOF.fit_predict(x_test, y_test)\n",
    "conf_matrix_lof_test = confusion_matrix(y_test, y_pred_test_lof)\n",
    "conf_matrix_lof_test"
   ]
  },
  {
   "cell_type": "code",
   "execution_count": null,
   "metadata": {
    "colab": {
     "base_uri": "https://localhost:8080/",
     "height": 170
    },
    "colab_type": "code",
    "id": "oQHzcfiRlmP0",
    "outputId": "d1722fd8-3782-4aaf-d336-a23bb4296acf"
   },
   "outputs": [
    {
     "name": "stdout",
     "output_type": "stream",
     "text": [
      "              precision    recall  f1-score   support\n",
      "\n",
      "          -1       0.11      0.26      0.16      4166\n",
      "           1       0.94      0.86      0.90     60593\n",
      "\n",
      "    accuracy                           0.82     64759\n",
      "   macro avg       0.53      0.56      0.53     64759\n",
      "weighted avg       0.89      0.82      0.85     64759\n",
      "\n"
     ]
    }
   ],
   "source": [
    "print(classification_report(y_test, y_pred_test_lof))"
   ]
  },
  {
   "cell_type": "markdown",
   "metadata": {
    "colab_type": "text",
    "id": "FrY00ZRxn9lS"
   },
   "source": [
    "## 1.4 Autoencoder"
   ]
  },
  {
   "cell_type": "code",
   "execution_count": null,
   "metadata": {
    "colab": {
     "base_uri": "https://localhost:8080/",
     "height": 80
    },
    "colab_type": "code",
    "id": "QzQ5iH-OpgQP",
    "outputId": "50344490-d847-4e47-ddef-dca5e56cc890"
   },
   "outputs": [
    {
     "data": {
      "text/html": [
       "<p style=\"color: red;\">\n",
       "The default version of TensorFlow in Colab will soon switch to TensorFlow 2.x.<br>\n",
       "We recommend you <a href=\"https://www.tensorflow.org/guide/migrate\" target=\"_blank\">upgrade</a> now \n",
       "or ensure your notebook will continue to use TensorFlow 1.x via the <code>%tensorflow_version 1.x</code> magic:\n",
       "<a href=\"https://colab.research.google.com/notebooks/tensorflow_version.ipynb\" target=\"_blank\">more info</a>.</p>\n"
      ],
      "text/plain": [
       "<IPython.core.display.HTML object>"
      ]
     },
     "metadata": {
      "tags": []
     },
     "output_type": "display_data"
    },
    {
     "name": "stderr",
     "output_type": "stream",
     "text": [
      "Using TensorFlow backend.\n"
     ]
    }
   ],
   "source": [
    "import pickle\n",
    "from scipy import stats\n",
    "import tensorflow as tf\n",
    "from pylab import rcParams\n",
    "from sklearn.model_selection import train_test_split\n",
    "from keras.models import Model, load_model\n",
    "from keras.layers import Input, Dense\n",
    "from keras.callbacks import ModelCheckpoint, TensorBoard\n",
    "from keras import regularizers"
   ]
  },
  {
   "cell_type": "markdown",
   "metadata": {
    "colab_type": "text",
    "id": "6qZu26TppGkF"
   },
   "source": [
    "## 1.4.1 Probing Attack Detection"
   ]
  },
  {
   "cell_type": "markdown",
   "metadata": {
    "colab_type": "text",
    "id": "PEijPpzhXh5t"
   },
   "source": [
    "## We need to create Validation Test"
   ]
  },
  {
   "cell_type": "code",
   "execution_count": null,
   "metadata": {
    "colab": {
     "base_uri": "https://localhost:8080/",
     "height": 162
    },
    "colab_type": "code",
    "id": "RXYZxz5DXmat",
    "outputId": "3688ae8c-4f8d-4d5a-e4a6-fc7b521fd728"
   },
   "outputs": [
    {
     "data": {
      "text/html": [
       "<div>\n",
       "<style scoped>\n",
       "    .dataframe tbody tr th:only-of-type {\n",
       "        vertical-align: middle;\n",
       "    }\n",
       "\n",
       "    .dataframe tbody tr th {\n",
       "        vertical-align: top;\n",
       "    }\n",
       "\n",
       "    .dataframe thead th {\n",
       "        text-align: right;\n",
       "    }\n",
       "</style>\n",
       "<table border=\"1\" class=\"dataframe\">\n",
       "  <thead>\n",
       "    <tr style=\"text-align: right;\">\n",
       "      <th></th>\n",
       "      <th>Duration</th>\n",
       "      <th>src_bytes</th>\n",
       "      <th>dst_bytes</th>\n",
       "      <th>land</th>\n",
       "      <th>wrong_fragment</th>\n",
       "      <th>urgent</th>\n",
       "      <th>hot</th>\n",
       "      <th>num_failed</th>\n",
       "      <th>logged_in</th>\n",
       "      <th>num_compromised</th>\n",
       "      <th>root_shell</th>\n",
       "      <th>su_attempted</th>\n",
       "      <th>num_root</th>\n",
       "      <th>num_file_creations</th>\n",
       "      <th>num_shells</th>\n",
       "      <th>num_access_files</th>\n",
       "      <th>num_outbound_cmds</th>\n",
       "      <th>is_host_login</th>\n",
       "      <th>is_guest_login</th>\n",
       "      <th>count</th>\n",
       "      <th>srv_count</th>\n",
       "      <th>serror_rate</th>\n",
       "      <th>srv_error_rate</th>\n",
       "      <th>rerror_rate</th>\n",
       "      <th>srv_rerror_rate</th>\n",
       "      <th>same_srv_rate</th>\n",
       "      <th>diff_srv_rate</th>\n",
       "      <th>srv_diff_host_rate</th>\n",
       "      <th>dst_host_count</th>\n",
       "      <th>dst_host_srv_count</th>\n",
       "      <th>dst_host_same_srv_rate</th>\n",
       "      <th>dst_host_diff_srv_rate</th>\n",
       "      <th>dst_host_same_src_port_rate</th>\n",
       "      <th>dst_host_srv_diff_host_rate</th>\n",
       "      <th>dst_host_serror_rate</th>\n",
       "      <th>dst_host_srv_serror_rate</th>\n",
       "      <th>dst_host_rerror_rate</th>\n",
       "      <th>dst_host_srv_rerror_rate</th>\n",
       "    </tr>\n",
       "    <tr>\n",
       "      <th>Type_Groups</th>\n",
       "      <th></th>\n",
       "      <th></th>\n",
       "      <th></th>\n",
       "      <th></th>\n",
       "      <th></th>\n",
       "      <th></th>\n",
       "      <th></th>\n",
       "      <th></th>\n",
       "      <th></th>\n",
       "      <th></th>\n",
       "      <th></th>\n",
       "      <th></th>\n",
       "      <th></th>\n",
       "      <th></th>\n",
       "      <th></th>\n",
       "      <th></th>\n",
       "      <th></th>\n",
       "      <th></th>\n",
       "      <th></th>\n",
       "      <th></th>\n",
       "      <th></th>\n",
       "      <th></th>\n",
       "      <th></th>\n",
       "      <th></th>\n",
       "      <th></th>\n",
       "      <th></th>\n",
       "      <th></th>\n",
       "      <th></th>\n",
       "      <th></th>\n",
       "      <th></th>\n",
       "      <th></th>\n",
       "      <th></th>\n",
       "      <th></th>\n",
       "      <th></th>\n",
       "      <th></th>\n",
       "      <th></th>\n",
       "      <th></th>\n",
       "      <th></th>\n",
       "    </tr>\n",
       "  </thead>\n",
       "  <tbody>\n",
       "    <tr>\n",
       "      <th>0</th>\n",
       "      <td>60593</td>\n",
       "      <td>60593</td>\n",
       "      <td>60593</td>\n",
       "      <td>60593</td>\n",
       "      <td>60593</td>\n",
       "      <td>60593</td>\n",
       "      <td>60593</td>\n",
       "      <td>60593</td>\n",
       "      <td>60593</td>\n",
       "      <td>60593</td>\n",
       "      <td>60593</td>\n",
       "      <td>60593</td>\n",
       "      <td>60593</td>\n",
       "      <td>60593</td>\n",
       "      <td>60593</td>\n",
       "      <td>60593</td>\n",
       "      <td>60593</td>\n",
       "      <td>60593</td>\n",
       "      <td>60593</td>\n",
       "      <td>60593</td>\n",
       "      <td>60593</td>\n",
       "      <td>60593</td>\n",
       "      <td>60593</td>\n",
       "      <td>60593</td>\n",
       "      <td>60593</td>\n",
       "      <td>60593</td>\n",
       "      <td>60593</td>\n",
       "      <td>60593</td>\n",
       "      <td>60593</td>\n",
       "      <td>60593</td>\n",
       "      <td>60593</td>\n",
       "      <td>60593</td>\n",
       "      <td>60593</td>\n",
       "      <td>60593</td>\n",
       "      <td>60593</td>\n",
       "      <td>60593</td>\n",
       "      <td>60593</td>\n",
       "      <td>60593</td>\n",
       "    </tr>\n",
       "    <tr>\n",
       "      <th>1</th>\n",
       "      <td>4166</td>\n",
       "      <td>4166</td>\n",
       "      <td>4166</td>\n",
       "      <td>4166</td>\n",
       "      <td>4166</td>\n",
       "      <td>4166</td>\n",
       "      <td>4166</td>\n",
       "      <td>4166</td>\n",
       "      <td>4166</td>\n",
       "      <td>4166</td>\n",
       "      <td>4166</td>\n",
       "      <td>4166</td>\n",
       "      <td>4166</td>\n",
       "      <td>4166</td>\n",
       "      <td>4166</td>\n",
       "      <td>4166</td>\n",
       "      <td>4166</td>\n",
       "      <td>4166</td>\n",
       "      <td>4166</td>\n",
       "      <td>4166</td>\n",
       "      <td>4166</td>\n",
       "      <td>4166</td>\n",
       "      <td>4166</td>\n",
       "      <td>4166</td>\n",
       "      <td>4166</td>\n",
       "      <td>4166</td>\n",
       "      <td>4166</td>\n",
       "      <td>4166</td>\n",
       "      <td>4166</td>\n",
       "      <td>4166</td>\n",
       "      <td>4166</td>\n",
       "      <td>4166</td>\n",
       "      <td>4166</td>\n",
       "      <td>4166</td>\n",
       "      <td>4166</td>\n",
       "      <td>4166</td>\n",
       "      <td>4166</td>\n",
       "      <td>4166</td>\n",
       "    </tr>\n",
       "  </tbody>\n",
       "</table>\n",
       "</div>"
      ],
      "text/plain": [
       "             Duration  ...  dst_host_srv_rerror_rate\n",
       "Type_Groups            ...                          \n",
       "0               60593  ...                     60593\n",
       "1                4166  ...                      4166\n",
       "\n",
       "[2 rows x 38 columns]"
      ]
     },
     "execution_count": 16,
     "metadata": {
      "tags": []
     },
     "output_type": "execute_result"
    }
   ],
   "source": [
    "kdd_test_probe.groupby('Type_Groups').count()"
   ]
  },
  {
   "cell_type": "code",
   "execution_count": null,
   "metadata": {
    "colab": {
     "base_uri": "https://localhost:8080/",
     "height": 162
    },
    "colab_type": "code",
    "id": "K_uA_W-XX67U",
    "outputId": "ba511863-f343-480e-a445-f55bf99b1fba"
   },
   "outputs": [
    {
     "data": {
      "text/html": [
       "<div>\n",
       "<style scoped>\n",
       "    .dataframe tbody tr th:only-of-type {\n",
       "        vertical-align: middle;\n",
       "    }\n",
       "\n",
       "    .dataframe tbody tr th {\n",
       "        vertical-align: top;\n",
       "    }\n",
       "\n",
       "    .dataframe thead th {\n",
       "        text-align: right;\n",
       "    }\n",
       "</style>\n",
       "<table border=\"1\" class=\"dataframe\">\n",
       "  <thead>\n",
       "    <tr style=\"text-align: right;\">\n",
       "      <th></th>\n",
       "      <th>Duration</th>\n",
       "      <th>src_bytes</th>\n",
       "      <th>dst_bytes</th>\n",
       "      <th>land</th>\n",
       "      <th>wrong_fragment</th>\n",
       "      <th>urgent</th>\n",
       "      <th>hot</th>\n",
       "      <th>num_failed</th>\n",
       "      <th>logged_in</th>\n",
       "      <th>num_compromised</th>\n",
       "      <th>root_shell</th>\n",
       "      <th>su_attempted</th>\n",
       "      <th>num_root</th>\n",
       "      <th>num_file_creations</th>\n",
       "      <th>num_shells</th>\n",
       "      <th>num_access_files</th>\n",
       "      <th>num_outbound_cmds</th>\n",
       "      <th>is_host_login</th>\n",
       "      <th>is_guest_login</th>\n",
       "      <th>count</th>\n",
       "      <th>srv_count</th>\n",
       "      <th>serror_rate</th>\n",
       "      <th>srv_error_rate</th>\n",
       "      <th>rerror_rate</th>\n",
       "      <th>srv_rerror_rate</th>\n",
       "      <th>same_srv_rate</th>\n",
       "      <th>diff_srv_rate</th>\n",
       "      <th>srv_diff_host_rate</th>\n",
       "      <th>dst_host_count</th>\n",
       "      <th>dst_host_srv_count</th>\n",
       "      <th>dst_host_same_srv_rate</th>\n",
       "      <th>dst_host_diff_srv_rate</th>\n",
       "      <th>dst_host_same_src_port_rate</th>\n",
       "      <th>dst_host_srv_diff_host_rate</th>\n",
       "      <th>dst_host_serror_rate</th>\n",
       "      <th>dst_host_srv_serror_rate</th>\n",
       "      <th>dst_host_rerror_rate</th>\n",
       "      <th>dst_host_srv_rerror_rate</th>\n",
       "    </tr>\n",
       "    <tr>\n",
       "      <th>Type_Groups</th>\n",
       "      <th></th>\n",
       "      <th></th>\n",
       "      <th></th>\n",
       "      <th></th>\n",
       "      <th></th>\n",
       "      <th></th>\n",
       "      <th></th>\n",
       "      <th></th>\n",
       "      <th></th>\n",
       "      <th></th>\n",
       "      <th></th>\n",
       "      <th></th>\n",
       "      <th></th>\n",
       "      <th></th>\n",
       "      <th></th>\n",
       "      <th></th>\n",
       "      <th></th>\n",
       "      <th></th>\n",
       "      <th></th>\n",
       "      <th></th>\n",
       "      <th></th>\n",
       "      <th></th>\n",
       "      <th></th>\n",
       "      <th></th>\n",
       "      <th></th>\n",
       "      <th></th>\n",
       "      <th></th>\n",
       "      <th></th>\n",
       "      <th></th>\n",
       "      <th></th>\n",
       "      <th></th>\n",
       "      <th></th>\n",
       "      <th></th>\n",
       "      <th></th>\n",
       "      <th></th>\n",
       "      <th></th>\n",
       "      <th></th>\n",
       "      <th></th>\n",
       "    </tr>\n",
       "  </thead>\n",
       "  <tbody>\n",
       "    <tr>\n",
       "      <th>0</th>\n",
       "      <td>18756</td>\n",
       "      <td>18756</td>\n",
       "      <td>18756</td>\n",
       "      <td>18756</td>\n",
       "      <td>18756</td>\n",
       "      <td>18756</td>\n",
       "      <td>18756</td>\n",
       "      <td>18756</td>\n",
       "      <td>18756</td>\n",
       "      <td>18756</td>\n",
       "      <td>18756</td>\n",
       "      <td>18756</td>\n",
       "      <td>18756</td>\n",
       "      <td>18756</td>\n",
       "      <td>18756</td>\n",
       "      <td>18756</td>\n",
       "      <td>18756</td>\n",
       "      <td>18756</td>\n",
       "      <td>18756</td>\n",
       "      <td>18756</td>\n",
       "      <td>18756</td>\n",
       "      <td>18756</td>\n",
       "      <td>18756</td>\n",
       "      <td>18756</td>\n",
       "      <td>18756</td>\n",
       "      <td>18756</td>\n",
       "      <td>18756</td>\n",
       "      <td>18756</td>\n",
       "      <td>18756</td>\n",
       "      <td>18756</td>\n",
       "      <td>18756</td>\n",
       "      <td>18756</td>\n",
       "      <td>18756</td>\n",
       "      <td>18756</td>\n",
       "      <td>18756</td>\n",
       "      <td>18756</td>\n",
       "      <td>18756</td>\n",
       "      <td>18756</td>\n",
       "    </tr>\n",
       "    <tr>\n",
       "      <th>1</th>\n",
       "      <td>1244</td>\n",
       "      <td>1244</td>\n",
       "      <td>1244</td>\n",
       "      <td>1244</td>\n",
       "      <td>1244</td>\n",
       "      <td>1244</td>\n",
       "      <td>1244</td>\n",
       "      <td>1244</td>\n",
       "      <td>1244</td>\n",
       "      <td>1244</td>\n",
       "      <td>1244</td>\n",
       "      <td>1244</td>\n",
       "      <td>1244</td>\n",
       "      <td>1244</td>\n",
       "      <td>1244</td>\n",
       "      <td>1244</td>\n",
       "      <td>1244</td>\n",
       "      <td>1244</td>\n",
       "      <td>1244</td>\n",
       "      <td>1244</td>\n",
       "      <td>1244</td>\n",
       "      <td>1244</td>\n",
       "      <td>1244</td>\n",
       "      <td>1244</td>\n",
       "      <td>1244</td>\n",
       "      <td>1244</td>\n",
       "      <td>1244</td>\n",
       "      <td>1244</td>\n",
       "      <td>1244</td>\n",
       "      <td>1244</td>\n",
       "      <td>1244</td>\n",
       "      <td>1244</td>\n",
       "      <td>1244</td>\n",
       "      <td>1244</td>\n",
       "      <td>1244</td>\n",
       "      <td>1244</td>\n",
       "      <td>1244</td>\n",
       "      <td>1244</td>\n",
       "    </tr>\n",
       "  </tbody>\n",
       "</table>\n",
       "</div>"
      ],
      "text/plain": [
       "             Duration  ...  dst_host_srv_rerror_rate\n",
       "Type_Groups            ...                          \n",
       "0               18756  ...                     18756\n",
       "1                1244  ...                      1244\n",
       "\n",
       "[2 rows x 38 columns]"
      ]
     },
     "execution_count": 23,
     "metadata": {
      "tags": []
     },
     "output_type": "execute_result"
    }
   ],
   "source": [
    "kdd_test_probe.iloc[14000:34000,:].groupby('Type_Groups').count()"
   ]
  },
  {
   "cell_type": "code",
   "execution_count": null,
   "metadata": {
    "colab": {},
    "colab_type": "code",
    "id": "0NnV4TglYmJD"
   },
   "outputs": [],
   "source": [
    "kdd_valid_probe = kdd_test_probe.iloc[14000:34000,:]"
   ]
  },
  {
   "cell_type": "code",
   "execution_count": null,
   "metadata": {
    "colab": {},
    "colab_type": "code",
    "id": "E_AkIPVsZeBL"
   },
   "outputs": [],
   "source": [
    "kdd_test_v2_probe = pd.concat([kdd_test_probe.iloc[0:14000,:], kdd_test_probe.iloc[34001:64759,:]])"
   ]
  },
  {
   "cell_type": "code",
   "execution_count": null,
   "metadata": {
    "colab": {
     "base_uri": "https://localhost:8080/",
     "height": 162
    },
    "colab_type": "code",
    "id": "firflwnBY1yR",
    "outputId": "83c45372-703e-4c62-f449-d4bf3be4c2fa"
   },
   "outputs": [
    {
     "data": {
      "text/html": [
       "<div>\n",
       "<style scoped>\n",
       "    .dataframe tbody tr th:only-of-type {\n",
       "        vertical-align: middle;\n",
       "    }\n",
       "\n",
       "    .dataframe tbody tr th {\n",
       "        vertical-align: top;\n",
       "    }\n",
       "\n",
       "    .dataframe thead th {\n",
       "        text-align: right;\n",
       "    }\n",
       "</style>\n",
       "<table border=\"1\" class=\"dataframe\">\n",
       "  <thead>\n",
       "    <tr style=\"text-align: right;\">\n",
       "      <th></th>\n",
       "      <th>Duration</th>\n",
       "      <th>src_bytes</th>\n",
       "      <th>dst_bytes</th>\n",
       "      <th>land</th>\n",
       "      <th>wrong_fragment</th>\n",
       "      <th>urgent</th>\n",
       "      <th>hot</th>\n",
       "      <th>num_failed</th>\n",
       "      <th>logged_in</th>\n",
       "      <th>num_compromised</th>\n",
       "      <th>root_shell</th>\n",
       "      <th>su_attempted</th>\n",
       "      <th>num_root</th>\n",
       "      <th>num_file_creations</th>\n",
       "      <th>num_shells</th>\n",
       "      <th>num_access_files</th>\n",
       "      <th>num_outbound_cmds</th>\n",
       "      <th>is_host_login</th>\n",
       "      <th>is_guest_login</th>\n",
       "      <th>count</th>\n",
       "      <th>srv_count</th>\n",
       "      <th>serror_rate</th>\n",
       "      <th>srv_error_rate</th>\n",
       "      <th>rerror_rate</th>\n",
       "      <th>srv_rerror_rate</th>\n",
       "      <th>same_srv_rate</th>\n",
       "      <th>diff_srv_rate</th>\n",
       "      <th>srv_diff_host_rate</th>\n",
       "      <th>dst_host_count</th>\n",
       "      <th>dst_host_srv_count</th>\n",
       "      <th>dst_host_same_srv_rate</th>\n",
       "      <th>dst_host_diff_srv_rate</th>\n",
       "      <th>dst_host_same_src_port_rate</th>\n",
       "      <th>dst_host_srv_diff_host_rate</th>\n",
       "      <th>dst_host_serror_rate</th>\n",
       "      <th>dst_host_srv_serror_rate</th>\n",
       "      <th>dst_host_rerror_rate</th>\n",
       "      <th>dst_host_srv_rerror_rate</th>\n",
       "    </tr>\n",
       "    <tr>\n",
       "      <th>Type_Groups</th>\n",
       "      <th></th>\n",
       "      <th></th>\n",
       "      <th></th>\n",
       "      <th></th>\n",
       "      <th></th>\n",
       "      <th></th>\n",
       "      <th></th>\n",
       "      <th></th>\n",
       "      <th></th>\n",
       "      <th></th>\n",
       "      <th></th>\n",
       "      <th></th>\n",
       "      <th></th>\n",
       "      <th></th>\n",
       "      <th></th>\n",
       "      <th></th>\n",
       "      <th></th>\n",
       "      <th></th>\n",
       "      <th></th>\n",
       "      <th></th>\n",
       "      <th></th>\n",
       "      <th></th>\n",
       "      <th></th>\n",
       "      <th></th>\n",
       "      <th></th>\n",
       "      <th></th>\n",
       "      <th></th>\n",
       "      <th></th>\n",
       "      <th></th>\n",
       "      <th></th>\n",
       "      <th></th>\n",
       "      <th></th>\n",
       "      <th></th>\n",
       "      <th></th>\n",
       "      <th></th>\n",
       "      <th></th>\n",
       "      <th></th>\n",
       "      <th></th>\n",
       "    </tr>\n",
       "  </thead>\n",
       "  <tbody>\n",
       "    <tr>\n",
       "      <th>0</th>\n",
       "      <td>41836</td>\n",
       "      <td>41836</td>\n",
       "      <td>41836</td>\n",
       "      <td>41836</td>\n",
       "      <td>41836</td>\n",
       "      <td>41836</td>\n",
       "      <td>41836</td>\n",
       "      <td>41836</td>\n",
       "      <td>41836</td>\n",
       "      <td>41836</td>\n",
       "      <td>41836</td>\n",
       "      <td>41836</td>\n",
       "      <td>41836</td>\n",
       "      <td>41836</td>\n",
       "      <td>41836</td>\n",
       "      <td>41836</td>\n",
       "      <td>41836</td>\n",
       "      <td>41836</td>\n",
       "      <td>41836</td>\n",
       "      <td>41836</td>\n",
       "      <td>41836</td>\n",
       "      <td>41836</td>\n",
       "      <td>41836</td>\n",
       "      <td>41836</td>\n",
       "      <td>41836</td>\n",
       "      <td>41836</td>\n",
       "      <td>41836</td>\n",
       "      <td>41836</td>\n",
       "      <td>41836</td>\n",
       "      <td>41836</td>\n",
       "      <td>41836</td>\n",
       "      <td>41836</td>\n",
       "      <td>41836</td>\n",
       "      <td>41836</td>\n",
       "      <td>41836</td>\n",
       "      <td>41836</td>\n",
       "      <td>41836</td>\n",
       "      <td>41836</td>\n",
       "    </tr>\n",
       "    <tr>\n",
       "      <th>1</th>\n",
       "      <td>2922</td>\n",
       "      <td>2922</td>\n",
       "      <td>2922</td>\n",
       "      <td>2922</td>\n",
       "      <td>2922</td>\n",
       "      <td>2922</td>\n",
       "      <td>2922</td>\n",
       "      <td>2922</td>\n",
       "      <td>2922</td>\n",
       "      <td>2922</td>\n",
       "      <td>2922</td>\n",
       "      <td>2922</td>\n",
       "      <td>2922</td>\n",
       "      <td>2922</td>\n",
       "      <td>2922</td>\n",
       "      <td>2922</td>\n",
       "      <td>2922</td>\n",
       "      <td>2922</td>\n",
       "      <td>2922</td>\n",
       "      <td>2922</td>\n",
       "      <td>2922</td>\n",
       "      <td>2922</td>\n",
       "      <td>2922</td>\n",
       "      <td>2922</td>\n",
       "      <td>2922</td>\n",
       "      <td>2922</td>\n",
       "      <td>2922</td>\n",
       "      <td>2922</td>\n",
       "      <td>2922</td>\n",
       "      <td>2922</td>\n",
       "      <td>2922</td>\n",
       "      <td>2922</td>\n",
       "      <td>2922</td>\n",
       "      <td>2922</td>\n",
       "      <td>2922</td>\n",
       "      <td>2922</td>\n",
       "      <td>2922</td>\n",
       "      <td>2922</td>\n",
       "    </tr>\n",
       "  </tbody>\n",
       "</table>\n",
       "</div>"
      ],
      "text/plain": [
       "             Duration  ...  dst_host_srv_rerror_rate\n",
       "Type_Groups            ...                          \n",
       "0               41836  ...                     41836\n",
       "1                2922  ...                      2922\n",
       "\n",
       "[2 rows x 38 columns]"
      ]
     },
     "execution_count": 41,
     "metadata": {
      "tags": []
     },
     "output_type": "execute_result"
    }
   ],
   "source": [
    "kdd_test_v2_probe.groupby('Type_Groups').count()"
   ]
  },
  {
   "cell_type": "markdown",
   "metadata": {
    "colab_type": "text",
    "id": "iKgW7zMsecSp"
   },
   "source": [
    "Now that we obtained Train, Test and Validation sets, we can train our data and optimize the reconstruction error threshold using test set. Then, we will perform our actual prediction tast by using Validation set."
   ]
  },
  {
   "cell_type": "code",
   "execution_count": null,
   "metadata": {
    "colab": {
     "base_uri": "https://localhost:8080/",
     "height": 34
    },
    "colab_type": "code",
    "id": "zZF3-B2GzG4H",
    "outputId": "0b06807c-0555-4e05-faa3-3505036b18dd"
   },
   "outputs": [
    {
     "data": {
      "text/plain": [
       "(97278, 38)"
      ]
     },
     "execution_count": 45,
     "metadata": {
      "tags": []
     },
     "output_type": "execute_result"
    }
   ],
   "source": [
    "X_train, X_test = kdd_train_probe, kdd_test_v2_probe\n",
    "X_train = X_train[X_train.Type_Groups == 0]\n",
    "X_train = X_train.drop(['Type_Groups'], axis=1)\n",
    "y_test = X_test['Type_Groups']\n",
    "X_test = X_test.drop(['Type_Groups'], axis=1)\n",
    "X_train = X_train.values\n",
    "X_test = X_test.values\n",
    "X_train.shape"
   ]
  },
  {
   "cell_type": "code",
   "execution_count": null,
   "metadata": {
    "colab": {
     "base_uri": "https://localhost:8080/",
     "height": 139
    },
    "colab_type": "code",
    "id": "ddmJ-5CSpPrw",
    "outputId": "c2002f28-cdcb-4fd0-a861-9304aa064da0"
   },
   "outputs": [
    {
     "name": "stdout",
     "output_type": "stream",
     "text": [
      "WARNING:tensorflow:From /usr/local/lib/python3.6/dist-packages/keras/backend/tensorflow_backend.py:66: The name tf.get_default_graph is deprecated. Please use tf.compat.v1.get_default_graph instead.\n",
      "\n",
      "WARNING:tensorflow:From /usr/local/lib/python3.6/dist-packages/keras/backend/tensorflow_backend.py:541: The name tf.placeholder is deprecated. Please use tf.compat.v1.placeholder instead.\n",
      "\n",
      "WARNING:tensorflow:From /usr/local/lib/python3.6/dist-packages/keras/backend/tensorflow_backend.py:4432: The name tf.random_uniform is deprecated. Please use tf.random.uniform instead.\n",
      "\n"
     ]
    }
   ],
   "source": [
    "input_dim = X_train.shape[1]\n",
    "encoding_dim = 14\n",
    "input_layer = Input(shape=(input_dim, ))\n",
    "encoder = Dense(encoding_dim, activation=\"tanh\", \n",
    "                activity_regularizer=regularizers.l1(10e-5))(input_layer)\n",
    "encoder = Dense(int(encoding_dim / 2), activation=\"relu\")(encoder)\n",
    "decoder = Dense(int(encoding_dim), activation='tanh')(encoder)\n",
    "decoder = Dense(input_dim, activation='relu')(decoder)\n",
    "\n",
    "autoencoder_corr = Model(inputs=input_layer, outputs=decoder)"
   ]
  },
  {
   "cell_type": "code",
   "execution_count": null,
   "metadata": {
    "colab": {
     "base_uri": "https://localhost:8080/",
     "height": 1000
    },
    "colab_type": "code",
    "id": "5CWGL4-b2umu",
    "outputId": "be1b73ba-3a41-475c-86eb-a84fbd5ac7c7"
   },
   "outputs": [
    {
     "name": "stdout",
     "output_type": "stream",
     "text": [
      "Train on 97278 samples, validate on 44758 samples\n",
      "Epoch 1/34\n",
      "97278/97278 [==============================] - 2s 20us/step - loss: 0.2374 - acc: 0.8362 - val_loss: 0.5413 - val_acc: 0.3169\n",
      "Epoch 2/34\n",
      "97278/97278 [==============================] - 2s 19us/step - loss: 0.2344 - acc: 0.8472 - val_loss: 0.5866 - val_acc: 0.3196\n",
      "Epoch 3/34\n",
      "97278/97278 [==============================] - 2s 18us/step - loss: 0.2329 - acc: 0.8412 - val_loss: 0.6006 - val_acc: 0.4627\n",
      "Epoch 4/34\n",
      "97278/97278 [==============================] - 2s 18us/step - loss: 0.2317 - acc: 0.8425 - val_loss: 0.5600 - val_acc: 0.4225\n",
      "Epoch 5/34\n",
      "97278/97278 [==============================] - 2s 18us/step - loss: 0.2302 - acc: 0.8471 - val_loss: 0.5684 - val_acc: 0.5104\n",
      "Epoch 6/34\n",
      "97278/97278 [==============================] - 2s 18us/step - loss: 0.2294 - acc: 0.8426 - val_loss: 0.5754 - val_acc: 0.4567\n",
      "Epoch 7/34\n",
      "97278/97278 [==============================] - 2s 19us/step - loss: 0.2287 - acc: 0.8485 - val_loss: 0.5865 - val_acc: 0.4485\n",
      "Epoch 8/34\n",
      "97278/97278 [==============================] - 2s 18us/step - loss: 0.2271 - acc: 0.8473 - val_loss: 0.5809 - val_acc: 0.4056\n",
      "Epoch 9/34\n",
      "97278/97278 [==============================] - 2s 18us/step - loss: 0.2262 - acc: 0.8517 - val_loss: 0.5551 - val_acc: 0.5067\n",
      "Epoch 10/34\n",
      "97278/97278 [==============================] - 2s 19us/step - loss: 0.2272 - acc: 0.8514 - val_loss: 0.5728 - val_acc: 0.4780\n",
      "Epoch 11/34\n",
      "97278/97278 [==============================] - 2s 18us/step - loss: 0.2249 - acc: 0.8470 - val_loss: 0.5749 - val_acc: 0.2460\n",
      "Epoch 12/34\n",
      "97278/97278 [==============================] - 2s 19us/step - loss: 0.2241 - acc: 0.8487 - val_loss: 0.5756 - val_acc: 0.4203\n",
      "Epoch 13/34\n",
      "97278/97278 [==============================] - 2s 18us/step - loss: 0.2219 - acc: 0.8585 - val_loss: 0.6041 - val_acc: 0.4554\n",
      "Epoch 14/34\n",
      "97278/97278 [==============================] - 2s 18us/step - loss: 0.2245 - acc: 0.8562 - val_loss: 0.6045 - val_acc: 0.3426\n",
      "Epoch 15/34\n",
      "97278/97278 [==============================] - 2s 18us/step - loss: 0.2207 - acc: 0.8608 - val_loss: 0.5760 - val_acc: 0.2564\n",
      "Epoch 16/34\n",
      "97278/97278 [==============================] - 2s 18us/step - loss: 0.2187 - acc: 0.8617 - val_loss: 0.6199 - val_acc: 0.2620\n",
      "Epoch 17/34\n",
      "97278/97278 [==============================] - 2s 19us/step - loss: 0.2199 - acc: 0.8566 - val_loss: 0.5923 - val_acc: 0.2939\n",
      "Epoch 18/34\n",
      "97278/97278 [==============================] - 2s 19us/step - loss: 0.2178 - acc: 0.8625 - val_loss: 0.5879 - val_acc: 0.4562\n",
      "Epoch 19/34\n",
      "97278/97278 [==============================] - 2s 18us/step - loss: 0.2169 - acc: 0.8613 - val_loss: 0.6062 - val_acc: 0.3859\n",
      "Epoch 20/34\n",
      "97278/97278 [==============================] - 2s 19us/step - loss: 0.2166 - acc: 0.8640 - val_loss: 0.5782 - val_acc: 0.2842\n",
      "Epoch 21/34\n",
      "97278/97278 [==============================] - 2s 18us/step - loss: 0.2153 - acc: 0.8651 - val_loss: 0.5747 - val_acc: 0.2968\n",
      "Epoch 22/34\n",
      "97278/97278 [==============================] - 2s 18us/step - loss: 0.2140 - acc: 0.8639 - val_loss: 0.5277 - val_acc: 0.2494\n",
      "Epoch 23/34\n",
      "97278/97278 [==============================] - 2s 18us/step - loss: 0.2137 - acc: 0.8660 - val_loss: 0.5473 - val_acc: 0.4624\n",
      "Epoch 24/34\n",
      "97278/97278 [==============================] - 2s 18us/step - loss: 0.2141 - acc: 0.8679 - val_loss: 0.5580 - val_acc: 0.3937\n",
      "Epoch 25/34\n",
      "97278/97278 [==============================] - 2s 18us/step - loss: 0.2128 - acc: 0.8686 - val_loss: 0.5805 - val_acc: 0.3273\n",
      "Epoch 26/34\n",
      "97278/97278 [==============================] - 2s 18us/step - loss: 0.2116 - acc: 0.8638 - val_loss: 0.5801 - val_acc: 0.4410\n",
      "Epoch 27/34\n",
      "97278/97278 [==============================] - 2s 18us/step - loss: 0.2110 - acc: 0.8613 - val_loss: 0.6043 - val_acc: 0.2979\n",
      "Epoch 28/34\n",
      "97278/97278 [==============================] - 2s 18us/step - loss: 0.2104 - acc: 0.8656 - val_loss: 0.5433 - val_acc: 0.4504\n",
      "Epoch 29/34\n",
      "97278/97278 [==============================] - 2s 18us/step - loss: 0.2098 - acc: 0.8646 - val_loss: 0.5614 - val_acc: 0.4569\n",
      "Epoch 30/34\n",
      "97278/97278 [==============================] - 2s 18us/step - loss: 0.2105 - acc: 0.8614 - val_loss: 0.6218 - val_acc: 0.4440\n",
      "Epoch 31/34\n",
      "97278/97278 [==============================] - 2s 18us/step - loss: 0.2085 - acc: 0.8624 - val_loss: 0.5892 - val_acc: 0.4350\n",
      "Epoch 32/34\n",
      "97278/97278 [==============================] - 2s 18us/step - loss: 0.2074 - acc: 0.8676 - val_loss: 0.5790 - val_acc: 0.4270\n",
      "Epoch 33/34\n",
      "97278/97278 [==============================] - 2s 18us/step - loss: 0.2110 - acc: 0.8667 - val_loss: 0.5341 - val_acc: 0.3290\n",
      "Epoch 34/34\n",
      "97278/97278 [==============================] - 2s 18us/step - loss: 0.2076 - acc: 0.8667 - val_loss: 0.5113 - val_acc: 0.2502\n"
     ]
    }
   ],
   "source": [
    "nb_epoch = 34\n",
    "batch_size = 100\n",
    "batch_index=0\n",
    "autoencoder_corr.compile(optimizer='adam', \n",
    "                    loss='mean_squared_error', \n",
    "                    metrics=['accuracy'])\n",
    "checkpointer = ModelCheckpoint(filepath=\"model.h5\",  #TO SAVE THE MODEL\n",
    "                               verbose=0,\n",
    "                               save_best_only=True)\n",
    "tensorboard = TensorBoard(log_dir='./logs',\n",
    "                          histogram_freq=0,\n",
    "                          write_graph=True,\n",
    "                          write_images=True)\n",
    "history = autoencoder_corr.fit(X_train, X_train, #INPUT AND EXPECTED OUTPUT ARE THE SAME.\n",
    "                    epochs=nb_epoch,\n",
    "                    batch_size=batch_size,\n",
    "                    shuffle=True,\n",
    "                    validation_data=(X_test, X_test),\n",
    "                    verbose=1,\n",
    "                    callbacks=[checkpointer, tensorboard]).history"
   ]
  },
  {
   "cell_type": "markdown",
   "metadata": {
    "colab_type": "text",
    "id": "p1wb7_MsBO05"
   },
   "source": [
    "# Tune the threshold value using training set"
   ]
  },
  {
   "cell_type": "code",
   "execution_count": null,
   "metadata": {
    "colab": {
     "base_uri": "https://localhost:8080/",
     "height": 297
    },
    "colab_type": "code",
    "id": "v_WijHwGBOjs",
    "outputId": "8f51e62e-756c-4b69-9172-a7d00f9f284b"
   },
   "outputs": [
    {
     "data": {
      "text/html": [
       "<div>\n",
       "<style scoped>\n",
       "    .dataframe tbody tr th:only-of-type {\n",
       "        vertical-align: middle;\n",
       "    }\n",
       "\n",
       "    .dataframe tbody tr th {\n",
       "        vertical-align: top;\n",
       "    }\n",
       "\n",
       "    .dataframe thead th {\n",
       "        text-align: right;\n",
       "    }\n",
       "</style>\n",
       "<table border=\"1\" class=\"dataframe\">\n",
       "  <thead>\n",
       "    <tr style=\"text-align: right;\">\n",
       "      <th></th>\n",
       "      <th>reconstruction_error</th>\n",
       "      <th>true_class</th>\n",
       "    </tr>\n",
       "  </thead>\n",
       "  <tbody>\n",
       "    <tr>\n",
       "      <th>count</th>\n",
       "      <td>44758.000000</td>\n",
       "      <td>44758.000000</td>\n",
       "    </tr>\n",
       "    <tr>\n",
       "      <th>mean</th>\n",
       "      <td>0.505508</td>\n",
       "      <td>0.065284</td>\n",
       "    </tr>\n",
       "    <tr>\n",
       "      <th>std</th>\n",
       "      <td>6.349874</td>\n",
       "      <td>0.247030</td>\n",
       "    </tr>\n",
       "    <tr>\n",
       "      <th>min</th>\n",
       "      <td>0.019695</td>\n",
       "      <td>0.000000</td>\n",
       "    </tr>\n",
       "    <tr>\n",
       "      <th>25%</th>\n",
       "      <td>0.042431</td>\n",
       "      <td>0.000000</td>\n",
       "    </tr>\n",
       "    <tr>\n",
       "      <th>50%</th>\n",
       "      <td>0.087384</td>\n",
       "      <td>0.000000</td>\n",
       "    </tr>\n",
       "    <tr>\n",
       "      <th>75%</th>\n",
       "      <td>0.131483</td>\n",
       "      <td>0.000000</td>\n",
       "    </tr>\n",
       "    <tr>\n",
       "      <th>max</th>\n",
       "      <td>1136.353221</td>\n",
       "      <td>1.000000</td>\n",
       "    </tr>\n",
       "  </tbody>\n",
       "</table>\n",
       "</div>"
      ],
      "text/plain": [
       "       reconstruction_error    true_class\n",
       "count          44758.000000  44758.000000\n",
       "mean               0.505508      0.065284\n",
       "std                6.349874      0.247030\n",
       "min                0.019695      0.000000\n",
       "25%                0.042431      0.000000\n",
       "50%                0.087384      0.000000\n",
       "75%                0.131483      0.000000\n",
       "max             1136.353221      1.000000"
      ]
     },
     "execution_count": 51,
     "metadata": {
      "tags": []
     },
     "output_type": "execute_result"
    }
   ],
   "source": [
    "predictions = autoencoder_corr.predict(X_test)\n",
    "mse = np.mean(np.power(X_test - predictions, 2), axis=1)\n",
    "error_df = pd.DataFrame({'reconstruction_error': mse,\n",
    "                        'true_class': y_test})\n",
    "error_df.describe()"
   ]
  },
  {
   "cell_type": "code",
   "execution_count": null,
   "metadata": {
    "colab": {},
    "colab_type": "code",
    "id": "NWhNe_P7BOVz"
   },
   "outputs": [],
   "source": [
    "threshold = np.arange(0, 1, 0.01)\n",
    "results = np.zeros(100)\n",
    "probe = np.zeros(100)\n",
    "i = 0\n",
    "for t in threshold:\n",
    "  y_pred = [1 if e > t else 0 for e in error_df.reconstruction_error.values]\n",
    "  conf_matrix = confusion_matrix(error_df.true_class, y_pred)\n",
    "  results[i] = (conf_matrix[0,0] + conf_matrix[1,1]) / 64759\n",
    "  probe[i] = conf_matrix[1,1] / 4166\n",
    "  i = i + 1"
   ]
  },
  {
   "cell_type": "code",
   "execution_count": null,
   "metadata": {
    "colab": {
     "base_uri": "https://localhost:8080/",
     "height": 297
    },
    "colab_type": "code",
    "id": "vEPiSbh8YNDc",
    "outputId": "661da4c8-6a92-41fb-c14d-8ba14cbf0a61"
   },
   "outputs": [
    {
     "data": {
      "text/html": [
       "<div>\n",
       "<style scoped>\n",
       "    .dataframe tbody tr th:only-of-type {\n",
       "        vertical-align: middle;\n",
       "    }\n",
       "\n",
       "    .dataframe tbody tr th {\n",
       "        vertical-align: top;\n",
       "    }\n",
       "\n",
       "    .dataframe thead th {\n",
       "        text-align: right;\n",
       "    }\n",
       "</style>\n",
       "<table border=\"1\" class=\"dataframe\">\n",
       "  <thead>\n",
       "    <tr style=\"text-align: right;\">\n",
       "      <th></th>\n",
       "      <th>reconstruction_error</th>\n",
       "      <th>true_class</th>\n",
       "    </tr>\n",
       "  </thead>\n",
       "  <tbody>\n",
       "    <tr>\n",
       "      <th>count</th>\n",
       "      <td>44758.000000</td>\n",
       "      <td>44758.000000</td>\n",
       "    </tr>\n",
       "    <tr>\n",
       "      <th>mean</th>\n",
       "      <td>0.505508</td>\n",
       "      <td>0.065284</td>\n",
       "    </tr>\n",
       "    <tr>\n",
       "      <th>std</th>\n",
       "      <td>6.349874</td>\n",
       "      <td>0.247030</td>\n",
       "    </tr>\n",
       "    <tr>\n",
       "      <th>min</th>\n",
       "      <td>0.019695</td>\n",
       "      <td>0.000000</td>\n",
       "    </tr>\n",
       "    <tr>\n",
       "      <th>25%</th>\n",
       "      <td>0.042431</td>\n",
       "      <td>0.000000</td>\n",
       "    </tr>\n",
       "    <tr>\n",
       "      <th>50%</th>\n",
       "      <td>0.087384</td>\n",
       "      <td>0.000000</td>\n",
       "    </tr>\n",
       "    <tr>\n",
       "      <th>75%</th>\n",
       "      <td>0.131483</td>\n",
       "      <td>0.000000</td>\n",
       "    </tr>\n",
       "    <tr>\n",
       "      <th>max</th>\n",
       "      <td>1136.353221</td>\n",
       "      <td>1.000000</td>\n",
       "    </tr>\n",
       "  </tbody>\n",
       "</table>\n",
       "</div>"
      ],
      "text/plain": [
       "       reconstruction_error    true_class\n",
       "count          44758.000000  44758.000000\n",
       "mean               0.505508      0.065284\n",
       "std                6.349874      0.247030\n",
       "min                0.019695      0.000000\n",
       "25%                0.042431      0.000000\n",
       "50%                0.087384      0.000000\n",
       "75%                0.131483      0.000000\n",
       "max             1136.353221      1.000000"
      ]
     },
     "execution_count": 53,
     "metadata": {
      "tags": []
     },
     "output_type": "execute_result"
    }
   ],
   "source": [
    "predictions = autoencoder_corr.predict(X_test)\n",
    "mse = np.mean(np.power(X_test - predictions, 2), axis=1)\n",
    "error_df = pd.DataFrame({'reconstruction_error': mse,\n",
    "                        'true_class': y_test})\n",
    "error_df.describe()"
   ]
  },
  {
   "cell_type": "code",
   "execution_count": null,
   "metadata": {
    "colab": {
     "base_uri": "https://localhost:8080/",
     "height": 51
    },
    "colab_type": "code",
    "id": "UlWYF4Cf3XLL",
    "outputId": "5b17ed7c-0d35-4b11-c4cd-e8b5de79af53"
   },
   "outputs": [
    {
     "data": {
      "text/plain": [
       "array([[33291,  8545],\n",
       "       [    0,  2922]])"
      ]
     },
     "execution_count": 57,
     "metadata": {
      "tags": []
     },
     "output_type": "execute_result"
    }
   ],
   "source": [
    "threshold = 0.13 # 0.20 de iyi\n",
    "LABELS = [\"Normal\", \"Probing\"]\n",
    "y_pred = [1 if e > threshold else 0 for e in error_df.reconstruction_error.values]\n",
    "conf_matrix = confusion_matrix(error_df.true_class, y_pred)\n",
    "#plt.figure(figsize=(12, 12))\n",
    "#sns.heatmap(conf_matrix, xticklabels=LABELS, yticklabels=LABELS, annot=True, fmt=\"d\");\n",
    "#plt.title(\"Confusion matrix\")\n",
    "#plt.ylabel('True class')\n",
    "#plt.xlabel('Predicted class')\n",
    "#plt.show()\n",
    "conf_matrix"
   ]
  },
  {
   "cell_type": "code",
   "execution_count": null,
   "metadata": {
    "colab": {},
    "colab_type": "code",
    "id": "wJEkAmeC3v1v"
   },
   "outputs": [],
   "source": [
    "from sklearn.metrics import (confusion_matrix, precision_recall_curve, auc,\n",
    "                             roc_curve, recall_score, classification_report, f1_score,\n",
    "                             precision_recall_fscore_support)"
   ]
  },
  {
   "cell_type": "code",
   "execution_count": null,
   "metadata": {
    "colab": {
     "base_uri": "https://localhost:8080/",
     "height": 295
    },
    "colab_type": "code",
    "id": "oyHacenx3VJu",
    "outputId": "506301f5-0c2c-4f9a-9098-0b7c3fced5ce"
   },
   "outputs": [
    {
     "data": {
      "image/png": "[encoded data removed]",
      "text/plain": [
       "<Figure size 432x288 with 1 Axes>"
      ]
     },
     "metadata": {
      "tags": []
     },
     "output_type": "display_data"
    }
   ],
   "source": [
    "fpr, tpr, thresholds = roc_curve(error_df.true_class, error_df.reconstruction_error)\n",
    "roc_auc = auc(fpr, tpr)\n",
    "\n",
    "plt.title('Receiver Operating Characteristic')\n",
    "plt.plot(fpr, tpr, label='AUC = %0.4f'% roc_auc)\n",
    "plt.legend(loc='lower right')\n",
    "plt.plot([0,1],[0,1],'r--')\n",
    "plt.xlim([-0.001, 1])\n",
    "plt.ylim([0, 1.001])\n",
    "plt.ylabel('True Positive Rate')\n",
    "plt.xlabel('False Positive Rate')\n",
    "plt.show();"
   ]
  },
  {
   "cell_type": "code",
   "execution_count": null,
   "metadata": {
    "colab": {},
    "colab_type": "code",
    "id": "4HhIPx8t3XP7"
   },
   "outputs": [],
   "source": [
    "threshold = np.arange(0, 1, 0.01)\n",
    "results = np.zeros(100)\n",
    "probe = np.zeros(100)\n",
    "i = 0\n",
    "for t in threshold:\n",
    "  y_pred = [1 if e > t else 0 for e in error_df.reconstruction_error.values]\n",
    "  conf_matrix = confusion_matrix(error_df.true_class, y_pred)\n",
    "  results[i] = (conf_matrix[0,0] + conf_matrix[1,1]) / 44758\n",
    "  probe[i] = conf_matrix[1,1] / 2922\n",
    "  i = i + 1"
   ]
  },
  {
   "cell_type": "code",
   "execution_count": null,
   "metadata": {
    "colab": {
     "base_uri": "https://localhost:8080/",
     "height": 357
    },
    "colab_type": "code",
    "id": "ki6gdyl6jGo4",
    "outputId": "f08c288f-3eb8-4be5-d11a-3f8aba14d29e"
   },
   "outputs": [
    {
     "data": {
      "text/plain": [
       "array([1.        , 1.        , 1.        , 1.        , 1.        ,\n",
       "       1.        , 1.        , 1.        , 1.        , 1.        ,\n",
       "       1.        , 1.        , 1.        , 1.        , 1.        ,\n",
       "       0.99897331, 0.99897331, 0.99897331, 0.99897331, 0.99897331,\n",
       "       0.99897331, 0.99897331, 0.99897331, 0.99897331, 0.99897331,\n",
       "       0.99897331, 0.99897331, 0.99897331, 0.99897331, 0.99897331,\n",
       "       0.99897331, 0.99897331, 0.99897331, 0.99897331, 0.99897331,\n",
       "       0.99897331, 0.99897331, 0.99828884, 0.99828884, 0.99828884,\n",
       "       0.99828884, 0.99828884, 0.99828884, 0.99828884, 0.99794661,\n",
       "       0.99760438, 0.99760438, 0.99726215, 0.99726215, 0.99726215,\n",
       "       0.99726215, 0.99691992, 0.99657769, 0.99623546, 0.99623546,\n",
       "       0.99623546, 0.99589322, 0.99589322, 0.99589322, 0.99555099,\n",
       "       0.99520876, 0.99520876, 0.99486653, 0.9945243 , 0.9945243 ,\n",
       "       0.99418207, 0.99418207, 0.99418207, 0.99418207, 0.99418207,\n",
       "       0.99418207, 0.99418207, 0.99418207, 0.99418207, 0.99383984,\n",
       "       0.99383984, 0.99383984, 0.99383984, 0.99383984, 0.99383984,\n",
       "       0.99383984, 0.9934976 , 0.9934976 , 0.9934976 , 0.9934976 ,\n",
       "       0.9934976 , 0.9934976 , 0.9934976 , 0.9934976 , 0.9934976 ,\n",
       "       0.9934976 , 0.9934976 , 0.9934976 , 0.99315537, 0.99281314,\n",
       "       0.99281314, 0.99247091, 0.99247091, 0.99247091, 0.99247091])"
      ]
     },
     "execution_count": 66,
     "metadata": {
      "tags": []
     },
     "output_type": "execute_result"
    }
   ],
   "source": [
    "probe"
   ]
  },
  {
   "cell_type": "code",
   "execution_count": null,
   "metadata": {
    "colab": {
     "base_uri": "https://localhost:8080/",
     "height": 187
    },
    "colab_type": "code",
    "id": "Y4pippgbjLHG",
    "outputId": "c95b3652-782d-4f72-fa6b-f713c4209714"
   },
   "outputs": [
    {
     "data": {
      "text/plain": [
       "array([0.  , 0.01, 0.02, 0.03, 0.04, 0.05, 0.06, 0.07, 0.08, 0.09, 0.1 ,\n",
       "       0.11, 0.12, 0.13, 0.14, 0.15, 0.16, 0.17, 0.18, 0.19, 0.2 , 0.21,\n",
       "       0.22, 0.23, 0.24, 0.25, 0.26, 0.27, 0.28, 0.29, 0.3 , 0.31, 0.32,\n",
       "       0.33, 0.34, 0.35, 0.36, 0.37, 0.38, 0.39, 0.4 , 0.41, 0.42, 0.43,\n",
       "       0.44, 0.45, 0.46, 0.47, 0.48, 0.49, 0.5 , 0.51, 0.52, 0.53, 0.54,\n",
       "       0.55, 0.56, 0.57, 0.58, 0.59, 0.6 , 0.61, 0.62, 0.63, 0.64, 0.65,\n",
       "       0.66, 0.67, 0.68, 0.69, 0.7 , 0.71, 0.72, 0.73, 0.74, 0.75, 0.76,\n",
       "       0.77, 0.78, 0.79, 0.8 , 0.81, 0.82, 0.83, 0.84, 0.85, 0.86, 0.87,\n",
       "       0.88, 0.89, 0.9 , 0.91, 0.92, 0.93, 0.94, 0.95, 0.96, 0.97, 0.98,\n",
       "       0.99])"
      ]
     },
     "execution_count": 67,
     "metadata": {
      "tags": []
     },
     "output_type": "execute_result"
    }
   ],
   "source": [
    "threshold"
   ]
  },
  {
   "cell_type": "code",
   "execution_count": null,
   "metadata": {
    "colab": {
     "base_uri": "https://localhost:8080/",
     "height": 282
    },
    "colab_type": "code",
    "id": "6ZxbaJfHG24M",
    "outputId": "e2134a91-9504-4207-e88c-bf2a7bc7fac9"
   },
   "outputs": [
    {
     "data": {
      "text/plain": [
       "[<matplotlib.lines.Line2D at 0x7ff47e9fc438>]"
      ]
     },
     "execution_count": 64,
     "metadata": {
      "tags": []
     },
     "output_type": "execute_result"
    },
    {
     "data": {
      "image/png": "[encoded data removed]",
      "text/plain": [
       "<Figure size 432x288 with 1 Axes>"
      ]
     },
     "metadata": {
      "tags": []
     },
     "output_type": "display_data"
    }
   ],
   "source": [
    "import matplotlib.pyplot as plt\n",
    "plt.plot(threshold, probe)"
   ]
  },
  {
   "cell_type": "code",
   "execution_count": null,
   "metadata": {
    "colab": {
     "base_uri": "https://localhost:8080/",
     "height": 282
    },
    "colab_type": "code",
    "id": "pS90TZJcHGGD",
    "outputId": "285fccd4-dafb-42a2-ab38-2333d3178ad1"
   },
   "outputs": [
    {
     "data": {
      "text/plain": [
       "[<matplotlib.lines.Line2D at 0x7ff47e9da358>]"
      ]
     },
     "execution_count": 65,
     "metadata": {
      "tags": []
     },
     "output_type": "execute_result"
    },
    {
     "data": {
      "image/png": "[encoded data removed]",
      "text/plain": [
       "<Figure size 432x288 with 1 Axes>"
      ]
     },
     "metadata": {
      "tags": []
     },
     "output_type": "display_data"
    }
   ],
   "source": [
    "plt.plot(threshold, results)"
   ]
  },
  {
   "cell_type": "markdown",
   "metadata": {
    "colab_type": "text",
    "id": "rXN_FzmBjUfP"
   },
   "source": [
    "Let's try if we can find a better threshold value between 0.14 and 0.18."
   ]
  },
  {
   "cell_type": "code",
   "execution_count": null,
   "metadata": {
    "colab": {},
    "colab_type": "code",
    "id": "8kLPqf61BAf6"
   },
   "outputs": [],
   "source": [
    "threshold = np.arange(0.3, 0.5, 0.001)\n",
    "results = np.zeros(200)\n",
    "probe = np.zeros(200)\n",
    "i = 0\n",
    "for t in threshold:\n",
    "  y_pred = [1 if e > t else 0 for e in error_df.reconstruction_error.values]\n",
    "  conf_matrix = confusion_matrix(error_df.true_class, y_pred)\n",
    "  results[i] = (conf_matrix[0,0] + conf_matrix[1,1]) / 44758\n",
    "  probe[i] = conf_matrix[1,1] / 2922\n",
    "  i = i + 1"
   ]
  },
  {
   "cell_type": "code",
   "execution_count": null,
   "metadata": {
    "colab": {
     "base_uri": "https://localhost:8080/",
     "height": 408
    },
    "colab_type": "code",
    "id": "zI558plHkG08",
    "outputId": "389a9a29-84c5-4bd3-b279-8d6a9e274afa"
   },
   "outputs": [
    {
     "data": {
      "text/plain": [
       "array([0.3  , 0.301, 0.302, 0.303, 0.304, 0.305, 0.306, 0.307, 0.308,\n",
       "       0.309, 0.31 , 0.311, 0.312, 0.313, 0.314, 0.315, 0.316, 0.317,\n",
       "       0.318, 0.319, 0.32 , 0.321, 0.322, 0.323, 0.324, 0.325, 0.326,\n",
       "       0.327, 0.328, 0.329, 0.33 , 0.331, 0.332, 0.333, 0.334, 0.335,\n",
       "       0.336, 0.337, 0.338, 0.339, 0.34 , 0.341, 0.342, 0.343, 0.344,\n",
       "       0.345, 0.346, 0.347, 0.348, 0.349, 0.35 , 0.351, 0.352, 0.353,\n",
       "       0.354, 0.355, 0.356, 0.357, 0.358, 0.359, 0.36 , 0.361, 0.362,\n",
       "       0.363, 0.364, 0.365, 0.366, 0.367, 0.368, 0.369, 0.37 , 0.371,\n",
       "       0.372, 0.373, 0.374, 0.375, 0.376, 0.377, 0.378, 0.379, 0.38 ,\n",
       "       0.381, 0.382, 0.383, 0.384, 0.385, 0.386, 0.387, 0.388, 0.389,\n",
       "       0.39 , 0.391, 0.392, 0.393, 0.394, 0.395, 0.396, 0.397, 0.398,\n",
       "       0.399, 0.4  , 0.401, 0.402, 0.403, 0.404, 0.405, 0.406, 0.407,\n",
       "       0.408, 0.409, 0.41 , 0.411, 0.412, 0.413, 0.414, 0.415, 0.416,\n",
       "       0.417, 0.418, 0.419, 0.42 , 0.421, 0.422, 0.423, 0.424, 0.425,\n",
       "       0.426, 0.427, 0.428, 0.429, 0.43 , 0.431, 0.432, 0.433, 0.434,\n",
       "       0.435, 0.436, 0.437, 0.438, 0.439, 0.44 , 0.441, 0.442, 0.443,\n",
       "       0.444, 0.445, 0.446, 0.447, 0.448, 0.449, 0.45 , 0.451, 0.452,\n",
       "       0.453, 0.454, 0.455, 0.456, 0.457, 0.458, 0.459, 0.46 , 0.461,\n",
       "       0.462, 0.463, 0.464, 0.465, 0.466, 0.467, 0.468, 0.469, 0.47 ,\n",
       "       0.471, 0.472, 0.473, 0.474, 0.475, 0.476, 0.477, 0.478, 0.479,\n",
       "       0.48 , 0.481, 0.482, 0.483, 0.484, 0.485, 0.486, 0.487, 0.488,\n",
       "       0.489, 0.49 , 0.491, 0.492, 0.493, 0.494, 0.495, 0.496, 0.497,\n",
       "       0.498, 0.499])"
      ]
     },
     "execution_count": 108,
     "metadata": {
      "tags": []
     },
     "output_type": "execute_result"
    }
   ],
   "source": [
    "threshold"
   ]
  },
  {
   "cell_type": "code",
   "execution_count": null,
   "metadata": {
    "colab": {
     "base_uri": "https://localhost:8080/",
     "height": 697
    },
    "colab_type": "code",
    "id": "Cj9GcA5gkUrH",
    "outputId": "4c457248-c370-4232-db63-af70868dc5e5"
   },
   "outputs": [
    {
     "data": {
      "text/plain": [
       "array([0.99897331, 0.99897331, 0.99897331, 0.99897331, 0.99897331,\n",
       "       0.99897331, 0.99897331, 0.99897331, 0.99897331, 0.99897331,\n",
       "       0.99897331, 0.99897331, 0.99897331, 0.99897331, 0.99897331,\n",
       "       0.99897331, 0.99897331, 0.99897331, 0.99897331, 0.99897331,\n",
       "       0.99897331, 0.99897331, 0.99897331, 0.99897331, 0.99897331,\n",
       "       0.99897331, 0.99897331, 0.99897331, 0.99897331, 0.99897331,\n",
       "       0.99897331, 0.99897331, 0.99897331, 0.99897331, 0.99897331,\n",
       "       0.99897331, 0.99897331, 0.99897331, 0.99897331, 0.99897331,\n",
       "       0.99897331, 0.99897331, 0.99897331, 0.99897331, 0.99897331,\n",
       "       0.99897331, 0.99897331, 0.99897331, 0.99897331, 0.99897331,\n",
       "       0.99897331, 0.99897331, 0.99897331, 0.99897331, 0.99897331,\n",
       "       0.99897331, 0.99897331, 0.99897331, 0.99897331, 0.99897331,\n",
       "       0.99897331, 0.99897331, 0.99897331, 0.99897331, 0.99897331,\n",
       "       0.99897331, 0.99828884, 0.99828884, 0.99828884, 0.99828884,\n",
       "       0.99828884, 0.99828884, 0.99828884, 0.99828884, 0.99828884,\n",
       "       0.99828884, 0.99828884, 0.99828884, 0.99828884, 0.99828884,\n",
       "       0.99828884, 0.99828884, 0.99828884, 0.99828884, 0.99828884,\n",
       "       0.99828884, 0.99828884, 0.99828884, 0.99828884, 0.99828884,\n",
       "       0.99828884, 0.99828884, 0.99828884, 0.99828884, 0.99828884,\n",
       "       0.99828884, 0.99828884, 0.99828884, 0.99828884, 0.99828884,\n",
       "       0.99828884, 0.99828884, 0.99828884, 0.99828884, 0.99828884,\n",
       "       0.99828884, 0.99828884, 0.99828884, 0.99828884, 0.99828884,\n",
       "       0.99828884, 0.99828884, 0.99828884, 0.99828884, 0.99828884,\n",
       "       0.99828884, 0.99828884, 0.99828884, 0.99828884, 0.99828884,\n",
       "       0.99828884, 0.99828884, 0.99828884, 0.99828884, 0.99828884,\n",
       "       0.99828884, 0.99828884, 0.99828884, 0.99828884, 0.99828884,\n",
       "       0.99828884, 0.99828884, 0.99828884, 0.99828884, 0.99828884,\n",
       "       0.99828884, 0.99794661, 0.99794661, 0.99794661, 0.99794661,\n",
       "       0.99794661, 0.99794661, 0.99794661, 0.99794661, 0.99794661,\n",
       "       0.99760438, 0.99760438, 0.99760438, 0.99760438, 0.99760438,\n",
       "       0.99760438, 0.99760438, 0.99760438, 0.99760438, 0.99760438,\n",
       "       0.99760438, 0.99760438, 0.99760438, 0.99760438, 0.99760438,\n",
       "       0.99760438, 0.99760438, 0.99760438, 0.99760438, 0.99760438,\n",
       "       0.99760438, 0.99726215, 0.99726215, 0.99726215, 0.99726215,\n",
       "       0.99726215, 0.99726215, 0.99726215, 0.99726215, 0.99726215,\n",
       "       0.99726215, 0.99726215, 0.99726215, 0.99726215, 0.99726215,\n",
       "       0.99726215, 0.99726215, 0.99726215, 0.99726215, 0.99726215,\n",
       "       0.99726215, 0.99726215, 0.99726215, 0.99726215, 0.99726215,\n",
       "       0.99726215, 0.99726215, 0.99726215, 0.99726215, 0.99726215,\n",
       "       0.99726215, 0.99726215, 0.99726215, 0.99726215, 0.99726215])"
      ]
     },
     "execution_count": 109,
     "metadata": {
      "tags": []
     },
     "output_type": "execute_result"
    }
   ],
   "source": [
    "probe"
   ]
  },
  {
   "cell_type": "code",
   "execution_count": null,
   "metadata": {
    "colab": {
     "base_uri": "https://localhost:8080/",
     "height": 697
    },
    "colab_type": "code",
    "id": "cmJ2X6z7klyj",
    "outputId": "226f9166-9438-49bc-d375-74dec3fe34e9"
   },
   "outputs": [
    {
     "data": {
      "text/plain": [
       "array([0.95732606, 0.95759417, 0.95779525, 0.95790697, 0.95810805,\n",
       "       0.95819742, 0.9583985 , 0.9585549 , 0.95873363, 0.95893472,\n",
       "       0.95902409, 0.95920282, 0.95931454, 0.9595603 , 0.95976138,\n",
       "       0.95998481, 0.96023057, 0.96027526, 0.96054337, 0.96076679,\n",
       "       0.96085616, 0.9610349 , 0.96121364, 0.96141472, 0.96166049,\n",
       "       0.96183922, 0.96208499, 0.9621967 , 0.96237544, 0.96257652,\n",
       "       0.96273292, 0.96286697, 0.96297869, 0.96329148, 0.96340319,\n",
       "       0.96369364, 0.96385004, 0.96405112, 0.96422986, 0.96443094,\n",
       "       0.96460968, 0.96496716, 0.96525761, 0.96548103, 0.96559274,\n",
       "       0.96581617, 0.96599491, 0.96617364, 0.96633004, 0.9664641 ,\n",
       "       0.96659815, 0.96670986, 0.96677689, 0.96693329, 0.967045  ,\n",
       "       0.96720139, 0.96731311, 0.96749185, 0.96758121, 0.96771527,\n",
       "       0.96780464, 0.96789401, 0.9680504 , 0.96827383, 0.96831851,\n",
       "       0.96838554, 0.96851959, 0.96858662, 0.96863131, 0.9687877 ,\n",
       "       0.96896644, 0.96903347, 0.96914518, 0.96930158, 0.9693686 ,\n",
       "       0.96948032, 0.96954734, 0.96970374, 0.96983779, 0.96992716,\n",
       "       0.97003888, 0.9701059 , 0.97019527, 0.97032933, 0.97039635,\n",
       "       0.97048572, 0.97055275, 0.97057509, 0.9706868 , 0.97077617,\n",
       "       0.97088789, 0.9709996 , 0.97106662, 0.97117834, 0.97124536,\n",
       "       0.97126771, 0.97137942, 0.97146879, 0.97153581, 0.97166987,\n",
       "       0.97178158, 0.97184861, 0.972005  , 0.97213906, 0.97220609,\n",
       "       0.97236248, 0.97242951, 0.97247419, 0.97256356, 0.97260825,\n",
       "       0.97267528, 0.97271996, 0.97276465, 0.97283167, 0.97287636,\n",
       "       0.97294338, 0.9730551 , 0.97314447, 0.97325618, 0.9733232 ,\n",
       "       0.97334555, 0.97343492, 0.97343492, 0.97343492, 0.97350194,\n",
       "       0.97356897, 0.97361366, 0.973636  , 0.97381474, 0.97390411,\n",
       "       0.97394879, 0.97401582, 0.97410519, 0.97410519, 0.97423924,\n",
       "       0.97432861, 0.97441798, 0.97446267, 0.97448501, 0.97461906,\n",
       "       0.97473077, 0.97482014, 0.97488717, 0.97499888, 0.97504357,\n",
       "       0.97513294, 0.97526699, 0.97533402, 0.97542339, 0.97546807,\n",
       "       0.97555744, 0.9756915 , 0.97571384, 0.97575852, 0.97578087,\n",
       "       0.97582555, 0.97589258, 0.9759596 , 0.97602663, 0.97613834,\n",
       "       0.97618303, 0.97625006, 0.97631708, 0.97638411, 0.97651816,\n",
       "       0.97656285, 0.97654051, 0.97667456, 0.97674159, 0.97678627,\n",
       "       0.9768533 , 0.97689798, 0.97692033, 0.9770097 , 0.97709907,\n",
       "       0.97714375, 0.97718844, 0.97721078, 0.97725546, 0.97734483,\n",
       "       0.9774342 , 0.97745654, 0.97745654, 0.97747889, 0.97754591,\n",
       "       0.97767997, 0.97770231, 0.97770231, 0.97774699, 0.97781402,\n",
       "       0.97792573, 0.97799276, 0.97808213, 0.97823853, 0.97830555,\n",
       "       0.97835024, 0.97855132, 0.97861835, 0.97864069, 0.97866303])"
      ]
     },
     "execution_count": 110,
     "metadata": {
      "tags": []
     },
     "output_type": "execute_result"
    }
   ],
   "source": [
    "results"
   ]
  },
  {
   "cell_type": "markdown",
   "metadata": {
    "colab_type": "text",
    "id": "vydMN6zBmjDq"
   },
   "source": [
    "Let's fix our threshold value to 0.499 and apply it to Validation Set."
   ]
  },
  {
   "cell_type": "code",
   "execution_count": null,
   "metadata": {
    "colab": {},
    "colab_type": "code",
    "id": "JvofCF2WmnyC"
   },
   "outputs": [],
   "source": [
    "X_valid = kdd_valid_probe\n",
    "y_valid = X_valid['Type_Groups']\n",
    "X_valid = X_valid.drop(['Type_Groups'], axis=1)\n",
    "X_valid = X_valid.values"
   ]
  },
  {
   "cell_type": "code",
   "execution_count": null,
   "metadata": {
    "colab": {
     "base_uri": "https://localhost:8080/",
     "height": 297
    },
    "colab_type": "code",
    "id": "zc_9M1VNm38D",
    "outputId": "eca32605-5914-4e72-d1e7-7bcad0cdf0f9"
   },
   "outputs": [
    {
     "data": {
      "text/html": [
       "<div>\n",
       "<style scoped>\n",
       "    .dataframe tbody tr th:only-of-type {\n",
       "        vertical-align: middle;\n",
       "    }\n",
       "\n",
       "    .dataframe tbody tr th {\n",
       "        vertical-align: top;\n",
       "    }\n",
       "\n",
       "    .dataframe thead th {\n",
       "        text-align: right;\n",
       "    }\n",
       "</style>\n",
       "<table border=\"1\" class=\"dataframe\">\n",
       "  <thead>\n",
       "    <tr style=\"text-align: right;\">\n",
       "      <th></th>\n",
       "      <th>reconstruction_error</th>\n",
       "      <th>true_class</th>\n",
       "    </tr>\n",
       "  </thead>\n",
       "  <tbody>\n",
       "    <tr>\n",
       "      <th>count</th>\n",
       "      <td>20000.000000</td>\n",
       "      <td>20000.000000</td>\n",
       "    </tr>\n",
       "    <tr>\n",
       "      <th>mean</th>\n",
       "      <td>0.553160</td>\n",
       "      <td>0.062200</td>\n",
       "    </tr>\n",
       "    <tr>\n",
       "      <th>std</th>\n",
       "      <td>19.441038</td>\n",
       "      <td>0.241524</td>\n",
       "    </tr>\n",
       "    <tr>\n",
       "      <th>min</th>\n",
       "      <td>0.019957</td>\n",
       "      <td>0.000000</td>\n",
       "    </tr>\n",
       "    <tr>\n",
       "      <th>25%</th>\n",
       "      <td>0.041338</td>\n",
       "      <td>0.000000</td>\n",
       "    </tr>\n",
       "    <tr>\n",
       "      <th>50%</th>\n",
       "      <td>0.086328</td>\n",
       "      <td>0.000000</td>\n",
       "    </tr>\n",
       "    <tr>\n",
       "      <th>75%</th>\n",
       "      <td>0.131369</td>\n",
       "      <td>0.000000</td>\n",
       "    </tr>\n",
       "    <tr>\n",
       "      <th>max</th>\n",
       "      <td>1940.447577</td>\n",
       "      <td>1.000000</td>\n",
       "    </tr>\n",
       "  </tbody>\n",
       "</table>\n",
       "</div>"
      ],
      "text/plain": [
       "       reconstruction_error    true_class\n",
       "count          20000.000000  20000.000000\n",
       "mean               0.553160      0.062200\n",
       "std               19.441038      0.241524\n",
       "min                0.019957      0.000000\n",
       "25%                0.041338      0.000000\n",
       "50%                0.086328      0.000000\n",
       "75%                0.131369      0.000000\n",
       "max             1940.447577      1.000000"
      ]
     },
     "execution_count": 112,
     "metadata": {
      "tags": []
     },
     "output_type": "execute_result"
    }
   ],
   "source": [
    "predictions = autoencoder_corr.predict(X_valid)\n",
    "mse = np.mean(np.power(X_valid - predictions, 2), axis=1)\n",
    "error_df = pd.DataFrame({'reconstruction_error': mse,\n",
    "                        'true_class': y_valid})\n",
    "error_df.describe()"
   ]
  },
  {
   "cell_type": "code",
   "execution_count": null,
   "metadata": {
    "colab": {
     "base_uri": "https://localhost:8080/",
     "height": 51
    },
    "colab_type": "code",
    "id": "Tb9UyZXmnA03",
    "outputId": "e0e6f281-8b93-43f1-e1f7-3e4c57f4d3aa"
   },
   "outputs": [
    {
     "data": {
      "text/plain": [
       "array([[18290,   466],\n",
       "       [   94,  1150]])"
      ]
     },
     "execution_count": 117,
     "metadata": {
      "tags": []
     },
     "output_type": "execute_result"
    }
   ],
   "source": [
    "threshold = 0.499 # 0.20 de iyi\n",
    "LABELS = [\"Normal\", \"Probing\"]\n",
    "y_pred = [1 if e > threshold else 0 for e in error_df.reconstruction_error.values]\n",
    "conf_matrix = confusion_matrix(error_df.true_class, y_pred)\n",
    "conf_matrix"
   ]
  },
  {
   "cell_type": "markdown",
   "metadata": {
    "colab_type": "text",
    "id": "2a7efGoZLk1O"
   },
   "source": [
    "## XGBoosting"
   ]
  },
  {
   "cell_type": "code",
   "execution_count": 27,
   "metadata": {
    "colab": {
     "base_uri": "https://localhost:8080/",
     "height": 139
    },
    "colab_type": "code",
    "id": "tzb8DuA_7GDw",
    "outputId": "9779a015-2ac0-4148-9d0b-261f8e780760"
   },
   "outputs": [
    {
     "name": "stderr",
     "output_type": "stream",
     "text": [
      "/usr/local/lib/python3.6/dist-packages/sklearn/externals/six.py:31: FutureWarning: The module is deprecated in version 0.21 and will be removed in version 0.23 since we've dropped support for Python 2.7. Please rely on the official version of six (https://pypi.org/project/six/).\n",
      "  \"(https://pypi.org/project/six/).\", FutureWarning)\n",
      "/usr/local/lib/python3.6/dist-packages/sklearn/utils/deprecation.py:144: FutureWarning: The sklearn.neighbors.base module is  deprecated in version 0.22 and will be removed in version 0.24. The corresponding classes / functions should instead be imported from sklearn.neighbors. Anything that cannot be imported from sklearn.neighbors is now part of the private API.\n",
      "  warnings.warn(message, FutureWarning)\n",
      "/usr/local/lib/python3.6/dist-packages/sklearn/utils/deprecation.py:144: FutureWarning: The sklearn.metrics.classification module is  deprecated in version 0.22 and will be removed in version 0.24. The corresponding classes / functions should instead be imported from sklearn.metrics. Anything that cannot be imported from sklearn.metrics is now part of the private API.\n",
      "  warnings.warn(message, FutureWarning)\n"
     ]
    }
   ],
   "source": [
    "from numpy import loadtxt\n",
    "from sklearn.metrics import accuracy_score\n",
    "import os\n",
    "from sklearn.preprocessing import StandardScaler\n",
    "from sklearn.model_selection import train_test_split\n",
    "from sklearn import metrics\n",
    "from sklearn.metrics import f1_score, roc_auc_score\n",
    "from sklearn.linear_model import LogisticRegression\n",
    "from sklearn.ensemble import RandomForestClassifier\n",
    "from sklearn.model_selection import GridSearchCV\n",
    "from sklearn.neural_network import MLPClassifier\n",
    "from imblearn.pipeline import make_pipeline as make_pipeline_imb\n",
    "from imblearn.over_sampling import SMOTE\n",
    "from imblearn.metrics import classification_report_imbalanced\n",
    "import xgboost as xgb\n",
    "from xgboost import XGBClassifier\n",
    "import pandas as pd\n",
    "import matplotlib.pyplot as plt\n",
    "from collections import Counter\n",
    "import time"
   ]
  },
  {
   "cell_type": "code",
   "execution_count": 16,
   "metadata": {
    "colab": {
     "base_uri": "https://localhost:8080/",
     "height": 224
    },
    "colab_type": "code",
    "id": "7wFt0NEX6gWA",
    "outputId": "cf12015b-e77f-484f-f645-87ea629f86a2"
   },
   "outputs": [
    {
     "data": {
      "text/html": [
       "<div>\n",
       "<style scoped>\n",
       "    .dataframe tbody tr th:only-of-type {\n",
       "        vertical-align: middle;\n",
       "    }\n",
       "\n",
       "    .dataframe tbody tr th {\n",
       "        vertical-align: top;\n",
       "    }\n",
       "\n",
       "    .dataframe thead th {\n",
       "        text-align: right;\n",
       "    }\n",
       "</style>\n",
       "<table border=\"1\" class=\"dataframe\">\n",
       "  <thead>\n",
       "    <tr style=\"text-align: right;\">\n",
       "      <th></th>\n",
       "      <th>Duration</th>\n",
       "      <th>src_bytes</th>\n",
       "      <th>dst_bytes</th>\n",
       "      <th>land</th>\n",
       "      <th>wrong_fragment</th>\n",
       "      <th>urgent</th>\n",
       "      <th>hot</th>\n",
       "      <th>num_failed</th>\n",
       "      <th>logged_in</th>\n",
       "      <th>num_compromised</th>\n",
       "      <th>root_shell</th>\n",
       "      <th>su_attempted</th>\n",
       "      <th>num_root</th>\n",
       "      <th>num_file_creations</th>\n",
       "      <th>num_shells</th>\n",
       "      <th>num_access_files</th>\n",
       "      <th>num_outbound_cmds</th>\n",
       "      <th>is_host_login</th>\n",
       "      <th>is_guest_login</th>\n",
       "      <th>count</th>\n",
       "      <th>srv_count</th>\n",
       "      <th>serror_rate</th>\n",
       "      <th>srv_error_rate</th>\n",
       "      <th>rerror_rate</th>\n",
       "      <th>srv_rerror_rate</th>\n",
       "      <th>same_srv_rate</th>\n",
       "      <th>diff_srv_rate</th>\n",
       "      <th>srv_diff_host_rate</th>\n",
       "      <th>dst_host_count</th>\n",
       "      <th>dst_host_srv_count</th>\n",
       "      <th>dst_host_same_srv_rate</th>\n",
       "      <th>dst_host_diff_srv_rate</th>\n",
       "      <th>dst_host_same_src_port_rate</th>\n",
       "      <th>dst_host_srv_diff_host_rate</th>\n",
       "      <th>dst_host_serror_rate</th>\n",
       "      <th>dst_host_srv_serror_rate</th>\n",
       "      <th>dst_host_rerror_rate</th>\n",
       "      <th>dst_host_srv_rerror_rate</th>\n",
       "      <th>Type_Groups</th>\n",
       "    </tr>\n",
       "  </thead>\n",
       "  <tbody>\n",
       "    <tr>\n",
       "      <th>0</th>\n",
       "      <td>-0.150103</td>\n",
       "      <td>-0.004917</td>\n",
       "      <td>0.019931</td>\n",
       "      <td>0</td>\n",
       "      <td>0</td>\n",
       "      <td>-0.005644</td>\n",
       "      <td>-0.073472</td>\n",
       "      <td>-0.021473</td>\n",
       "      <td>0.666223</td>\n",
       "      <td>-0.007208</td>\n",
       "      <td>-0.023163</td>\n",
       "      <td>-0.010262</td>\n",
       "      <td>-0.012379</td>\n",
       "      <td>-0.024657</td>\n",
       "      <td>-0.021773</td>\n",
       "      <td>-0.060732</td>\n",
       "      <td>0</td>\n",
       "      <td>0</td>\n",
       "      <td>-0.081998</td>\n",
       "      <td>-0.112107</td>\n",
       "      <td>-0.125503</td>\n",
       "      <td>-0.093846</td>\n",
       "      <td>-0.078612</td>\n",
       "      <td>-0.291137</td>\n",
       "      <td>-0.290134</td>\n",
       "      <td>0.198961</td>\n",
       "      <td>-0.201086</td>\n",
       "      <td>-0.478157</td>\n",
       "      <td>-1.336229</td>\n",
       "      <td>-1.990255</td>\n",
       "      <td>0.536542</td>\n",
       "      <td>-0.34644</td>\n",
       "      <td>-0.154032</td>\n",
       "      <td>-0.365965</td>\n",
       "      <td>-0.106951</td>\n",
       "      <td>-0.072524</td>\n",
       "      <td>-0.301727</td>\n",
       "      <td>-0.29675</td>\n",
       "      <td>0</td>\n",
       "    </tr>\n",
       "    <tr>\n",
       "      <th>1</th>\n",
       "      <td>-0.150103</td>\n",
       "      <td>-0.004890</td>\n",
       "      <td>-0.048616</td>\n",
       "      <td>0</td>\n",
       "      <td>0</td>\n",
       "      <td>-0.005644</td>\n",
       "      <td>-0.073472</td>\n",
       "      <td>-0.021473</td>\n",
       "      <td>0.666223</td>\n",
       "      <td>-0.007208</td>\n",
       "      <td>-0.023163</td>\n",
       "      <td>-0.010262</td>\n",
       "      <td>-0.012379</td>\n",
       "      <td>-0.024657</td>\n",
       "      <td>-0.021773</td>\n",
       "      <td>-0.060732</td>\n",
       "      <td>0</td>\n",
       "      <td>0</td>\n",
       "      <td>-0.081998</td>\n",
       "      <td>-0.112107</td>\n",
       "      <td>-0.125503</td>\n",
       "      <td>-0.093846</td>\n",
       "      <td>-0.078612</td>\n",
       "      <td>-0.291137</td>\n",
       "      <td>-0.290134</td>\n",
       "      <td>0.198961</td>\n",
       "      <td>-0.201086</td>\n",
       "      <td>-0.478157</td>\n",
       "      <td>-1.240464</td>\n",
       "      <td>-1.882796</td>\n",
       "      <td>0.536542</td>\n",
       "      <td>-0.34644</td>\n",
       "      <td>-0.346801</td>\n",
       "      <td>-0.365965</td>\n",
       "      <td>-0.106951</td>\n",
       "      <td>-0.072524</td>\n",
       "      <td>-0.301727</td>\n",
       "      <td>-0.29675</td>\n",
       "      <td>0</td>\n",
       "    </tr>\n",
       "    <tr>\n",
       "      <th>2</th>\n",
       "      <td>-0.150103</td>\n",
       "      <td>-0.004892</td>\n",
       "      <td>-0.036865</td>\n",
       "      <td>0</td>\n",
       "      <td>0</td>\n",
       "      <td>-0.005644</td>\n",
       "      <td>-0.073472</td>\n",
       "      <td>-0.021473</td>\n",
       "      <td>0.666223</td>\n",
       "      <td>-0.007208</td>\n",
       "      <td>-0.023163</td>\n",
       "      <td>-0.010262</td>\n",
       "      <td>-0.012379</td>\n",
       "      <td>-0.024657</td>\n",
       "      <td>-0.021773</td>\n",
       "      <td>-0.060732</td>\n",
       "      <td>0</td>\n",
       "      <td>0</td>\n",
       "      <td>-0.081998</td>\n",
       "      <td>-0.112107</td>\n",
       "      <td>-0.125503</td>\n",
       "      <td>-0.093846</td>\n",
       "      <td>-0.078612</td>\n",
       "      <td>-0.291137</td>\n",
       "      <td>-0.290134</td>\n",
       "      <td>0.198961</td>\n",
       "      <td>-0.201086</td>\n",
       "      <td>-0.478157</td>\n",
       "      <td>-1.144700</td>\n",
       "      <td>-1.775337</td>\n",
       "      <td>0.536542</td>\n",
       "      <td>-0.34644</td>\n",
       "      <td>-0.411057</td>\n",
       "      <td>-0.365965</td>\n",
       "      <td>-0.106951</td>\n",
       "      <td>-0.072524</td>\n",
       "      <td>-0.301727</td>\n",
       "      <td>-0.29675</td>\n",
       "      <td>0</td>\n",
       "    </tr>\n",
       "    <tr>\n",
       "      <th>3</th>\n",
       "      <td>-0.150103</td>\n",
       "      <td>-0.004899</td>\n",
       "      <td>-0.036865</td>\n",
       "      <td>0</td>\n",
       "      <td>0</td>\n",
       "      <td>-0.005644</td>\n",
       "      <td>-0.073472</td>\n",
       "      <td>-0.021473</td>\n",
       "      <td>0.666223</td>\n",
       "      <td>-0.007208</td>\n",
       "      <td>-0.023163</td>\n",
       "      <td>-0.010262</td>\n",
       "      <td>-0.012379</td>\n",
       "      <td>-0.024657</td>\n",
       "      <td>-0.021773</td>\n",
       "      <td>-0.060732</td>\n",
       "      <td>0</td>\n",
       "      <td>0</td>\n",
       "      <td>-0.081998</td>\n",
       "      <td>-0.145850</td>\n",
       "      <td>-0.218540</td>\n",
       "      <td>-0.093846</td>\n",
       "      <td>-0.078612</td>\n",
       "      <td>-0.291137</td>\n",
       "      <td>-0.290134</td>\n",
       "      <td>0.198961</td>\n",
       "      <td>-0.201086</td>\n",
       "      <td>-0.478157</td>\n",
       "      <td>-1.048936</td>\n",
       "      <td>-1.667879</td>\n",
       "      <td>0.536542</td>\n",
       "      <td>-0.34644</td>\n",
       "      <td>-0.411057</td>\n",
       "      <td>-0.365965</td>\n",
       "      <td>-0.106951</td>\n",
       "      <td>-0.072524</td>\n",
       "      <td>-0.301727</td>\n",
       "      <td>-0.29675</td>\n",
       "      <td>0</td>\n",
       "    </tr>\n",
       "    <tr>\n",
       "      <th>4</th>\n",
       "      <td>-0.150103</td>\n",
       "      <td>-0.004900</td>\n",
       "      <td>-0.027268</td>\n",
       "      <td>0</td>\n",
       "      <td>0</td>\n",
       "      <td>-0.005644</td>\n",
       "      <td>-0.073472</td>\n",
       "      <td>-0.021473</td>\n",
       "      <td>0.666223</td>\n",
       "      <td>-0.007208</td>\n",
       "      <td>-0.023163</td>\n",
       "      <td>-0.010262</td>\n",
       "      <td>-0.012379</td>\n",
       "      <td>-0.024657</td>\n",
       "      <td>-0.021773</td>\n",
       "      <td>-0.060732</td>\n",
       "      <td>0</td>\n",
       "      <td>0</td>\n",
       "      <td>-0.081998</td>\n",
       "      <td>-0.145850</td>\n",
       "      <td>-0.218540</td>\n",
       "      <td>-0.093846</td>\n",
       "      <td>-0.078612</td>\n",
       "      <td>-0.291137</td>\n",
       "      <td>-0.290134</td>\n",
       "      <td>0.198961</td>\n",
       "      <td>-0.201086</td>\n",
       "      <td>-0.478157</td>\n",
       "      <td>-0.953172</td>\n",
       "      <td>-1.560420</td>\n",
       "      <td>0.536542</td>\n",
       "      <td>-0.34644</td>\n",
       "      <td>-0.443185</td>\n",
       "      <td>-0.365965</td>\n",
       "      <td>-0.106951</td>\n",
       "      <td>-0.072524</td>\n",
       "      <td>-0.301727</td>\n",
       "      <td>-0.29675</td>\n",
       "      <td>0</td>\n",
       "    </tr>\n",
       "  </tbody>\n",
       "</table>\n",
       "</div>"
      ],
      "text/plain": [
       "   Duration  src_bytes  ...  dst_host_srv_rerror_rate  Type_Groups\n",
       "0 -0.150103  -0.004917  ...                  -0.29675            0\n",
       "1 -0.150103  -0.004890  ...                  -0.29675            0\n",
       "2 -0.150103  -0.004892  ...                  -0.29675            0\n",
       "3 -0.150103  -0.004899  ...                  -0.29675            0\n",
       "4 -0.150103  -0.004900  ...                  -0.29675            0\n",
       "\n",
       "[5 rows x 39 columns]"
      ]
     },
     "execution_count": 16,
     "metadata": {
      "tags": []
     },
     "output_type": "execute_result"
    }
   ],
   "source": [
    "kdd_train_probe.head()"
   ]
  },
  {
   "cell_type": "code",
   "execution_count": 25,
   "metadata": {
    "colab": {},
    "colab_type": "code",
    "id": "Dj2ak4hnLmbq"
   },
   "outputs": [],
   "source": [
    "def xgb_classifier(X_train, X_test, y_train, y_test, useTrainCV=True, cv_folds=5, early_stopping_rounds=50):\n",
    "    \"\"\"\n",
    "    # {'learning_rate': 0.1, 'max_depth': 5, 'min_child_weight': 3} 0.862920874517388\n",
    "    # {'colsample_bytree': 1.0, 'gamma': 0.2} 0.871\n",
    "    # {'gamma': 0.2, 'scale_pos_weight': 1} 0.8702009952422571\n",
    "    # {'subsample': 0.6} 0.864310306628855\n",
    "    \"\"\"\n",
    "    alg = XGBClassifier(learning_rate=0.1, \n",
    "                        n_estimators=140, \n",
    "                        max_depth=5, # maximum number of features used in each tree\n",
    "                        min_child_weight=3, \n",
    "                        gamma=0.2, \n",
    "                        subsample=0.6, #hich is for each tree the % of rows taken to build the tree. \n",
    "                                        #I recommend not taking out too many rows, as performance will drop a lot. Take values from 0.8 to 1.\n",
    "                        colsample_bytree=1.0, # number of columns used by each tree. \n",
    "                        #In order to avoid some columns to take too much credit for the prediction \n",
    "                        #(think of it like in recommender systems when you recommend the most purchased products\n",
    "                        #and forget about the long tail), take out a good proportion of columns. \n",
    "                        #Values from 0.3 to 0.8 if you have many columns (especially if you did one-hot encoding), \n",
    "                        #or 0.8 to 1 if you only have a few columns.\n",
    "                        objective='binary:logistic', \n",
    "                        nthread=4, \n",
    "                        scale_pos_weight=1, \n",
    "                        seed=27)\n",
    "\n",
    "    if useTrainCV:\n",
    "        print(\"Start Feeding Data\")\n",
    "        xgb_param = alg.get_xgb_params()\n",
    "        xgtrain = xgb.DMatrix(X_train.values, label=y_train.values)\n",
    "        # xgtest = xgb.DMatrix(X_test.values, label=y_test.values)\n",
    "        cvresult = xgb.cv(xgb_param, xgtrain, num_boost_round=alg.get_params()['n_estimators'], nfold=cv_folds,\n",
    "                          early_stopping_rounds=early_stopping_rounds)\n",
    "        alg.set_params(n_estimators=cvresult.shape[0])\n",
    "\n",
    "    # 建模\n",
    "    print('Start Training')\n",
    "    alg.fit(X_train, y_train, eval_metric='auc')\n",
    "\n",
    "    # param_test1 = {}\n",
    "    # gsearch1 = GridSearchCV(estimator=XGBClassifier(learning_rate=0.1, n_estimators=140, max_depth=5,\n",
    "    #                                                 min_child_weight=3, gamma=0.2, subsample=0.8,\n",
    "    #                                                 colsample_bytree=1.0,\n",
    "    #                                                 objective='binary:logistic', nthread=4, scale_pos_weight=1,\n",
    "    #                                                 seed=27),\n",
    "    #                         param_grid=param_test1,\n",
    "    #                         scoring='f1',\n",
    "    #                         n_jobs=4, iid=False, cv=5)\n",
    "    # gsearch1.fit(X_train, y_train)\n",
    "    # print(gsearch1.cv_results_, gsearch1.best_params_, gsearch1.best_score_)\n",
    "\n",
    "    # 对训练集预测\n",
    "    print(\"Start Predicting\")\n",
    "    predictions = alg.predict(X_test)\n",
    "    pred_proba = alg.predict_proba(X_test)[:, 1]\n",
    "\n",
    "    # 输出模型的一些结果\n",
    "    print(\"\\nResulting Metrics\")\n",
    "    print(\"Accuracy : %.4g\" % metrics.accuracy_score(y_test, predictions))\n",
    "    print(\"AUC : %f\" % metrics.roc_auc_score(y_test, pred_proba))\n",
    "    print(\"F1 Score : %f\" % metrics.f1_score(y_test, predictions))\n",
    "\n",
    "    feat_imp = alg.feature_importances_\n",
    "    feat = X_train.columns.tolist()\n",
    "    # clf.best_estimator_.booster().get_fscore()\n",
    "    res_df = pd.DataFrame({'Features': feat, 'Importance': feat_imp}).sort_values(by='Importance', ascending=False)\n",
    "    res_df.plot('Features', 'Importance', kind='bar', title='Feature Importances')\n",
    "    plt.ylabel('Feature Importance Score')\n",
    "    plt.show()\n",
    "    print(res_df)\n",
    "    print(res_df[\"Features\"].tolist())\n"
   ]
  },
  {
   "cell_type": "code",
   "execution_count": 17,
   "metadata": {
    "colab": {},
    "colab_type": "code",
    "id": "B4gndvi-6FsL"
   },
   "outputs": [],
   "source": [
    "y_train = kdd_train_probe['Type_Groups']"
   ]
  },
  {
   "cell_type": "code",
   "execution_count": 18,
   "metadata": {
    "colab": {},
    "colab_type": "code",
    "id": "F_gWM69b6vdw"
   },
   "outputs": [],
   "source": [
    "X_train = kdd_train_probe.drop(['Type_Groups'], axis = 1)"
   ]
  },
  {
   "cell_type": "code",
   "execution_count": 19,
   "metadata": {
    "colab": {},
    "colab_type": "code",
    "id": "VX90qotY6z-L"
   },
   "outputs": [],
   "source": [
    "y_test = kdd_test_probe['Type_Groups']\n",
    "X_test = kdd_test_probe.drop(['Type_Groups'], axis = 1)"
   ]
  },
  {
   "cell_type": "code",
   "execution_count": 28,
   "metadata": {
    "colab": {
     "base_uri": "https://localhost:8080/",
     "height": 1000
    },
    "colab_type": "code",
    "id": "1sikZut16_gj",
    "outputId": "a4701674-657a-4d01-af3a-c7227b815400"
   },
   "outputs": [
    {
     "name": "stdout",
     "output_type": "stream",
     "text": [
      "Start Feeding Data\n",
      "Start Training\n",
      "Start Predicting\n",
      "\n",
      "关于现在这个模型\n",
      "准确率 : 0.9622\n",
      "AUC 得分 (训练集): 0.985972\n",
      "F1 Score 得分 (训练集): 0.745770\n"
     ]
    },
    {
     "data": {
      "image/png": "[encoded data removed]",
      "text/plain": [
       "<Figure size 432x288 with 1 Axes>"
      ]
     },
     "metadata": {
      "needs_background": "light",
      "tags": []
     },
     "output_type": "display_data"
    },
    {
     "name": "stdout",
     "output_type": "stream",
     "text": [
      "                       Features  Importance\n",
      "31       dst_host_diff_srv_rate    0.378640\n",
      "33  dst_host_srv_diff_host_rate    0.257967\n",
      "25                same_srv_rate    0.130783\n",
      "30       dst_host_same_srv_rate    0.043607\n",
      "1                     src_bytes    0.039829\n",
      "28               dst_host_count    0.030115\n",
      "32  dst_host_same_src_port_rate    0.022549\n",
      "2                     dst_bytes    0.020976\n",
      "20                    srv_count    0.020545\n",
      "29           dst_host_srv_count    0.017389\n",
      "37     dst_host_srv_rerror_rate    0.015460\n",
      "8                     logged_in    0.008047\n",
      "19                        count    0.005843\n",
      "27           srv_diff_host_rate    0.002685\n",
      "36         dst_host_rerror_rate    0.002516\n",
      "23                  rerror_rate    0.002228\n",
      "26                diff_srv_rate    0.000606\n",
      "34         dst_host_serror_rate    0.000214\n",
      "13           num_file_creations    0.000000\n",
      "35     dst_host_srv_serror_rate    0.000000\n",
      "3                          land    0.000000\n",
      "4                wrong_fragment    0.000000\n",
      "5                        urgent    0.000000\n",
      "6                           hot    0.000000\n",
      "7                    num_failed    0.000000\n",
      "9               num_compromised    0.000000\n",
      "10                   root_shell    0.000000\n",
      "14                   num_shells    0.000000\n",
      "24              srv_rerror_rate    0.000000\n",
      "22               srv_error_rate    0.000000\n",
      "21                  serror_rate    0.000000\n",
      "11                 su_attempted    0.000000\n",
      "12                     num_root    0.000000\n",
      "18               is_guest_login    0.000000\n",
      "17                is_host_login    0.000000\n",
      "16            num_outbound_cmds    0.000000\n",
      "15             num_access_files    0.000000\n",
      "0                      Duration    0.000000\n",
      "['dst_host_diff_srv_rate', 'dst_host_srv_diff_host_rate', 'same_srv_rate', 'dst_host_same_srv_rate', 'src_bytes', 'dst_host_count', 'dst_host_same_src_port_rate', 'dst_bytes', 'srv_count', 'dst_host_srv_count', 'dst_host_srv_rerror_rate', 'logged_in', 'count', 'srv_diff_host_rate', 'dst_host_rerror_rate', 'rerror_rate', 'diff_srv_rate', 'dst_host_serror_rate', 'num_file_creations', 'dst_host_srv_serror_rate', 'land', 'wrong_fragment', 'urgent', 'hot', 'num_failed', 'num_compromised', 'root_shell', 'num_shells', 'srv_rerror_rate', 'srv_error_rate', 'serror_rate', 'su_attempted', 'num_root', 'is_guest_login', 'is_host_login', 'num_outbound_cmds', 'num_access_files', 'Duration']\n"
     ]
    }
   ],
   "source": [
    "xgb_classifier(X_train, X_test, y_train, y_test)"
   ]
  },
  {
   "cell_type": "code",
   "execution_count": null,
   "metadata": {
    "colab": {},
    "colab_type": "code",
    "id": "RGFn4DS27Ela"
   },
   "outputs": [],
   "source": []
  }
 ],
 "metadata": {
  "colab": {
   "collapsed_sections": [],
   "name": "kdd_all_algos.ipynb",
   "provenance": []
  },
  "kernelspec": {
   "display_name": "Python 3",
   "language": "python",
   "name": "python3"
  },
  "language_info": {
   "codemirror_mode": {
    "name": "ipython",
    "version": 3
   },
   "file_extension": ".py",
   "mimetype": "text/x-python",
   "name": "python",
   "nbconvert_exporter": "python",
   "pygments_lexer": "ipython3",
   "version": "3.7.7"
  }
 },
 "nbformat": 4,
 "nbformat_minor": 1
}
